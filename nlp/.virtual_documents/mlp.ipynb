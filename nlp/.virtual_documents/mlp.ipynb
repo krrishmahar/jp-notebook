





import nltk


corpus = '''Hello, I'm krrish mahar, I'm 19 yrs old.
'''
print(corpus)


# Tokenization
## Sentence -> paragraph
from nltk.tokenize import sent_tokenize
document = sent_tokenize(corpus)
sent_tokenize(corpus)


for sentence in document:
    print(sentence)


## Tokenization
## Paragraph -> words
## sentence -> words

from nltk.tokenize import word_tokenize
word_tokenize(corpus)


from nltk.tokenize import wordpunct_tokenize
wordpunct_tokenize(corpus)


from nltk.tokenize import TreebankWordTokenizer
TreebankWordTokenizer().tokenize(corpus)





from nltk.stem import PorterStemmer
stemmer = PorterStemmer()
stemmer.stem('coding')


from nltk.stem import RegexpStemmer
reg_Stemmer = RegexpStemmer('ing$|s$|e$|able$', min=4)

reg_Stemmer.stem('bathing')


reg_Stemmer.stem('ingeating')





from nltk.stem import SnowballStemmer
snowball = SnowballStemmer('english')


print(stemmer.stem('fairly'), stemmer.stem('supportingly'))

print(snowball.stem('fairly'), snowball.stem('supportingly'))


# But Stemming still fails on some words, so we use Lemmetization
snowball.stem('goes')





from nltk.stem import WordNetLemmatizer

lemmatizer = WordNetLemmatizer()


# POS TAG
'''POS- Noun-n
verb-v
adjective-a
adverb-r'''
lemmatizer.lemmatize("goes", pos=)


words = ["betrothed","walking","running","gone","am,", "history," ,"goes","studies","ate","supporting", "fairly"]
for word in words:
    print(word+"----->"+lemmatizer.lemmatize(word, pos='v'))





from nltk.corpus import stopwords


import nltk
nltk.download('stopwords')


stopwords.words('english')


paragraph='''I  have three visions for India. In 3000 years of our history people from all over the world have come and invaded us, captured our lands, conquered our minds. From Alexander onwards the Greeks, the Turks, the Moguls, the Portuguese, the British, the French, the Dutch, all of them came and looted us, took over what was ours. Yet we have not done this to any other nation. We have not conquered anyone. We have not grabbed their land, their culture and their history and tried to enforce our way of life on them. Why? Because we respect the freedom of others. That is why my FIRST VISION is that of FREEDOM. I believe that India got its first vision of this in 1857, when we started the war of Independence. It is this freedom that we must protect and nurture and build on. If we are not free, no one will respect us.

We have 10 percent growth rate in most areas. Our poverty levels are falling. Our achievements are being globally recognised today. Yet we lack the self-confidence to see ourselves as a developed nation, self-reliant and self-assured. Isn’t this incorrect? MY SECOND VISION for India is DEVELOPMENT. For fifty years we have been a developing nation. It is time we see ourselves as a developed nation. We are among top five nations in the world in terms of GDP.

I have a THIRD VISION. India must stand up to the world. Because I believe that unless India stands up to the world, no one will respect us. Only strength respects strength. We must be strong not only as a military power but also as an economic power. Both must go hand-in-hand. My good fortune was to have worked with three great minds. Dr.Vikram Sarabhai, of the Dept. of Space, Professor Satish Dhawan, who succeeded him and Dr. Brahm Prakash, father of nuclear material. I was lucky to have worked with all three of them closely and consider this the great opportunity of my life.

I was in Hyderabad giving this lecture, when a 14 year-old girl asked me for my autograph. I asked her what her goal in life is. She replied: I want to live in a developed India. For her, you and I will have to build this developed India. You must proclaim India is not an underdeveloped nation; it is a highly developed nation.

You say that our government is inefficient. You say that our laws are too old. You say that the municipality does not pick up the garbage. You say that the phones don’t work, the railways are a joke, the airline is the worst in the world, and mails never reach their destination. You say that our country has been fed to the dogs and is the absolute pits. You say, say and say. What do you do about it?

Dear Indians, I am echoing J.F.Kennedy’s words to his fellow Americans to relate to Indians ……. “ASK WHAT WE CAN DO FOR INDIA AND DO WHAT HAS TO BE DONE TO MAKE INDIA WHAT AMERICA AND OTHER WESTERN COUNTRIES ARE TODAY.”
'''



from nltk.stem import SnowballStemmer
stemmer = SnowballStemmer('english')
sentence=nltk.sent_tokenize(paragraph)


sentence[0]





for i, _ in enumerate(sentence):
    words=nltk.word_tokenize(sentence[i])
    words=[stemmer.stem(word) for word in words if word not in set(stopwords.words('english'))]
    sentence[i] = ' '.join(words) # converts all words into sentences



sentence


# trying it with lemmitization
from nltk.stem import WordNetLemmatizer
lemmatizer = WordNetLemmatizer()


for i, _ in enumerate(sentence):
    sentence[i] = sentence[i].lower()
    words=nltk.word_tokenize(sentence[i])
    words=[lemmatizer.lemmatize(word, pos='v') for word in words if word not in set(stopwords.words('english'))]
    sentence[i] = ' '.join(words) # converts all words into sentences



sentence





nltk.download('averaged_perceptron_tagger_eng')


paragraph='''I  have three visions for India. In 3000 years of our history people from all over the world have come and invaded us, captured our lands, conquered our minds. From Alexander onwards the Greeks, the Turks, the Moguls, the Portuguese, the British, the French, the Dutch, all of them came and looted us, took over what was ours. Yet we have not done this to any other nation. We have not conquered anyone. We have not grabbed their land, their culture and their history and tried to enforce our way of life on them. Why? Because we respect the freedom of others. That is why my FIRST VISION is that of FREEDOM. I believe that India got its first vision of this in 1857, when we started the war of Independence. It is this freedom that we must protect and nurture and build on. If we are not free, no one will respect us.

We have 10 percent growth rate in most areas. Our poverty levels are falling. Our achievements are being globally recognised today. Yet we lack the self-confidence to see ourselves as a developed nation, self-reliant and self-assured. Isn’t this incorrect? MY SECOND VISION for India is DEVELOPMENT. For fifty years we have been a developing nation. It is time we see ourselves as a developed nation. We are among top five nations in the world in terms of GDP.

I have a THIRD VISION. India must stand up to the world. Because I believe that unless India stands up to the world, no one will respect us. Only strength respects strength. We must be strong not only as a military power but also as an economic power. Both must go hand-in-hand. My good fortune was to have worked with three great minds. Dr.Vikram Sarabhai, of the Dept. of Space, Professor Satish Dhawan, who succeeded him and Dr. Brahm Prakash, father of nuclear material. I was lucky to have worked with all three of them closely and consider this the great opportunity of my life.

I was in Hyderabad giving this lecture, when a 14 year-old girl asked me for my autograph. I asked her what her goal in life is. She replied: I want to live in a developed India. For her, you and I will have to build this developed India. You must proclaim India is not an underdeveloped nation; it is a highly developed nation.

You say that our government is inefficient. You say that our laws are too old. You say that the municipality does not pick up the garbage. You say that the phones don’t work, the railways are a joke, the airline is the worst in the world, and mails never reach their destination. You say that our country has been fed to the dogs and is the absolute pits. You say, say and say. What do you do about it?

Dear Indians, I am echoing J.F.Kennedy’s words to his fellow Americans to relate to Indians ……. “ASK WHAT WE CAN DO FOR INDIA AND DO WHAT HAS TO BE DONE TO MAKE INDIA WHAT AMERICA AND OTHER WESTERN COUNTRIES ARE TODAY.”
'''



for i, _ in enumerate(sentence):
    words=nltk.word_tokenize(sentence[i])
    words=[word for word in words if word not in set(stopwords.words('english'))]
    # sentence[i] = ' '.join(words) # converts all words into sentences
    pos_tag=nltk.pos_tag(words)
    print(pos_tag)


word=["I  have three visions for India.".split()]
nltk.pos_tag_sents(word)





sentence = 'Gustave Eiffel responded to these criticisms by comparing his tower to the Egyptian pyramids'
words = nltk.word_tokenize(sentence)
tag_element = nltk.pos_tag(words)


nltk.download('maxent_ne_chunker_tab')


nltk.download('words')


nltk.ne_chunk(tag_element).draw()






