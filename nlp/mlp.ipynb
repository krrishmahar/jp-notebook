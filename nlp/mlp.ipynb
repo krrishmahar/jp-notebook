{
 "cells": [
  {
   "cell_type": "markdown",
   "id": "cbd622b2-96c9-4344-ada4-945be6db67ef",
   "metadata": {},
   "source": [
    "## NLP\n",
    "basic terminology - \n",
    "* corpus - paragraph\n",
    "* document - sentence\n",
    "* vocalbury - unique words\n",
    "* words - sentences/words\n",
    "* tokenization - process of converting paragraph/sentence to tokens or sentence -> words"
   ]
  },
  {
   "cell_type": "raw",
   "id": "7dba2d4e-5a22-4b8e-b458-0dec638fe79a",
   "metadata": {
    "scrolled": true
   },
   "source": [
    "!conda install -c conda-forge nltk"
   ]
  },
  {
   "cell_type": "code",
   "execution_count": 3,
   "id": "96e90da3-80e3-485d-892b-adf36eee2e78",
   "metadata": {},
   "outputs": [],
   "source": [
    "import nltk"
   ]
  },
  {
   "cell_type": "code",
   "execution_count": 11,
   "id": "dd8e01dd-a763-402f-88bc-e036468924cd",
   "metadata": {},
   "outputs": [
    {
     "name": "stdout",
     "output_type": "stream",
     "text": [
      "Hello, I'm krrish mahar, I'm 19 yrs old.\n",
      "\n"
     ]
    }
   ],
   "source": [
    "corpus = '''Hello, I'm krrish mahar, I'm 19 yrs old.\n",
    "'''\n",
    "print(corpus)"
   ]
  },
  {
   "cell_type": "code",
   "execution_count": 13,
   "id": "29cbbeed-5652-4e7e-b5c2-3e18794db0ad",
   "metadata": {},
   "outputs": [
    {
     "data": {
      "text/plain": [
       "[\"Hello, I'm krrish mahar, I'm 19 yrs old.\"]"
      ]
     },
     "execution_count": 13,
     "metadata": {},
     "output_type": "execute_result"
    }
   ],
   "source": [
    "# Tokenization\n",
    "## Sentence -> paragraph\n",
    "from nltk.tokenize import sent_tokenize\n",
    "document = sent_tokenize(corpus)\n",
    "sent_tokenize(corpus)"
   ]
  },
  {
   "cell_type": "code",
   "execution_count": 21,
   "id": "311ad99a-a136-4304-b692-5f27cfd2be08",
   "metadata": {},
   "outputs": [
    {
     "name": "stdout",
     "output_type": "stream",
     "text": [
      "Hello, I'm krrish mahar, I'm 19 yrs old.\n"
     ]
    }
   ],
   "source": [
    "for sentence in document:\n",
    "    print(sentence)"
   ]
  },
  {
   "cell_type": "code",
   "execution_count": 17,
   "id": "0874128c-f9d2-4ef2-bb48-fbfe07a4761f",
   "metadata": {},
   "outputs": [
    {
     "data": {
      "text/plain": [
       "['Hello',\n",
       " ',',\n",
       " 'I',\n",
       " \"'m\",\n",
       " 'krrish',\n",
       " 'mahar',\n",
       " ',',\n",
       " 'I',\n",
       " \"'m\",\n",
       " '19',\n",
       " 'yrs',\n",
       " 'old',\n",
       " '.']"
      ]
     },
     "execution_count": 17,
     "metadata": {},
     "output_type": "execute_result"
    }
   ],
   "source": [
    "## Tokenization\n",
    "## Paragraph -> words\n",
    "## sentence -> words\n",
    "\n",
    "from nltk.tokenize import word_tokenize\n",
    "word_tokenize(corpus)"
   ]
  },
  {
   "cell_type": "code",
   "execution_count": 18,
   "id": "9d81d23d-fa26-4e22-a705-9de2e42ba690",
   "metadata": {},
   "outputs": [
    {
     "data": {
      "text/plain": [
       "['Hello',\n",
       " ',',\n",
       " 'I',\n",
       " \"'\",\n",
       " 'm',\n",
       " 'krrish',\n",
       " 'mahar',\n",
       " ',',\n",
       " 'I',\n",
       " \"'\",\n",
       " 'm',\n",
       " '19',\n",
       " 'yrs',\n",
       " 'old',\n",
       " '.']"
      ]
     },
     "execution_count": 18,
     "metadata": {},
     "output_type": "execute_result"
    }
   ],
   "source": [
    "from nltk.tokenize import wordpunct_tokenize\n",
    "wordpunct_tokenize(corpus)"
   ]
  },
  {
   "cell_type": "code",
   "execution_count": 31,
   "id": "1590a625-1b72-4697-8002-fc8f41e929fb",
   "metadata": {},
   "outputs": [
    {
     "data": {
      "text/plain": [
       "['Hello',\n",
       " ',',\n",
       " 'I',\n",
       " \"'m\",\n",
       " 'krrish',\n",
       " 'mahar',\n",
       " ',',\n",
       " 'I',\n",
       " \"'m\",\n",
       " '19',\n",
       " 'yrs',\n",
       " 'old',\n",
       " '.']"
      ]
     },
     "execution_count": 31,
     "metadata": {},
     "output_type": "execute_result"
    }
   ],
   "source": [
    "from nltk.tokenize import TreebankWordTokenizer\n",
    "TreebankWordTokenizer().tokenize(corpus)"
   ]
  },
  {
   "cell_type": "markdown",
   "id": "a3e7a3a7-8c6b-46df-bc5d-a18958928dd9",
   "metadata": {},
   "source": [
    "### Stemming"
   ]
  },
  {
   "cell_type": "code",
   "execution_count": 35,
   "id": "08c9944e-9985-43a1-97cc-f671039051a3",
   "metadata": {},
   "outputs": [
    {
     "data": {
      "text/plain": [
       "'code'"
      ]
     },
     "execution_count": 35,
     "metadata": {},
     "output_type": "execute_result"
    }
   ],
   "source": [
    "from nltk.stem import PorterStemmer\n",
    "stemmer = PorterStemmer()\n",
    "stemmer.stem('coding')"
   ]
  },
  {
   "cell_type": "code",
   "execution_count": 41,
   "id": "0a3a0d47-4724-430f-a578-c45dca6375e6",
   "metadata": {},
   "outputs": [
    {
     "data": {
      "text/plain": [
       "'bath'"
      ]
     },
     "execution_count": 41,
     "metadata": {},
     "output_type": "execute_result"
    }
   ],
   "source": [
    "from nltk.stem import RegexpStemmer\n",
    "reg_Stemmer = RegexpStemmer('ing$|s$|e$|able$', min=4)\n",
    "\n",
    "reg_Stemmer.stem('bathing')"
   ]
  },
  {
   "cell_type": "code",
   "execution_count": 42,
   "id": "74ecc69e-c6be-4432-9646-daf3660d6865",
   "metadata": {},
   "outputs": [
    {
     "data": {
      "text/plain": [
       "'ingeat'"
      ]
     },
     "execution_count": 42,
     "metadata": {},
     "output_type": "execute_result"
    }
   ],
   "source": [
    "reg_Stemmer.stem('ingeating')"
   ]
  },
  {
   "cell_type": "markdown",
   "id": "df2a578a-3155-455e-91e8-9f85fded51ec",
   "metadata": {},
   "source": [
    "### SnowBall Stemmer > Porter Stemmer"
   ]
  },
  {
   "cell_type": "code",
   "execution_count": 44,
   "id": "47e109b2-0c71-4f08-b31d-061a61a94946",
   "metadata": {},
   "outputs": [],
   "source": [
    "from nltk.stem import SnowballStemmer\n",
    "snowball = SnowballStemmer('english')"
   ]
  },
  {
   "cell_type": "code",
   "execution_count": 47,
   "id": "b8440c7f-99ac-4220-84b2-87e8f4c33dd2",
   "metadata": {},
   "outputs": [
    {
     "name": "stdout",
     "output_type": "stream",
     "text": [
      "fairli supportingli\n",
      "fair support\n"
     ]
    }
   ],
   "source": [
    "print(stemmer.stem('fairly'), stemmer.stem('supportingly'))\n",
    "\n",
    "print(snowball.stem('fairly'), snowball.stem('supportingly'))"
   ]
  },
  {
   "cell_type": "code",
   "execution_count": 49,
   "id": "3852c686-9a9f-48dd-9829-8a8b99d57f02",
   "metadata": {},
   "outputs": [
    {
     "data": {
      "text/plain": [
       "'goe'"
      ]
     },
     "execution_count": 49,
     "metadata": {},
     "output_type": "execute_result"
    }
   ],
   "source": [
    "# But Stemming still fails on some words, so we use Lemmetization\n",
    "snowball.stem('goes')"
   ]
  },
  {
   "cell_type": "markdown",
   "id": "476feeea-5f14-4c1f-aec7-5fd88000699f",
   "metadata": {},
   "source": [
    "### Wordnet Lemmatizer\n",
    "#### takes more time than stemming\n",
    "#### Used in QNA, Chatbox, text summarization"
   ]
  },
  {
   "cell_type": "code",
   "execution_count": 50,
   "id": "ec7c38bc-4cd1-4da7-9e4e-ff5964c1b0af",
   "metadata": {},
   "outputs": [],
   "source": [
    "from nltk.stem import WordNetLemmatizer\n",
    "\n",
    "lemmatizer = WordNetLemmatizer()"
   ]
  },
  {
   "cell_type": "code",
   "execution_count": 53,
   "id": "a23cf6c4-77ab-4ff5-a3c2-6cf90b5c4b2d",
   "metadata": {},
   "outputs": [
    {
     "data": {
      "text/plain": [
       "'go'"
      ]
     },
     "execution_count": 53,
     "metadata": {},
     "output_type": "execute_result"
    }
   ],
   "source": [
    "# POS TAG\n",
    "'''POS- Noun-n\n",
    "verb-v\n",
    "adjective-a\n",
    "adverb-r'''\n",
    "lemmatizer.lemmatize(\"goes\", pos=)"
   ]
  },
  {
   "cell_type": "code",
   "execution_count": 58,
   "id": "d1a05f75-d294-4e44-9090-c427173e0057",
   "metadata": {},
   "outputs": [
    {
     "name": "stdout",
     "output_type": "stream",
     "text": [
      "betrothed----->betroth\n",
      "walking----->walk\n",
      "running----->run\n",
      "gone----->go\n",
      "am,----->am,\n",
      "history,----->history,\n",
      "goes----->go\n",
      "studies----->study\n",
      "ate----->eat\n",
      "supporting----->support\n",
      "fairly----->fairly\n"
     ]
    }
   ],
   "source": [
    "words = [\"betrothed\",\"walking\",\"running\",\"gone\",\"am,\", \"history,\" ,\"goes\",\"studies\",\"ate\",\"supporting\", \"fairly\"]\n",
    "for word in words:\n",
    "    print(word+\"----->\"+lemmatizer.lemmatize(word, pos='v'))"
   ]
  },
  {
   "cell_type": "markdown",
   "id": "f821bb9b-610c-4dd3-b30d-25833518f5e3",
   "metadata": {},
   "source": [
    "## Stopwords"
   ]
  },
  {
   "cell_type": "code",
   "execution_count": 1,
   "id": "2dd39b36-8362-4f83-ab96-5bbae418113f",
   "metadata": {},
   "outputs": [],
   "source": [
    "from nltk.corpus import stopwords"
   ]
  },
  {
   "cell_type": "code",
   "execution_count": 3,
   "id": "71d863f5-5c2f-49e6-b719-324dddea0da1",
   "metadata": {},
   "outputs": [
    {
     "name": "stderr",
     "output_type": "stream",
     "text": [
      "[nltk_data] Downloading package stopwords to /home/krrish/nltk_data...\n",
      "[nltk_data]   Unzipping corpora/stopwords.zip.\n"
     ]
    },
    {
     "data": {
      "text/plain": [
       "True"
      ]
     },
     "execution_count": 3,
     "metadata": {},
     "output_type": "execute_result"
    }
   ],
   "source": [
    "import nltk\n",
    "nltk.download('stopwords')"
   ]
  },
  {
   "cell_type": "code",
   "execution_count": null,
   "id": "21de36b0-bca4-4a1e-9ae6-f881064480e8",
   "metadata": {},
   "outputs": [],
   "source": [
    "stopwords.words('english')"
   ]
  },
  {
   "cell_type": "code",
   "execution_count": 35,
   "id": "0f094d4b-8a9c-4de5-b1d1-0c5ef6904723",
   "metadata": {},
   "outputs": [],
   "source": [
    "paragraph='''I  have three visions for India. In 3000 years of our history people from all over the world have come and invaded us, captured our lands, conquered our minds. From Alexander onwards the Greeks, the Turks, the Moguls, the Portuguese, the British, the French, the Dutch, all of them came and looted us, took over what was ours. Yet we have not done this to any other nation. We have not conquered anyone. We have not grabbed their land, their culture and their history and tried to enforce our way of life on them. Why? Because we respect the freedom of others. That is why my FIRST VISION is that of FREEDOM. I believe that India got its first vision of this in 1857, when we started the war of Independence. It is this freedom that we must protect and nurture and build on. If we are not free, no one will respect us.\n",
    "\n",
    "We have 10 percent growth rate in most areas. Our poverty levels are falling. Our achievements are being globally recognised today. Yet we lack the self-confidence to see ourselves as a developed nation, self-reliant and self-assured. Isn’t this incorrect? MY SECOND VISION for India is DEVELOPMENT. For fifty years we have been a developing nation. It is time we see ourselves as a developed nation. We are among top five nations in the world in terms of GDP.\n",
    "\n",
    "I have a THIRD VISION. India must stand up to the world. Because I believe that unless India stands up to the world, no one will respect us. Only strength respects strength. We must be strong not only as a military power but also as an economic power. Both must go hand-in-hand. My good fortune was to have worked with three great minds. Dr.Vikram Sarabhai, of the Dept. of Space, Professor Satish Dhawan, who succeeded him and Dr. Brahm Prakash, father of nuclear material. I was lucky to have worked with all three of them closely and consider this the great opportunity of my life.\n",
    "\n",
    "I was in Hyderabad giving this lecture, when a 14 year-old girl asked me for my autograph. I asked her what her goal in life is. She replied: I want to live in a developed India. For her, you and I will have to build this developed India. You must proclaim India is not an underdeveloped nation; it is a highly developed nation.\n",
    "\n",
    "You say that our government is inefficient. You say that our laws are too old. You say that the municipality does not pick up the garbage. You say that the phones don’t work, the railways are a joke, the airline is the worst in the world, and mails never reach their destination. You say that our country has been fed to the dogs and is the absolute pits. You say, say and say. What do you do about it?\n",
    "\n",
    "Dear Indians, I am echoing J.F.Kennedy’s words to his fellow Americans to relate to Indians ……. “ASK WHAT WE CAN DO FOR INDIA AND DO WHAT HAS TO BE DONE TO MAKE INDIA WHAT AMERICA AND OTHER WESTERN COUNTRIES ARE TODAY.”\n",
    "'''\n"
   ]
  },
  {
   "cell_type": "code",
   "execution_count": 23,
   "id": "3dd85dbc-c400-4311-aff4-b32496f17404",
   "metadata": {},
   "outputs": [],
   "source": [
    "from nltk.stem import SnowballStemmer\n",
    "stemmer = SnowballStemmer('english')\n",
    "sentence=nltk.sent_tokenize(paragraph)"
   ]
  },
  {
   "cell_type": "code",
   "execution_count": 24,
   "id": "8ba9af70-f96b-4119-857f-6abf3d1ce2a4",
   "metadata": {},
   "outputs": [
    {
     "data": {
      "text/plain": [
       "'I  have three visions for India.'"
      ]
     },
     "execution_count": 24,
     "metadata": {},
     "output_type": "execute_result"
    }
   ],
   "source": [
    "sentence[0]"
   ]
  },
  {
   "cell_type": "markdown",
   "id": "49050810-4ceb-4f1a-8379-6ef6a0737f59",
   "metadata": {},
   "source": [
    "#### Apply Stopwords and Filter And then apply Stemming"
   ]
  },
  {
   "cell_type": "code",
   "execution_count": 25,
   "id": "4f645743-9c17-4852-a920-0793a056c2b0",
   "metadata": {},
   "outputs": [],
   "source": [
    "for i, _ in enumerate(sentence):\n",
    "    words=nltk.word_tokenize(sentence[i])\n",
    "    words=[stemmer.stem(word) for word in words if word not in set(stopwords.words('english'))]\n",
    "    sentence[i] = ' '.join(words) # converts all words into sentences\n"
   ]
  },
  {
   "cell_type": "code",
   "execution_count": 26,
   "id": "2fe448e3-a43f-4fa6-bca9-fb543d51211b",
   "metadata": {
    "scrolled": true
   },
   "outputs": [
    {
     "data": {
      "text/plain": [
       "['i three vision india .',\n",
       " 'in 3000 year histori peopl world come invad us , captur land , conquer mind .',\n",
       " 'from alexand onward greek , turk , mogul , portugues , british , french , dutch , came loot us , took .',\n",
       " 'yet done nation .',\n",
       " 'we conquer anyon .',\n",
       " 'we grab land , cultur histori tri enforc way life .',\n",
       " 'whi ?',\n",
       " 'becaus respect freedom other .',\n",
       " 'that first vision freedom .',\n",
       " 'i believ india got first vision 1857 , start war independ .',\n",
       " 'it freedom must protect nurtur build .',\n",
       " 'if free , one respect us .',\n",
       " 'we 10 percent growth rate area .',\n",
       " 'our poverti level fall .',\n",
       " 'our achiev global recognis today .',\n",
       " 'yet lack self-confid see develop nation , self-reli self-assur .',\n",
       " 'isn ’ incorrect ?',\n",
       " 'my second vision india develop .',\n",
       " 'for fifti year develop nation .',\n",
       " 'it time see develop nation .',\n",
       " 'we among top five nation world term gdp .',\n",
       " 'i third vision .',\n",
       " 'india must stand world .',\n",
       " 'becaus i believ unless india stand world , one respect us .',\n",
       " 'onli strength respect strength .',\n",
       " 'we must strong militari power also econom power .',\n",
       " 'both must go hand-in-hand .',\n",
       " 'my good fortun work three great mind .',\n",
       " 'dr.vikram sarabhai , dept .',\n",
       " 'space , professor satish dhawan , succeed dr. brahm prakash , father nuclear materi .',\n",
       " 'i lucki work three close consid great opportun life .',\n",
       " 'i hyderabad give lectur , 14 year-old girl ask autograph .',\n",
       " 'i ask goal life .',\n",
       " 'she repli : i want live develop india .',\n",
       " 'for , i build develop india .',\n",
       " 'you must proclaim india underdevelop nation ; high develop nation .',\n",
       " 'you say govern ineffici .',\n",
       " 'you say law old .',\n",
       " 'you say municip pick garbag .',\n",
       " 'you say phone ’ work , railway joke , airlin worst world , mail never reach destin .',\n",
       " 'you say countri fed dog absolut pit .',\n",
       " 'you say , say say .',\n",
       " 'what ?',\n",
       " 'dear indian , i echo j.f.kennedi ’ word fellow american relat indian …… .',\n",
       " '“ ask what we can do for india and do what has to be done to make india what america and other western countri are today . ”']"
      ]
     },
     "execution_count": 26,
     "metadata": {},
     "output_type": "execute_result"
    }
   ],
   "source": [
    "sentence"
   ]
  },
  {
   "cell_type": "code",
   "execution_count": 36,
   "id": "cc49a5cc-e1a1-4c66-a5ca-f77f4668d623",
   "metadata": {},
   "outputs": [],
   "source": [
    "# trying it with lemmitization\n",
    "from nltk.stem import WordNetLemmatizer\n",
    "lemmatizer = WordNetLemmatizer()"
   ]
  },
  {
   "cell_type": "code",
   "execution_count": 37,
   "id": "4e4bca5e-1373-4329-b33c-894264a7d5ef",
   "metadata": {},
   "outputs": [],
   "source": [
    "for i, _ in enumerate(sentence):\n",
    "    sentence[i] = sentence[i].lower()\n",
    "    words=nltk.word_tokenize(sentence[i])\n",
    "    words=[lemmatizer.lemmatize(word, pos='v') for word in words if word not in set(stopwords.words('english'))]\n",
    "    sentence[i] = ' '.join(words) # converts all words into sentences\n"
   ]
  },
  {
   "cell_type": "code",
   "execution_count": 38,
   "id": "cee1cf2d-7366-4000-aebf-14a22c919019",
   "metadata": {},
   "outputs": [
    {
     "data": {
      "text/plain": [
       "['three vision india .',\n",
       " '3000 year histori peopl world come invad u , captur land , conquer mind .',\n",
       " 'alexand onward greek , turk , mogul , portugues , british , french , dutch , come loot u , take .',\n",
       " 'yet nation .',\n",
       " 'conquer anyon .',\n",
       " 'grab land , cultur histori tri enforc way life .',\n",
       " 'whi ?',\n",
       " 'becaus respect freedom .',\n",
       " 'first vision freedom .',\n",
       " 'believ india get first vision 1857 , start war independ .',\n",
       " 'freedom must protect nurtur build .',\n",
       " 'free , one respect u .',\n",
       " '10 percent growth rate area .',\n",
       " 'poverti level fall .',\n",
       " 'achiev global recognis today .',\n",
       " 'yet lack self-confid see develop nation , self-reli self-assur .',\n",
       " '’ incorrect ?',\n",
       " 'second vision india develop .',\n",
       " 'fifti year develop nation .',\n",
       " 'time see develop nation .',\n",
       " 'among top five nation world term gdp .',\n",
       " 'third vision .',\n",
       " 'india must stand world .',\n",
       " 'becaus believ unless india stand world , one respect u .',\n",
       " 'onli strength respect strength .',\n",
       " 'must strong militari power also econom power .',\n",
       " 'must go hand-in-hand .',\n",
       " 'good fortun work three great mind .',\n",
       " 'dr.vikram sarabhai , dept .',\n",
       " 'space , professor satish dhawan , succeed dr. brahm prakash , father nuclear materi .',\n",
       " 'lucki work three close consid great opportun life .',\n",
       " 'hyderabad give lectur , 14 year-old girl ask autograph .',\n",
       " 'ask goal life .',\n",
       " 'repli : want live develop india .',\n",
       " ', build develop india .',\n",
       " 'must proclaim india underdevelop nation ; high develop nation .',\n",
       " 'say govern ineffici .',\n",
       " 'say law old .',\n",
       " 'say municip pick garbag .',\n",
       " 'say phone ’ work , railway joke , airlin worst world , mail never reach destin .',\n",
       " 'say countri fee dog absolut pit .',\n",
       " 'say , say say .',\n",
       " '?',\n",
       " 'dear indian , echo j.f.kennedi ’ word fellow american relat indian …… .',\n",
       " '“ ask india make india america western countri today . ”']"
      ]
     },
     "execution_count": 38,
     "metadata": {},
     "output_type": "execute_result"
    }
   ],
   "source": [
    "sentence"
   ]
  },
  {
   "cell_type": "markdown",
   "id": "40d1595b-2d65-46b6-9608-05168c47d907",
   "metadata": {},
   "source": [
    "## Parts of Speech Tags\n",
    "https://stackoverflow.com/questions/15388831/what-are-all-possible-pos-tags-of-nltk"
   ]
  },
  {
   "cell_type": "code",
   "execution_count": 41,
   "id": "fbc0c9b1-3813-442e-a890-7788be12bf2a",
   "metadata": {},
   "outputs": [
    {
     "name": "stderr",
     "output_type": "stream",
     "text": [
      "[nltk_data] Downloading package averaged_perceptron_tagger_eng to\n",
      "[nltk_data]     /home/krrish/nltk_data...\n",
      "[nltk_data]   Unzipping taggers/averaged_perceptron_tagger_eng.zip.\n"
     ]
    },
    {
     "data": {
      "text/plain": [
       "True"
      ]
     },
     "execution_count": 41,
     "metadata": {},
     "output_type": "execute_result"
    }
   ],
   "source": [
    "nltk.download('averaged_perceptron_tagger_eng')"
   ]
  },
  {
   "cell_type": "code",
   "execution_count": 39,
   "id": "33ac5b12-5530-4c31-b9df-5a6f52685ec0",
   "metadata": {},
   "outputs": [],
   "source": [
    "paragraph='''I  have three visions for India. In 3000 years of our history people from all over the world have come and invaded us, captured our lands, conquered our minds. From Alexander onwards the Greeks, the Turks, the Moguls, the Portuguese, the British, the French, the Dutch, all of them came and looted us, took over what was ours. Yet we have not done this to any other nation. We have not conquered anyone. We have not grabbed their land, their culture and their history and tried to enforce our way of life on them. Why? Because we respect the freedom of others. That is why my FIRST VISION is that of FREEDOM. I believe that India got its first vision of this in 1857, when we started the war of Independence. It is this freedom that we must protect and nurture and build on. If we are not free, no one will respect us.\n",
    "\n",
    "We have 10 percent growth rate in most areas. Our poverty levels are falling. Our achievements are being globally recognised today. Yet we lack the self-confidence to see ourselves as a developed nation, self-reliant and self-assured. Isn’t this incorrect? MY SECOND VISION for India is DEVELOPMENT. For fifty years we have been a developing nation. It is time we see ourselves as a developed nation. We are among top five nations in the world in terms of GDP.\n",
    "\n",
    "I have a THIRD VISION. India must stand up to the world. Because I believe that unless India stands up to the world, no one will respect us. Only strength respects strength. We must be strong not only as a military power but also as an economic power. Both must go hand-in-hand. My good fortune was to have worked with three great minds. Dr.Vikram Sarabhai, of the Dept. of Space, Professor Satish Dhawan, who succeeded him and Dr. Brahm Prakash, father of nuclear material. I was lucky to have worked with all three of them closely and consider this the great opportunity of my life.\n",
    "\n",
    "I was in Hyderabad giving this lecture, when a 14 year-old girl asked me for my autograph. I asked her what her goal in life is. She replied: I want to live in a developed India. For her, you and I will have to build this developed India. You must proclaim India is not an underdeveloped nation; it is a highly developed nation.\n",
    "\n",
    "You say that our government is inefficient. You say that our laws are too old. You say that the municipality does not pick up the garbage. You say that the phones don’t work, the railways are a joke, the airline is the worst in the world, and mails never reach their destination. You say that our country has been fed to the dogs and is the absolute pits. You say, say and say. What do you do about it?\n",
    "\n",
    "Dear Indians, I am echoing J.F.Kennedy’s words to his fellow Americans to relate to Indians ……. “ASK WHAT WE CAN DO FOR INDIA AND DO WHAT HAS TO BE DONE TO MAKE INDIA WHAT AMERICA AND OTHER WESTERN COUNTRIES ARE TODAY.”\n",
    "'''\n"
   ]
  },
  {
   "cell_type": "code",
   "execution_count": 42,
   "id": "53697044-db98-4af1-801a-6bc6b63cb5e8",
   "metadata": {},
   "outputs": [
    {
     "name": "stdout",
     "output_type": "stream",
     "text": [
      "[('three', 'CD'), ('vision', 'NN'), ('india', 'NN'), ('.', '.')]\n",
      "[('3000', 'CD'), ('year', 'NN'), ('histori', 'NN'), ('peopl', 'NN'), ('world', 'NN'), ('come', 'VBP'), ('invad', 'NN'), ('u', 'NN'), (',', ','), ('captur', 'NN'), ('land', 'NN'), (',', ','), ('conquer', 'NN'), ('mind', 'NN'), ('.', '.')]\n",
      "[('alexand', 'RB'), ('onward', 'RB'), ('greek', 'JJ'), (',', ','), ('turk', 'NN'), (',', ','), ('mogul', 'NN'), (',', ','), ('portugues', 'NNS'), (',', ','), ('british', 'JJ'), (',', ','), ('french', 'JJ'), (',', ','), ('dutch', 'VB'), (',', ','), ('come', 'VB'), ('loot', 'NN'), ('u', 'JJ'), (',', ','), ('take', 'VB'), ('.', '.')]\n",
      "[('yet', 'RB'), ('nation', 'NN'), ('.', '.')]\n",
      "[('conquer', 'NN'), ('anyon', 'NN'), ('.', '.')]\n",
      "[('grab', 'NN'), ('land', 'NN'), (',', ','), ('cultur', 'VB'), ('histori', 'JJ'), ('tri', 'NNS'), ('enforc', 'VBP'), ('way', 'NN'), ('life', 'NN'), ('.', '.')]\n",
      "[('whi', 'NN'), ('?', '.')]\n",
      "[('becaus', 'NN'), ('respect', 'NN'), ('freedom', 'NN'), ('.', '.')]\n",
      "[('first', 'JJ'), ('vision', 'NN'), ('freedom', 'NN'), ('.', '.')]\n",
      "[('believ', 'NN'), ('india', 'NN'), ('get', 'VBP'), ('first', 'JJ'), ('vision', 'NN'), ('1857', 'CD'), (',', ','), ('start', 'VBP'), ('war', 'NN'), ('independ', 'NN'), ('.', '.')]\n",
      "[('freedom', 'NN'), ('must', 'MD'), ('protect', 'VB'), ('nurtur', 'JJ'), ('build', 'NN'), ('.', '.')]\n",
      "[('free', 'JJ'), (',', ','), ('one', 'CD'), ('respect', 'NN'), ('u', 'NN'), ('.', '.')]\n",
      "[('10', 'CD'), ('percent', 'JJ'), ('growth', 'NN'), ('rate', 'NN'), ('area', 'NN'), ('.', '.')]\n",
      "[('poverti', 'JJ'), ('level', 'NN'), ('fall', 'NN'), ('.', '.')]\n",
      "[('achiev', 'NN'), ('global', 'JJ'), ('recognis', 'NN'), ('today', 'NN'), ('.', '.')]\n",
      "[('yet', 'RB'), ('lack', 'JJ'), ('self-confid', 'JJ'), ('see', 'NN'), ('develop', 'VB'), ('nation', 'NN'), (',', ','), ('self-reli', 'JJ'), ('self-assur', 'NN'), ('.', '.')]\n",
      "[('’', 'NN'), ('incorrect', 'NN'), ('?', '.')]\n",
      "[('second', 'JJ'), ('vision', 'NN'), ('india', 'NN'), ('develop', 'NN'), ('.', '.')]\n",
      "[('fifti', 'JJ'), ('year', 'NN'), ('develop', 'NN'), ('nation', 'NN'), ('.', '.')]\n",
      "[('time', 'NN'), ('see', 'VB'), ('develop', 'JJ'), ('nation', 'NN'), ('.', '.')]\n",
      "[('among', 'IN'), ('top', 'JJ'), ('five', 'CD'), ('nation', 'NN'), ('world', 'NN'), ('term', 'NN'), ('gdp', 'NN'), ('.', '.')]\n",
      "[('third', 'JJ'), ('vision', 'NN'), ('.', '.')]\n",
      "[('india', 'NN'), ('must', 'MD'), ('stand', 'VB'), ('world', 'NN'), ('.', '.')]\n",
      "[('becaus', 'NN'), ('believ', 'NN'), ('unless', 'IN'), ('india', 'JJ'), ('stand', 'NN'), ('world', 'NN'), (',', ','), ('one', 'CD'), ('respect', 'NN'), ('u', 'NN'), ('.', '.')]\n",
      "[('onli', 'JJ'), ('strength', 'NN'), ('respect', 'NN'), ('strength', 'NN'), ('.', '.')]\n",
      "[('must', 'MD'), ('strong', 'JJ'), ('militari', 'NN'), ('power', 'NN'), ('also', 'RB'), ('econom', 'JJ'), ('power', 'NN'), ('.', '.')]\n",
      "[('must', 'MD'), ('go', 'VB'), ('hand-in-hand', 'NN'), ('.', '.')]\n",
      "[('good', 'JJ'), ('fortun', 'NN'), ('work', 'NN'), ('three', 'CD'), ('great', 'JJ'), ('mind', 'NN'), ('.', '.')]\n",
      "[('dr.vikram', 'NN'), ('sarabhai', 'NN'), (',', ','), ('dept', 'NN'), ('.', '.')]\n",
      "[('space', 'NN'), (',', ','), ('professor', 'NN'), ('satish', 'JJ'), ('dhawan', 'NN'), (',', ','), ('succeed', 'VB'), ('dr.', 'JJ'), ('brahm', 'NN'), ('prakash', 'NN'), (',', ','), ('father', 'RB'), ('nuclear', 'JJ'), ('materi', 'NN'), ('.', '.')]\n",
      "[('lucki', 'NN'), ('work', 'NN'), ('three', 'CD'), ('close', 'JJ'), ('consid', 'NN'), ('great', 'JJ'), ('opportun', 'JJ'), ('life', 'NN'), ('.', '.')]\n",
      "[('hyderabad', 'NN'), ('give', 'VB'), ('lectur', 'NN'), (',', ','), ('14', 'CD'), ('year-old', 'JJ'), ('girl', 'NN'), ('ask', 'NN'), ('autograph', 'NN'), ('.', '.')]\n",
      "[('ask', 'NN'), ('goal', 'NN'), ('life', 'NN'), ('.', '.')]\n",
      "[('repli', 'NNS'), (':', ':'), ('want', 'VBP'), ('live', 'JJ'), ('develop', 'NN'), ('india', 'NN'), ('.', '.')]\n",
      "[(',', ','), ('build', 'VB'), ('develop', 'VB'), ('india', 'NN'), ('.', '.')]\n",
      "[('must', 'MD'), ('proclaim', 'VB'), ('india', 'JJ'), ('underdevelop', 'JJ'), ('nation', 'NN'), (';', ':'), ('high', 'JJ'), ('develop', 'VB'), ('nation', 'NN'), ('.', '.')]\n",
      "[('say', 'VB'), ('govern', 'JJ'), ('ineffici', 'NN'), ('.', '.')]\n",
      "[('say', 'VBP'), ('law', 'NN'), ('old', 'JJ'), ('.', '.')]\n",
      "[('say', 'VBP'), ('municip', 'NNS'), ('pick', 'JJ'), ('garbag', 'NN'), ('.', '.')]\n",
      "[('say', 'VB'), ('phone', 'NN'), ('’', 'NNP'), ('work', 'NN'), (',', ','), ('railway', 'NN'), ('joke', 'NN'), (',', ','), ('airlin', 'IN'), ('worst', 'JJ'), ('world', 'NN'), (',', ','), ('mail', 'NN'), ('never', 'RB'), ('reach', 'VBP'), ('destin', 'NN'), ('.', '.')]\n",
      "[('say', 'VB'), ('countri', 'JJ'), ('fee', 'NN'), ('dog', 'NN'), ('absolut', 'NN'), ('pit', 'NN'), ('.', '.')]\n",
      "[('say', 'NN'), (',', ','), ('say', 'VBP'), ('say', 'UH'), ('.', '.')]\n",
      "[('?', '.')]\n",
      "[('dear', 'JJ'), ('indian', 'JJ'), (',', ','), ('echo', 'JJ'), ('j.f.kennedi', 'NN'), ('’', 'NNP'), ('word', 'NN'), ('fellow', 'JJ'), ('american', 'JJ'), ('relat', 'NN'), ('indian', 'JJ'), ('……', 'NN'), ('.', '.')]\n",
      "[('“', 'JJ'), ('ask', 'NN'), ('india', 'NNS'), ('make', 'VBP'), ('india', 'NN'), ('america', 'NN'), ('western', 'JJ'), ('countri', 'NN'), ('today', 'NN'), ('.', '.'), ('”', 'NN')]\n"
     ]
    }
   ],
   "source": [
    "for i, _ in enumerate(sentence):\n",
    "    words=nltk.word_tokenize(sentence[i])\n",
    "    words=[word for word in words if word not in set(stopwords.words('english'))]\n",
    "    # sentence[i] = ' '.join(words) # converts all words into sentences\n",
    "    pos_tag=nltk.pos_tag(words)\n",
    "    print(pos_tag)"
   ]
  },
  {
   "cell_type": "code",
   "execution_count": 56,
   "id": "8fda9389-e7b1-4c6b-80df-b2d56a56d475",
   "metadata": {},
   "outputs": [
    {
     "data": {
      "text/plain": [
       "[[('I', 'PRP'),\n",
       "  ('have', 'VBP'),\n",
       "  ('three', 'CD'),\n",
       "  ('visions', 'NNS'),\n",
       "  ('for', 'IN'),\n",
       "  ('India.', 'NNP')]]"
      ]
     },
     "execution_count": 56,
     "metadata": {},
     "output_type": "execute_result"
    }
   ],
   "source": [
    "word=[\"I  have three visions for India.\".split()]\n",
    "nltk.pos_tag_sents(word)"
   ]
  },
  {
   "cell_type": "markdown",
   "id": "8434fc91-8242-4e1b-bb44-aa5c3606a2f0",
   "metadata": {},
   "source": [
    "### Named Entity Recognition"
   ]
  },
  {
   "cell_type": "code",
   "execution_count": 66,
   "id": "49348391-0a1b-4345-ad60-ccd6453ca29a",
   "metadata": {},
   "outputs": [],
   "source": [
    "sentence = 'Gustave Eiffel responded to these criticisms by comparing his tower to the Egyptian pyramids'\n",
    "words = nltk.word_tokenize(sentence)\n",
    "tag_element = nltk.pos_tag(words)"
   ]
  },
  {
   "cell_type": "code",
   "execution_count": 61,
   "id": "d4cc80a7-57fe-4c7b-8c8a-1f00c0c4f7db",
   "metadata": {},
   "outputs": [
    {
     "name": "stderr",
     "output_type": "stream",
     "text": [
      "[nltk_data] Downloading package maxent_ne_chunker_tab to\n",
      "[nltk_data]     /home/krrish/nltk_data...\n",
      "[nltk_data]   Unzipping chunkers/maxent_ne_chunker_tab.zip.\n"
     ]
    },
    {
     "data": {
      "text/plain": [
       "True"
      ]
     },
     "execution_count": 61,
     "metadata": {},
     "output_type": "execute_result"
    }
   ],
   "source": [
    "nltk.download('maxent_ne_chunker_tab')"
   ]
  },
  {
   "cell_type": "code",
   "execution_count": 63,
   "id": "cef0a1ef-55ab-4fdb-ab3c-c86aad73fb5f",
   "metadata": {},
   "outputs": [
    {
     "name": "stderr",
     "output_type": "stream",
     "text": [
      "[nltk_data] Downloading package words to /home/krrish/nltk_data...\n",
      "[nltk_data]   Unzipping corpora/words.zip.\n"
     ]
    },
    {
     "data": {
      "text/plain": [
       "True"
      ]
     },
     "execution_count": 63,
     "metadata": {},
     "output_type": "execute_result"
    }
   ],
   "source": [
    "nltk.download('words')"
   ]
  },
  {
   "cell_type": "code",
   "execution_count": 67,
   "id": "fffc9bb7-16b6-40de-8b26-73e261fd0b5a",
   "metadata": {},
   "outputs": [],
   "source": [
    "nltk.ne_chunk(tag_element).draw()"
   ]
  },
  {
   "cell_type": "markdown",
   "id": "8b7b565a-3fe2-49f0-b353-ca075f7bcdb3",
   "metadata": {},
   "source": [
    "## Different Types of Encoding into vectors"
   ]
  },
  {
   "cell_type": "code",
   "execution_count": null,
   "id": "926ff0e2-b204-42fa-b0a8-afe77e083c7a",
   "metadata": {},
   "outputs": [],
   "source": []
  }
 ],
 "metadata": {
  "kernelspec": {
   "display_name": "Python 3 (ipykernel)",
   "language": "python",
   "name": "python3"
  },
  "language_info": {
   "codemirror_mode": {
    "name": "ipython",
    "version": 3
   },
   "file_extension": ".py",
   "mimetype": "text/x-python",
   "name": "python",
   "nbconvert_exporter": "python",
   "pygments_lexer": "ipython3",
   "version": "3.12.2"
  }
 },
 "nbformat": 4,
 "nbformat_minor": 5
}
