{
 "cells": [
  {
   "cell_type": "code",
   "execution_count": 1,
   "id": "51886478-2fd8-4148-801f-d1390c5d7e52",
   "metadata": {},
   "outputs": [],
   "source": [
    "import pandas as pd\n",
    "import numpy as np\n",
    "import matplotlib.pyplot as mlt"
   ]
  },
  {
   "cell_type": "code",
   "execution_count": 9,
   "id": "be3059c2-cf82-4620-9ead-355bf341a067",
   "metadata": {},
   "outputs": [],
   "source": [
    "df=pd.read_csv('australian.dat')"
   ]
  },
  {
   "cell_type": "code",
   "execution_count": 10,
   "id": "04dd0ab5-ccd9-4e0b-b0d3-7c65ec437825",
   "metadata": {},
   "outputs": [],
   "source": [
    "df=pd.DataFrame(df)"
   ]
  },
  {
   "cell_type": "code",
   "execution_count": 12,
   "id": "f92416c1-a721-4432-8ad1-45d0885433d6",
   "metadata": {},
   "outputs": [
    {
     "data": {
      "text/html": [
       "<div>\n",
       "<style scoped>\n",
       "    .dataframe tbody tr th:only-of-type {\n",
       "        vertical-align: middle;\n",
       "    }\n",
       "\n",
       "    .dataframe tbody tr th {\n",
       "        vertical-align: top;\n",
       "    }\n",
       "\n",
       "    .dataframe thead th {\n",
       "        text-align: right;\n",
       "    }\n",
       "</style>\n",
       "<table border=\"1\" class=\"dataframe\">\n",
       "  <thead>\n",
       "    <tr style=\"text-align: right;\">\n",
       "      <th></th>\n",
       "      <th>1 22.08 11.46 2 4 4 1.585 0 0 0 1 2 100 1213 0</th>\n",
       "    </tr>\n",
       "  </thead>\n",
       "  <tbody>\n",
       "    <tr>\n",
       "      <th>0</th>\n",
       "      <td>0 22.67 7 2 8 4 0.165 0 0 0 0 2 160 1 0</td>\n",
       "    </tr>\n",
       "    <tr>\n",
       "      <th>1</th>\n",
       "      <td>0 29.58 1.75 1 4 4 1.25 0 0 0 1 2 280 1 0</td>\n",
       "    </tr>\n",
       "    <tr>\n",
       "      <th>2</th>\n",
       "      <td>0 21.67 11.5 1 5 3 0 1 1 11 1 2 0 1 1</td>\n",
       "    </tr>\n",
       "    <tr>\n",
       "      <th>3</th>\n",
       "      <td>1 20.17 8.17 2 6 4 1.96 1 1 14 0 2 60 159 1</td>\n",
       "    </tr>\n",
       "    <tr>\n",
       "      <th>4</th>\n",
       "      <td>0 15.83 0.585 2 8 8 1.5 1 1 2 0 2 100 1 1</td>\n",
       "    </tr>\n",
       "  </tbody>\n",
       "</table>\n",
       "</div>"
      ],
      "text/plain": [
       "  1 22.08 11.46 2 4 4 1.585 0 0 0 1 2 100 1213 0\n",
       "0        0 22.67 7 2 8 4 0.165 0 0 0 0 2 160 1 0\n",
       "1      0 29.58 1.75 1 4 4 1.25 0 0 0 1 2 280 1 0\n",
       "2          0 21.67 11.5 1 5 3 0 1 1 11 1 2 0 1 1\n",
       "3    1 20.17 8.17 2 6 4 1.96 1 1 14 0 2 60 159 1\n",
       "4      0 15.83 0.585 2 8 8 1.5 1 1 2 0 2 100 1 1"
      ]
     },
     "execution_count": 12,
     "metadata": {},
     "output_type": "execute_result"
    }
   ],
   "source": [
    "df.head()"
   ]
  },
  {
   "cell_type": "code",
   "execution_count": null,
   "id": "6a290091-d71e-49e0-8fd4-b035b612c934",
   "metadata": {},
   "outputs": [],
   "source": []
  },
  {
   "cell_type": "code",
   "execution_count": null,
   "id": "f57d73e1-bd91-4b96-9614-00a49ae5bda5",
   "metadata": {},
   "outputs": [],
   "source": []
  }
 ],
 "metadata": {
  "kernelspec": {
   "display_name": "Python 3 (ipykernel)",
   "language": "python",
   "name": "python3"
  },
  "language_info": {
   "codemirror_mode": {
    "name": "ipython",
    "version": 3
   },
   "file_extension": ".py",
   "mimetype": "text/x-python",
   "name": "python",
   "nbconvert_exporter": "python",
   "pygments_lexer": "ipython3",
   "version": "3.12.6"
  }
 },
 "nbformat": 4,
 "nbformat_minor": 5
}
