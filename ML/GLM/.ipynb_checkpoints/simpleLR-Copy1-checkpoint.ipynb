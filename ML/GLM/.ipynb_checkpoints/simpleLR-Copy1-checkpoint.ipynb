{
 "cells": [
  {
   "cell_type": "markdown",
   "id": "5fcec8ba-9b59-484c-883b-f00a2789afc7",
   "metadata": {},
   "source": [
    "## Importing necessary libraries"
   ]
  },
  {
   "cell_type": "code",
   "execution_count": 1,
   "id": "818095fa-a4ef-43d2-b689-ee80fbd3a179",
   "metadata": {},
   "outputs": [],
   "source": [
    "import pandas as pd\n",
    "import numpy as np\n",
    "import matplotlib.pyplot as plt\n",
    "import seaborn as sns\n",
    "%matplotlib inline"
   ]
  },
  {
   "cell_type": "markdown",
   "id": "004e2c12-bce0-4e11-be84-1d79b96d3200",
   "metadata": {},
   "source": [
    "### Importing and viewing the dataseet"
   ]
  },
  {
   "cell_type": "code",
   "execution_count": 62,
   "id": "5e484105-78b2-4e4d-9965-7e4a02425a3a",
   "metadata": {},
   "outputs": [
    {
     "data": {
      "text/html": [
       "<div>\n",
       "<style scoped>\n",
       "    .dataframe tbody tr th:only-of-type {\n",
       "        vertical-align: middle;\n",
       "    }\n",
       "\n",
       "    .dataframe tbody tr th {\n",
       "        vertical-align: top;\n",
       "    }\n",
       "\n",
       "    .dataframe thead th {\n",
       "        text-align: right;\n",
       "    }\n",
       "</style>\n",
       "<table border=\"1\" class=\"dataframe\">\n",
       "  <thead>\n",
       "    <tr style=\"text-align: right;\">\n",
       "      <th></th>\n",
       "      <th>furnishingstatus</th>\n",
       "      <th>area</th>\n",
       "      <th>bedrooms</th>\n",
       "      <th>bathrooms</th>\n",
       "      <th>stories</th>\n",
       "      <th>mainroad</th>\n",
       "      <th>guestroom</th>\n",
       "      <th>basement</th>\n",
       "      <th>hotwaterheating</th>\n",
       "      <th>airconditioning</th>\n",
       "      <th>parking</th>\n",
       "      <th>prefarea</th>\n",
       "      <th>price</th>\n",
       "    </tr>\n",
       "  </thead>\n",
       "  <tbody>\n",
       "    <tr>\n",
       "      <th>0</th>\n",
       "      <td>furnished</td>\n",
       "      <td>7420.0</td>\n",
       "      <td>4.0</td>\n",
       "      <td>2.0</td>\n",
       "      <td>3.0</td>\n",
       "      <td>yes</td>\n",
       "      <td>no</td>\n",
       "      <td>no</td>\n",
       "      <td>no</td>\n",
       "      <td>yes</td>\n",
       "      <td>2.0</td>\n",
       "      <td>yes</td>\n",
       "      <td>NaN</td>\n",
       "    </tr>\n",
       "    <tr>\n",
       "      <th>1</th>\n",
       "      <td>furnished</td>\n",
       "      <td>NaN</td>\n",
       "      <td>4.0</td>\n",
       "      <td>4.0</td>\n",
       "      <td>4.0</td>\n",
       "      <td>yes</td>\n",
       "      <td>no</td>\n",
       "      <td>no</td>\n",
       "      <td>no</td>\n",
       "      <td>yes</td>\n",
       "      <td>3.0</td>\n",
       "      <td>no</td>\n",
       "      <td>12250000.0</td>\n",
       "    </tr>\n",
       "    <tr>\n",
       "      <th>2</th>\n",
       "      <td>semi-furnished</td>\n",
       "      <td>9960.0</td>\n",
       "      <td>3.0</td>\n",
       "      <td>2.0</td>\n",
       "      <td>2.0</td>\n",
       "      <td>yes</td>\n",
       "      <td>no</td>\n",
       "      <td>yes</td>\n",
       "      <td>no</td>\n",
       "      <td>no</td>\n",
       "      <td>2.0</td>\n",
       "      <td>yes</td>\n",
       "      <td>12250000.0</td>\n",
       "    </tr>\n",
       "    <tr>\n",
       "      <th>3</th>\n",
       "      <td>furnished</td>\n",
       "      <td>7500.0</td>\n",
       "      <td>4.0</td>\n",
       "      <td>2.0</td>\n",
       "      <td>2.0</td>\n",
       "      <td>yes</td>\n",
       "      <td>no</td>\n",
       "      <td>NaN</td>\n",
       "      <td>no</td>\n",
       "      <td>yes</td>\n",
       "      <td>3.0</td>\n",
       "      <td>yes</td>\n",
       "      <td>12215000.0</td>\n",
       "    </tr>\n",
       "    <tr>\n",
       "      <th>4</th>\n",
       "      <td>furnished</td>\n",
       "      <td>7420.0</td>\n",
       "      <td>4.0</td>\n",
       "      <td>1.0</td>\n",
       "      <td>2.0</td>\n",
       "      <td>yes</td>\n",
       "      <td>yes</td>\n",
       "      <td>yes</td>\n",
       "      <td>no</td>\n",
       "      <td>yes</td>\n",
       "      <td>2.0</td>\n",
       "      <td>no</td>\n",
       "      <td>11410000.0</td>\n",
       "    </tr>\n",
       "  </tbody>\n",
       "</table>\n",
       "</div>"
      ],
      "text/plain": [
       "  furnishingstatus    area  bedrooms  bathrooms  stories mainroad guestroom  \\\n",
       "0        furnished  7420.0       4.0        2.0      3.0      yes        no   \n",
       "1        furnished     NaN       4.0        4.0      4.0      yes        no   \n",
       "2   semi-furnished  9960.0       3.0        2.0      2.0      yes        no   \n",
       "3        furnished  7500.0       4.0        2.0      2.0      yes        no   \n",
       "4        furnished  7420.0       4.0        1.0      2.0      yes       yes   \n",
       "\n",
       "  basement hotwaterheating airconditioning  parking prefarea       price  \n",
       "0       no              no             yes      2.0      yes         NaN  \n",
       "1       no              no             yes      3.0       no  12250000.0  \n",
       "2      yes              no              no      2.0      yes  12250000.0  \n",
       "3      NaN              no             yes      3.0      yes  12215000.0  \n",
       "4      yes              no             yes      2.0       no  11410000.0  "
      ]
     },
     "execution_count": 62,
     "metadata": {},
     "output_type": "execute_result"
    }
   ],
   "source": [
    "# open up dataset using panda and view it \n",
    "data = pd.read_csv('out.csv')\n",
    "data.head()"
   ]
  },
  {
   "cell_type": "code",
   "execution_count": 3,
   "id": "4c2dbbe6-de61-40ff-8a86-8df15f670146",
   "metadata": {},
   "outputs": [
    {
     "name": "stdout",
     "output_type": "stream",
     "text": [
      "<class 'pandas.core.frame.DataFrame'>\n",
      "RangeIndex: 545 entries, 0 to 544\n",
      "Data columns (total 13 columns):\n",
      " #   Column            Non-Null Count  Dtype  \n",
      "---  ------            --------------  -----  \n",
      " 0   furnishingstatus  533 non-null    object \n",
      " 1   area              533 non-null    float64\n",
      " 2   bedrooms          539 non-null    float64\n",
      " 3   bathrooms         536 non-null    float64\n",
      " 4   stories           539 non-null    float64\n",
      " 5   mainroad          536 non-null    object \n",
      " 6   guestroom         540 non-null    object \n",
      " 7   basement          536 non-null    object \n",
      " 8   hotwaterheating   537 non-null    object \n",
      " 9   airconditioning   541 non-null    object \n",
      " 10  parking           540 non-null    float64\n",
      " 11  prefarea          534 non-null    object \n",
      " 12  price             530 non-null    float64\n",
      "dtypes: float64(6), object(7)\n",
      "memory usage: 55.5+ KB\n"
     ]
    }
   ],
   "source": [
    "data.info()"
   ]
  },
  {
   "cell_type": "markdown",
   "id": "a5ed733b-b6f7-41bf-95df-45ca386c402f",
   "metadata": {},
   "source": [
    "### Determine the dependent, independent, and Dummy variables "
   ]
  },
  {
   "cell_type": "code",
   "execution_count": 63,
   "id": "3f76acd5-1df3-4499-9784-fc7d05491eef",
   "metadata": {},
   "outputs": [],
   "source": [
    "X= data.iloc[:, :-1].values #dependent variables\n",
    "y= data.iloc[:, -1].values  #independent variable\n"
   ]
  },
  {
   "cell_type": "code",
   "execution_count": 4,
   "id": "bf130c30-02ea-4a7b-b016-66559df754f3",
   "metadata": {},
   "outputs": [
    {
     "name": "stdout",
     "output_type": "stream",
     "text": [
      "[['furnished' 7420.0 4.0 ... 'yes' 2.0 'yes']\n",
      " ['furnished' nan 4.0 ... 'yes' 3.0 'no']\n",
      " ['semi-furnished' 9960.0 3.0 ... 'no' 2.0 'yes']\n",
      " ...\n",
      " ['unfurnished' 3620.0 2.0 ... 'no' 0.0 'no']\n",
      " ['furnished' 2910.0 3.0 ... 'no' 0.0 'no']\n",
      " ['unfurnished' 3850.0 3.0 ... 'no' 0.0 'no']]\n"
     ]
    }
   ],
   "source": [
    "print(X)"
   ]
  },
  {
   "cell_type": "code",
   "execution_count": 5,
   "id": "4fab33d4-bcd7-45bc-8266-d153a3bf4af8",
   "metadata": {},
   "outputs": [
    {
     "name": "stdout",
     "output_type": "stream",
     "text": [
      "[      nan 12250000. 12250000. 12215000. 11410000. 10850000. 10150000.\n",
      " 10150000.  9870000.  9800000.  9800000.  9681000.  9310000.  9240000.\n",
      "  9240000.       nan       nan       nan  8890000.  8855000.  8750000.\n",
      "       nan       nan       nan       nan  8540000.  8463000.  8400000.\n",
      "  8400000.  8400000.  8400000.  8400000.  8295000.  8190000.  8120000.\n",
      "  8080940.  8043000.  7980000.  7962500.  7910000.  7875000.  7840000.\n",
      "  7700000.  7700000.  7560000.  7560000.  7525000.  7490000.  7455000.\n",
      "  7420000.  7420000.  7420000.  7350000.  7350000.  7350000.  7350000.\n",
      "  7343000.  7245000.  7210000.  7210000.  7140000.  7070000.  7070000.\n",
      "  7035000.  7000000.  6930000.  6930000.  6895000.  6860000.  6790000.\n",
      "  6790000.  6755000.       nan  6685000.  6650000.  6650000.  6650000.\n",
      "  6650000.  6650000.  6650000.  6629000.  6615000.  6615000.  6580000.\n",
      "  6510000.  6510000.  6510000.  6475000.  6475000.  6440000.  6440000.\n",
      "       nan  6405000.  6300000.  6300000.  6300000.  6300000.  6300000.\n",
      "  6293000.  6265000.  6230000.  6230000.  6195000.  6195000.  6195000.\n",
      "       nan  6160000.  6125000.  6107500.  6090000.  6090000.  6090000.\n",
      "  6083000.  6083000.  6020000.  6020000.  6020000.  5950000.  5950000.\n",
      "  5950000.  5950000.  5950000.  5950000.  5950000.  5950000.  5943000.\n",
      "  5880000.  5880000.  5873000.  5873000.  5866000.  5810000.  5810000.\n",
      "  5810000.  5803000.  5775000.  5740000.  5740000.  5740000.  5740000.\n",
      "  5740000.  5652500.  5600000.  5600000.  5600000.  5600000.  5600000.\n",
      "  5600000.  5600000.  5600000.  5600000.  5565000.  5565000.  5530000.\n",
      "  5530000.  5530000.  5523000.  5495000.  5495000.  5460000.  5460000.\n",
      "  5460000.  5460000.  5425000.  5390000.  5383000.  5320000.  5285000.\n",
      "  5250000.  5250000.  5250000.  5250000.  5250000.  5250000.  5250000.\n",
      "  5250000.  5250000.  5243000.  5229000.  5215000.  5215000.  5215000.\n",
      "  5145000.  5145000.  5110000.  5110000.       nan  5110000.  5075000.\n",
      "  5040000.  5040000.  5040000.  5040000.  5033000.  5005000.  4970000.\n",
      "  4970000.  4956000.  4935000.  4907000.  4900000.  4900000.  4900000.\n",
      "  4900000.  4900000.  4900000.  4900000.  4900000.  4900000.       nan\n",
      "  4900000.  4900000.  4893000.  4893000.  4865000.  4830000.  4830000.\n",
      "  4830000.  4830000.  4795000.  4795000.  4767000.  4760000.  4760000.\n",
      "  4760000.  4753000.  4690000.  4690000.  4690000.  4690000.  4690000.\n",
      "  4690000.  4655000.  4620000.  4620000.  4620000.  4620000.  4620000.\n",
      "  4613000.  4585000.  4585000.  4550000.  4550000.  4550000.  4550000.\n",
      "  4550000.  4550000.  4550000.  4543000.  4543000.  4515000.  4515000.\n",
      "  4515000.  4515000.  4480000.  4480000.  4480000.  4480000.  4480000.\n",
      "  4473000.  4473000.  4473000.  4445000.  4410000.  4410000.  4403000.\n",
      "  4403000.  4403000.  4382000.  4375000.  4340000.  4340000.  4340000.\n",
      "  4340000.  4340000.  4319000.  4305000.  4305000.  4277000.  4270000.\n",
      "  4270000.  4270000.  4270000.  4270000.  4270000.  4235000.  4235000.\n",
      "  4200000.  4200000.  4200000.  4200000.  4200000.  4200000.  4200000.\n",
      "  4200000.  4200000.  4200000.  4200000.  4200000.  4200000.  4200000.\n",
      "  4200000.  4200000.  4200000.  4193000.  4193000.  4165000.  4165000.\n",
      "  4165000.  4130000.  4130000.  4123000.  4098500.  4095000.  4095000.\n",
      "  4095000.  4060000.  4060000.  4060000.  4060000.  4060000.  4025000.\n",
      "  4025000.  4025000.  4007500.  4007500.  3990000.  3990000.  3990000.\n",
      "  3990000.  3990000.  3920000.  3920000.  3920000.  3920000.  3920000.\n",
      "  3920000.  3920000.  3885000.  3885000.  3850000.  3850000.  3850000.\n",
      "  3850000.  3850000.  3850000.  3850000.  3836000.  3815000.  3780000.\n",
      "  3780000.  3780000.  3780000.  3780000.  3780000.  3773000.  3773000.\n",
      "  3773000.  3745000.  3710000.  3710000.  3710000.  3710000.  3710000.\n",
      "  3703000.  3703000.  3675000.  3675000.  3675000.  3675000.  3640000.\n",
      "  3640000.  3640000.  3640000.  3640000.  3640000.  3640000.       nan\n",
      "  3640000.  3633000.  3605000.  3605000.  3570000.  3570000.  3570000.\n",
      "  3570000.  3535000.       nan  3500000.  3500000.  3500000.  3500000.\n",
      "  3500000.  3500000.  3500000.  3500000.  3500000.  3500000.  3500000.\n",
      "  3500000.  3500000.  3500000.  3500000.  3500000.  3493000.  3465000.\n",
      "  3465000.  3465000.  3430000.  3430000.  3430000.  3430000.  3430000.\n",
      "  3430000.  3423000.  3395000.  3395000.  3395000.  3360000.  3360000.\n",
      "  3360000.  3360000.  3360000.  3360000.  3360000.  3360000.  3353000.\n",
      "  3332000.  3325000.  3325000.  3290000.  3290000.  3290000.  3290000.\n",
      "  3290000.  3290000.  3290000.  3290000.  3255000.  3255000.  3234000.\n",
      "  3220000.  3220000.  3220000.  3220000.  3150000.  3150000.  3150000.\n",
      "  3150000.  3150000.  3150000.  3150000.  3150000.  3150000.  3143000.\n",
      "  3129000.  3118850.  3115000.  3115000.  3115000.  3087000.  3080000.\n",
      "  3080000.  3080000.  3080000.  3045000.  3010000.  3010000.  3010000.\n",
      "  3010000.  3010000.  3010000.  3010000.  3003000.  2975000.  2961000.\n",
      "  2940000.  2940000.  2940000.  2940000.  2940000.  2940000.  2940000.\n",
      "  2940000.  2870000.  2870000.  2870000.  2870000.  2852500.  2835000.\n",
      "  2835000.  2835000.  2800000.  2800000.  2730000.  2730000.  2695000.\n",
      "  2660000.  2660000.  2660000.  2660000.  2660000.  2660000.  2660000.\n",
      "  2653000.  2653000.  2604000.  2590000.  2590000.  2590000.  2520000.\n",
      "  2520000.  2520000.  2485000.  2485000.  2450000.  2450000.  2450000.\n",
      "  2450000.  2450000.  2450000.  2408000.  2380000.  2380000.  2380000.\n",
      "  2345000.  2310000.  2275000.  2275000.  2275000.  2240000.  2233000.\n",
      "  2135000.  2100000.  2100000.  2100000.  1960000.  1890000.  1890000.\n",
      "  1855000.  1820000.  1767150.  1750000.  1750000.  1750000.]\n"
     ]
    }
   ],
   "source": [
    "print(y)"
   ]
  },
  {
   "cell_type": "markdown",
   "id": "2e05c54b-12b4-447a-8564-120a6c2ed05a",
   "metadata": {},
   "source": [
    "### handling missing data"
   ]
  },
  {
   "cell_type": "code",
   "execution_count": 54,
   "id": "b1a7d99e-6ecf-4890-a6ea-d6fbe659ce42",
   "metadata": {},
   "outputs": [
    {
     "name": "stdout",
     "output_type": "stream",
     "text": [
      "Index(['furnishingstatus', 'area', 'bedrooms', 'bathrooms', 'stories',\n",
      "       'mainroad', 'guestroom', 'basement', 'hotwaterheating',\n",
      "       'airconditioning', 'parking', 'prefarea', 'price'],\n",
      "      dtype='object')\n"
     ]
    }
   ],
   "source": [
    "print(data.columns)"
   ]
  },
  {
   "cell_type": "code",
   "execution_count": null,
   "id": "e67d8fb9-e896-4cbe-96ef-c0858d49eaeb",
   "metadata": {},
   "outputs": [],
   "source": [
    "from sklearn.impute import SimpleImputer\n",
    "from sklearn.preprocessing import LabelEncoder, OneHotEncoder\n",
    "from sklearn.compose import ColumnTransformer\n",
    "\n",
    "# Encode binary \"yes\"/\"no\" columns (e.g., 0 for 'no', 1 for 'yes')\n",
    "yes_no_cols = ['prefarea', 'airconditioning', 'hotwaterheating', 'basement', 'guestroom', 'mainroad']\n",
    "for col in yes_no_cols:\n",
    "    if col in data.columns:\n",
    "        data[col] = LabelEncoder().fit_transform(data[col])\n",
    "\n",
    "# Encode multi-category columns like \"furnishingstatus\" with OneHotEncoder\n",
    "ct = ColumnTransformer(transformers=[('encoder', OneHotEncoder(), ['furnishingstatus'])], remainder='passthrough')\n",
    "data = pd.DataFrame(ct.fit_transform(data), columns=ct.get_feature_names_out())\n"
   ]
  },
  {
   "cell_type": "code",
   "execution_count": 9,
   "id": "c81beb26-f758-4e09-b47c-954bb4b2f1a8",
   "metadata": {
    "editable": true,
    "slideshow": {
     "slide_type": ""
    },
    "tags": []
   },
   "outputs": [
    {
     "ename": "ValueError",
     "evalue": "at least one array or dtype is required",
     "output_type": "error",
     "traceback": [
      "\u001b[1;31m---------------------------------------------------------------------------\u001b[0m",
      "\u001b[1;31mValueError\u001b[0m                                Traceback (most recent call last)",
      "Cell \u001b[1;32mIn[9], line 12\u001b[0m\n\u001b[0;32m     10\u001b[0m \u001b[38;5;66;03m# Impute categorical columns with the most frequent value\u001b[39;00m\n\u001b[0;32m     11\u001b[0m imputer_categorical \u001b[38;5;241m=\u001b[39m SimpleImputer(strategy\u001b[38;5;241m=\u001b[39m\u001b[38;5;124m'\u001b[39m\u001b[38;5;124mmost_frequent\u001b[39m\u001b[38;5;124m'\u001b[39m)\n\u001b[1;32m---> 12\u001b[0m data[categorical_cols] \u001b[38;5;241m=\u001b[39m \u001b[43mimputer_categorical\u001b[49m\u001b[38;5;241;43m.\u001b[39;49m\u001b[43mfit_transform\u001b[49m\u001b[43m(\u001b[49m\u001b[43mdata\u001b[49m\u001b[43m[\u001b[49m\u001b[43mcategorical_cols\u001b[49m\u001b[43m]\u001b[49m\u001b[43m)\u001b[49m\n",
      "File \u001b[1;32m~\\AppData\\Local\\Programs\\Python\\Python312\\Lib\\site-packages\\sklearn\\utils\\_set_output.py:313\u001b[0m, in \u001b[0;36m_wrap_method_output.<locals>.wrapped\u001b[1;34m(self, X, *args, **kwargs)\u001b[0m\n\u001b[0;32m    311\u001b[0m \u001b[38;5;129m@wraps\u001b[39m(f)\n\u001b[0;32m    312\u001b[0m \u001b[38;5;28;01mdef\u001b[39;00m \u001b[38;5;21mwrapped\u001b[39m(\u001b[38;5;28mself\u001b[39m, X, \u001b[38;5;241m*\u001b[39margs, \u001b[38;5;241m*\u001b[39m\u001b[38;5;241m*\u001b[39mkwargs):\n\u001b[1;32m--> 313\u001b[0m     data_to_wrap \u001b[38;5;241m=\u001b[39m \u001b[43mf\u001b[49m\u001b[43m(\u001b[49m\u001b[38;5;28;43mself\u001b[39;49m\u001b[43m,\u001b[49m\u001b[43m \u001b[49m\u001b[43mX\u001b[49m\u001b[43m,\u001b[49m\u001b[43m \u001b[49m\u001b[38;5;241;43m*\u001b[39;49m\u001b[43margs\u001b[49m\u001b[43m,\u001b[49m\u001b[43m \u001b[49m\u001b[38;5;241;43m*\u001b[39;49m\u001b[38;5;241;43m*\u001b[39;49m\u001b[43mkwargs\u001b[49m\u001b[43m)\u001b[49m\n\u001b[0;32m    314\u001b[0m     \u001b[38;5;28;01mif\u001b[39;00m \u001b[38;5;28misinstance\u001b[39m(data_to_wrap, \u001b[38;5;28mtuple\u001b[39m):\n\u001b[0;32m    315\u001b[0m         \u001b[38;5;66;03m# only wrap the first output for cross decomposition\u001b[39;00m\n\u001b[0;32m    316\u001b[0m         return_tuple \u001b[38;5;241m=\u001b[39m (\n\u001b[0;32m    317\u001b[0m             _wrap_data_with_container(method, data_to_wrap[\u001b[38;5;241m0\u001b[39m], X, \u001b[38;5;28mself\u001b[39m),\n\u001b[0;32m    318\u001b[0m             \u001b[38;5;241m*\u001b[39mdata_to_wrap[\u001b[38;5;241m1\u001b[39m:],\n\u001b[0;32m    319\u001b[0m         )\n",
      "File \u001b[1;32m~\\AppData\\Local\\Programs\\Python\\Python312\\Lib\\site-packages\\sklearn\\base.py:1098\u001b[0m, in \u001b[0;36mTransformerMixin.fit_transform\u001b[1;34m(self, X, y, **fit_params)\u001b[0m\n\u001b[0;32m   1083\u001b[0m         warnings\u001b[38;5;241m.\u001b[39mwarn(\n\u001b[0;32m   1084\u001b[0m             (\n\u001b[0;32m   1085\u001b[0m                 \u001b[38;5;124mf\u001b[39m\u001b[38;5;124m\"\u001b[39m\u001b[38;5;124mThis object (\u001b[39m\u001b[38;5;132;01m{\u001b[39;00m\u001b[38;5;28mself\u001b[39m\u001b[38;5;241m.\u001b[39m\u001b[38;5;18m__class__\u001b[39m\u001b[38;5;241m.\u001b[39m\u001b[38;5;18m__name__\u001b[39m\u001b[38;5;132;01m}\u001b[39;00m\u001b[38;5;124m) has a `transform`\u001b[39m\u001b[38;5;124m\"\u001b[39m\n\u001b[1;32m   (...)\u001b[0m\n\u001b[0;32m   1093\u001b[0m             \u001b[38;5;167;01mUserWarning\u001b[39;00m,\n\u001b[0;32m   1094\u001b[0m         )\n\u001b[0;32m   1096\u001b[0m \u001b[38;5;28;01mif\u001b[39;00m y \u001b[38;5;129;01mis\u001b[39;00m \u001b[38;5;28;01mNone\u001b[39;00m:\n\u001b[0;32m   1097\u001b[0m     \u001b[38;5;66;03m# fit method of arity 1 (unsupervised transformation)\u001b[39;00m\n\u001b[1;32m-> 1098\u001b[0m     \u001b[38;5;28;01mreturn\u001b[39;00m \u001b[38;5;28;43mself\u001b[39;49m\u001b[38;5;241;43m.\u001b[39;49m\u001b[43mfit\u001b[49m\u001b[43m(\u001b[49m\u001b[43mX\u001b[49m\u001b[43m,\u001b[49m\u001b[43m \u001b[49m\u001b[38;5;241;43m*\u001b[39;49m\u001b[38;5;241;43m*\u001b[39;49m\u001b[43mfit_params\u001b[49m\u001b[43m)\u001b[49m\u001b[38;5;241m.\u001b[39mtransform(X)\n\u001b[0;32m   1099\u001b[0m \u001b[38;5;28;01melse\u001b[39;00m:\n\u001b[0;32m   1100\u001b[0m     \u001b[38;5;66;03m# fit method of arity 2 (supervised transformation)\u001b[39;00m\n\u001b[0;32m   1101\u001b[0m     \u001b[38;5;28;01mreturn\u001b[39;00m \u001b[38;5;28mself\u001b[39m\u001b[38;5;241m.\u001b[39mfit(X, y, \u001b[38;5;241m*\u001b[39m\u001b[38;5;241m*\u001b[39mfit_params)\u001b[38;5;241m.\u001b[39mtransform(X)\n",
      "File \u001b[1;32m~\\AppData\\Local\\Programs\\Python\\Python312\\Lib\\site-packages\\sklearn\\base.py:1473\u001b[0m, in \u001b[0;36m_fit_context.<locals>.decorator.<locals>.wrapper\u001b[1;34m(estimator, *args, **kwargs)\u001b[0m\n\u001b[0;32m   1466\u001b[0m     estimator\u001b[38;5;241m.\u001b[39m_validate_params()\n\u001b[0;32m   1468\u001b[0m \u001b[38;5;28;01mwith\u001b[39;00m config_context(\n\u001b[0;32m   1469\u001b[0m     skip_parameter_validation\u001b[38;5;241m=\u001b[39m(\n\u001b[0;32m   1470\u001b[0m         prefer_skip_nested_validation \u001b[38;5;129;01mor\u001b[39;00m global_skip_validation\n\u001b[0;32m   1471\u001b[0m     )\n\u001b[0;32m   1472\u001b[0m ):\n\u001b[1;32m-> 1473\u001b[0m     \u001b[38;5;28;01mreturn\u001b[39;00m \u001b[43mfit_method\u001b[49m\u001b[43m(\u001b[49m\u001b[43mestimator\u001b[49m\u001b[43m,\u001b[49m\u001b[43m \u001b[49m\u001b[38;5;241;43m*\u001b[39;49m\u001b[43margs\u001b[49m\u001b[43m,\u001b[49m\u001b[43m \u001b[49m\u001b[38;5;241;43m*\u001b[39;49m\u001b[38;5;241;43m*\u001b[39;49m\u001b[43mkwargs\u001b[49m\u001b[43m)\u001b[49m\n",
      "File \u001b[1;32m~\\AppData\\Local\\Programs\\Python\\Python312\\Lib\\site-packages\\sklearn\\impute\\_base.py:421\u001b[0m, in \u001b[0;36mSimpleImputer.fit\u001b[1;34m(self, X, y)\u001b[0m\n\u001b[0;32m    403\u001b[0m \u001b[38;5;129m@_fit_context\u001b[39m(prefer_skip_nested_validation\u001b[38;5;241m=\u001b[39m\u001b[38;5;28;01mTrue\u001b[39;00m)\n\u001b[0;32m    404\u001b[0m \u001b[38;5;28;01mdef\u001b[39;00m \u001b[38;5;21mfit\u001b[39m(\u001b[38;5;28mself\u001b[39m, X, y\u001b[38;5;241m=\u001b[39m\u001b[38;5;28;01mNone\u001b[39;00m):\n\u001b[0;32m    405\u001b[0m \u001b[38;5;250m    \u001b[39m\u001b[38;5;124;03m\"\"\"Fit the imputer on `X`.\u001b[39;00m\n\u001b[0;32m    406\u001b[0m \n\u001b[0;32m    407\u001b[0m \u001b[38;5;124;03m    Parameters\u001b[39;00m\n\u001b[1;32m   (...)\u001b[0m\n\u001b[0;32m    419\u001b[0m \u001b[38;5;124;03m        Fitted estimator.\u001b[39;00m\n\u001b[0;32m    420\u001b[0m \u001b[38;5;124;03m    \"\"\"\u001b[39;00m\n\u001b[1;32m--> 421\u001b[0m     X \u001b[38;5;241m=\u001b[39m \u001b[38;5;28;43mself\u001b[39;49m\u001b[38;5;241;43m.\u001b[39;49m\u001b[43m_validate_input\u001b[49m\u001b[43m(\u001b[49m\u001b[43mX\u001b[49m\u001b[43m,\u001b[49m\u001b[43m \u001b[49m\u001b[43min_fit\u001b[49m\u001b[38;5;241;43m=\u001b[39;49m\u001b[38;5;28;43;01mTrue\u001b[39;49;00m\u001b[43m)\u001b[49m\n\u001b[0;32m    423\u001b[0m     \u001b[38;5;66;03m# default fill_value is 0 for numerical input and \"missing_value\"\u001b[39;00m\n\u001b[0;32m    424\u001b[0m     \u001b[38;5;66;03m# otherwise\u001b[39;00m\n\u001b[0;32m    425\u001b[0m     \u001b[38;5;28;01mif\u001b[39;00m \u001b[38;5;28mself\u001b[39m\u001b[38;5;241m.\u001b[39mfill_value \u001b[38;5;129;01mis\u001b[39;00m \u001b[38;5;28;01mNone\u001b[39;00m:\n",
      "File \u001b[1;32m~\\AppData\\Local\\Programs\\Python\\Python312\\Lib\\site-packages\\sklearn\\impute\\_base.py:350\u001b[0m, in \u001b[0;36mSimpleImputer._validate_input\u001b[1;34m(self, X, in_fit)\u001b[0m\n\u001b[0;32m    348\u001b[0m         \u001b[38;5;28;01mraise\u001b[39;00m new_ve \u001b[38;5;28;01mfrom\u001b[39;00m \u001b[38;5;28;01mNone\u001b[39;00m\n\u001b[0;32m    349\u001b[0m     \u001b[38;5;28;01melse\u001b[39;00m:\n\u001b[1;32m--> 350\u001b[0m         \u001b[38;5;28;01mraise\u001b[39;00m ve\n\u001b[0;32m    352\u001b[0m \u001b[38;5;28;01mif\u001b[39;00m in_fit:\n\u001b[0;32m    353\u001b[0m     \u001b[38;5;66;03m# Use the dtype seen in `fit` for non-`fit` conversion\u001b[39;00m\n\u001b[0;32m    354\u001b[0m     \u001b[38;5;28mself\u001b[39m\u001b[38;5;241m.\u001b[39m_fit_dtype \u001b[38;5;241m=\u001b[39m X\u001b[38;5;241m.\u001b[39mdtype\n",
      "File \u001b[1;32m~\\AppData\\Local\\Programs\\Python\\Python312\\Lib\\site-packages\\sklearn\\impute\\_base.py:332\u001b[0m, in \u001b[0;36mSimpleImputer._validate_input\u001b[1;34m(self, X, in_fit)\u001b[0m\n\u001b[0;32m    329\u001b[0m     force_all_finite \u001b[38;5;241m=\u001b[39m \u001b[38;5;28;01mTrue\u001b[39;00m\n\u001b[0;32m    331\u001b[0m \u001b[38;5;28;01mtry\u001b[39;00m:\n\u001b[1;32m--> 332\u001b[0m     X \u001b[38;5;241m=\u001b[39m \u001b[38;5;28;43mself\u001b[39;49m\u001b[38;5;241;43m.\u001b[39;49m\u001b[43m_validate_data\u001b[49m\u001b[43m(\u001b[49m\n\u001b[0;32m    333\u001b[0m \u001b[43m        \u001b[49m\u001b[43mX\u001b[49m\u001b[43m,\u001b[49m\n\u001b[0;32m    334\u001b[0m \u001b[43m        \u001b[49m\u001b[43mreset\u001b[49m\u001b[38;5;241;43m=\u001b[39;49m\u001b[43min_fit\u001b[49m\u001b[43m,\u001b[49m\n\u001b[0;32m    335\u001b[0m \u001b[43m        \u001b[49m\u001b[43maccept_sparse\u001b[49m\u001b[38;5;241;43m=\u001b[39;49m\u001b[38;5;124;43m\"\u001b[39;49m\u001b[38;5;124;43mcsc\u001b[39;49m\u001b[38;5;124;43m\"\u001b[39;49m\u001b[43m,\u001b[49m\n\u001b[0;32m    336\u001b[0m \u001b[43m        \u001b[49m\u001b[43mdtype\u001b[49m\u001b[38;5;241;43m=\u001b[39;49m\u001b[43mdtype\u001b[49m\u001b[43m,\u001b[49m\n\u001b[0;32m    337\u001b[0m \u001b[43m        \u001b[49m\u001b[43mforce_writeable\u001b[49m\u001b[38;5;241;43m=\u001b[39;49m\u001b[38;5;28;43;01mTrue\u001b[39;49;00m\u001b[43m \u001b[49m\u001b[38;5;28;43;01mif\u001b[39;49;00m\u001b[43m \u001b[49m\u001b[38;5;129;43;01mnot\u001b[39;49;00m\u001b[43m \u001b[49m\u001b[43min_fit\u001b[49m\u001b[43m \u001b[49m\u001b[38;5;28;43;01melse\u001b[39;49;00m\u001b[43m \u001b[49m\u001b[38;5;28;43;01mNone\u001b[39;49;00m\u001b[43m,\u001b[49m\n\u001b[0;32m    338\u001b[0m \u001b[43m        \u001b[49m\u001b[43mforce_all_finite\u001b[49m\u001b[38;5;241;43m=\u001b[39;49m\u001b[43mforce_all_finite\u001b[49m\u001b[43m,\u001b[49m\n\u001b[0;32m    339\u001b[0m \u001b[43m        \u001b[49m\u001b[43mcopy\u001b[49m\u001b[38;5;241;43m=\u001b[39;49m\u001b[38;5;28;43mself\u001b[39;49m\u001b[38;5;241;43m.\u001b[39;49m\u001b[43mcopy\u001b[49m\u001b[43m,\u001b[49m\n\u001b[0;32m    340\u001b[0m \u001b[43m    \u001b[49m\u001b[43m)\u001b[49m\n\u001b[0;32m    341\u001b[0m \u001b[38;5;28;01mexcept\u001b[39;00m \u001b[38;5;167;01mValueError\u001b[39;00m \u001b[38;5;28;01mas\u001b[39;00m ve:\n\u001b[0;32m    342\u001b[0m     \u001b[38;5;28;01mif\u001b[39;00m \u001b[38;5;124m\"\u001b[39m\u001b[38;5;124mcould not convert\u001b[39m\u001b[38;5;124m\"\u001b[39m \u001b[38;5;129;01min\u001b[39;00m \u001b[38;5;28mstr\u001b[39m(ve):\n",
      "File \u001b[1;32m~\\AppData\\Local\\Programs\\Python\\Python312\\Lib\\site-packages\\sklearn\\base.py:633\u001b[0m, in \u001b[0;36mBaseEstimator._validate_data\u001b[1;34m(self, X, y, reset, validate_separately, cast_to_ndarray, **check_params)\u001b[0m\n\u001b[0;32m    631\u001b[0m         out \u001b[38;5;241m=\u001b[39m X, y\n\u001b[0;32m    632\u001b[0m \u001b[38;5;28;01melif\u001b[39;00m \u001b[38;5;129;01mnot\u001b[39;00m no_val_X \u001b[38;5;129;01mand\u001b[39;00m no_val_y:\n\u001b[1;32m--> 633\u001b[0m     out \u001b[38;5;241m=\u001b[39m \u001b[43mcheck_array\u001b[49m\u001b[43m(\u001b[49m\u001b[43mX\u001b[49m\u001b[43m,\u001b[49m\u001b[43m \u001b[49m\u001b[43minput_name\u001b[49m\u001b[38;5;241;43m=\u001b[39;49m\u001b[38;5;124;43m\"\u001b[39;49m\u001b[38;5;124;43mX\u001b[39;49m\u001b[38;5;124;43m\"\u001b[39;49m\u001b[43m,\u001b[49m\u001b[43m \u001b[49m\u001b[38;5;241;43m*\u001b[39;49m\u001b[38;5;241;43m*\u001b[39;49m\u001b[43mcheck_params\u001b[49m\u001b[43m)\u001b[49m\n\u001b[0;32m    634\u001b[0m \u001b[38;5;28;01melif\u001b[39;00m no_val_X \u001b[38;5;129;01mand\u001b[39;00m \u001b[38;5;129;01mnot\u001b[39;00m no_val_y:\n\u001b[0;32m    635\u001b[0m     out \u001b[38;5;241m=\u001b[39m _check_y(y, \u001b[38;5;241m*\u001b[39m\u001b[38;5;241m*\u001b[39mcheck_params)\n",
      "File \u001b[1;32m~\\AppData\\Local\\Programs\\Python\\Python312\\Lib\\site-packages\\sklearn\\utils\\validation.py:887\u001b[0m, in \u001b[0;36mcheck_array\u001b[1;34m(array, accept_sparse, accept_large_sparse, dtype, order, copy, force_writeable, force_all_finite, ensure_2d, allow_nd, ensure_min_samples, ensure_min_features, estimator, input_name)\u001b[0m\n\u001b[0;32m    883\u001b[0m pandas_requires_conversion \u001b[38;5;241m=\u001b[39m \u001b[38;5;28many\u001b[39m(\n\u001b[0;32m    884\u001b[0m     _pandas_dtype_needs_early_conversion(i) \u001b[38;5;28;01mfor\u001b[39;00m i \u001b[38;5;129;01min\u001b[39;00m dtypes_orig\n\u001b[0;32m    885\u001b[0m )\n\u001b[0;32m    886\u001b[0m \u001b[38;5;28;01mif\u001b[39;00m \u001b[38;5;28mall\u001b[39m(\u001b[38;5;28misinstance\u001b[39m(dtype_iter, np\u001b[38;5;241m.\u001b[39mdtype) \u001b[38;5;28;01mfor\u001b[39;00m dtype_iter \u001b[38;5;129;01min\u001b[39;00m dtypes_orig):\n\u001b[1;32m--> 887\u001b[0m     dtype_orig \u001b[38;5;241m=\u001b[39m \u001b[43mnp\u001b[49m\u001b[38;5;241;43m.\u001b[39;49m\u001b[43mresult_type\u001b[49m\u001b[43m(\u001b[49m\u001b[38;5;241;43m*\u001b[39;49m\u001b[43mdtypes_orig\u001b[49m\u001b[43m)\u001b[49m\n\u001b[0;32m    888\u001b[0m \u001b[38;5;28;01melif\u001b[39;00m pandas_requires_conversion \u001b[38;5;129;01mand\u001b[39;00m \u001b[38;5;28many\u001b[39m(d \u001b[38;5;241m==\u001b[39m \u001b[38;5;28mobject\u001b[39m \u001b[38;5;28;01mfor\u001b[39;00m d \u001b[38;5;129;01min\u001b[39;00m dtypes_orig):\n\u001b[0;32m    889\u001b[0m     \u001b[38;5;66;03m# Force object if any of the dtypes is an object\u001b[39;00m\n\u001b[0;32m    890\u001b[0m     dtype_orig \u001b[38;5;241m=\u001b[39m \u001b[38;5;28mobject\u001b[39m\n",
      "\u001b[1;31mValueError\u001b[0m: at least one array or dtype is required"
     ]
    }
   ],
   "source": [
    "# Impute missing values\n",
    "# Use \"mean\" for numeric columns, \"most frequent\" for categorical columns\n",
    "numeric_cols = data.select_dtypes(include=[np.number]).columns\n",
    "categorical_cols = data.select_dtypes(exclude=[np.number]).columns\n",
    "\n",
    "# Impute numeric columns with mean\n",
    "imputer_numeric = SimpleImputer(strategy='mean')\n",
    "data[numeric_cols] = imputer_numeric.fit_transform(data[numeric_cols])\n",
    "\n",
    "# Impute categorical columns with the most frequent value\n",
    "imputer_categorical = SimpleImputer(strategy='most_frequent')\n",
    "data[categorical_cols] = imputer_categorical.fit_transform(data[categorical_cols])\n"
   ]
  },
  {
   "cell_type": "code",
   "execution_count": 23,
   "id": "166474c7-b735-45ed-8dd7-ab4b356da0ff",
   "metadata": {
    "editable": true,
    "slideshow": {
     "slide_type": ""
    },
    "tags": []
   },
   "outputs": [
    {
     "name": "stdout",
     "output_type": "stream",
     "text": [
      "<class 'pandas.core.frame.DataFrame'>\n",
      "Index: 447 entries, 2 to 544\n",
      "Data columns (total 13 columns):\n",
      " #   Column            Non-Null Count  Dtype  \n",
      "---  ------            --------------  -----  \n",
      " 0   furnishingstatus  447 non-null    object \n",
      " 1   area              447 non-null    float64\n",
      " 2   bedrooms          447 non-null    float64\n",
      " 3   bathrooms         447 non-null    float64\n",
      " 4   stories           447 non-null    float64\n",
      " 5   mainroad          447 non-null    object \n",
      " 6   guestroom         447 non-null    object \n",
      " 7   basement          447 non-null    object \n",
      " 8   hotwaterheating   447 non-null    object \n",
      " 9   airconditioning   447 non-null    object \n",
      " 10  parking           447 non-null    float64\n",
      " 11  prefarea          447 non-null    object \n",
      " 12  price             447 non-null    float64\n",
      "dtypes: float64(6), object(7)\n",
      "memory usage: 48.9+ KB\n",
      "None\n",
      "  furnishingstatus    area  bedrooms  bathrooms  stories mainroad guestroom  \\\n",
      "2   semi-furnished  9960.0       3.0        2.0      2.0      yes        no   \n",
      "4        furnished  7420.0       4.0        1.0      2.0      yes       yes   \n",
      "5   semi-furnished  7500.0       3.0        3.0      1.0      yes        no   \n",
      "6   semi-furnished  8580.0       4.0        3.0      4.0      yes        no   \n",
      "8        furnished  8100.0       4.0        1.0      2.0      yes       yes   \n",
      "\n",
      "  basement hotwaterheating airconditioning  parking prefarea       price  \n",
      "2      yes              no              no      2.0      yes  12250000.0  \n",
      "4      yes              no             yes      2.0       no  11410000.0  \n",
      "5      yes              no             yes      2.0      yes  10850000.0  \n",
      "6       no              no             yes      2.0      yes  10150000.0  \n",
      "8      yes              no             yes      2.0      yes   9870000.0  \n"
     ]
    }
   ],
   "source": [
    "# Verify imputed data\n",
    "print(data.info())  # Should show no missing values\n",
    "print(data.head())"
   ]
  },
  {
   "cell_type": "code",
   "execution_count": null,
   "id": "69774d4d-d1c0-4a51-a7fc-88e7b33ebb41",
   "metadata": {},
   "outputs": [],
   "source": [
    "# Handle missing values (if any)\n",
    "imputer = SimpleImputer(strategy='mean')\n",
    "data.iloc[:, 1:] = imputer.fit_transform(data.iloc[:, 1:])"
   ]
  },
  {
   "cell_type": "code",
   "execution_count": null,
   "id": "86d28442-56b3-4b6d-a9c2-762d9b9bbf71",
   "metadata": {},
   "outputs": [],
   "source": []
  },
  {
   "cell_type": "code",
   "execution_count": null,
   "id": "16916914-5e8b-4ddf-b58d-f71491aee98d",
   "metadata": {},
   "outputs": [],
   "source": [
    "from sklearn.model_selection import train_test_split\n",
    "\n",
    "X_train, X_test, y_train, y_test = train_test_split(X, y, test_size=1/3, random_state=0)\n",
    "\n"
   ]
  },
  {
   "cell_type": "code",
   "execution_count": null,
   "id": "88e970bf-4634-42e2-9735-0b1e724bdb22",
   "metadata": {},
   "outputs": [],
   "source": [
    "print(X_train)"
   ]
  },
  {
   "cell_type": "code",
   "execution_count": null,
   "id": "b6e429df-59ed-4a07-a71e-7f62ea4729e2",
   "metadata": {},
   "outputs": [],
   "source": [
    "print(X_test)"
   ]
  },
  {
   "cell_type": "code",
   "execution_count": 20,
   "id": "3d0cb2aa-0944-4be9-88d1-04b408c687ab",
   "metadata": {},
   "outputs": [
    {
     "data": {
      "text/plain": [
       "Text(0, 0.5, 'Price')"
      ]
     },
     "execution_count": 20,
     "metadata": {},
     "output_type": "execute_result"
    },
    {
     "data": {
      "image/png": "[encoded data removed]",
      "text/plain": [
       "<Figure size 640x480 with 1 Axes>"
      ]
     },
     "metadata": {},
     "output_type": "display_data"
    }
   ],
   "source": [
    "# df = pd.Dataframe(data)\n",
    "plt.scatter(data['area'], data['price'])\n",
    "plt.xlabel(\"Area\")\n",
    "plt.ylabel(\"Price\")"
   ]
  },
  {
   "cell_type": "code",
   "execution_count": null,
   "id": "47d9b491-30b1-486d-812f-9d4caf5647d2",
   "metadata": {
    "editable": true,
    "slideshow": {
     "slide_type": ""
    },
    "tags": []
   },
   "outputs": [],
   "source": [
    "from sklearn.metrics import mean_squared_error, r2_score\n",
    "import matplotlib.pyplot as plt\n",
    "\n",
    "# Predictions\n",
    "y_pred = regressor.predict(X_test)\n",
    "\n",
    "# Evaluation\n",
    "mse = mean_squared_error(y_test, y_pred)\n",
    "r2 = r2_score(y_test, y_pred)\n",
    "\n",
    "print(\"Mean Squared Error:\", mse)\n",
    "print(\"R² Score:\", r2)\n",
    "\n",
    "# Visualization of actual vs. predicted values\n",
    "plt.scatter(y_test, y_pred, color='blue')\n",
    "plt.plot([y_test.min(), y_test.max()], [y_test.min(), y_test.max()], color='red', linestyle='--')\n",
    "plt.title('Actual vs. Predicted Values')\n",
    "plt.xlabel('Actual Target Value')\n",
    "plt.ylabel('Predicted Target Value')\n",
    "plt.show()\n"
   ]
  }
 ],
 "metadata": {
  "kernelspec": {
   "display_name": "Python 3 (ipykernel)",
   "language": "python",
   "name": "python3"
  },
  "language_info": {
   "codemirror_mode": {
    "name": "ipython",
    "version": 3
   },
   "file_extension": ".py",
   "mimetype": "text/x-python",
   "name": "python",
   "nbconvert_exporter": "python",
   "pygments_lexer": "ipython3",
   "version": "3.12.6"
  }
 },
 "nbformat": 4,
 "nbformat_minor": 5
}
