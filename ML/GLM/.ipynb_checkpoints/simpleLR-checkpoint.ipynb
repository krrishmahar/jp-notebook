{
 "cells": [
  {
   "cell_type": "markdown",
   "id": "289ed84a-5fcc-4703-9c30-ce0b65288647",
   "metadata": {},
   "source": [
    "# Simple GLM Template"
   ]
  },
  {
   "cell_type": "markdown",
   "id": "9765eb15-78d7-4553-8aa2-04d3145f66f7",
   "metadata": {},
   "source": [
    "## Data Preprocessing"
   ]
  },
  {
   "cell_type": "markdown",
   "id": "5fcec8ba-9b59-484c-883b-f00a2789afc7",
   "metadata": {},
   "source": [
    "### Importing necessary libraries"
   ]
  },
  {
   "cell_type": "code",
   "execution_count": 54,
   "id": "818095fa-a4ef-43d2-b689-ee80fbd3a179",
   "metadata": {},
   "outputs": [],
   "source": [
    "import pandas as pd\n",
    "import numpy as np\n",
    "import matplotlib.pyplot as plt\n",
    "import seaborn as sns\n",
    "%matplotlib inline"
   ]
  },
  {
   "cell_type": "markdown",
   "id": "004e2c12-bce0-4e11-be84-1d79b96d3200",
   "metadata": {},
   "source": [
    "### Importing and viewing the dataseet"
   ]
  },
  {
   "cell_type": "code",
   "execution_count": 55,
   "id": "5e484105-78b2-4e4d-9965-7e4a02425a3a",
   "metadata": {},
   "outputs": [
    {
     "data": {
      "text/html": [
       "<div>\n",
       "<style scoped>\n",
       "    .dataframe tbody tr th:only-of-type {\n",
       "        vertical-align: middle;\n",
       "    }\n",
       "\n",
       "    .dataframe tbody tr th {\n",
       "        vertical-align: top;\n",
       "    }\n",
       "\n",
       "    .dataframe thead th {\n",
       "        text-align: right;\n",
       "    }\n",
       "</style>\n",
       "<table border=\"1\" class=\"dataframe\">\n",
       "  <thead>\n",
       "    <tr style=\"text-align: right;\">\n",
       "      <th></th>\n",
       "      <th>furnishingstatus</th>\n",
       "      <th>area</th>\n",
       "      <th>bedrooms</th>\n",
       "      <th>bathrooms</th>\n",
       "      <th>stories</th>\n",
       "      <th>parking</th>\n",
       "      <th>guestroom</th>\n",
       "      <th>basement</th>\n",
       "      <th>hotwaterheating</th>\n",
       "      <th>airconditioning</th>\n",
       "      <th>mainroad</th>\n",
       "      <th>prefarea</th>\n",
       "      <th>price</th>\n",
       "    </tr>\n",
       "  </thead>\n",
       "  <tbody>\n",
       "    <tr>\n",
       "      <th>0</th>\n",
       "      <td>furnished</td>\n",
       "      <td>7420.0</td>\n",
       "      <td>4.0</td>\n",
       "      <td>2.0</td>\n",
       "      <td>3.0</td>\n",
       "      <td>2.0</td>\n",
       "      <td>no</td>\n",
       "      <td>no</td>\n",
       "      <td>no</td>\n",
       "      <td>yes</td>\n",
       "      <td>yes</td>\n",
       "      <td>yes</td>\n",
       "      <td>NaN</td>\n",
       "    </tr>\n",
       "    <tr>\n",
       "      <th>1</th>\n",
       "      <td>furnished</td>\n",
       "      <td>NaN</td>\n",
       "      <td>4.0</td>\n",
       "      <td>4.0</td>\n",
       "      <td>4.0</td>\n",
       "      <td>3.0</td>\n",
       "      <td>no</td>\n",
       "      <td>no</td>\n",
       "      <td>no</td>\n",
       "      <td>yes</td>\n",
       "      <td>yes</td>\n",
       "      <td>no</td>\n",
       "      <td>12250000.0</td>\n",
       "    </tr>\n",
       "    <tr>\n",
       "      <th>2</th>\n",
       "      <td>semi-furnished</td>\n",
       "      <td>9960.0</td>\n",
       "      <td>3.0</td>\n",
       "      <td>2.0</td>\n",
       "      <td>2.0</td>\n",
       "      <td>2.0</td>\n",
       "      <td>no</td>\n",
       "      <td>yes</td>\n",
       "      <td>no</td>\n",
       "      <td>no</td>\n",
       "      <td>yes</td>\n",
       "      <td>yes</td>\n",
       "      <td>12250000.0</td>\n",
       "    </tr>\n",
       "    <tr>\n",
       "      <th>3</th>\n",
       "      <td>furnished</td>\n",
       "      <td>7500.0</td>\n",
       "      <td>4.0</td>\n",
       "      <td>2.0</td>\n",
       "      <td>2.0</td>\n",
       "      <td>3.0</td>\n",
       "      <td>no</td>\n",
       "      <td>NaN</td>\n",
       "      <td>no</td>\n",
       "      <td>yes</td>\n",
       "      <td>yes</td>\n",
       "      <td>yes</td>\n",
       "      <td>12215000.0</td>\n",
       "    </tr>\n",
       "    <tr>\n",
       "      <th>4</th>\n",
       "      <td>furnished</td>\n",
       "      <td>7420.0</td>\n",
       "      <td>4.0</td>\n",
       "      <td>1.0</td>\n",
       "      <td>2.0</td>\n",
       "      <td>2.0</td>\n",
       "      <td>yes</td>\n",
       "      <td>yes</td>\n",
       "      <td>no</td>\n",
       "      <td>yes</td>\n",
       "      <td>yes</td>\n",
       "      <td>no</td>\n",
       "      <td>11410000.0</td>\n",
       "    </tr>\n",
       "  </tbody>\n",
       "</table>\n",
       "</div>"
      ],
      "text/plain": [
       "  furnishingstatus    area  bedrooms  bathrooms  stories  parking guestroom  \\\n",
       "0        furnished  7420.0       4.0        2.0      3.0      2.0        no   \n",
       "1        furnished     NaN       4.0        4.0      4.0      3.0        no   \n",
       "2   semi-furnished  9960.0       3.0        2.0      2.0      2.0        no   \n",
       "3        furnished  7500.0       4.0        2.0      2.0      3.0        no   \n",
       "4        furnished  7420.0       4.0        1.0      2.0      2.0       yes   \n",
       "\n",
       "  basement hotwaterheating airconditioning mainroad prefarea       price  \n",
       "0       no              no             yes      yes      yes         NaN  \n",
       "1       no              no             yes      yes       no  12250000.0  \n",
       "2      yes              no              no      yes      yes  12250000.0  \n",
       "3      NaN              no             yes      yes      yes  12215000.0  \n",
       "4      yes              no             yes      yes       no  11410000.0  "
      ]
     },
     "execution_count": 55,
     "metadata": {},
     "output_type": "execute_result"
    }
   ],
   "source": [
    "# open up dataset using panda and view it \n",
    "df = pd.read_csv('out.csv')\n",
    "df.head()"
   ]
  },
  {
   "cell_type": "code",
   "execution_count": 56,
   "id": "4c2dbbe6-de61-40ff-8a86-8df15f670146",
   "metadata": {},
   "outputs": [
    {
     "name": "stdout",
     "output_type": "stream",
     "text": [
      "<class 'pandas.core.frame.DataFrame'>\n",
      "RangeIndex: 545 entries, 0 to 544\n",
      "Data columns (total 13 columns):\n",
      " #   Column            Non-Null Count  Dtype  \n",
      "---  ------            --------------  -----  \n",
      " 0   furnishingstatus  533 non-null    object \n",
      " 1   area              533 non-null    float64\n",
      " 2   bedrooms          539 non-null    float64\n",
      " 3   bathrooms         536 non-null    float64\n",
      " 4   stories           539 non-null    float64\n",
      " 5   parking           540 non-null    float64\n",
      " 6   guestroom         540 non-null    object \n",
      " 7   basement          536 non-null    object \n",
      " 8   hotwaterheating   537 non-null    object \n",
      " 9   airconditioning   541 non-null    object \n",
      " 10  mainroad          536 non-null    object \n",
      " 11  prefarea          534 non-null    object \n",
      " 12  price             530 non-null    float64\n",
      "dtypes: float64(6), object(7)\n",
      "memory usage: 55.5+ KB\n"
     ]
    }
   ],
   "source": [
    "df.info()"
   ]
  },
  {
   "cell_type": "markdown",
   "id": "df5b2ea3-971f-4cc9-b638-5778a0308d69",
   "metadata": {},
   "source": [
    "### Cleaning the dataset"
   ]
  },
  {
   "cell_type": "code",
   "execution_count": 57,
   "id": "cb52f209-1710-4311-9d00-09e1d04f1f53",
   "metadata": {},
   "outputs": [
    {
     "data": {
      "text/plain": [
       "Index(['furnishingstatus', 'area', 'bedrooms', 'bathrooms', 'stories',\n",
       "       'parking', 'guestroom', 'basement', 'hotwaterheating',\n",
       "       'airconditioning', 'mainroad', 'prefarea', 'price'],\n",
       "      dtype='object')"
      ]
     },
     "execution_count": 57,
     "metadata": {},
     "output_type": "execute_result"
    }
   ],
   "source": [
    "cols=df.columns\n",
    "df.columns"
   ]
  },
  {
   "cell_type": "markdown",
   "id": "8b09417f-901e-414e-9911-82231819d7a9",
   "metadata": {},
   "source": [
    "#### Handling duplicate values"
   ]
  },
  {
   "cell_type": "code",
   "execution_count": 58,
   "id": "99019388-5ce9-4760-9d42-97da35f0d207",
   "metadata": {},
   "outputs": [
    {
     "name": "stdout",
     "output_type": "stream",
     "text": [
      "furnishingstatus : True\n",
      "area : True\n",
      "bedrooms : True\n",
      "bathrooms : True\n",
      "stories : True\n",
      "parking : True\n",
      "guestroom : True\n",
      "basement : True\n",
      "hotwaterheating : True\n",
      "airconditioning : True\n",
      "mainroad : True\n",
      "prefarea : True\n",
      "price : True\n",
      "Duplicates were found in the dataset.\n"
     ]
    }
   ],
   "source": [
    "boolean = False  # Tracks if any duplicates exist across columns\n",
    "for col in cols:\n",
    "    is_duplicate = df.duplicated(subset=[col]).any()  # Check for duplicates in the current column\n",
    "    print(f\"{col} : {is_duplicate}\")  # Print the result for the current column\n",
    "    if is_duplicate:\n",
    "        boolean = True  # Update the boolean if any duplicates are found\n",
    "\n",
    "if not boolean:  # If boolean is still False, no duplicates were found\n",
    "    print(\"There are no duplicate entries in the dataset.\")\n",
    "else:\n",
    "    print(\"Duplicates were found in the dataset.\")\n"
   ]
  },
  {
   "cell_type": "markdown",
   "id": "2e05c54b-12b4-447a-8564-120a6c2ed05a",
   "metadata": {},
   "source": [
    "#### Handling missing data"
   ]
  },
  {
   "cell_type": "code",
   "execution_count": 59,
   "id": "e0eee028-fbf1-4e1a-912a-03eb6bf2c5cb",
   "metadata": {
    "scrolled": true
   },
   "outputs": [
    {
     "name": "stdout",
     "output_type": "stream",
     "text": [
      "Missing values per column:\n",
      "furnishingstatus    12\n",
      "area                12\n",
      "bedrooms             6\n",
      "bathrooms            9\n",
      "stories              6\n",
      "parking              5\n",
      "guestroom            5\n",
      "basement             9\n",
      "hotwaterheating      8\n",
      "airconditioning      4\n",
      "mainroad             9\n",
      "prefarea            11\n",
      "price               15\n",
      "dtype: int64\n",
      "Total missing data: 111\n",
      "total percentage of missing value is 20.37%\n"
     ]
    }
   ],
   "source": [
    "# df = data.copy()\n",
    "missing_values = df.isnull().sum()\n",
    "total_missing_values = df.isnull().sum().sum()\n",
    "print(f'Missing values per column:\\n{missing_values}')\n",
    "print('Total missing data:', total_missing_values)\n",
    "missing_val_percent=(total_missing_values/df.shape[0])*100\n",
    "print(f'total percentage of missing value is {missing_val_percent:.2f}%')"
   ]
  },
  {
   "cell_type": "markdown",
   "id": "24fb50a5-a6d8-42c9-8f8a-02e2901d131d",
   "metadata": {},
   "source": [
    "#### missing_val_percent < 5% ? dropna() : Impute (depends on size of dataset)"
   ]
  },
  {
   "cell_type": "markdown",
   "id": "dbd4c290-d162-4615-b8fd-469318662b29",
   "metadata": {},
   "source": [
    "##### Option-1: Remove all missing data columns"
   ]
  },
  {
   "cell_type": "code",
   "execution_count": 60,
   "id": "5ac5d809-c546-4a96-a941-6f6e451e1092",
   "metadata": {},
   "outputs": [],
   "source": [
    "if not missing_val_percent < 5:\n",
    "    df = df.dropna().reset_index(drop=True)"
   ]
  },
  {
   "cell_type": "markdown",
   "id": "5aeba224-400a-42e5-81cc-0a219df3c882",
   "metadata": {},
   "source": [
    "##### Option-2: Use SkLearn Library"
   ]
  },
  {
   "cell_type": "code",
   "execution_count": 61,
   "id": "6b6148ab-0633-4305-a6b6-47dba6c039e4",
   "metadata": {},
   "outputs": [
    {
     "name": "stdout",
     "output_type": "stream",
     "text": [
      "Categorical columns : ['furnishingstatus', 'guestroom', 'basement', 'hotwaterheating', 'airconditioning', 'mainroad', 'prefarea']\n",
      "Numerical columns : ['area', 'bedrooms', 'bathrooms', 'stories', 'parking', 'price']\n"
     ]
    }
   ],
   "source": [
    "# Categorical columns\n",
    "cat_col = [col for col in df.columns if df[col].dtype == 'object']\n",
    "# Numerical columns\n",
    "num_col = [col for col in df.columns if df[col].dtype != 'object']\n",
    "\n",
    "print('Categorical columns :',cat_col)\n",
    "print('Numerical columns :',num_col)"
   ]
  },
  {
   "cell_type": "code",
   "execution_count": 62,
   "id": "d8408380-3f81-41db-824c-8e39c9b81e61",
   "metadata": {},
   "outputs": [],
   "source": [
    "yes_no_cols = [col for col in cat_col if df[col].nunique() == 2]\n",
    "\n",
    "for col in yes_no_cols:\n",
    "    if col in df.columns:\n",
    "        df[col] = LabelEncoder().fit_transform(df[col])"
   ]
  },
  {
   "cell_type": "code",
   "execution_count": 26,
   "id": "420cf60e-2b31-4f53-abef-5979d9c3c20a",
   "metadata": {},
   "outputs": [
    {
     "data": {
      "text/plain": [
       "Index(['encoder__furnishingstatus_furnished',\n",
       "       'encoder__furnishingstatus_semi-furnished',\n",
       "       'encoder__furnishingstatus_unfurnished', 'remainder__area',\n",
       "       'remainder__bedrooms', 'remainder__bathrooms', 'remainder__stories',\n",
       "       'remainder__parking', 'remainder__guestroom', 'remainder__basement',\n",
       "       'remainder__hotwaterheating', 'remainder__airconditioning',\n",
       "       'remainder__mainroad', 'remainder__prefarea', 'remainder__price'],\n",
       "      dtype='object')"
      ]
     },
     "execution_count": 26,
     "metadata": {},
     "output_type": "execute_result"
    }
   ],
   "source": [
    "from sklearn.preprocessing import LabelEncoder, OneHotEncoder\n",
    "from sklearn.compose import ColumnTransformer\n",
    "\n",
    "# OneHotEncode multi-category columns (e.g., 'furnishingstatus')\n",
    "multi_cat_cols = [col for col in cat_col if df[col].nunique() > 2]  # Multi-category columns\n",
    "if multi_cat_cols:\n",
    "    ct = ColumnTransformer(\n",
    "        transformers=[('encoder', OneHotEncoder(), multi_cat_cols)], remainder='passthrough'\n",
    "    )\n",
    "    df = pd.DataFrame(ct.fit_transform(df), columns=ct.get_feature_names_out())\n",
    "df.columns"
   ]
  },
  {
   "cell_type": "code",
   "execution_count": 63,
   "id": "08a243d8-21b3-4b59-b247-f86628fd2da7",
   "metadata": {},
   "outputs": [],
   "source": [
    "from sklearn.preprocessing import LabelEncoder, OneHotEncoder\n",
    "from sklearn.compose import ColumnTransformer\n",
    "# OneHotEncode multi-category columns without changing column names\n",
    "multi_cat_cols = [col for col in cat_col if df[col].nunique() > 2]\n",
    "if multi_cat_cols:\n",
    "    onehot = OneHotEncoder(sparse_output=False)\n",
    "    onehot_encoded = onehot.fit_transform(df[multi_cat_cols])\n",
    "    \n",
    "    # Retrieve new column names for encoded categories\n",
    "    onehot_columns = onehot.get_feature_names_out(multi_cat_cols)\n",
    "    \n",
    "    # Combine the rest of the data with encoded categories\n",
    "    df = pd.concat(\n",
    "        [pd.DataFrame(onehot_encoded, columns=onehot_columns, index=df.index), \n",
    "         df.drop(columns=multi_cat_cols)], axis=1\n",
    "    )"
   ]
  },
  {
   "cell_type": "markdown",
   "id": "45c4470b-4fe0-40a9-a3fe-3a4101d398ef",
   "metadata": {},
   "source": [
    "##### Split data into features X and target y"
   ]
  },
  {
   "cell_type": "code",
   "execution_count": 64,
   "id": "757f25f8-ff80-4402-818e-8e8c22717430",
   "metadata": {},
   "outputs": [],
   "source": [
    "X= df.iloc[:, :-1].values #dependent variables\n",
    "y= df.iloc[:, -1].values  #independent variable"
   ]
  },
  {
   "cell_type": "markdown",
   "id": "c9a79f97-b736-4d01-acda-6167ffb26170",
   "metadata": {},
   "source": [
    "##### Spliting into training and test data"
   ]
  },
  {
   "cell_type": "code",
   "execution_count": 65,
   "id": "2d44e3ac-8ebb-4d1f-913f-513ebe9f6d37",
   "metadata": {},
   "outputs": [],
   "source": [
    "# Train-test split\n",
    "from sklearn.model_selection import train_test_split\n",
    "X_train, X_test, y_train, y_test = train_test_split(X, y, test_size=0.2, random_state=42)"
   ]
  },
  {
   "cell_type": "code",
   "execution_count": 66,
   "id": "08ae2cb3-4839-4d84-8f8a-2d74219ee498",
   "metadata": {},
   "outputs": [
    {
     "name": "stdout",
     "output_type": "stream",
     "text": [
      "[[0. 0. 1. ... 1. 1. 0.]\n",
      " [0. 0. 1. ... 1. 1. 1.]\n",
      " [0. 1. 0. ... 1. 1. 0.]\n",
      " ...\n",
      " [0. 0. 1. ... 0. 1. 0.]\n",
      " [0. 0. 1. ... 1. 0. 1.]\n",
      " [0. 1. 0. ... 1. 1. 0.]]\n"
     ]
    }
   ],
   "source": [
    "print(X_train)"
   ]
  },
  {
   "cell_type": "code",
   "execution_count": 67,
   "id": "963fa73e",
   "metadata": {},
   "outputs": [
    {
     "name": "stdout",
     "output_type": "stream",
     "text": [
      "Categorical columns : []\n",
      "Numerical columns : ['furnishingstatus_furnished', 'furnishingstatus_semi-furnished', 'furnishingstatus_unfurnished', 'area', 'bedrooms', 'bathrooms', 'stories', 'parking', 'guestroom', 'basement', 'hotwaterheating', 'airconditioning', 'mainroad', 'prefarea', 'price']\n"
     ]
    }
   ],
   "source": [
    "# Categorical columns\n",
    "cat_col = [col for col in df.columns if df[col].dtype == 'object']\n",
    "# Numerical columns\n",
    "num_col = [col for col in df.columns if df[col].dtype != 'object']\n",
    "\n",
    "print('Categorical columns :',cat_col)\n",
    "print('Numerical columns :',num_col)"
   ]
  },
  {
   "cell_type": "code",
   "execution_count": 68,
   "id": "fd9d92a7-a1ad-493a-a379-4b42081634a7",
   "metadata": {},
   "outputs": [],
   "source": [
    "from sklearn.impute import SimpleImputer\n",
    "\n",
    "imputer = SimpleImputer(strategy='mean')  # For numerical columns\n",
    "df[num_col] = imputer.fit_transform(df[num_col])"
   ]
  },
  {
   "cell_type": "markdown",
   "id": "e4daf1df-f1c0-4b85-9542-46ef5288d89c",
   "metadata": {},
   "source": [
    "#### Feature Scaling"
   ]
  },
  {
   "cell_type": "code",
   "execution_count": 69,
   "id": "7e8dec4e-1a03-4fd7-a1d8-489fbdabedfc",
   "metadata": {},
   "outputs": [
    {
     "data": {
      "text/html": [
       "<div>\n",
       "<style scoped>\n",
       "    .dataframe tbody tr th:only-of-type {\n",
       "        vertical-align: middle;\n",
       "    }\n",
       "\n",
       "    .dataframe tbody tr th {\n",
       "        vertical-align: top;\n",
       "    }\n",
       "\n",
       "    .dataframe thead th {\n",
       "        text-align: right;\n",
       "    }\n",
       "</style>\n",
       "<table border=\"1\" class=\"dataframe\">\n",
       "  <thead>\n",
       "    <tr style=\"text-align: right;\">\n",
       "      <th></th>\n",
       "      <th>furnishingstatus_furnished</th>\n",
       "      <th>furnishingstatus_semi-furnished</th>\n",
       "      <th>furnishingstatus_unfurnished</th>\n",
       "      <th>area</th>\n",
       "      <th>bedrooms</th>\n",
       "      <th>bathrooms</th>\n",
       "      <th>stories</th>\n",
       "      <th>parking</th>\n",
       "      <th>guestroom</th>\n",
       "      <th>basement</th>\n",
       "      <th>hotwaterheating</th>\n",
       "      <th>airconditioning</th>\n",
       "      <th>mainroad</th>\n",
       "      <th>prefarea</th>\n",
       "      <th>price</th>\n",
       "    </tr>\n",
       "  </thead>\n",
       "  <tbody>\n",
       "    <tr>\n",
       "      <th>0</th>\n",
       "      <td>0.0</td>\n",
       "      <td>1.0</td>\n",
       "      <td>0.0</td>\n",
       "      <td>9960.0</td>\n",
       "      <td>3.0</td>\n",
       "      <td>2.0</td>\n",
       "      <td>2.0</td>\n",
       "      <td>2.0</td>\n",
       "      <td>0.0</td>\n",
       "      <td>1.0</td>\n",
       "      <td>0.0</td>\n",
       "      <td>0.0</td>\n",
       "      <td>1.0</td>\n",
       "      <td>1.0</td>\n",
       "      <td>12250000.0</td>\n",
       "    </tr>\n",
       "    <tr>\n",
       "      <th>1</th>\n",
       "      <td>1.0</td>\n",
       "      <td>0.0</td>\n",
       "      <td>0.0</td>\n",
       "      <td>7420.0</td>\n",
       "      <td>4.0</td>\n",
       "      <td>1.0</td>\n",
       "      <td>2.0</td>\n",
       "      <td>2.0</td>\n",
       "      <td>1.0</td>\n",
       "      <td>1.0</td>\n",
       "      <td>0.0</td>\n",
       "      <td>1.0</td>\n",
       "      <td>1.0</td>\n",
       "      <td>0.0</td>\n",
       "      <td>11410000.0</td>\n",
       "    </tr>\n",
       "    <tr>\n",
       "      <th>2</th>\n",
       "      <td>0.0</td>\n",
       "      <td>1.0</td>\n",
       "      <td>0.0</td>\n",
       "      <td>7500.0</td>\n",
       "      <td>3.0</td>\n",
       "      <td>3.0</td>\n",
       "      <td>1.0</td>\n",
       "      <td>2.0</td>\n",
       "      <td>0.0</td>\n",
       "      <td>1.0</td>\n",
       "      <td>0.0</td>\n",
       "      <td>1.0</td>\n",
       "      <td>1.0</td>\n",
       "      <td>1.0</td>\n",
       "      <td>10850000.0</td>\n",
       "    </tr>\n",
       "    <tr>\n",
       "      <th>3</th>\n",
       "      <td>0.0</td>\n",
       "      <td>1.0</td>\n",
       "      <td>0.0</td>\n",
       "      <td>8580.0</td>\n",
       "      <td>4.0</td>\n",
       "      <td>3.0</td>\n",
       "      <td>4.0</td>\n",
       "      <td>2.0</td>\n",
       "      <td>0.0</td>\n",
       "      <td>0.0</td>\n",
       "      <td>0.0</td>\n",
       "      <td>1.0</td>\n",
       "      <td>1.0</td>\n",
       "      <td>1.0</td>\n",
       "      <td>10150000.0</td>\n",
       "    </tr>\n",
       "    <tr>\n",
       "      <th>4</th>\n",
       "      <td>1.0</td>\n",
       "      <td>0.0</td>\n",
       "      <td>0.0</td>\n",
       "      <td>8100.0</td>\n",
       "      <td>4.0</td>\n",
       "      <td>1.0</td>\n",
       "      <td>2.0</td>\n",
       "      <td>2.0</td>\n",
       "      <td>1.0</td>\n",
       "      <td>1.0</td>\n",
       "      <td>0.0</td>\n",
       "      <td>1.0</td>\n",
       "      <td>1.0</td>\n",
       "      <td>1.0</td>\n",
       "      <td>9870000.0</td>\n",
       "    </tr>\n",
       "  </tbody>\n",
       "</table>\n",
       "</div>"
      ],
      "text/plain": [
       "   furnishingstatus_furnished  furnishingstatus_semi-furnished  \\\n",
       "0                         0.0                              1.0   \n",
       "1                         1.0                              0.0   \n",
       "2                         0.0                              1.0   \n",
       "3                         0.0                              1.0   \n",
       "4                         1.0                              0.0   \n",
       "\n",
       "   furnishingstatus_unfurnished    area  bedrooms  bathrooms  stories  \\\n",
       "0                           0.0  9960.0       3.0        2.0      2.0   \n",
       "1                           0.0  7420.0       4.0        1.0      2.0   \n",
       "2                           0.0  7500.0       3.0        3.0      1.0   \n",
       "3                           0.0  8580.0       4.0        3.0      4.0   \n",
       "4                           0.0  8100.0       4.0        1.0      2.0   \n",
       "\n",
       "   parking  guestroom  basement  hotwaterheating  airconditioning  mainroad  \\\n",
       "0      2.0        0.0       1.0              0.0              0.0       1.0   \n",
       "1      2.0        1.0       1.0              0.0              1.0       1.0   \n",
       "2      2.0        0.0       1.0              0.0              1.0       1.0   \n",
       "3      2.0        0.0       0.0              0.0              1.0       1.0   \n",
       "4      2.0        1.0       1.0              0.0              1.0       1.0   \n",
       "\n",
       "   prefarea       price  \n",
       "0       1.0  12250000.0  \n",
       "1       0.0  11410000.0  \n",
       "2       1.0  10850000.0  \n",
       "3       1.0  10150000.0  \n",
       "4       1.0   9870000.0  "
      ]
     },
     "execution_count": 69,
     "metadata": {},
     "output_type": "execute_result"
    }
   ],
   "source": [
    "df.head()"
   ]
  },
  {
   "cell_type": "markdown",
   "id": "fd8a21ab-a4bc-4ec3-8a7d-0b1fe43af865",
   "metadata": {},
   "source": [
    "### Modelling"
   ]
  },
  {
   "cell_type": "code",
   "execution_count": 70,
   "id": "58bdf641-af4f-466e-bbb7-e1e507ce71ee",
   "metadata": {},
   "outputs": [
    {
     "name": "stdout",
     "output_type": "stream",
     "text": [
      "Mean Squared Error: 1420924886086.5803\n",
      "R² Score: 0.6495833965840456\n"
     ]
    }
   ],
   "source": [
    "from sklearn.linear_model import LinearRegression\n",
    "from sklearn.metrics import mean_squared_error, r2_score\n",
    "\n",
    "# Train the model\n",
    "regressor = LinearRegression()\n",
    "regressor.fit(X_train, y_train)\n",
    "\n",
    "# Predictions\n",
    "y_pred = regressor.predict(X_test)\n",
    "\n",
    "# Evaluation\n",
    "mse = mean_squared_error(y_test, y_pred)\n",
    "r2 = r2_score(y_test, y_pred)\n",
    "print(\"Mean Squared Error:\", mse)\n",
    "print(\"R² Score:\", r2)\n"
   ]
  },
  {
   "cell_type": "markdown",
   "id": "9a84b3c9-d62d-449d-aa1b-2a9ccc36a964",
   "metadata": {},
   "source": [
    "### Visualizing"
   ]
  },
  {
   "cell_type": "code",
   "execution_count": 78,
   "id": "29f14ae0-f2a2-4599-bf3a-db1a74e0e60b",
   "metadata": {},
   "outputs": [
    {
     "name": "stdout",
     "output_type": "stream",
     "text": [
      "(357, 14) (357,)\n"
     ]
    }
   ],
   "source": [
    "# Visualization of actual vs. predicted values\n",
    "# plt.figure(figsize=(8, 6))\n",
    "# plt.scatter(X_train, y_train, color='blue', alpha=0.6)\n",
    "# # plt.plot(X_train, regressor.predict(X_train),\n",
    "#     # color='red', linestyle='--', linewidth=2, label='Perfect Fit'\n",
    "# # )\n",
    "# plt.title('Actual vs. Predicted Values')\n",
    "# plt.xlabel('Actual Target Value')\n",
    "# plt.ylabel('Predicted Target Value')\n",
    "# plt.legend()\n",
    "print(X_train.shape,y_train.shape)"
   ]
  }
 ],
 "metadata": {
  "kernelspec": {
   "display_name": "Python 3 (ipykernel)",
   "language": "python",
   "name": "python3"
  },
  "language_info": {
   "codemirror_mode": {
    "name": "ipython",
    "version": 3
   },
   "file_extension": ".py",
   "mimetype": "text/x-python",
   "name": "python",
   "nbconvert_exporter": "python",
   "pygments_lexer": "ipython3",
   "version": "3.12.6"
  }
 },
 "nbformat": 4,
 "nbformat_minor": 5
}
