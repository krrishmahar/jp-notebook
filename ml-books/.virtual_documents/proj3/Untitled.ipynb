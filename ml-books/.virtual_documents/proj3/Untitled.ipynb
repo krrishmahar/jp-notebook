from sklearn.datasets import make_moons
from sklearn.pipeline import Pipeline
from sklearn.preprocessing import PolynomialFeatures

X, y = make_moons(n_samples=5000, noise=0.15)


from sklearn.model_selection import train_test_split
X_train, y_train, X_test, y_test = train_test_split(X, y, train_size=0.8)


len(X_train)


X_train, y_train


from sklearn.ensemble import RandomForestClassifier
from sklearn.ensemble import VotingClassifier
from sklearn.linear_model import LogisticRegression
from sklearn.svm import SVC

log_clf = LogisticRegression()
rnd_clf = RandomForestClassifier()
svm_clf = SVC()
# voting_clf = VotingClassifier(
#     estimators=[('lr', log_clf), ('rf', rnd_clf), ('svc', svm_clf)],
#     voting='hard')

# voting_clf.fit(X_train, y_train)
log_clf.fit(X_train, y_train)






