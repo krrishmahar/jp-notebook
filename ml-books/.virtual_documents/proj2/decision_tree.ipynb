














from sklearn.datasets import load_iris
from sklearn.tree import DecisionTreeClassifier

iris = load_iris()

X = iris.data[:, 2:] # petal length and width
y = iris.target

tree_clf = DecisionTreeClassifier(max_depth=2)
tree_clf.fit(X, y)


from sklearn.tree import  export_graphviz

export_graphviz(
    tree_clf,
    out_file="iris_tree.dot",
    feature_names=iris.feature_names[2:],
    class_names=iris.target_names,
    rounded=True,
    filled=True
)


tree_clf.predict_proba([[5, 1.5]])


tree_clf.predict([[6, 1.5]]) # versicolor


iris.target_names





# %sudo apt install graphviz

# %dot -Tpng iris_tree.dot -o iris_tree.png

















from sklearn.tree import DecisionTreeRegressor

tree_reg = DecisionTreeRegressor(max_depth=3, min_samples_leaf=10)
tree_reg.fit(X, y)


export_graphviz?


export_graphviz(
    tree_reg,
    out_file="iris_reg_tree.dot",
    feature_names=iris.feature_names[2:],
    class_names=iris.target_names,
    rounded=True,
    filled=True, 
    max_depth=3
)





# from IPython.display import Image

# # get the image
# Image(url="file:///home/krrish/Desktop/jp-notebook/ml-books/proj2/iris_reg_tree.png", width=300, height=300)






