





import pandas as pd
import numpy as np
import matplotlib.pyplot as plt


dataset = pd.read_csv('Data.csv')
X = dataset.iloc[:, :-1].values
y = dataset.iloc[:, -1].values





from sklearn.preprocessing import LabelEncoder
le = LabelEncoder()
y = le.fit_transform(y)


from sklearn.model_selection import train_test_split
X_train, X_test, y_train, y_test = train_test_split(X, y, test_size = 0.2, random_state = 42)





%%time
from catboost import CatBoostClassifier
classifier = CatBoostClassifier(learning_rate=0.1)
classifier.fit(X_train, y_train, verbose=False, plot=True)





from sklearn.metrics import roc_auc_score
pred = classifier.predict_proba(X_test)[:, 1]
auc_score_prod_params = roc_auc_score(y_test, pred)
print(f"AUC SCORE {classifier.__class__.__name__} for test:", auc_score_prod_params)


results = classifier.evals_result()
epochs = len(results['validation_0']['error'])
x_axis = range(0, epochs)

# plot log loss
fig, ax = plt.subplots(1,2, figsize=(10,5))
ax[0].plot(x_axis, results['validation_0']['auc'], label='Train')
ax[0].plot(x_axis, results['validation_1']['auc'], label='Test')
ax[0].legend()
ax[0].set_ylabel('AUC')
ax[0].set_title('XGBoost AUC')

# plot classification error
ax[1].plot(x_axis, results['validation_0']['error'], label='Train')
ax[1].plot(x_axis, results['validation_1']['error'], label='Test')
ax[1].legend()
ax[1].set_ylabel('Classification Error')
ax[1].set_title('XGBoost Classification Error')

plt.tight_layout()
plt.show()


results = classifier.evals_result_
epochs = len(results['learn']['Logloss'])
x_axis = range(0, epochs)

# plot log loss
fig, ax = plt.subplots(1,2, figsize=(10,5))
ax[0].plot(x_axis, results['learn']['Logloss'], label='Train')
ax[0].plot(x_axis, results['learn']['Logloss'], label='Test')
ax[0].legend()
ax[0].set_ylabel('AUC')
ax[0].set_title('XGBoost AUC')

# plot classification error
# ax[1].plot(x_axis, results['validation_0']['error'], label='Train')
# ax[1].plot(x_axis, results['validation_1']['error'], label='Test')
# ax[1].legend()
# ax[1].set_ylabel('Classification Error')
# ax[1].set_title('XGBoost Classification Error')

plt.tight_layout()
plt.show()





from sklearn.metrics import confusion_matrix, accuracy_score
y_pred = classifier.predict(X_test)
cm = confusion_matrix(y_test, y_pred)
print(cm)
accuracy_score(y_test, y_pred)


from sklearn.metrics import confusion_matrix, accuracy_score
y_pred = classifier.predict(X_test)
cm = confusion_matrix(y_test, y_pred)
print(cm)
accuracy_score(y_test, y_pred)





importances = classifier.get_feature_importance()
feature_names = dataset.columns[:-1]

plt.figure(figsize=(10, 6))
plt.barh(feature_names, importances)
plt.xlabel("Feature Importance")
plt.title("CatBoost Feature Importances")
plt.show()

