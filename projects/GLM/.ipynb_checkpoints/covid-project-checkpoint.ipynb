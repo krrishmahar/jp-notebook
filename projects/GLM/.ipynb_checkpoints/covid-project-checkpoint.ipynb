{
 "cells": [
  {
   "cell_type": "code",
   "execution_count": 1,
   "id": "de8bd0e8-76f4-4776-8c6a-f0be9f7eac7d",
   "metadata": {},
   "outputs": [],
   "source": [
    "import pandas as pd\n",
    "import numpy as np\n",
    "import matplotlib.pyplot as plt\n",
    "import seaborn as sns\n",
    "%matplotlib inline"
   ]
  },
  {
   "cell_type": "markdown",
   "id": "2b98c31e-0ad5-4185-831f-66c7e70bb2e6",
   "metadata": {},
   "source": [
    "### Importing and viewing the dataseet"
   ]
  },
  {
   "cell_type": "code",
   "execution_count": 20,
   "id": "0f20bb23-cde0-49d9-b3a6-38c002fec3f2",
   "metadata": {},
   "outputs": [
    {
     "data": {
      "text/html": [
       "<div>\n",
       "<style scoped>\n",
       "    .dataframe tbody tr th:only-of-type {\n",
       "        vertical-align: middle;\n",
       "    }\n",
       "\n",
       "    .dataframe tbody tr th {\n",
       "        vertical-align: top;\n",
       "    }\n",
       "\n",
       "    .dataframe thead th {\n",
       "        text-align: right;\n",
       "    }\n",
       "</style>\n",
       "<table border=\"1\" class=\"dataframe\">\n",
       "  <thead>\n",
       "    <tr style=\"text-align: right;\">\n",
       "      <th></th>\n",
       "      <th>Province/State</th>\n",
       "      <th>Country/Region</th>\n",
       "      <th>Lat</th>\n",
       "      <th>Long</th>\n",
       "      <th>Date</th>\n",
       "      <th>Confirmed</th>\n",
       "      <th>Deaths</th>\n",
       "      <th>Recovered</th>\n",
       "      <th>Active</th>\n",
       "      <th>WHO Region</th>\n",
       "    </tr>\n",
       "  </thead>\n",
       "  <tbody>\n",
       "    <tr>\n",
       "      <th>0</th>\n",
       "      <td>NaN</td>\n",
       "      <td>Afghanistan</td>\n",
       "      <td>33.93911</td>\n",
       "      <td>67.709953</td>\n",
       "      <td>2020-01-22</td>\n",
       "      <td>0</td>\n",
       "      <td>0</td>\n",
       "      <td>0</td>\n",
       "      <td>0</td>\n",
       "      <td>Eastern Mediterranean</td>\n",
       "    </tr>\n",
       "    <tr>\n",
       "      <th>1</th>\n",
       "      <td>NaN</td>\n",
       "      <td>Albania</td>\n",
       "      <td>41.15330</td>\n",
       "      <td>20.168300</td>\n",
       "      <td>2020-01-22</td>\n",
       "      <td>0</td>\n",
       "      <td>0</td>\n",
       "      <td>0</td>\n",
       "      <td>0</td>\n",
       "      <td>Europe</td>\n",
       "    </tr>\n",
       "    <tr>\n",
       "      <th>2</th>\n",
       "      <td>NaN</td>\n",
       "      <td>Algeria</td>\n",
       "      <td>28.03390</td>\n",
       "      <td>1.659600</td>\n",
       "      <td>2020-01-22</td>\n",
       "      <td>0</td>\n",
       "      <td>0</td>\n",
       "      <td>0</td>\n",
       "      <td>0</td>\n",
       "      <td>Africa</td>\n",
       "    </tr>\n",
       "    <tr>\n",
       "      <th>3</th>\n",
       "      <td>NaN</td>\n",
       "      <td>Andorra</td>\n",
       "      <td>42.50630</td>\n",
       "      <td>1.521800</td>\n",
       "      <td>2020-01-22</td>\n",
       "      <td>0</td>\n",
       "      <td>0</td>\n",
       "      <td>0</td>\n",
       "      <td>0</td>\n",
       "      <td>Europe</td>\n",
       "    </tr>\n",
       "    <tr>\n",
       "      <th>4</th>\n",
       "      <td>NaN</td>\n",
       "      <td>Angola</td>\n",
       "      <td>-11.20270</td>\n",
       "      <td>17.873900</td>\n",
       "      <td>2020-01-22</td>\n",
       "      <td>0</td>\n",
       "      <td>0</td>\n",
       "      <td>0</td>\n",
       "      <td>0</td>\n",
       "      <td>Africa</td>\n",
       "    </tr>\n",
       "  </tbody>\n",
       "</table>\n",
       "</div>"
      ],
      "text/plain": [
       "  Province/State Country/Region       Lat       Long        Date  Confirmed  \\\n",
       "0            NaN    Afghanistan  33.93911  67.709953  2020-01-22          0   \n",
       "1            NaN        Albania  41.15330  20.168300  2020-01-22          0   \n",
       "2            NaN        Algeria  28.03390   1.659600  2020-01-22          0   \n",
       "3            NaN        Andorra  42.50630   1.521800  2020-01-22          0   \n",
       "4            NaN         Angola -11.20270  17.873900  2020-01-22          0   \n",
       "\n",
       "   Deaths  Recovered  Active             WHO Region  \n",
       "0       0          0       0  Eastern Mediterranean  \n",
       "1       0          0       0                 Europe  \n",
       "2       0          0       0                 Africa  \n",
       "3       0          0       0                 Europe  \n",
       "4       0          0       0                 Africa  "
      ]
     },
     "execution_count": 20,
     "metadata": {},
     "output_type": "execute_result"
    }
   ],
   "source": [
    "# open up dataset using panda and view it \n",
    "df = pd.read_csv('covid_data.csv')\n",
    "df.head()"
   ]
  },
  {
   "cell_type": "code",
   "execution_count": 3,
   "id": "de0a681f-a9a5-40e1-b847-925f2dde045b",
   "metadata": {},
   "outputs": [
    {
     "name": "stdout",
     "output_type": "stream",
     "text": [
      "<class 'pandas.core.frame.DataFrame'>\n",
      "RangeIndex: 49068 entries, 0 to 49067\n",
      "Data columns (total 10 columns):\n",
      " #   Column          Non-Null Count  Dtype  \n",
      "---  ------          --------------  -----  \n",
      " 0   Province/State  14664 non-null  object \n",
      " 1   Country/Region  49068 non-null  object \n",
      " 2   Lat             49068 non-null  float64\n",
      " 3   Long            49068 non-null  float64\n",
      " 4   Date            49068 non-null  object \n",
      " 5   Confirmed       49068 non-null  int64  \n",
      " 6   Deaths          49068 non-null  int64  \n",
      " 7   Recovered       49068 non-null  int64  \n",
      " 8   Active          49068 non-null  int64  \n",
      " 9   WHO Region      49068 non-null  object \n",
      "dtypes: float64(2), int64(4), object(4)\n",
      "memory usage: 3.7+ MB\n"
     ]
    }
   ],
   "source": [
    "df.info()"
   ]
  },
  {
   "cell_type": "markdown",
   "id": "af57bf7a-828f-4aa6-b2ed-7d44f25a9e63",
   "metadata": {},
   "source": [
    "### Cleaning the dataset"
   ]
  },
  {
   "cell_type": "markdown",
   "id": "496df0f0-bc15-4f2b-833f-8967edf8ec98",
   "metadata": {},
   "source": [
    "#### Handling duplicate values"
   ]
  },
  {
   "cell_type": "code",
   "execution_count": 23,
   "id": "10d4c31f-9a9f-40ab-bfda-656f97805082",
   "metadata": {},
   "outputs": [
    {
     "name": "stdout",
     "output_type": "stream",
     "text": [
      "Province/State : True\n",
      "Country/Region : True\n",
      "Lat : True\n",
      "Long : True\n",
      "Date : True\n",
      "Confirmed : True\n",
      "Deaths : True\n",
      "Recovered : True\n",
      "Active : True\n",
      "WHO Region : True\n",
      "Duplicates were found in the dataset.\n"
     ]
    }
   ],
   "source": [
    "boolean = False  # Tracks if any duplicates exist across columns\n",
    "for col in df.columns:\n",
    "    is_duplicate = df.duplicated(subset=[col]).any()  # Check for duplicates in the current column\n",
    "    print(f\"{col} : {is_duplicate}\")  # Print the result for the current column\n",
    "    if is_duplicate:\n",
    "        boolean = True  # Update the boolean if any duplicates are found\n",
    "\n",
    "if not boolean:  # If boolean is still False, no duplicates were found\n",
    "    print(\"There are no duplicate entries in the dataset.\")\n",
    "else:\n",
    "    print(\"Duplicates were found in the dataset.\")\n"
   ]
  },
  {
   "cell_type": "code",
   "execution_count": 27,
   "id": "e149631e-c3ae-451d-a777-d897f7bdca42",
   "metadata": {},
   "outputs": [
    {
     "data": {
      "text/plain": [
       "187"
      ]
     },
     "execution_count": 27,
     "metadata": {},
     "output_type": "execute_result"
    }
   ],
   "source": [
    "df['Country/Region'].nunique()"
   ]
  },
  {
   "cell_type": "code",
   "execution_count": 29,
   "id": "affaf7a9-c585-42fc-b765-f3d2d8b40117",
   "metadata": {},
   "outputs": [
    {
     "data": {
      "text/plain": [
       "array(['Eastern Mediterranean', 'Europe', 'Africa', 'Americas',\n",
       "       'Western Pacific', 'South-East Asia'], dtype=object)"
      ]
     },
     "execution_count": 29,
     "metadata": {},
     "output_type": "execute_result"
    }
   ],
   "source": [
    "df['WHO Region'].unique()"
   ]
  },
  {
   "cell_type": "markdown",
   "id": "9202aa9c-774f-4884-9ef7-d32f33c2a02c",
   "metadata": {},
   "source": [
    "#### Handling missing data"
   ]
  },
  {
   "cell_type": "code",
   "execution_count": 31,
   "id": "4e16b766-4aa4-4a51-be65-902a3e9ba35a",
   "metadata": {},
   "outputs": [
    {
     "name": "stdout",
     "output_type": "stream",
     "text": [
      "Missing values per column:\n",
      "Province/State    34404\n",
      "Country/Region        0\n",
      "Lat                   0\n",
      "Long                  0\n",
      "Date                  0\n",
      "Confirmed             0\n",
      "Deaths                0\n",
      "Recovered             0\n",
      "Active                0\n",
      "WHO Region            0\n",
      "dtype: int64\n",
      "Total missing data: 0\n",
      "total percentage of missing value is 0.00%\n"
     ]
    }
   ],
   "source": [
    "# df = data.copy()\n",
    "missing_values = df.isnull().sum()\n",
    "total_missing_values = df.drop('Province/State', axis=1).isnull().sum().sum()\n",
    "print(f'Missing values per column:\\n{missing_values}')\n",
    "print('Total missing data:', total_missing_values)\n",
    "missing_val_percent=(total_missing_values/df.shape[0])*100\n",
    "print(f'total percentage of missing value is {missing_val_percent:.2f}%')"
   ]
  },
  {
   "cell_type": "code",
   "execution_count": 7,
   "id": "02959fb7-e6a5-4086-a106-8f4ba7442b38",
   "metadata": {},
   "outputs": [
    {
     "name": "stdout",
     "output_type": "stream",
     "text": [
      "Categorical columns : ['Province/State', 'Country/Region', 'Date', 'WHO Region']\n",
      "Numerical columns : ['Lat', 'Long', 'Confirmed', 'Deaths', 'Recovered', 'Active']\n"
     ]
    }
   ],
   "source": [
    "# Categorical columns\n",
    "cat_col = [col for col in df.columns if df[col].dtype == 'object']\n",
    "# Numerical columns\n",
    "num_col = [col for col in df.columns if df[col].dtype != 'object']\n",
    "\n",
    "print('Categorical columns :',cat_col)\n",
    "print('Numerical columns :',num_col)"
   ]
  },
  {
   "cell_type": "code",
   "execution_count": null,
   "id": "6453562b-25b3-45d6-8b90-a5f7ecf3b425",
   "metadata": {},
   "outputs": [],
   "source": [
    "from sklearn.preprocessing import OneHotEncoder\n",
    "from sklearn.compose import ColumnTransformer\n",
    "\n",
    "# OneHotEncode multi-category columns without changing column names\n",
    "multi_cat_cols = [col for col in cat_col if df[col].nunique() > 2]\n",
    "if multi_cat_cols:\n",
    "    onehot = OneHotEncoder(sparse_output=False)\n",
    "    onehot_encoded = onehot.fit_transform(df[multi_cat_cols])\n",
    "    \n",
    "    # Retrieve new column names for encoded categories\n",
    "    onehot_columns = onehot.get_feature_names_out(multi_cat_cols)\n",
    "    # Combine the rest of the data with encoded categories\n",
    "    df = pd.concat(\n",
    "        [pd.DataFrame(onehot_encoded, columns=onehot_columns, index=df.index), \n",
    "         df.drop(columns=multi_cat_cols)], axis=1\n",
    "    )\n",
    "    "
   ]
  },
  {
   "cell_type": "code",
   "execution_count": 15,
   "id": "1d96aaf6-8765-4938-879d-81f88e19fa3e",
   "metadata": {},
   "outputs": [
    {
     "data": {
      "text/plain": [
       "Index(['Province/State_Alberta', 'Province/State_Anguilla',\n",
       "       'Province/State_Anhui', 'Province/State_Aruba',\n",
       "       'Province/State_Australian Capital Territory', 'Province/State_Beijing',\n",
       "       'Province/State_Bermuda', 'Province/State_British Columbia',\n",
       "       'Province/State_British Virgin Islands',\n",
       "       'Province/State_Cayman Islands',\n",
       "       ...\n",
       "       'WHO Region_Eastern Mediterranean', 'WHO Region_Europe',\n",
       "       'WHO Region_South-East Asia', 'WHO Region_Western Pacific', 'Lat',\n",
       "       'Long', 'Confirmed', 'Deaths', 'Recovered', 'Active'],\n",
       "      dtype='object', length=466)"
      ]
     },
     "execution_count": 15,
     "metadata": {},
     "output_type": "execute_result"
    }
   ],
   "source": [
    "df.columns"
   ]
  }
 ],
 "metadata": {
  "kernelspec": {
   "display_name": "Python 3 (ipykernel)",
   "language": "python",
   "name": "python3"
  },
  "language_info": {
   "codemirror_mode": {
    "name": "ipython",
    "version": 3
   },
   "file_extension": ".py",
   "mimetype": "text/x-python",
   "name": "python",
   "nbconvert_exporter": "python",
   "pygments_lexer": "ipython3",
   "version": "3.12.6"
  }
 },
 "nbformat": 4,
 "nbformat_minor": 5
}
