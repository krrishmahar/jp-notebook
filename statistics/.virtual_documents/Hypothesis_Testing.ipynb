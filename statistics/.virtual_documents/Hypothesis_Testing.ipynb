





import scipy.stats as stats


import seaborn as sns
import pandas as pd
import numpy as np
dataset=sns.load_dataset('tips')


dataset.head()


dataset_table=pd.crosstab(dataset['sex'],dataset['smoker'])
print(dataset_table)


dataset_table.values 


#Observed Values
Observed_Values = dataset_table.values 
print("Observed Values :-\n",Observed_Values)


val=stats.chi2_contingency(dataset_table)


val


Expected_Values=val[3]


no_of_rows=len(dataset_table.iloc[0:2,0])
no_of_columns=len(dataset_table.iloc[0,0:2])
ddof=(no_of_rows-1)*(no_of_columns-1)
print("Degree of Freedom:-",ddof)
alpha = 0.05





from scipy.stats import chi2
chi_square=sum([(o-e)**2./e for o,e in zip(Observed_Values,Expected_Values)])
chi_square_statistic=chi_square[0]+chi_square[1]


print("chi-square statistic:-",chi_square_statistic)


critical_value=chi2.ppf(q=1-alpha,df=ddof)
print('critical_value:',critical_value)


#p-value
p_value=1-chi2.cdf(x=chi_square_statistic,df=ddof)
print('p-value:',p_value)
print('Significance level: ',alpha)
print('Degree of Freedom: ',ddof)
print('p-value:',p_value)


 











ages=[10,20,35,50,28,40,55,18,16,55,30,25,43,18,30,28,14,24,16,17,32,35,26,27,65,18,43,23,21,20,19,70]


len(ages)


import numpy as np
ages_mean=np.mean(ages)
print(ages_mean)


## Lets take sample

sample_size=10
age_sample=np.random.choice(ages,sample_size)


age_sample


from scipy.stats import ttest_1samp


ttest,p_value=ttest_1samp(age_sample,30)


print(p_value)


if p_value < 0.05:    # alpha value is 0.05 or 5%
    print(" we are rejecting null hypothesis")
else:
    print("we are accepting null hypothesis")





import numpy as np
import pandas as pd
import scipy.stats as stats
import math
np.random.seed(6)
school_ages=stats.poisson.rvs(loc=18,mu=35,size=1500)
classA_ages=stats.poisson.rvs(loc=18,mu=30,size=60)



classA_ages.mean()





_,p_value=stats.ttest_1samp(a=classA_ages,popmean=school_ages.mean())


p_value


school_ages.mean()


if p_value < 0.05:    # alpha value is 0.05 or 5%
    print(" we are rejecting null hypothesis")
else:
    print("we are accepting null hypothesis")





np.random.seed(12)
ClassB_ages=stats.poisson.rvs(loc=18,mu=33,size=60)
ClassB_ages.mean()


_,p_value=stats.ttest_ind(a=classA_height,b=ClassB_ages,equal_var=False)


if p_value < 0.05:    # alpha value is 0.05 or 5%
    print(" we are rejecting null hypothesis")
else:
    print("we are accepting null hypothesis")





weight1=[25,30,28,35,28,34,26,29,30,26,28,32,31,30,45]
weight2=weight1+stats.norm.rvs(scale=5,loc=-1.25,size=15)


print(weight1)
print(weight2)


weight_df=pd.DataFrame({"weight_10":np.array(weight1),
                         "weight_20":np.array(weight2),
                       "weight_change":np.array(weight2)-np.array(weight1)})


weight_df


_,p_value=stats.ttest_rel(a=weight1,b=weight2)


print(p_value)


if p_value < 0.05:    # alpha value is 0.05 or 5%
    print(" we are rejecting null hypothesis")
else:
    print("we are accepting null hypothesis")





import seaborn as sns
df=sns.load_dataset('iris')


df.shape


df.corr()


sns.pairplot(df)








import seaborn as sns
df1=sns.load_dataset('iris')


df1.head()


df_anova = df1[['petal_width','species']]


grps = pd.unique(df_anova.species.values)


grps


d_data = {grp:df_anova['petal_width'][df_anova.species == grp] for grp in grps}


d_data


F, p = stats.f_oneway(d_data['setosa'], d_data['versicolor'], d_data['virginica'])


print(p)


if p<0.05:
    print("reject null hypothesis")
else:
    print("accept null hypothesis")



