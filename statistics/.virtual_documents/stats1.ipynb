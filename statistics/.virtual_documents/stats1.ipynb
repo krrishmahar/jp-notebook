


import numpy as np
import matplotlib.pyplot as plt
import seaborn as sns
%matplotlib inline


dataset= [11,10,12,14,12,15,14,13,15,102,12,14,17,19,107, 10,13,12,14,12,108,12,11,14,13,15,10,15,12,10,14,13,15,10]


outliers=[]
def detect_outlier(data):
    threshold=3 # 3rd standard deviation
    mean=np.mean(data)
    std=np.std(data)

    for i in dataset:
        z_score=(i-mean)/std
        if  np.abs(z_score) > threshold:
            outliers.append(i)
    return outliers


detect_outlier(dataset)





dataset=sorted(dataset)
print(dataset)


sns.histplot(dataset, kde=True)


q1,q3=np.percentile(dataset,[25,75])
print(q1,q3)
iqr=q3-q1
print(iqr)


## Find lower fence and upper fence
lower_fence=q1-1.5*(iqr)
higher_fence=q3+1.5*(iqr)


print(lower_fence,higher_fence)


sns.boxplot(dataset)



