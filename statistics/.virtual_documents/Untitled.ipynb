import scipy.stats as stats


import pandas as pd
import seaborn as sns
import matplotlib.pyplot as plt
import numpy as np
%matplotlib inline


dataset=sns.load_dataset('tips')


dataset.head()








ages=[10,20,35,50,28,40,55,18,16,55,30,25,43,18,30,28,14,24,16,17,32,35,26,27,65,18,43,23,21,20,19,70]
len(ages)


ages_mean=np.mean(ages)
ages_mean


## Lets take sample

sample_size=10
age_sample=np.random.choice(ages,sample_size)
age_sample


from scipy.stats import ttest_1samp

ttest, p_value = ttest_1samp(age_sample,30)


print(p_value)


if p_value < 0.05:    # alpha value is 0.05 or 5%
    print(" we are rejecting null hypothesis")
else:
    print("we are accepting null hypothesis")





from statsmodels.stats.weightstats import ztest as ztest 
data = np.array(dataset['total_bill'])
data.astype(int)


ztest(data, value=40)


dataset_table=pd.crosstab(dataset['sex'],dataset['smoker'])
print(dataset_table)


dataset_table.values


#Observed Values
Observed_Values = dataset_table.values 
print("Observed Values :-\n",Observed_Values)


val=stats.chi2_contingency(dataset_table)


val


Expected_Values=val[3]


no_of_rows=len(dataset_table.iloc[0:2,0])
no_of_columns=len(dataset_table.iloc[0,0:2])
ddof=(no_of_rows-1)*(no_of_columns-1)
print("Degree of Freedom:-",ddof)
alpha = 0.05


from scipy.stats import chi2
chi_square=sum([(o-e)**2./e for o,e in zip(Observed_Values,Expected_Values)])
chi_square_statistic=chi_square[0]+chi_square[1]


print("chi-square statistic:-",chi_square_statistic)


critical_value=chi2.ppf(q=1-alpha,df=ddof)
print('critical_value:',critical_value)


#p-value
p_value=1-chi2.cdf(x=chi_square_statistic,df=ddof)
print('p-value:',p_value)
print('Significance level: ',alpha)
print('Degree of Freedom: ',ddof)
print('p-value:',p_value)


if chi_square_statistic>=critical_value:
    print("Reject H0,There is a relationship between 2 categorical variables")
else:
    print("Retain H0,There is no relationship between 2 categorical variables")
    
if p_value<=alpha:
    print("Reject H0,There is a relationship between 2 categorical variables")
else:
    print("Retain H0,There is no relationship between 2 categorical variables")



