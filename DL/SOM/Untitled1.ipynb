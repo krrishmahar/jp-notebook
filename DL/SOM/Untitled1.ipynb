{
 "cells": [
  {
   "cell_type": "code",
   "execution_count": 1,
   "id": "4505249e-f101-4bf2-ae9d-4dc741260d74",
   "metadata": {},
   "outputs": [],
   "source": [
    "import tensorflow as tf\n",
    "import numpy as np\n",
    "import pandas as pd\n",
    "import matplotlib.pyplot as plt\n",
    "from sklearn.preprocessing import MinMaxScaler"
   ]
  },
  {
   "cell_type": "code",
   "execution_count": 2,
   "id": "f4873d63-35c6-4dcd-b97a-8ceff87f6292",
   "metadata": {},
   "outputs": [],
   "source": [
    "# Load the dataset\n",
    "df = pd.read_csv('creditcard.csv')\n",
    "X = df.iloc[:, 1:-1].values\n",
    "y = df.iloc[:, -1].values\n"
   ]
  },
  {
   "cell_type": "code",
   "execution_count": 3,
   "id": "ad52fd32-e256-4560-86af-00ae5d5469e1",
   "metadata": {},
   "outputs": [],
   "source": [
    "\n",
    "# Normalize the data\n",
    "scaler = MinMaxScaler(feature_range=(0, 1))\n",
    "X = scaler.fit_transform(X)"
   ]
  },
  {
   "cell_type": "code",
   "execution_count": 4,
   "id": "9d3d95a2-b163-430f-950f-9759e6c67d8f",
   "metadata": {},
   "outputs": [],
   "source": [
    "\n",
    "\n",
    "# SOM parameters\n",
    "map_size = (10, 10)  # SOM grid size\n",
    "input_len = X.shape[1]  # Number of features\n",
    "sigma = 1.0  # Neighborhood radius\n",
    "learning_rate = 0.5  # Learning rate\n",
    "epochs = 100  # Number of training epochs\n"
   ]
  },
  {
   "cell_type": "code",
   "execution_count": 5,
   "id": "362eb80a-1dd4-4cea-8c4d-76652bc592da",
   "metadata": {},
   "outputs": [],
   "source": [
    "\n",
    "# Initialize SOM weights\n",
    "som_weights = tf.Variable(tf.random.normal((map_size[0], map_size[1], input_len)))\n",
    "\n",
    "# Training function\n",
    "def train_som(X, som_weights, epochs, sigma, learning_rate):\n",
    "    for epoch in range(epochs):\n",
    "        for sample in X:\n",
    "            # Find the Best Matching Unit (BMU)\n",
    "            distances = tf.reduce_sum(tf.square(som_weights - sample), axis=2)\n",
    "            bmu_index = tf.argmin(distances)\n",
    "            bmu = tf.unravel_index(bmu_index.numpy(), map_size)\n",
    "\n",
    "            # Update weights\n",
    "            for i in range(map_size[0]):\n",
    "                for j in range(map_size[1]):\n",
    "                    # Calculate the neighborhood function\n",
    "                    distance_to_bmu = tf.sqrt(tf.reduce_sum(tf.square(tf.cast([i, j], tf.float32) - tf.cast(bmu, tf.float32))))\n",
    "                    neighborhood = tf.exp(-tf.square(distance_to_bmu) / (2 * tf.square(sigma)))\n",
    "\n",
    "                    # Update the weight\n",
    "                    som_weights[i, j].assign(som_weights[i, j] + learning_rate * neighborhood * (sample - som_weights[i, j]))\n",
    "\n",
    "        # Decay learning rate and sigma\n",
    "        learning_rate *= 0.99\n",
    "        sigma *= 0.99\n",
    "\n",
    "    return som_weights\n"
   ]
  },
  {
   "cell_type": "code",
   "execution_count": 7,
   "id": "259da4aa-9d22-47dc-ad81-fe4c8c753454",
   "metadata": {},
   "outputs": [
    {
     "ename": "InvalidArgumentError",
     "evalue": "{{function_node __wrapped__Sub_device_/job:localhost/replica:0/task:0/device:CPU:0}} Incompatible shapes: [2] vs. [2,10] [Op:Sub] name: ",
     "output_type": "error",
     "traceback": [
      "\u001b[1;31m---------------------------------------------------------------------------\u001b[0m",
      "\u001b[1;31mInvalidArgumentError\u001b[0m                      Traceback (most recent call last)",
      "Cell \u001b[1;32mIn[7], line 2\u001b[0m\n\u001b[0;32m      1\u001b[0m \u001b[38;5;66;03m# Train the SOM\u001b[39;00m\n\u001b[1;32m----> 2\u001b[0m som_weights \u001b[38;5;241m=\u001b[39m \u001b[43mtrain_som\u001b[49m\u001b[43m(\u001b[49m\u001b[43mX\u001b[49m\u001b[43m,\u001b[49m\u001b[43m \u001b[49m\u001b[43msom_weights\u001b[49m\u001b[43m,\u001b[49m\u001b[43m \u001b[49m\u001b[43mepochs\u001b[49m\u001b[43m,\u001b[49m\u001b[43m \u001b[49m\u001b[43msigma\u001b[49m\u001b[43m,\u001b[49m\u001b[43m \u001b[49m\u001b[43mlearning_rate\u001b[49m\u001b[43m)\u001b[49m\n\u001b[0;32m      4\u001b[0m \u001b[38;5;66;03m# Visualization\u001b[39;00m\n\u001b[0;32m      5\u001b[0m \u001b[38;5;28;01mdef\u001b[39;00m \u001b[38;5;21mplot_som\u001b[39m(som_weights):\n",
      "Cell \u001b[1;32mIn[5], line 17\u001b[0m, in \u001b[0;36mtrain_som\u001b[1;34m(X, som_weights, epochs, sigma, learning_rate)\u001b[0m\n\u001b[0;32m     14\u001b[0m \u001b[38;5;28;01mfor\u001b[39;00m i \u001b[38;5;129;01min\u001b[39;00m \u001b[38;5;28mrange\u001b[39m(map_size[\u001b[38;5;241m0\u001b[39m]):\n\u001b[0;32m     15\u001b[0m     \u001b[38;5;28;01mfor\u001b[39;00m j \u001b[38;5;129;01min\u001b[39;00m \u001b[38;5;28mrange\u001b[39m(map_size[\u001b[38;5;241m1\u001b[39m]):\n\u001b[0;32m     16\u001b[0m         \u001b[38;5;66;03m# Calculate the neighborhood function\u001b[39;00m\n\u001b[1;32m---> 17\u001b[0m         distance_to_bmu \u001b[38;5;241m=\u001b[39m tf\u001b[38;5;241m.\u001b[39msqrt(tf\u001b[38;5;241m.\u001b[39mreduce_sum(tf\u001b[38;5;241m.\u001b[39msquare(\u001b[43mtf\u001b[49m\u001b[38;5;241;43m.\u001b[39;49m\u001b[43mcast\u001b[49m\u001b[43m(\u001b[49m\u001b[43m[\u001b[49m\u001b[43mi\u001b[49m\u001b[43m,\u001b[49m\u001b[43m \u001b[49m\u001b[43mj\u001b[49m\u001b[43m]\u001b[49m\u001b[43m,\u001b[49m\u001b[43m \u001b[49m\u001b[43mtf\u001b[49m\u001b[38;5;241;43m.\u001b[39;49m\u001b[43mfloat32\u001b[49m\u001b[43m)\u001b[49m\u001b[43m \u001b[49m\u001b[38;5;241;43m-\u001b[39;49m\u001b[43m \u001b[49m\u001b[43mtf\u001b[49m\u001b[38;5;241;43m.\u001b[39;49m\u001b[43mcast\u001b[49m\u001b[43m(\u001b[49m\u001b[43mbmu\u001b[49m\u001b[43m,\u001b[49m\u001b[43m \u001b[49m\u001b[43mtf\u001b[49m\u001b[38;5;241;43m.\u001b[39;49m\u001b[43mfloat32\u001b[49m\u001b[43m)\u001b[49m)))\n\u001b[0;32m     18\u001b[0m         neighborhood \u001b[38;5;241m=\u001b[39m tf\u001b[38;5;241m.\u001b[39mexp(\u001b[38;5;241m-\u001b[39mtf\u001b[38;5;241m.\u001b[39msquare(distance_to_bmu) \u001b[38;5;241m/\u001b[39m (\u001b[38;5;241m2\u001b[39m \u001b[38;5;241m*\u001b[39m tf\u001b[38;5;241m.\u001b[39msquare(sigma)))\n\u001b[0;32m     20\u001b[0m         \u001b[38;5;66;03m# Update the weight\u001b[39;00m\n",
      "File \u001b[1;32m~\\AppData\\Local\\Programs\\Python\\Python312\\Lib\\site-packages\\tensorflow\\python\\util\\traceback_utils.py:153\u001b[0m, in \u001b[0;36mfilter_traceback.<locals>.error_handler\u001b[1;34m(*args, **kwargs)\u001b[0m\n\u001b[0;32m    151\u001b[0m \u001b[38;5;28;01mexcept\u001b[39;00m \u001b[38;5;167;01mException\u001b[39;00m \u001b[38;5;28;01mas\u001b[39;00m e:\n\u001b[0;32m    152\u001b[0m   filtered_tb \u001b[38;5;241m=\u001b[39m _process_traceback_frames(e\u001b[38;5;241m.\u001b[39m__traceback__)\n\u001b[1;32m--> 153\u001b[0m   \u001b[38;5;28;01mraise\u001b[39;00m e\u001b[38;5;241m.\u001b[39mwith_traceback(filtered_tb) \u001b[38;5;28;01mfrom\u001b[39;00m \u001b[38;5;28;01mNone\u001b[39;00m\n\u001b[0;32m    154\u001b[0m \u001b[38;5;28;01mfinally\u001b[39;00m:\n\u001b[0;32m    155\u001b[0m   \u001b[38;5;28;01mdel\u001b[39;00m filtered_tb\n",
      "File \u001b[1;32m~\\AppData\\Local\\Programs\\Python\\Python312\\Lib\\site-packages\\tensorflow\\python\\framework\\ops.py:6002\u001b[0m, in \u001b[0;36mraise_from_not_ok_status\u001b[1;34m(e, name)\u001b[0m\n\u001b[0;32m   6000\u001b[0m \u001b[38;5;28;01mdef\u001b[39;00m \u001b[38;5;21mraise_from_not_ok_status\u001b[39m(e, name) \u001b[38;5;241m-\u001b[39m\u001b[38;5;241m>\u001b[39m NoReturn:\n\u001b[0;32m   6001\u001b[0m   e\u001b[38;5;241m.\u001b[39mmessage \u001b[38;5;241m+\u001b[39m\u001b[38;5;241m=\u001b[39m (\u001b[38;5;124m\"\u001b[39m\u001b[38;5;124m name: \u001b[39m\u001b[38;5;124m\"\u001b[39m \u001b[38;5;241m+\u001b[39m \u001b[38;5;28mstr\u001b[39m(name \u001b[38;5;28;01mif\u001b[39;00m name \u001b[38;5;129;01mis\u001b[39;00m \u001b[38;5;129;01mnot\u001b[39;00m \u001b[38;5;28;01mNone\u001b[39;00m \u001b[38;5;28;01melse\u001b[39;00m \u001b[38;5;124m\"\u001b[39m\u001b[38;5;124m\"\u001b[39m))\n\u001b[1;32m-> 6002\u001b[0m   \u001b[38;5;28;01mraise\u001b[39;00m core\u001b[38;5;241m.\u001b[39m_status_to_exception(e) \u001b[38;5;28;01mfrom\u001b[39;00m \u001b[38;5;28;01mNone\u001b[39;00m\n",
      "\u001b[1;31mInvalidArgumentError\u001b[0m: {{function_node __wrapped__Sub_device_/job:localhost/replica:0/task:0/device:CPU:0}} Incompatible shapes: [2] vs. [2,10] [Op:Sub] name: "
     ]
    }
   ],
   "source": [
    "\n",
    "# Train the SOM\n",
    "som_weights = train_som(X, som_weights, epochs, sigma, learning_rate)\n",
    "\n",
    "# Visualization\n",
    "def plot_som(som_weights):\n",
    "    plt.figure(figsize=(10, 10))\n",
    "    plt.pcolor(som_weights.numpy().mean(axis=2), cmap='bone')\n",
    "    plt.colorbar()\n",
    "    plt.show()\n",
    "\n",
    "plot_som(som_weights)"
   ]
  },
  {
   "cell_type": "code",
   "execution_count": null,
   "id": "993f3f12-16b9-4fb2-b72c-43eaaa83b5ae",
   "metadata": {},
   "outputs": [],
   "source": []
  }
 ],
 "metadata": {
  "kernelspec": {
   "display_name": "Python 3 (ipykernel)",
   "language": "python",
   "name": "python3"
  },
  "language_info": {
   "codemirror_mode": {
    "name": "ipython",
    "version": 3
   },
   "file_extension": ".py",
   "mimetype": "text/x-python",
   "name": "python",
   "nbconvert_exporter": "python",
   "pygments_lexer": "ipython3",
   "version": "3.12.6"
  }
 },
 "nbformat": 4,
 "nbformat_minor": 5
}
