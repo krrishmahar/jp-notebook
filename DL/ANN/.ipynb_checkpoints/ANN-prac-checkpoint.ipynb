{
 "cells": [
  {
   "cell_type": "code",
   "execution_count": 1,
   "id": "5191ef33-9722-4aab-93d5-70d6650e804f",
   "metadata": {},
   "outputs": [],
   "source": [
    "import tensorflow as tf"
   ]
  },
  {
   "cell_type": "code",
   "execution_count": 2,
   "id": "0e8feeaf-a3ca-48a8-80dd-11d015141161",
   "metadata": {},
   "outputs": [
    {
     "name": "stdout",
     "output_type": "stream",
     "text": [
      "2.18.0\n"
     ]
    }
   ],
   "source": [
    "print(tf.__version__)"
   ]
  },
  {
   "cell_type": "markdown",
   "id": "1871ae5b-8dae-4f11-b2ea-26926e06600d",
   "metadata": {},
   "source": [
    "## Importing Liraries"
   ]
  },
  {
   "cell_type": "code",
   "execution_count": 70,
   "id": "761092e8-3f98-4bfa-b0bf-bc2d6c1a637b",
   "metadata": {},
   "outputs": [],
   "source": [
    "import pandas as pd\n",
    "import numpy as np\n",
    "import matplotlib.pyplot as plt\n",
    "%matplotlib inline"
   ]
  },
  {
   "cell_type": "code",
   "execution_count": 4,
   "id": "38d8b31d-57e5-4526-85d0-4dc8543a3380",
   "metadata": {},
   "outputs": [],
   "source": [
    "dataset=pd.read_csv('Churn_Modelling.csv')"
   ]
  },
  {
   "cell_type": "code",
   "execution_count": 5,
   "id": "c38075ea-ea38-403b-a45f-2f815fa7611a",
   "metadata": {},
   "outputs": [
    {
     "data": {
      "text/html": [
       "<div>\n",
       "<style scoped>\n",
       "    .dataframe tbody tr th:only-of-type {\n",
       "        vertical-align: middle;\n",
       "    }\n",
       "\n",
       "    .dataframe tbody tr th {\n",
       "        vertical-align: top;\n",
       "    }\n",
       "\n",
       "    .dataframe thead th {\n",
       "        text-align: right;\n",
       "    }\n",
       "</style>\n",
       "<table border=\"1\" class=\"dataframe\">\n",
       "  <thead>\n",
       "    <tr style=\"text-align: right;\">\n",
       "      <th></th>\n",
       "      <th>RowNumber</th>\n",
       "      <th>CustomerId</th>\n",
       "      <th>Surname</th>\n",
       "      <th>CreditScore</th>\n",
       "      <th>Geography</th>\n",
       "      <th>Gender</th>\n",
       "      <th>Age</th>\n",
       "      <th>Tenure</th>\n",
       "      <th>Balance</th>\n",
       "      <th>NumOfProducts</th>\n",
       "      <th>HasCrCard</th>\n",
       "      <th>IsActiveMember</th>\n",
       "      <th>EstimatedSalary</th>\n",
       "      <th>Exited</th>\n",
       "    </tr>\n",
       "  </thead>\n",
       "  <tbody>\n",
       "    <tr>\n",
       "      <th>0</th>\n",
       "      <td>1</td>\n",
       "      <td>15634602</td>\n",
       "      <td>Hargrave</td>\n",
       "      <td>619</td>\n",
       "      <td>France</td>\n",
       "      <td>Female</td>\n",
       "      <td>42</td>\n",
       "      <td>2</td>\n",
       "      <td>0.00</td>\n",
       "      <td>1</td>\n",
       "      <td>1</td>\n",
       "      <td>1</td>\n",
       "      <td>101348.88</td>\n",
       "      <td>1</td>\n",
       "    </tr>\n",
       "    <tr>\n",
       "      <th>1</th>\n",
       "      <td>2</td>\n",
       "      <td>15647311</td>\n",
       "      <td>Hill</td>\n",
       "      <td>608</td>\n",
       "      <td>Spain</td>\n",
       "      <td>Female</td>\n",
       "      <td>41</td>\n",
       "      <td>1</td>\n",
       "      <td>83807.86</td>\n",
       "      <td>1</td>\n",
       "      <td>0</td>\n",
       "      <td>1</td>\n",
       "      <td>112542.58</td>\n",
       "      <td>0</td>\n",
       "    </tr>\n",
       "    <tr>\n",
       "      <th>2</th>\n",
       "      <td>3</td>\n",
       "      <td>15619304</td>\n",
       "      <td>Onio</td>\n",
       "      <td>502</td>\n",
       "      <td>France</td>\n",
       "      <td>Female</td>\n",
       "      <td>42</td>\n",
       "      <td>8</td>\n",
       "      <td>159660.80</td>\n",
       "      <td>3</td>\n",
       "      <td>1</td>\n",
       "      <td>0</td>\n",
       "      <td>113931.57</td>\n",
       "      <td>1</td>\n",
       "    </tr>\n",
       "    <tr>\n",
       "      <th>3</th>\n",
       "      <td>4</td>\n",
       "      <td>15701354</td>\n",
       "      <td>Boni</td>\n",
       "      <td>699</td>\n",
       "      <td>France</td>\n",
       "      <td>Female</td>\n",
       "      <td>39</td>\n",
       "      <td>1</td>\n",
       "      <td>0.00</td>\n",
       "      <td>2</td>\n",
       "      <td>0</td>\n",
       "      <td>0</td>\n",
       "      <td>93826.63</td>\n",
       "      <td>0</td>\n",
       "    </tr>\n",
       "    <tr>\n",
       "      <th>4</th>\n",
       "      <td>5</td>\n",
       "      <td>15737888</td>\n",
       "      <td>Mitchell</td>\n",
       "      <td>850</td>\n",
       "      <td>Spain</td>\n",
       "      <td>Female</td>\n",
       "      <td>43</td>\n",
       "      <td>2</td>\n",
       "      <td>125510.82</td>\n",
       "      <td>1</td>\n",
       "      <td>1</td>\n",
       "      <td>1</td>\n",
       "      <td>79084.10</td>\n",
       "      <td>0</td>\n",
       "    </tr>\n",
       "  </tbody>\n",
       "</table>\n",
       "</div>"
      ],
      "text/plain": [
       "   RowNumber  CustomerId   Surname  CreditScore Geography  Gender  Age  \\\n",
       "0          1    15634602  Hargrave          619    France  Female   42   \n",
       "1          2    15647311      Hill          608     Spain  Female   41   \n",
       "2          3    15619304      Onio          502    France  Female   42   \n",
       "3          4    15701354      Boni          699    France  Female   39   \n",
       "4          5    15737888  Mitchell          850     Spain  Female   43   \n",
       "\n",
       "   Tenure    Balance  NumOfProducts  HasCrCard  IsActiveMember  \\\n",
       "0       2       0.00              1          1               1   \n",
       "1       1   83807.86              1          0               1   \n",
       "2       8  159660.80              3          1               0   \n",
       "3       1       0.00              2          0               0   \n",
       "4       2  125510.82              1          1               1   \n",
       "\n",
       "   EstimatedSalary  Exited  \n",
       "0        101348.88       1  \n",
       "1        112542.58       0  \n",
       "2        113931.57       1  \n",
       "3         93826.63       0  \n",
       "4         79084.10       0  "
      ]
     },
     "execution_count": 5,
     "metadata": {},
     "output_type": "execute_result"
    }
   ],
   "source": [
    "dataset.head()"
   ]
  },
  {
   "cell_type": "code",
   "execution_count": 30,
   "id": "8e3fb36f-ab01-4a8e-abf2-ae2882b188b4",
   "metadata": {},
   "outputs": [],
   "source": [
    "## Divide dataset to dependent and independent features\n",
    "X=dataset.iloc[:, 3:-1]\n",
    "y=dataset.iloc[:,-1]"
   ]
  },
  {
   "cell_type": "code",
   "execution_count": 31,
   "id": "69b9b26e-7845-4a72-94e4-7ae5a202daef",
   "metadata": {},
   "outputs": [],
   "source": [
    "# Feature Engineering\n",
    "geography=pd.get_dummies(X['geography'.capitalize()], drop_first=1)\n",
    "gender=pd.get_dummies(X['gender'.capitalize()],drop_first=1)"
   ]
  },
  {
   "cell_type": "code",
   "execution_count": 32,
   "id": "1fec6425-662d-4834-a5a2-117c90dcc3ee",
   "metadata": {},
   "outputs": [
    {
     "data": {
      "text/html": [
       "<div>\n",
       "<style scoped>\n",
       "    .dataframe tbody tr th:only-of-type {\n",
       "        vertical-align: middle;\n",
       "    }\n",
       "\n",
       "    .dataframe tbody tr th {\n",
       "        vertical-align: top;\n",
       "    }\n",
       "\n",
       "    .dataframe thead th {\n",
       "        text-align: right;\n",
       "    }\n",
       "</style>\n",
       "<table border=\"1\" class=\"dataframe\">\n",
       "  <thead>\n",
       "    <tr style=\"text-align: right;\">\n",
       "      <th></th>\n",
       "      <th>CreditScore</th>\n",
       "      <th>Age</th>\n",
       "      <th>Tenure</th>\n",
       "      <th>Balance</th>\n",
       "      <th>NumOfProducts</th>\n",
       "      <th>HasCrCard</th>\n",
       "      <th>IsActiveMember</th>\n",
       "      <th>EstimatedSalary</th>\n",
       "    </tr>\n",
       "  </thead>\n",
       "  <tbody>\n",
       "    <tr>\n",
       "      <th>0</th>\n",
       "      <td>619</td>\n",
       "      <td>42</td>\n",
       "      <td>2</td>\n",
       "      <td>0.00</td>\n",
       "      <td>1</td>\n",
       "      <td>1</td>\n",
       "      <td>1</td>\n",
       "      <td>101348.88</td>\n",
       "    </tr>\n",
       "    <tr>\n",
       "      <th>1</th>\n",
       "      <td>608</td>\n",
       "      <td>41</td>\n",
       "      <td>1</td>\n",
       "      <td>83807.86</td>\n",
       "      <td>1</td>\n",
       "      <td>0</td>\n",
       "      <td>1</td>\n",
       "      <td>112542.58</td>\n",
       "    </tr>\n",
       "    <tr>\n",
       "      <th>2</th>\n",
       "      <td>502</td>\n",
       "      <td>42</td>\n",
       "      <td>8</td>\n",
       "      <td>159660.80</td>\n",
       "      <td>3</td>\n",
       "      <td>1</td>\n",
       "      <td>0</td>\n",
       "      <td>113931.57</td>\n",
       "    </tr>\n",
       "    <tr>\n",
       "      <th>3</th>\n",
       "      <td>699</td>\n",
       "      <td>39</td>\n",
       "      <td>1</td>\n",
       "      <td>0.00</td>\n",
       "      <td>2</td>\n",
       "      <td>0</td>\n",
       "      <td>0</td>\n",
       "      <td>93826.63</td>\n",
       "    </tr>\n",
       "    <tr>\n",
       "      <th>4</th>\n",
       "      <td>850</td>\n",
       "      <td>43</td>\n",
       "      <td>2</td>\n",
       "      <td>125510.82</td>\n",
       "      <td>1</td>\n",
       "      <td>1</td>\n",
       "      <td>1</td>\n",
       "      <td>79084.10</td>\n",
       "    </tr>\n",
       "  </tbody>\n",
       "</table>\n",
       "</div>"
      ],
      "text/plain": [
       "   CreditScore  Age  Tenure    Balance  NumOfProducts  HasCrCard  \\\n",
       "0          619   42       2       0.00              1          1   \n",
       "1          608   41       1   83807.86              1          0   \n",
       "2          502   42       8  159660.80              3          1   \n",
       "3          699   39       1       0.00              2          0   \n",
       "4          850   43       2  125510.82              1          1   \n",
       "\n",
       "   IsActiveMember  EstimatedSalary  \n",
       "0               1        101348.88  \n",
       "1               1        112542.58  \n",
       "2               0        113931.57  \n",
       "3               0         93826.63  \n",
       "4               1         79084.10  "
      ]
     },
     "execution_count": 32,
     "metadata": {},
     "output_type": "execute_result"
    }
   ],
   "source": [
    "## Concatenate this values with dataframe\n",
    "X=X.drop(['Geography', 'Gender'], axis=1)\n",
    "X.head()"
   ]
  },
  {
   "cell_type": "code",
   "execution_count": 33,
   "id": "e988984d-568d-412a-9142-5e7e08c40ab4",
   "metadata": {},
   "outputs": [],
   "source": [
    "X=pd.concat([X,geography,gender], axis=1)"
   ]
  },
  {
   "cell_type": "markdown",
   "id": "d950839a-242c-4505-ba63-6ad1822666d2",
   "metadata": {},
   "source": [
    "### Split into train-test-split "
   ]
  },
  {
   "cell_type": "code",
   "execution_count": 34,
   "id": "bd87bae8-90ef-43d9-a5bc-d21962103565",
   "metadata": {},
   "outputs": [],
   "source": [
    "from sklearn.model_selection import train_test_split\n",
    "X_train,X_test,y_train,y_test = train_test_split(X,y,test_size=0.2, random_state=42)"
   ]
  },
  {
   "cell_type": "markdown",
   "id": "c2b22c85-d9e9-46ce-8730-c5c15b3bf915",
   "metadata": {},
   "source": [
    "## Feature Scaling"
   ]
  },
  {
   "cell_type": "code",
   "execution_count": 37,
   "id": "5dc7f64d-6e81-4491-bb8d-4a5a637b576a",
   "metadata": {},
   "outputs": [],
   "source": [
    "from sklearn.preprocessing import StandardScaler\n",
    "sc=StandardScaler()\n",
    "X_train=sc.fit_transform(X_train)\n",
    "X_test=sc.transform(X_test)"
   ]
  },
  {
   "cell_type": "code",
   "execution_count": 38,
   "id": "f2013ba4-829d-47d2-ab39-2d42eb12ee8d",
   "metadata": {},
   "outputs": [
    {
     "data": {
      "text/plain": [
       "array([[ 0.35649971, -0.6557859 ,  0.34567966, ..., -0.57946723,\n",
       "        -0.57638802,  0.91324755],\n",
       "       [-0.20389777,  0.29493847, -0.3483691 , ...,  1.72572313,\n",
       "        -0.57638802,  0.91324755],\n",
       "       [-0.96147213, -1.41636539, -0.69539349, ..., -0.57946723,\n",
       "         1.73494238,  0.91324755],\n",
       "       ...,\n",
       "       [ 0.86500853, -0.08535128, -1.38944225, ..., -0.57946723,\n",
       "        -0.57638802, -1.09499335],\n",
       "       [ 0.15932282,  0.3900109 ,  1.03972843, ..., -0.57946723,\n",
       "        -0.57638802,  0.91324755],\n",
       "       [ 0.47065475,  1.15059039, -1.38944225, ...,  1.72572313,\n",
       "        -0.57638802,  0.91324755]])"
      ]
     },
     "execution_count": 38,
     "metadata": {},
     "output_type": "execute_result"
    }
   ],
   "source": [
    "X_train"
   ]
  },
  {
   "cell_type": "code",
   "execution_count": 39,
   "id": "ee3c6e28-a300-4255-ae95-10a13167a24c",
   "metadata": {},
   "outputs": [
    {
     "data": {
      "text/plain": [
       "array([[-0.57749609, -0.6557859 , -0.69539349, ...,  1.72572313,\n",
       "        -0.57638802,  0.91324755],\n",
       "       [-0.29729735,  0.3900109 , -1.38944225, ..., -0.57946723,\n",
       "        -0.57638802,  0.91324755],\n",
       "       [-0.52560743,  0.48508334, -0.3483691 , ..., -0.57946723,\n",
       "         1.73494238, -1.09499335],\n",
       "       ...,\n",
       "       [ 0.81311987,  0.77030065,  0.69270405, ..., -0.57946723,\n",
       "        -0.57638802, -1.09499335],\n",
       "       [ 0.41876609, -0.94100321, -0.3483691 , ..., -0.57946723,\n",
       "        -0.57638802,  0.91324755],\n",
       "       [-0.24540869,  0.00972116, -1.38944225, ...,  1.72572313,\n",
       "        -0.57638802,  0.91324755]])"
      ]
     },
     "execution_count": 39,
     "metadata": {},
     "output_type": "execute_result"
    }
   ],
   "source": [
    "X_test"
   ]
  },
  {
   "cell_type": "code",
   "execution_count": 41,
   "id": "378d055d-0a7b-4972-b805-aa238eb3a77b",
   "metadata": {},
   "outputs": [
    {
     "name": "stdout",
     "output_type": "stream",
     "text": [
      "(8000, 11) (2000, 11)\n"
     ]
    }
   ],
   "source": [
    "print(X_train.shape, X_test.shape)"
   ]
  },
  {
   "cell_type": "markdown",
   "id": "be9dcc48-2a67-4dcd-92ff-690d6ad35e64",
   "metadata": {},
   "source": [
    "## Part 2: Creating an ANN "
   ]
  },
  {
   "cell_type": "code",
   "execution_count": 47,
   "id": "5220b27b-c68a-4cee-8f43-4f930754a8d7",
   "metadata": {},
   "outputs": [],
   "source": [
    "from tensorflow.keras.models import Sequential\n",
    "from tensorflow.keras.layers import Dense\n",
    "from tensorflow.keras.layers import LeakyReLU,PReLU,ELU,ReLU\n",
    "from tensorflow.keras.layers import Dropout"
   ]
  },
  {
   "cell_type": "code",
   "execution_count": 78,
   "id": "d4ffc8e5-8541-4ca2-8f12-aa90efac5b3a",
   "metadata": {},
   "outputs": [],
   "source": [
    "# Initialize the ANN\n",
    "classifier=Sequential()"
   ]
  },
  {
   "cell_type": "code",
   "execution_count": 79,
   "id": "34da852a-9005-4fe3-8fd3-2a60f859272b",
   "metadata": {},
   "outputs": [],
   "source": [
    "# Adding the Input layer\n",
    "classifier.add(Dense(units=11, activation='relu'))"
   ]
  },
  {
   "cell_type": "code",
   "execution_count": 80,
   "id": "5a0129d6-d8fc-451f-81d6-bca9aae6ab35",
   "metadata": {},
   "outputs": [],
   "source": [
    "# Adding the 1st hidden layer with dropout layer \n",
    "classifier.add(Dense(units=7))\n",
    "classifier.add(Dropout(.3))"
   ]
  },
  {
   "cell_type": "code",
   "execution_count": 81,
   "id": "616c83fd-9a16-4632-a12a-54923ca53f15",
   "metadata": {},
   "outputs": [],
   "source": [
    "classifier.add(Dense(units=6))\n",
    "classifier.add(Dropout(0.5))"
   ]
  },
  {
   "cell_type": "code",
   "execution_count": 82,
   "id": "36cdc7de-a996-4ed5-aa65-2b3afe9856a8",
   "metadata": {},
   "outputs": [],
   "source": [
    "classifier.add(Dense(units=1, activation='sigmoid'))"
   ]
  },
  {
   "cell_type": "code",
   "execution_count": 83,
   "id": "0ef01852-3838-46f0-8789-dac838cebc97",
   "metadata": {},
   "outputs": [],
   "source": [
    "classifier.compile(optimizer='adam', loss='binary_crossentropy', metrics=['accuracy'])"
   ]
  },
  {
   "cell_type": "code",
   "execution_count": 84,
   "id": "4f8d3b63-c0f6-4664-8f3e-4ab8e8d70b12",
   "metadata": {},
   "outputs": [],
   "source": [
    "import tensorflow\n",
    "opt = tensorflow.keras.optimizers.Adam(learning_rate=0.01)"
   ]
  },
  {
   "cell_type": "code",
   "execution_count": 85,
   "id": "d76566bc-e92c-409b-96fe-7670edc44f8c",
   "metadata": {},
   "outputs": [],
   "source": [
    "# Early Stopping \n",
    "import tensorflow as tf\n",
    "early_stopping=tf.keras.callbacks.EarlyStopping(\n",
    "    monitor=\"val_loss\",\n",
    "    min_delta=0.0001,\n",
    "    patience=20,\n",
    "    verbose=1,\n",
    "    mode=\"auto\",\n",
    "    baseline=None,\n",
    "    restore_best_weights=False,\n",
    "    start_from_epoch=0,\n",
    ")\n"
   ]
  },
  {
   "cell_type": "code",
   "execution_count": 86,
   "id": "5014d5da-25ad-4682-b2b0-21af1a950de0",
   "metadata": {},
   "outputs": [
    {
     "name": "stdout",
     "output_type": "stream",
     "text": [
      "Epoch 1/1000\n",
      "\u001b[1m536/536\u001b[0m \u001b[32m━━━━━━━━━━━━━━━━━━━━\u001b[0m\u001b[37m\u001b[0m \u001b[1m6s\u001b[0m 5ms/step - accuracy: 0.6217 - loss: 0.7894 - val_accuracy: 0.7910 - val_loss: 0.5124\n",
      "Epoch 2/1000\n",
      "\u001b[1m536/536\u001b[0m \u001b[32m━━━━━━━━━━━━━━━━━━━━\u001b[0m\u001b[37m\u001b[0m \u001b[1m2s\u001b[0m 4ms/step - accuracy: 0.7844 - loss: 0.5432 - val_accuracy: 0.7914 - val_loss: 0.4725\n",
      "Epoch 3/1000\n",
      "\u001b[1m536/536\u001b[0m \u001b[32m━━━━━━━━━━━━━━━━━━━━\u001b[0m\u001b[37m\u001b[0m \u001b[1m2s\u001b[0m 4ms/step - accuracy: 0.8006 - loss: 0.4958 - val_accuracy: 0.7970 - val_loss: 0.4462\n",
      "Epoch 4/1000\n",
      "\u001b[1m536/536\u001b[0m \u001b[32m━━━━━━━━━━━━━━━━━━━━\u001b[0m\u001b[37m\u001b[0m \u001b[1m2s\u001b[0m 4ms/step - accuracy: 0.8048 - loss: 0.4676 - val_accuracy: 0.8118 - val_loss: 0.4296\n",
      "Epoch 5/1000\n",
      "\u001b[1m536/536\u001b[0m \u001b[32m━━━━━━━━━━━━━━━━━━━━\u001b[0m\u001b[37m\u001b[0m \u001b[1m2s\u001b[0m 4ms/step - accuracy: 0.8113 - loss: 0.4512 - val_accuracy: 0.8164 - val_loss: 0.4137\n",
      "Epoch 6/1000\n",
      "\u001b[1m536/536\u001b[0m \u001b[32m━━━━━━━━━━━━━━━━━━━━\u001b[0m\u001b[37m\u001b[0m \u001b[1m2s\u001b[0m 4ms/step - accuracy: 0.8143 - loss: 0.4346 - val_accuracy: 0.8285 - val_loss: 0.3974\n",
      "Epoch 7/1000\n",
      "\u001b[1m536/536\u001b[0m \u001b[32m━━━━━━━━━━━━━━━━━━━━\u001b[0m\u001b[37m\u001b[0m \u001b[1m2s\u001b[0m 4ms/step - accuracy: 0.8360 - loss: 0.4077 - val_accuracy: 0.8368 - val_loss: 0.3833\n",
      "Epoch 8/1000\n",
      "\u001b[1m536/536\u001b[0m \u001b[32m━━━━━━━━━━━━━━━━━━━━\u001b[0m\u001b[37m\u001b[0m \u001b[1m2s\u001b[0m 4ms/step - accuracy: 0.8298 - loss: 0.4016 - val_accuracy: 0.8451 - val_loss: 0.3758\n",
      "Epoch 9/1000\n",
      "\u001b[1m536/536\u001b[0m \u001b[32m━━━━━━━━━━━━━━━━━━━━\u001b[0m\u001b[37m\u001b[0m \u001b[1m3s\u001b[0m 4ms/step - accuracy: 0.8328 - loss: 0.4017 - val_accuracy: 0.8466 - val_loss: 0.3727\n",
      "Epoch 10/1000\n",
      "\u001b[1m536/536\u001b[0m \u001b[32m━━━━━━━━━━━━━━━━━━━━\u001b[0m\u001b[37m\u001b[0m \u001b[1m2s\u001b[0m 4ms/step - accuracy: 0.8396 - loss: 0.3892 - val_accuracy: 0.8436 - val_loss: 0.3709\n",
      "Epoch 11/1000\n",
      "\u001b[1m536/536\u001b[0m \u001b[32m━━━━━━━━━━━━━━━━━━━━\u001b[0m\u001b[37m\u001b[0m \u001b[1m2s\u001b[0m 4ms/step - accuracy: 0.8423 - loss: 0.3793 - val_accuracy: 0.8406 - val_loss: 0.3717\n",
      "Epoch 12/1000\n",
      "\u001b[1m536/536\u001b[0m \u001b[32m━━━━━━━━━━━━━━━━━━━━\u001b[0m\u001b[37m\u001b[0m \u001b[1m2s\u001b[0m 4ms/step - accuracy: 0.8516 - loss: 0.3561 - val_accuracy: 0.8482 - val_loss: 0.3684\n",
      "Epoch 13/1000\n",
      "\u001b[1m536/536\u001b[0m \u001b[32m━━━━━━━━━━━━━━━━━━━━\u001b[0m\u001b[37m\u001b[0m \u001b[1m2s\u001b[0m 4ms/step - accuracy: 0.8578 - loss: 0.3571 - val_accuracy: 0.8516 - val_loss: 0.3671\n",
      "Epoch 14/1000\n",
      "\u001b[1m536/536\u001b[0m \u001b[32m━━━━━━━━━━━━━━━━━━━━\u001b[0m\u001b[37m\u001b[0m \u001b[1m2s\u001b[0m 4ms/step - accuracy: 0.8498 - loss: 0.3722 - val_accuracy: 0.8485 - val_loss: 0.3654\n",
      "Epoch 15/1000\n",
      "\u001b[1m536/536\u001b[0m \u001b[32m━━━━━━━━━━━━━━━━━━━━\u001b[0m\u001b[37m\u001b[0m \u001b[1m3s\u001b[0m 4ms/step - accuracy: 0.8557 - loss: 0.3576 - val_accuracy: 0.8523 - val_loss: 0.3645\n",
      "Epoch 16/1000\n",
      "\u001b[1m536/536\u001b[0m \u001b[32m━━━━━━━━━━━━━━━━━━━━\u001b[0m\u001b[37m\u001b[0m \u001b[1m2s\u001b[0m 4ms/step - accuracy: 0.8488 - loss: 0.3618 - val_accuracy: 0.8508 - val_loss: 0.3654\n",
      "Epoch 17/1000\n",
      "\u001b[1m536/536\u001b[0m \u001b[32m━━━━━━━━━━━━━━━━━━━━\u001b[0m\u001b[37m\u001b[0m \u001b[1m2s\u001b[0m 4ms/step - accuracy: 0.8449 - loss: 0.3756 - val_accuracy: 0.8523 - val_loss: 0.3650\n",
      "Epoch 18/1000\n",
      "\u001b[1m536/536\u001b[0m \u001b[32m━━━━━━━━━━━━━━━━━━━━\u001b[0m\u001b[37m\u001b[0m \u001b[1m3s\u001b[0m 4ms/step - accuracy: 0.8560 - loss: 0.3593 - val_accuracy: 0.8531 - val_loss: 0.3665\n",
      "Epoch 19/1000\n",
      "\u001b[1m536/536\u001b[0m \u001b[32m━━━━━━━━━━━━━━━━━━━━\u001b[0m\u001b[37m\u001b[0m \u001b[1m2s\u001b[0m 4ms/step - accuracy: 0.8505 - loss: 0.3578 - val_accuracy: 0.8497 - val_loss: 0.3658\n",
      "Epoch 20/1000\n",
      "\u001b[1m536/536\u001b[0m \u001b[32m━━━━━━━━━━━━━━━━━━━━\u001b[0m\u001b[37m\u001b[0m \u001b[1m2s\u001b[0m 4ms/step - accuracy: 0.8513 - loss: 0.3586 - val_accuracy: 0.8508 - val_loss: 0.3643\n",
      "Epoch 21/1000\n",
      "\u001b[1m536/536\u001b[0m \u001b[32m━━━━━━━━━━━━━━━━━━━━\u001b[0m\u001b[37m\u001b[0m \u001b[1m2s\u001b[0m 4ms/step - accuracy: 0.8520 - loss: 0.3589 - val_accuracy: 0.8497 - val_loss: 0.3647\n",
      "Epoch 22/1000\n",
      "\u001b[1m536/536\u001b[0m \u001b[32m━━━━━━━━━━━━━━━━━━━━\u001b[0m\u001b[37m\u001b[0m \u001b[1m2s\u001b[0m 4ms/step - accuracy: 0.8455 - loss: 0.3836 - val_accuracy: 0.8489 - val_loss: 0.3665\n",
      "Epoch 23/1000\n",
      "\u001b[1m536/536\u001b[0m \u001b[32m━━━━━━━━━━━━━━━━━━━━\u001b[0m\u001b[37m\u001b[0m \u001b[1m2s\u001b[0m 4ms/step - accuracy: 0.8507 - loss: 0.3681 - val_accuracy: 0.8508 - val_loss: 0.3620\n",
      "Epoch 24/1000\n",
      "\u001b[1m536/536\u001b[0m \u001b[32m━━━━━━━━━━━━━━━━━━━━\u001b[0m\u001b[37m\u001b[0m \u001b[1m3s\u001b[0m 4ms/step - accuracy: 0.8554 - loss: 0.3546 - val_accuracy: 0.8512 - val_loss: 0.3625\n",
      "Epoch 25/1000\n",
      "\u001b[1m536/536\u001b[0m \u001b[32m━━━━━━━━━━━━━━━━━━━━\u001b[0m\u001b[37m\u001b[0m \u001b[1m2s\u001b[0m 4ms/step - accuracy: 0.8506 - loss: 0.3576 - val_accuracy: 0.8519 - val_loss: 0.3620\n",
      "Epoch 26/1000\n",
      "\u001b[1m536/536\u001b[0m \u001b[32m━━━━━━━━━━━━━━━━━━━━\u001b[0m\u001b[37m\u001b[0m \u001b[1m2s\u001b[0m 4ms/step - accuracy: 0.8504 - loss: 0.3628 - val_accuracy: 0.8512 - val_loss: 0.3626\n",
      "Epoch 27/1000\n",
      "\u001b[1m536/536\u001b[0m \u001b[32m━━━━━━━━━━━━━━━━━━━━\u001b[0m\u001b[37m\u001b[0m \u001b[1m3s\u001b[0m 4ms/step - accuracy: 0.8598 - loss: 0.3446 - val_accuracy: 0.8485 - val_loss: 0.3644\n",
      "Epoch 28/1000\n",
      "\u001b[1m536/536\u001b[0m \u001b[32m━━━━━━━━━━━━━━━━━━━━\u001b[0m\u001b[37m\u001b[0m \u001b[1m2s\u001b[0m 4ms/step - accuracy: 0.8456 - loss: 0.3665 - val_accuracy: 0.8519 - val_loss: 0.3628\n",
      "Epoch 29/1000\n",
      "\u001b[1m536/536\u001b[0m \u001b[32m━━━━━━━━━━━━━━━━━━━━\u001b[0m\u001b[37m\u001b[0m \u001b[1m2s\u001b[0m 4ms/step - accuracy: 0.8522 - loss: 0.3576 - val_accuracy: 0.8508 - val_loss: 0.3623\n",
      "Epoch 30/1000\n",
      "\u001b[1m536/536\u001b[0m \u001b[32m━━━━━━━━━━━━━━━━━━━━\u001b[0m\u001b[37m\u001b[0m \u001b[1m2s\u001b[0m 4ms/step - accuracy: 0.8600 - loss: 0.3534 - val_accuracy: 0.8516 - val_loss: 0.3617\n",
      "Epoch 31/1000\n",
      "\u001b[1m536/536\u001b[0m \u001b[32m━━━━━━━━━━━━━━━━━━━━\u001b[0m\u001b[37m\u001b[0m \u001b[1m2s\u001b[0m 4ms/step - accuracy: 0.8488 - loss: 0.3638 - val_accuracy: 0.8531 - val_loss: 0.3611\n",
      "Epoch 32/1000\n",
      "\u001b[1m536/536\u001b[0m \u001b[32m━━━━━━━━━━━━━━━━━━━━\u001b[0m\u001b[37m\u001b[0m \u001b[1m2s\u001b[0m 4ms/step - accuracy: 0.8457 - loss: 0.3574 - val_accuracy: 0.8523 - val_loss: 0.3613\n",
      "Epoch 33/1000\n",
      "\u001b[1m536/536\u001b[0m \u001b[32m━━━━━━━━━━━━━━━━━━━━\u001b[0m\u001b[37m\u001b[0m \u001b[1m2s\u001b[0m 4ms/step - accuracy: 0.8545 - loss: 0.3577 - val_accuracy: 0.8527 - val_loss: 0.3602\n",
      "Epoch 34/1000\n",
      "\u001b[1m536/536\u001b[0m \u001b[32m━━━━━━━━━━━━━━━━━━━━\u001b[0m\u001b[37m\u001b[0m \u001b[1m2s\u001b[0m 4ms/step - accuracy: 0.8443 - loss: 0.3764 - val_accuracy: 0.8557 - val_loss: 0.3600\n",
      "Epoch 35/1000\n",
      "\u001b[1m536/536\u001b[0m \u001b[32m━━━━━━━━━━━━━━━━━━━━\u001b[0m\u001b[37m\u001b[0m \u001b[1m2s\u001b[0m 4ms/step - accuracy: 0.8592 - loss: 0.3473 - val_accuracy: 0.8512 - val_loss: 0.3608\n",
      "Epoch 36/1000\n",
      "\u001b[1m536/536\u001b[0m \u001b[32m━━━━━━━━━━━━━━━━━━━━\u001b[0m\u001b[37m\u001b[0m \u001b[1m3s\u001b[0m 4ms/step - accuracy: 0.8561 - loss: 0.3542 - val_accuracy: 0.8493 - val_loss: 0.3602\n",
      "Epoch 37/1000\n",
      "\u001b[1m536/536\u001b[0m \u001b[32m━━━━━━━━━━━━━━━━━━━━\u001b[0m\u001b[37m\u001b[0m \u001b[1m3s\u001b[0m 4ms/step - accuracy: 0.8545 - loss: 0.3541 - val_accuracy: 0.8527 - val_loss: 0.3591\n",
      "Epoch 38/1000\n",
      "\u001b[1m536/536\u001b[0m \u001b[32m━━━━━━━━━━━━━━━━━━━━\u001b[0m\u001b[37m\u001b[0m \u001b[1m2s\u001b[0m 4ms/step - accuracy: 0.8533 - loss: 0.3519 - val_accuracy: 0.8546 - val_loss: 0.3599\n",
      "Epoch 39/1000\n",
      "\u001b[1m536/536\u001b[0m \u001b[32m━━━━━━━━━━━━━━━━━━━━\u001b[0m\u001b[37m\u001b[0m \u001b[1m2s\u001b[0m 4ms/step - accuracy: 0.8398 - loss: 0.3732 - val_accuracy: 0.8519 - val_loss: 0.3606\n",
      "Epoch 40/1000\n",
      "\u001b[1m536/536\u001b[0m \u001b[32m━━━━━━━━━━━━━━━━━━━━\u001b[0m\u001b[37m\u001b[0m \u001b[1m2s\u001b[0m 4ms/step - accuracy: 0.8566 - loss: 0.3476 - val_accuracy: 0.8531 - val_loss: 0.3596\n",
      "Epoch 41/1000\n",
      "\u001b[1m536/536\u001b[0m \u001b[32m━━━━━━━━━━━━━━━━━━━━\u001b[0m\u001b[37m\u001b[0m \u001b[1m2s\u001b[0m 4ms/step - accuracy: 0.8555 - loss: 0.3577 - val_accuracy: 0.8523 - val_loss: 0.3602\n",
      "Epoch 42/1000\n",
      "\u001b[1m536/536\u001b[0m \u001b[32m━━━━━━━━━━━━━━━━━━━━\u001b[0m\u001b[37m\u001b[0m \u001b[1m2s\u001b[0m 4ms/step - accuracy: 0.8523 - loss: 0.3558 - val_accuracy: 0.8535 - val_loss: 0.3607\n",
      "Epoch 43/1000\n",
      "\u001b[1m536/536\u001b[0m \u001b[32m━━━━━━━━━━━━━━━━━━━━\u001b[0m\u001b[37m\u001b[0m \u001b[1m2s\u001b[0m 4ms/step - accuracy: 0.8498 - loss: 0.3493 - val_accuracy: 0.8497 - val_loss: 0.3604\n",
      "Epoch 44/1000\n",
      "\u001b[1m536/536\u001b[0m \u001b[32m━━━━━━━━━━━━━━━━━━━━\u001b[0m\u001b[37m\u001b[0m \u001b[1m2s\u001b[0m 4ms/step - accuracy: 0.8476 - loss: 0.3688 - val_accuracy: 0.8519 - val_loss: 0.3610\n",
      "Epoch 45/1000\n",
      "\u001b[1m536/536\u001b[0m \u001b[32m━━━━━━━━━━━━━━━━━━━━\u001b[0m\u001b[37m\u001b[0m \u001b[1m2s\u001b[0m 4ms/step - accuracy: 0.8454 - loss: 0.3685 - val_accuracy: 0.8523 - val_loss: 0.3633\n",
      "Epoch 46/1000\n",
      "\u001b[1m536/536\u001b[0m \u001b[32m━━━━━━━━━━━━━━━━━━━━\u001b[0m\u001b[37m\u001b[0m \u001b[1m2s\u001b[0m 4ms/step - accuracy: 0.8530 - loss: 0.3553 - val_accuracy: 0.8478 - val_loss: 0.3610\n",
      "Epoch 47/1000\n",
      "\u001b[1m536/536\u001b[0m \u001b[32m━━━━━━━━━━━━━━━━━━━━\u001b[0m\u001b[37m\u001b[0m \u001b[1m3s\u001b[0m 4ms/step - accuracy: 0.8576 - loss: 0.3492 - val_accuracy: 0.8531 - val_loss: 0.3631\n",
      "Epoch 48/1000\n",
      "\u001b[1m536/536\u001b[0m \u001b[32m━━━━━━━━━━━━━━━━━━━━\u001b[0m\u001b[37m\u001b[0m \u001b[1m2s\u001b[0m 4ms/step - accuracy: 0.8488 - loss: 0.3627 - val_accuracy: 0.8516 - val_loss: 0.3610\n",
      "Epoch 49/1000\n",
      "\u001b[1m536/536\u001b[0m \u001b[32m━━━━━━━━━━━━━━━━━━━━\u001b[0m\u001b[37m\u001b[0m \u001b[1m3s\u001b[0m 4ms/step - accuracy: 0.8548 - loss: 0.3449 - val_accuracy: 0.8519 - val_loss: 0.3612\n",
      "Epoch 50/1000\n",
      "\u001b[1m536/536\u001b[0m \u001b[32m━━━━━━━━━━━━━━━━━━━━\u001b[0m\u001b[37m\u001b[0m \u001b[1m2s\u001b[0m 4ms/step - accuracy: 0.8463 - loss: 0.3625 - val_accuracy: 0.8501 - val_loss: 0.3604\n",
      "Epoch 51/1000\n",
      "\u001b[1m536/536\u001b[0m \u001b[32m━━━━━━━━━━━━━━━━━━━━\u001b[0m\u001b[37m\u001b[0m \u001b[1m3s\u001b[0m 4ms/step - accuracy: 0.8526 - loss: 0.3588 - val_accuracy: 0.8516 - val_loss: 0.3633\n",
      "Epoch 52/1000\n",
      "\u001b[1m536/536\u001b[0m \u001b[32m━━━━━━━━━━━━━━━━━━━━\u001b[0m\u001b[37m\u001b[0m \u001b[1m2s\u001b[0m 4ms/step - accuracy: 0.8625 - loss: 0.3459 - val_accuracy: 0.8531 - val_loss: 0.3610\n",
      "Epoch 53/1000\n",
      "\u001b[1m536/536\u001b[0m \u001b[32m━━━━━━━━━━━━━━━━━━━━\u001b[0m\u001b[37m\u001b[0m \u001b[1m3s\u001b[0m 4ms/step - accuracy: 0.8523 - loss: 0.3487 - val_accuracy: 0.8489 - val_loss: 0.3614\n",
      "Epoch 54/1000\n",
      "\u001b[1m536/536\u001b[0m \u001b[32m━━━━━━━━━━━━━━━━━━━━\u001b[0m\u001b[37m\u001b[0m \u001b[1m2s\u001b[0m 4ms/step - accuracy: 0.8544 - loss: 0.3428 - val_accuracy: 0.8504 - val_loss: 0.3606\n",
      "Epoch 55/1000\n",
      "\u001b[1m536/536\u001b[0m \u001b[32m━━━━━━━━━━━━━━━━━━━━\u001b[0m\u001b[37m\u001b[0m \u001b[1m2s\u001b[0m 4ms/step - accuracy: 0.8569 - loss: 0.3473 - val_accuracy: 0.8516 - val_loss: 0.3598\n",
      "Epoch 56/1000\n",
      "\u001b[1m536/536\u001b[0m \u001b[32m━━━━━━━━━━━━━━━━━━━━\u001b[0m\u001b[37m\u001b[0m \u001b[1m2s\u001b[0m 4ms/step - accuracy: 0.8528 - loss: 0.3569 - val_accuracy: 0.8470 - val_loss: 0.3641\n",
      "Epoch 57/1000\n",
      "\u001b[1m536/536\u001b[0m \u001b[32m━━━━━━━━━━━━━━━━━━━━\u001b[0m\u001b[37m\u001b[0m \u001b[1m2s\u001b[0m 4ms/step - accuracy: 0.8574 - loss: 0.3553 - val_accuracy: 0.8531 - val_loss: 0.3606\n",
      "Epoch 57: early stopping\n"
     ]
    }
   ],
   "source": [
    "model_history = classifier.fit(X_train,y_train,validation_split=0.33, batch_size=10, epochs=1000, callbacks=early_stopping)"
   ]
  },
  {
   "cell_type": "code",
   "execution_count": 87,
   "id": "8038ee87-64fc-4da3-8820-4292271f9f67",
   "metadata": {},
   "outputs": [
    {
     "data": {
      "text/plain": [
       "dict_keys(['accuracy', 'loss', 'val_accuracy', 'val_loss'])"
      ]
     },
     "execution_count": 87,
     "metadata": {},
     "output_type": "execute_result"
    }
   ],
   "source": [
    "model_history.history.keys()"
   ]
  },
  {
   "cell_type": "code",
   "execution_count": 88,
   "id": "65d0bcf5-ac39-48cd-8914-1314eb4501ec",
   "metadata": {},
   "outputs": [
    {
     "data": {
      "text/plain": [
       "<matplotlib.legend.Legend at 0x209b6393bf0>"
      ]
     },
     "execution_count": 88,
     "metadata": {},
     "output_type": "execute_result"
    },
    {
     "data": {
      "image/png": "[encoded data removed]",
      "text/plain": [
       "<Figure size 640x480 with 1 Axes>"
      ]
     },
     "metadata": {},
     "output_type": "display_data"
    }
   ],
   "source": [
    "# summarize the history for accuracy\n",
    "plt.plot(model_history.history['accuracy'])\n",
    "plt.plot(model_history.history['val_accuracy'])\n",
    "plt.title('model accuracy')\n",
    "plt.ylabel('accuracy')\n",
    "plt.xlabel('epoch')\n",
    "plt.legend(['train','test'], loc='upper left')"
   ]
  },
  {
   "cell_type": "code",
   "execution_count": 89,
   "id": "8d681f07-43d4-4894-8269-698645018540",
   "metadata": {},
   "outputs": [
    {
     "data": {
      "text/plain": [
       "<matplotlib.legend.Legend at 0x209c0946030>"
      ]
     },
     "execution_count": 89,
     "metadata": {},
     "output_type": "execute_result"
    },
    {
     "data": {
      "image/png": "[encoded data removed]",
      "text/plain": [
       "<Figure size 640x480 with 1 Axes>"
      ]
     },
     "metadata": {},
     "output_type": "display_data"
    }
   ],
   "source": [
    "# summarize the history for accuracy\n",
    "plt.plot(model_history.history['loss'])\n",
    "plt.plot(model_history.history['val_loss'])\n",
    "plt.title('model loss')\n",
    "plt.ylabel('loss')\n",
    "plt.xlabel('epoch')\n",
    "plt.legend(['train','test'], loc='upper left')"
   ]
  },
  {
   "cell_type": "code",
   "execution_count": 90,
   "id": "8211355f-cea5-4588-bead-3aea2272516f",
   "metadata": {},
   "outputs": [
    {
     "name": "stdout",
     "output_type": "stream",
     "text": [
      "\u001b[1m63/63\u001b[0m \u001b[32m━━━━━━━━━━━━━━━━━━━━\u001b[0m\u001b[37m\u001b[0m \u001b[1m0s\u001b[0m 3ms/step\n"
     ]
    }
   ],
   "source": [
    "# Making the prediction and evaluating the model\n",
    "y_pred=classifier.predict(X_test)\n",
    "y_pred = (y_pred >= 0.5)"
   ]
  },
  {
   "cell_type": "code",
   "execution_count": 74,
   "id": "9086bbe2-6094-4909-8e54-dfd902f29a7d",
   "metadata": {},
   "outputs": [
    {
     "data": {
      "text/plain": [
       "array([[1536,   71],\n",
       "       [ 222,  171]])"
      ]
     },
     "execution_count": 74,
     "metadata": {},
     "output_type": "execute_result"
    }
   ],
   "source": [
    "# confusion matrix (WITHOUT DROPOUT LAYER)\n",
    "from sklearn.metrics import confusion_matrix\n",
    "cm=confusion_matrix(y_test, y_pred)\n",
    "cm"
   ]
  },
  {
   "cell_type": "code",
   "execution_count": 91,
   "id": "665bc26f-1cdf-4ba7-a58b-da1f0fd40bd9",
   "metadata": {},
   "outputs": [
    {
     "data": {
      "text/plain": [
       "array([[1549,   58],\n",
       "       [ 233,  160]])"
      ]
     },
     "execution_count": 91,
     "metadata": {},
     "output_type": "execute_result"
    }
   ],
   "source": [
    "# confusion matrix(WITH DROPOUT LAYER)\n",
    "from sklearn.metrics import confusion_matrix\n",
    "cm=confusion_matrix(y_test, y_pred)\n",
    "cm"
   ]
  },
  {
   "cell_type": "code",
   "execution_count": 92,
   "id": "c19923ae-7b22-41d1-a073-b854352874bd",
   "metadata": {},
   "outputs": [
    {
     "data": {
      "text/plain": [
       "0.8545"
      ]
     },
     "execution_count": 92,
     "metadata": {},
     "output_type": "execute_result"
    }
   ],
   "source": [
    "# calculate the accuracy\n",
    "from sklearn.metrics import accuracy_score\n",
    "score=accuracy_score(y_pred,y_test)\n",
    "score"
   ]
  },
  {
   "cell_type": "markdown",
   "id": "5e0ce961-91fc-481f-9a0b-6edf93699981",
   "metadata": {},
   "source": [
    "## Get the weights"
   ]
  },
  {
   "cell_type": "code",
   "execution_count": 93,
   "id": "89a1efab-a4f1-481c-a078-63106029f6b6",
   "metadata": {},
   "outputs": [
    {
     "data": {
      "text/plain": [
       "[array([[-2.11834267e-01, -7.26240454e-03,  2.38528982e-01,\n",
       "          1.02738261e-01, -5.51937334e-02,  1.88644856e-01,\n",
       "         -4.55477089e-02, -1.83794394e-01, -5.20894378e-02,\n",
       "          1.80923358e-01, -2.53192782e-02],\n",
       "        [-2.31148899e-01, -5.91289103e-02,  1.04393035e-01,\n",
       "         -3.57934445e-01, -5.63250542e-01, -4.70911741e-01,\n",
       "          5.91663420e-01,  1.42384589e-01,  2.61715472e-01,\n",
       "          9.49475989e-02,  2.71633953e-01],\n",
       "        [ 1.16666079e-01,  1.93449244e-01, -2.85075665e-01,\n",
       "         -1.39160156e-01, -7.75984228e-02,  7.20565254e-03,\n",
       "          3.57012302e-02,  3.77389193e-02,  2.78411452e-02,\n",
       "         -2.05501735e-01,  1.33597339e-03],\n",
       "        [ 1.75557569e-01,  5.30099012e-02,  2.42349878e-01,\n",
       "         -5.51224388e-02, -9.44540426e-02,  2.13907845e-03,\n",
       "         -6.31083921e-02,  3.32172900e-01, -2.75798261e-01,\n",
       "          1.59970716e-01,  1.53585166e-01],\n",
       "        [ 2.04040244e-01,  1.56663626e-01, -5.06632626e-02,\n",
       "         -2.37405133e-02, -1.59784220e-02, -1.00525945e-01,\n",
       "          3.22299361e-01,  5.92677772e-01, -1.28078115e+00,\n",
       "         -2.12700367e-01,  1.10494137e+00],\n",
       "        [-2.66487926e-01,  6.82126045e-01,  5.57326339e-02,\n",
       "          4.00583357e-01, -2.87327468e-01, -2.42825672e-01,\n",
       "         -1.13836199e-01, -2.02235430e-01, -7.61487260e-02,\n",
       "          1.02063403e-01, -1.99399889e-02],\n",
       "        [ 4.03621972e-01,  3.27679403e-02,  2.17006262e-02,\n",
       "          2.60476321e-01, -5.38113534e-01, -5.38285300e-02,\n",
       "          5.26417911e-01,  1.20911762e-01, -2.99799889e-01,\n",
       "          3.78514230e-01, -1.44032195e-01],\n",
       "        [-7.16458410e-02, -6.79116771e-02,  2.99343411e-02,\n",
       "          3.16935748e-01, -6.01912402e-02, -9.29148644e-02,\n",
       "         -7.05914921e-04,  4.48089242e-02,  1.00928750e-02,\n",
       "          6.98970072e-03, -1.95813905e-02],\n",
       "        [-3.09673697e-02, -2.07091197e-01, -4.11270827e-01,\n",
       "          9.14575532e-02, -5.82910888e-02, -3.69516134e-01,\n",
       "         -9.10750106e-02, -4.15564388e-01,  1.45020559e-01,\n",
       "         -4.29420859e-01, -1.51883326e-02],\n",
       "        [ 5.51029965e-02,  5.05157113e-02, -1.25267848e-01,\n",
       "         -1.83971867e-01, -6.78430721e-02, -7.65706152e-02,\n",
       "         -5.92880733e-02,  1.34179503e-01, -5.52360006e-02,\n",
       "         -1.02025785e-01, -3.86567637e-02],\n",
       "        [ 1.78769559e-01,  1.96139410e-01, -5.98274991e-02,\n",
       "          1.61755845e-01, -2.73040712e-01,  6.23781681e-01,\n",
       "          1.46837309e-01,  5.04805371e-02, -2.84763463e-02,\n",
       "         -3.48042578e-01, -9.17961448e-02]], dtype=float32),\n",
       " array([-0.4663913 ,  0.12778544, -0.18274224,  0.01705677,  0.5465428 ,\n",
       "         0.14028406, -0.72230166, -0.54389125,  0.2903373 , -0.39663082,\n",
       "        -0.4943559 ], dtype=float32),\n",
       " array([[ 0.33891815,  0.4839568 , -0.3136765 , -0.36140513,  0.05479187,\n",
       "          0.20257898, -0.38923156],\n",
       "        [ 0.18882567,  0.02743093, -0.25601518, -0.2312511 ,  0.27780524,\n",
       "          0.17826462, -0.08806761],\n",
       "        [-0.37725553,  0.10333588,  0.35754883,  0.08872919, -0.30378717,\n",
       "          0.07243163,  0.26963955],\n",
       "        [ 0.1632742 ,  0.28463095, -0.09179421, -0.14940831,  0.13651824,\n",
       "          0.15781261, -0.2528936 ],\n",
       "        [ 0.21545735,  0.1807265 , -0.19653276, -0.26613903,  0.3348578 ,\n",
       "          0.23012103, -0.22691563],\n",
       "        [ 0.26298273,  0.16897106, -0.3154457 , -0.15115052,  0.252163  ,\n",
       "          0.10903054, -0.23803453],\n",
       "        [ 0.4378826 ,  0.38172883, -0.36843893, -0.5265782 ,  0.5838865 ,\n",
       "          0.401536  , -0.3699362 ],\n",
       "        [-0.27934608, -0.6189918 ,  0.30624443,  0.23111656, -0.55001754,\n",
       "         -0.46870565,  0.2510012 ],\n",
       "        [-0.3698785 , -0.30897334,  0.35603693,  0.43585902, -0.5166713 ,\n",
       "         -0.37874797,  0.34585813],\n",
       "        [ 0.4040269 , -0.07936811, -0.3694277 , -0.19050711,  0.32222337,\n",
       "         -0.01093456, -0.35996225],\n",
       "        [-0.49594223, -0.3200081 ,  0.52451575,  0.6334269 , -0.7177042 ,\n",
       "         -0.49436432,  0.5442247 ]], dtype=float32),\n",
       " array([ 0.1695193 ,  0.14601187, -0.13203815, -0.21476999,  0.3095452 ,\n",
       "         0.19791104, -0.07241323], dtype=float32),\n",
       " array([[-0.41553685,  0.36090446,  0.53094214,  0.30294192,  0.4064323 ,\n",
       "          0.45223674],\n",
       "        [-0.2917844 ,  0.27805585,  0.52056533,  0.287931  ,  0.3290207 ,\n",
       "          0.64205116],\n",
       "        [ 0.14728731, -0.40988556, -0.44833717, -0.4943886 , -0.30502555,\n",
       "         -0.63306046],\n",
       "        [ 0.19664368, -0.27456397, -0.41620716, -0.4847574 , -0.3411922 ,\n",
       "         -0.47694537],\n",
       "        [-0.17266901,  0.32324073,  0.46013427,  0.43373886,  0.11786506,\n",
       "          0.17499676],\n",
       "        [-0.34610292,  0.6524729 ,  0.58033144,  0.48933756,  0.2717666 ,\n",
       "          0.60485196],\n",
       "        [ 0.32063118, -0.6406947 , -0.48470914, -0.34824127, -0.16491777,\n",
       "         -0.69719845]], dtype=float32),\n",
       " array([-0.02162774,  0.01898378, -0.00191712,  0.10128721,  0.04052213,\n",
       "         0.03962991], dtype=float32),\n",
       " array([[ 0.39134812],\n",
       "        [-0.24524139],\n",
       "        [-0.18111058],\n",
       "        [-0.265257  ],\n",
       "        [-0.36384556],\n",
       "        [-0.20118076]], dtype=float32),\n",
       " array([-1.1121786], dtype=float32)]"
      ]
     },
     "execution_count": 93,
     "metadata": {},
     "output_type": "execute_result"
    }
   ],
   "source": [
    "classifier.get_weights()"
   ]
  },
  {
   "cell_type": "code",
   "execution_count": null,
   "id": "eb25f8a5-a51a-4c43-84a6-aca48f250374",
   "metadata": {},
   "outputs": [],
   "source": []
  }
 ],
 "metadata": {
  "kernelspec": {
   "display_name": "Python 3 (ipykernel)",
   "language": "python",
   "name": "python3"
  },
  "language_info": {
   "codemirror_mode": {
    "name": "ipython",
    "version": 3
   },
   "file_extension": ".py",
   "mimetype": "text/x-python",
   "name": "python",
   "nbconvert_exporter": "python",
   "pygments_lexer": "ipython3",
   "version": "3.12.6"
  }
 },
 "nbformat": 4,
 "nbformat_minor": 5
}
