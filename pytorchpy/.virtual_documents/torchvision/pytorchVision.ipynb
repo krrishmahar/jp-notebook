





# Import torch
import torch
from torch import nn

# Import torchvision
import torchvision
from torchvision import datasets
from torchvision import transforms
from torchvision.transforms import ToTensor

# import matplotlib and seaborn for visualization
import matplotlib.pyplot as plt
import seaborn





device = "cuda" if torch.cuda.is_available() else "cpu"
device


torch.cuda.is_available()


!nvidia-smi





from torchvision import datasets
from torchvision.transforms import ToTensor
train_data= datasets.FashionMNIST(
    root='data',
    train=True,
    download=True,
    transform=torchvision.transforms.ToTensor(),
    target_transform=None
)

test_data= datasets.FashionMNIST(
    root='data',
    train=False,
    download=True,
    transform=ToTensor(),
    target_transform=None
)


train_data.targets 





class_names = train_data.classes


# torch.manual_seed(42)
fig= plt.figure(figsize=(9,9))
rows, cols = 4, 4
for i in range(1, rows*cols+1):
    rand_idx= torch.randint(0, len(train_data), size=[1]).item()
    img, label  = train_data[rand_idx]
    fig.add_subplot(rows, cols, i)
    plt.imshow(img.squeeze(), cmap='gray')
    plt.title(class_names[label])
    plt.axis(False)





from torch.utils.data import DataLoader

BATCH_SIZE = 32
train_dataloader = DataLoader(train_data, batch_size=BATCH_SIZE, shuffle=True)
test_dataloader = DataLoader(test_data, batch_size=BATCH_SIZE, shuffle=False)


print(len(train_dataloader), len(test_dataloader))


# Display image thorough Dataloader

train_features, train_labels= next(iter(train_dataloader))
print(f"Feature batch shape: {train_features.size()}\n")
print(f"Labels batch shape: {train_labels.size()}\n")

rand_idx = torch.randint(0, len(train_features), size=[1]).item()
img = train_features[rand_idx].squeeze()
label = train_labels[rand_idx]
plt.imshow(img, cmap="gray")
plt.axis(False)
plt.title(class_names[label])
plt.show()





# Build a flatten layer
flatten_model = nn.Flatten()

x= train_features[0]

output = flatten_model(x)

print(f'Before Flattening {x.shape}\nAfter Flattening {output.shape}')


from torch import nn
class FashionMNISTModelV0(nn.Module):
    def __init__(self,
                input_shape:int,
                hidden_units:int,
                output_shape:int):
        super().__init__()
        self.layer_stack = nn.Sequential(
            nn.Flatten(),
            nn.Linear(in_features=input_shape, out_features=hidden_units),
            # nn.ReLU(),
            nn.Linear(in_features=hidden_units, out_features=output_shape)
        )

    def forward(self, x):
        return self.layer_stack(x)


# torch.manual_seed(42)

model_0 = FashionMNISTModelV0(
    input_shape=28*28,
    hidden_units=10,
    output_shape=len(class_names)
).to(device)
model_0


dummy_x = torch.rand([1,1,28,28]).to(device)
model_0(dummy_x)


import requests
from pathlib import Path

if Path("helper_functions.py").is_file():
    print("helper_function already exists")
else:
    print("Downloading the helper function")
    request = requests.get('https://raw.githubusercontent.com/mrdbourke/pytorch-deep-learning/refs/heads/main/helper_functions.py')
    with open('helper_functions.py', "wb") as f:
        f.write(request.content)


from helper_functions import accuracy_fn

loss_fn = nn.CrossEntropyLoss()
optimizer = torch.optim.SGD(params=model_0.parameters(),lr=0.1)


### Creating a function to time our experiments
from timeit import default_timer as timer
def print_train_time(start:float,
                    end:float,
                    device: torch.device="cpu"):
    """Prints the difference between start time and end time"""
    total_time = end-start
    print(f'Train Time on {device}: {total_time:.3f} seconds')
    return total_time





from tqdm.auto import tqdm

torch.manual_seed(42)
s_time = timer()

epochs = 3

for epoch in tqdm(range(epochs)):
    print(f'Epoch: {epoch}\n-----')
    # Training
    train_loss = 0
    # Add a loop to loop training batches
    for batch, (X, y) in enumerate(train_dataloader):
        model_0.train()
        X, y = X.to(device), y.to(device)
        y_pred = model_0(X)

        loss = loss_fn(y_pred, y)
        train_loss += loss # accumulate train loss

        optimizer.zero_grad()

        loss.backward()

        optimizer.step()

        if batch % 400 == 0:
            print(f"looked at {batch*len(X)}/{len(train_dataloader.dataset)} samples.")

    # Divide total train loss by length of train dataloader
    train_loss /= len(train_dataloader)

    ### Testing
    test_loss, test_acc = 0, 0
    model_0.eval()
    with torch.inference_mode():
        for X_test,y_test in test_dataloader:
            X_test,y_test = X_test.to(device), y_test.to(device)
            test_pred = model_0(X_test)

            test_loss += loss_fn(test_pred, y_test)

            test_acc += accuracy_fn(y_true=y_test, y_pred=test_pred.argmax(dim=1))

        test_loss /= len(test_dataloader)
        
        test_acc /= len(test_dataloader)
        
        if batch % 400 == 0:
            print(f"\nTrain Loss: {train_loss:.4f} | Test Loss: {test_loss:.4f}, Test Accuracy: {test_acc:.4f} ")

e_time = timer()
total_time_model_0 = print_train_time(s_time, e_time, device='cpu')


next(model_0.parameters()).device


model_0.state_dict()


# torch.manual_seed(42)
def eval_model(model: torch.nn.Module,
              data_loader: torch.utils.data.DataLoader,
              loss_fn: torch.nn.Module,
              accuracy_fn,
              device: torch.device=device
              ):
    """Return a Dictionary containing the results of model prediciting on data loader"""
    loss, acc = 0, 0
    model.eval()
    with torch.inference_mode():
        for X,y in data_loader:
            X,y = X.to(device), y.to(device)
            # Make predictions
            y_pred = model(X.to(device))

            # Accumulate loss and accuracy
            loss +=  loss_fn(y_pred.to(device), y.to(device))
            acc  +=  accuracy_fn(y.to(device), y_pred.argmax(dim=1).to(device))

        # Scale loss and acc to find average loss/acc per batch
        loss /= len(data_loader)
        acc  /= len(data_loader)

    return {"model_name": model.__class__.__name__, 
            "model_loss": loss.item(),
            "model_acc":  acc}

model_0_results = eval_model(model_0, test_dataloader, loss_fn, accuracy_fn)
model_0_results











# Create a model with non-linear and linear layers
class FashionMNISTModelV1(nn.Module):
    def __init__(self, input_shape: int, hidden_units: int, output_shape: int):
        super().__init__()
        self.layer_stack = nn.Sequential(
            nn.Flatten(), # flatten inputs into single vector
            nn.Linear(in_features=input_shape, out_features=hidden_units),
            nn.ReLU(),
            nn.Linear(in_features=hidden_units, out_features=output_shape),
            nn.ReLU()
        )
    
    def forward(self, x: torch.Tensor):
        return self.layer_stack(x)




torch.manual_seed(42)
model_1 = FashionMNISTModelV1(input_shape=784, # number of input features
    hidden_units=10,
    output_shape=len(class_names) # number of output classes desired
).to(device) # send model to GPU if it's available
next(model_1.parameters()).device # check model device


optimizer


from helper_functions import accuracy_fn
loss_fn = nn.CrossEntropyLoss()
optim = torch.optim.Adam(params=model_1.parameters(), lr=0.1)





def train_step(model: torch.nn.Module,
               data_loader: torch.utils.data.DataLoader,
               loss_fn: torch.nn.Module,
               optimizer: torch.optim.Optimizer,
               accuracy_fn,
               device: torch.device = device):
    train_loss, train_acc = 0, 0
    model.to(device)
    for batch, (X, y) in enumerate(data_loader):
        # Send data to GPU
        X, y = X.to(device), y.to(device)

        # 1. Forward pass
        y_pred = model(X)

        # 2. Calculate loss
        loss = loss_fn(y_pred, y)
        train_loss += loss
        train_acc += accuracy_fn(y_true=y,
                                 y_pred=y_pred.argmax(dim=1)) # Go from logits -> pred labels

        # 3. Optimizer zero grad
        optimizer.zero_grad()

        # 4. Loss backward
        loss.backward()

        # 5. Optimizer step
        optimizer.step()

    # Calculate loss and accuracy per epoch and print out what's happening
    train_loss /= len(data_loader)
    train_acc /= len(data_loader)
    print(f"Train loss: {train_loss:.5f} | Train accuracy: {train_acc:.2f}%")

def test_step(data_loader: torch.utils.data.DataLoader,
              model: torch.nn.Module,
              loss_fn: torch.nn.Module,
              accuracy_fn,
              device: torch.device = device):
    test_loss, test_acc = 0, 0
    model.to(device)
    model.eval() # put model in eval mode
    # Turn on inference context manager
    with torch.inference_mode(): 
        for X, y in data_loader:
            # Send data to GPU
            X, y = X.to(device), y.to(device)
            
            # 1. Forward pass
            test_pred = model(X)
            
            # 2. Calculate loss and accuracy
            test_loss += loss_fn(test_pred, y)
            test_acc += accuracy_fn(y_true=y,
                y_pred=test_pred.argmax(dim=1) # Go from logits -> pred labels
            )
        
        # Adjust metrics and print out
        test_loss /= len(data_loader)
        test_acc /= len(data_loader)
        print(f"Test loss: {test_loss:.5f} | Test accuracy: {test_acc:.2f}%\n")




accuracy_fn


# Measure time
from helper_functions import accuracy_fn
from timeit import default_timer as timer
train_time_start_on_gpu = timer()

epochs = 5
for epoch in tqdm(range(epochs)):
    print(f"Epoch: {epoch}\n---------")
    train_step(data_loader=train_dataloader, 
        model=model_1, 
        loss_fn=loss_fn,
        optimizer=optimizer,
        accuracy_fn=accuracy_fn
    )
    test_step(data_loader=test_dataloader,
        model=model_1,
        loss_fn=loss_fn,
        accuracy_fn=accuracy_fn
    )

train_time_end_on_gpu = timer()
total_train_time_model_1 = print_train_time(start=train_time_start_on_gpu,
                                            end=train_time_end_on_gpu,
                                            device=device)




model_1_results = eval_model(model_1, test_dataloader,loss_fn, accuracy_fn)
model_1_results





# create a convolutional neural network
class FashionMNISTModelV2(nn.Module):
    """
    Model Architecture that replicates the TinyVGG
    """
    def __init__(self, input_shape: int, hidden_units: int, output_shape:int):
        super().__init__()
        self.conv_block_1 = nn.Sequential(
            nn.Conv2d(
                in_channels=input_shape,
                out_channels=hidden_units,
                kernel_size=3,
                stride=1,
                padding=1
            ),
            nn.ReLU(),
            nn.Conv2d(
                in_channels=hidden_units,
                out_channels=hidden_units,
                kernel_size=3,
                stride=1,
                padding=1
            ),
            nn.ReLU(),
            nn.MaxPool2d(kernel_size=2)
        )

        self.conv_block_2 =nn.Sequential(
            nn.Conv2d(
                in_channels=hidden_units,
                out_channels=hidden_units,
                kernel_size=3,
                stride=1,
                padding=1
            ),
            nn.ReLU(),
            nn.Conv2d(
                in_channels=hidden_units,
                out_channels=hidden_units,
                kernel_size=3,
                stride=1,
                padding=1
            ),
            nn.ReLU(),
            nn.MaxPool2d(kernel_size=2)
        )
        
        # also called output_layer or classifier layer
        self.classifier = nn.Sequential(
            nn.Flatten(),
            # there's a trick to calculate this in_features, 
            # print output shape of both conv block and put H W of last block in output layer
            nn.Linear(in_features=hidden_units*7*7, 
                     out_features=output_shape)
        )

    def forward(self, x):
        x = self.conv_block_1(x)
        print(f'Output shape of conv block 1: {x.shape}')
        x = self.conv_block_2(x)
        print(f'Output shape of conv block 2: {x.shape}')
        x = self.classifier(x)
        print(f'Output shape of classifier: {x.shape}')
        return x


torch.manual_seed(42)
model_2 = FashionMNISTModelV2(
    input_shape=1,
    hidden_units=10,
    output_shape=len(class_names)
                    ).to(device)


rand_image = torch.randn(size=(1,28,28)).to(device)
model_2(rand_image.unsqueeze(0))
# rand_image.unsqueeze(0).shape


model_2.state_dict()


torch.manual_seed(42)

# create a batch of images
images = torch.randn(size=(32,3,64,64))
test_image = images[0]

print(f'Image Batch size: {images.shape}')
print(f'Single Image size: {test_image.shape}')
print(f'Test Image: {test_image}')


# create a single Conv2d layer
torch.manual_seed(42)
conv_layer = nn.Conv2d(
    in_channels=3,
    out_channels=10,
    kernel_size=(3,3),
    stride=1,
    padding=1
)

conv_output = conv_layer(test_image)
conv_output.shape


torch.__version__





print(f'Test Original shape: {test_image.shape}')
print(f'Test image unsqueezed shape: {test_image.unsqueeze(0).shape}')

max_pool_layer = nn.MaxPool2d(kernel_size=2)

test_image_through_conv = conv_layer(test_image)
print(f'Test image after going through Conv2d layer: {test_image_through_conv.shape}')

test_image_through_conv_max_pool = max_pool_layer(test_image_through_conv)
print(f'Test image after going through Conv2d layer and max pool layer: {test_image_through_conv_max_pool.shape}')




