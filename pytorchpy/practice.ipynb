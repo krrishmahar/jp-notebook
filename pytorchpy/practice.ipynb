{
 "cells": [
  {
   "cell_type": "code",
   "execution_count": 1,
   "id": "25963878-dbea-450b-8d7e-8967dcacbe64",
   "metadata": {},
   "outputs": [
    {
     "data": {
      "text/plain": [
       "'2.5.1+cu121'"
      ]
     },
     "execution_count": 1,
     "metadata": {},
     "output_type": "execute_result"
    }
   ],
   "source": [
    "import torch \n",
    "from torch import nn\n",
    "import matplotlib.pyplot as plt\n",
    "\n",
    "torch.__version__"
   ]
  },
  {
   "cell_type": "code",
   "execution_count": 2,
   "id": "193525e1-b5be-4b4a-843e-dcb732ee5e56",
   "metadata": {},
   "outputs": [
    {
     "name": "stdout",
     "output_type": "stream",
     "text": [
      "using device: cuda\n"
     ]
    }
   ],
   "source": [
    "device = \"cuda\" if torch.cuda.is_available() else \"cpu\"\n",
    "print(f'using device: {device}')"
   ]
  },
  {
   "cell_type": "markdown",
   "id": "c933dbeb-dfb3-41e5-860b-85780ed16eaa",
   "metadata": {},
   "source": [
    "## Data"
   ]
  },
  {
   "cell_type": "code",
   "execution_count": 3,
   "id": "c96aa791-b562-41b2-b390-e6af56906a23",
   "metadata": {},
   "outputs": [
    {
     "data": {
      "text/plain": [
       "(tensor([[0.0000],\n",
       "         [0.0200],\n",
       "         [0.0400],\n",
       "         [0.0600],\n",
       "         [0.0800],\n",
       "         [0.1000],\n",
       "         [0.1200],\n",
       "         [0.1400],\n",
       "         [0.1600],\n",
       "         [0.1800]]),\n",
       " tensor([[0.4000],\n",
       "         [0.4120],\n",
       "         [0.4240],\n",
       "         [0.4360],\n",
       "         [0.4480],\n",
       "         [0.4600],\n",
       "         [0.4720],\n",
       "         [0.4840],\n",
       "         [0.4960],\n",
       "         [0.5080]]))"
      ]
     },
     "execution_count": 3,
     "metadata": {},
     "output_type": "execute_result"
    }
   ],
   "source": [
    "#creating some data from Linear Regression formula\n",
    "weight = 0.6\n",
    "bias = 0.4\n",
    "\n",
    "start = 0\n",
    "end = 1\n",
    "step = 0.02\n",
    "\n",
    "X = torch.arange(start,end, step).unsqueeze(dim=1)\n",
    "y = weight * X + bias\n",
    "X[:10], y[:10]"
   ]
  },
  {
   "cell_type": "code",
   "execution_count": 4,
   "id": "07e928bc-2aa6-4c77-99df-61317ed8f7b7",
   "metadata": {},
   "outputs": [
    {
     "data": {
      "text/plain": [
       "(40, 10, 40, 10)"
      ]
     },
     "execution_count": 4,
     "metadata": {},
     "output_type": "execute_result"
    }
   ],
   "source": [
    "#split data\n",
    "train_split = int(0.8 * len(X))\n",
    "X_train, y_train = X[:train_split], y[:train_split]\n",
    "X_test, y_test = X[train_split:], y[train_split:]\n",
    "len(X_train), len(X_test), len(y_train), len(y_test)"
   ]
  },
  {
   "cell_type": "code",
   "execution_count": 5,
   "id": "6fd70f76-9ca6-40a6-82c3-39a3981ddd95",
   "metadata": {},
   "outputs": [],
   "source": [
    "def plot_predict(train_data=X_train, train_labels=y_train, test_data=X_test, test_labels=y_test, predictions=None):\n",
    "    # plt.figure(figsize=(10,7))\n",
    "    plt.scatter(train_data, train_labels, c='b', s=4, label=\"Training data\")\n",
    "    plt.scatter(test_data, test_labels , c='y', s=4, label=\"Test data\")\n",
    "    if predictions is not None:\n",
    "        plt.scatter(test_data, predictions, c='r', s=4, label=\"Predictions\")\n",
    "\n",
    "    plt.legend(prop={'size': 14})"
   ]
  },
  {
   "cell_type": "code",
   "execution_count": 6,
   "id": "f7617721-f600-490b-8589-8f2236e40570",
   "metadata": {},
   "outputs": [
    {
     "data": {
      "image/png": "[encoded data removed]",
      "text/plain": [
       "<Figure size 640x480 with 1 Axes>"
      ]
     },
     "metadata": {},
     "output_type": "display_data"
    }
   ],
   "source": [
    "# plotting the data\n",
    "plot_predict()"
   ]
  },
  {
   "cell_type": "markdown",
   "id": "f8cd9257-907a-4fcb-8813-46e16f095714",
   "metadata": {},
   "source": [
    "## Building a pytorch linear model"
   ]
  },
  {
   "cell_type": "code",
   "execution_count": 7,
   "id": "3bbc74bf-9a48-41f3-9e17-893c207cb95c",
   "metadata": {},
   "outputs": [
    {
     "name": "stdout",
     "output_type": "stream",
     "text": [
      "LinearModel(\n",
      "  (linear_layer): Linear(in_features=1, out_features=1, bias=True)\n",
      ") OrderedDict({'linear_layer.weight': tensor([[0.7645]]), 'linear_layer.bias': tensor([0.8300])})\n"
     ]
    }
   ],
   "source": [
    "class LinearModel(nn.Module):\n",
    "    def __init__(self):\n",
    "        super(LinearModel, self).__init__()\n",
    "        # Using nn.Linear() for creating linear params, also called \n",
    "        # -> linear transform, probing layer, Dense layer, fully connected layer\n",
    "        self.linear_layer = nn.Linear(in_features=1, out_features=1)\n",
    "\n",
    "    def forward(self, x: torch.Tensor) -> torch.Tensor:\n",
    "        return self.linear_layer(x)        \n",
    "\n",
    "torch.manual_seed(42)\n",
    "model_1 = LinearModel()\n",
    "print(model_1,model_1.state_dict())"
   ]
  },
  {
   "cell_type": "code",
   "execution_count": 8,
   "id": "4dd5d988-f722-4133-9d40-4372c1366845",
   "metadata": {},
   "outputs": [
    {
     "data": {
      "text/plain": [
       "device(type='cuda', index=0)"
      ]
     },
     "execution_count": 8,
     "metadata": {},
     "output_type": "execute_result"
    }
   ],
   "source": [
    "# check the model device\n",
    "model_1.to(device) # sets to gpu\n",
    "next(model_1.parameters()).device # default = cpu"
   ]
  },
  {
   "cell_type": "markdown",
   "id": "53f4fb4a-e064-44b4-bf30-618f79308956",
   "metadata": {},
   "source": [
    "## Training"
   ]
  },
  {
   "cell_type": "code",
   "execution_count": 9,
   "id": "73185d1c-cb2a-433b-ad0c-764a84510293",
   "metadata": {},
   "outputs": [],
   "source": [
    "# setting a loss func\n",
    "loss_fn = nn.L1Loss()\n",
    "# setting an optimizers\n",
    "optim = torch.optim.Adam(params=model_1.parameters(), lr=0.01)"
   ]
  },
  {
   "cell_type": "code",
   "execution_count": 10,
   "id": "597290ee-46eb-46fd-8acc-8ce094f148b6",
   "metadata": {},
   "outputs": [
    {
     "name": "stdout",
     "output_type": "stream",
     "text": [
      "Epoch: 0 | Loss: 0.494% | Test Loss: 0.558%\n",
      "Epoch: 10 | Loss: 0.355% | Test Loss: 0.369%\n",
      "Epoch: 20 | Loss: 0.216% | Test Loss: 0.180%\n",
      "Epoch: 30 | Loss: 0.077% | Test Loss: 0.010%\n",
      "Epoch: 40 | Loss: 0.047% | Test Loss: 0.139%\n",
      "Epoch: 50 | Loss: 0.041% | Test Loss: 0.110%\n",
      "Epoch: 60 | Loss: 0.026% | Test Loss: 0.035%\n",
      "Epoch: 70 | Loss: 0.018% | Test Loss: 0.036%\n",
      "Epoch: 80 | Loss: 0.010% | Test Loss: 0.021%\n",
      "Epoch: 90 | Loss: 0.002% | Test Loss: 0.001%\n",
      "Epoch: 100 | Loss: 0.002% | Test Loss: 0.004%\n",
      "Epoch: 110 | Loss: 0.001% | Test Loss: 0.000%\n",
      "Epoch: 120 | Loss: 0.001% | Test Loss: 0.002%\n",
      "Epoch: 130 | Loss: 0.001% | Test Loss: 0.001%\n",
      "Epoch: 140 | Loss: 0.002% | Test Loss: 0.002%\n",
      "Epoch: 150 | Loss: 0.000% | Test Loss: 0.002%\n",
      "Epoch: 160 | Loss: 0.002% | Test Loss: 0.002%\n",
      "Epoch: 170 | Loss: 0.000% | Test Loss: 0.000%\n",
      "Epoch: 180 | Loss: 0.000% | Test Loss: 0.002%\n",
      "Epoch: 190 | Loss: 0.000% | Test Loss: 0.001%\n",
      "CPU times: total: 1.03 s\n",
      "Wall time: 3.06 s\n"
     ]
    }
   ],
   "source": [
    "%%time\n",
    "# Training Loop\n",
    "torch.manual_seed(42)\n",
    "epochs = 200\n",
    "# put data on target device (using device agnostic code)\n",
    "X_train, y_train, X_test, y_test = X_train.to(device), y_train.to(device), X_test.to(device), y_test.to(device)\n",
    "for epoch in range(epochs):\n",
    "    model_1.train()\n",
    "\n",
    "    #Forward pass\n",
    "    y_pred = model_1(X_train)\n",
    "    #Calculate the loss\n",
    "    loss = loss_fn(y_pred, y_train)\n",
    "    #Optimizers to zero grad\n",
    "    optim.zero_grad()\n",
    "    #Perform Backpropagation\n",
    "    loss.backward()\n",
    "    #Optimizer step\n",
    "    optim.step()\n",
    "\n",
    "    ### Tesing\n",
    "    model_1.eval()\n",
    "    with torch.inference_mode():\n",
    "        test_pred = model_1(X_test)\n",
    "        test_loss = loss_fn(test_pred, y_test)\n",
    "\n",
    "    #Logging\n",
    "    if epoch %10 == 0:\n",
    "        print(f'Epoch: {epoch} | Loss: {loss:.3f}% | Test Loss: {test_loss:.3f}%')\n",
    "        "
   ]
  },
  {
   "cell_type": "code",
   "execution_count": 11,
   "id": "7132cbaf-b54b-49af-b90b-42212fc3fbdf",
   "metadata": {
    "scrolled": true
   },
   "outputs": [
    {
     "data": {
      "text/plain": [
       "((0.6, 0.4),\n",
       " OrderedDict([('linear_layer.weight', tensor([[0.5997]], device='cuda:0')),\n",
       "              ('linear_layer.bias', tensor([0.3996], device='cuda:0'))]))"
      ]
     },
     "execution_count": 11,
     "metadata": {},
     "output_type": "execute_result"
    }
   ],
   "source": [
    "(weight, bias), (model_1.state_dict())"
   ]
  },
  {
   "cell_type": "code",
   "execution_count": 12,
   "id": "3a9f1251-9c91-4c90-bdcf-c97d673a7c77",
   "metadata": {},
   "outputs": [
    {
     "data": {
      "text/plain": [
       "tensor([[0.8793],\n",
       "        [0.8913],\n",
       "        [0.9033],\n",
       "        [0.9153],\n",
       "        [0.9273],\n",
       "        [0.9393],\n",
       "        [0.9513],\n",
       "        [0.9633],\n",
       "        [0.9753],\n",
       "        [0.9872]], device='cuda:0')"
      ]
     },
     "execution_count": 12,
     "metadata": {},
     "output_type": "execute_result"
    }
   ],
   "source": [
    "# turn model to eval() to make evaluation/prediction\n",
    "model_1.eval()\n",
    "with torch.inference_mode():\n",
    "    y_preds = model_1(X_test)\n",
    "y_preds"
   ]
  },
  {
   "cell_type": "code",
   "execution_count": 13,
   "id": "d9082419-b051-4415-b778-54892c35b0c7",
   "metadata": {},
   "outputs": [
    {
     "data": {
      "image/png": "[encoded data removed]",
      "text/plain": [
       "<Figure size 640x480 with 1 Axes>"
      ]
     },
     "metadata": {},
     "output_type": "display_data"
    }
   ],
   "source": [
    "plot_predict(predictions=y_preds.cpu())"
   ]
  },
  {
   "cell_type": "markdown",
   "id": "aa4f5d4a-b7b1-497c-a774-67e73c09cb28",
   "metadata": {},
   "source": [
    "## Saving and Loading the model"
   ]
  },
  {
   "cell_type": "code",
   "execution_count": 85,
   "id": "935643d0-ba6c-4f35-a543-79253c0c6eec",
   "metadata": {},
   "outputs": [
    {
     "name": "stdout",
     "output_type": "stream",
     "text": [
      "Saving model: models\\01_model_1.pth\n"
     ]
    }
   ],
   "source": [
    "from pathlib import Path\n",
    "\n",
    "MODEL_PATH=Path('models')\n",
    "MODEL_PATH.mkdir(parents=True, exist_ok=True)\n",
    "\n",
    "MODEL_NAME='01_model_1.pth'\n",
    "MODEL_SAVE_PATH=MODEL_PATH/MODEL_NAME\n",
    "\n",
    "print(f'Saving model: {MODEL_SAVE_PATH}')\n",
    "torch.save(obj=model_1.state_dict(), f=MODEL_SAVE_PATH)"
   ]
  },
  {
   "cell_type": "code",
   "execution_count": 14,
   "id": "132d5f3d-9682-4516-8cca-abbe9cd5eb5b",
   "metadata": {
    "scrolled": true
   },
   "outputs": [
    {
     "data": {
      "text/plain": [
       "OrderedDict([('linear_layer.weight', tensor([[0.5997]], device='cuda:0')),\n",
       "             ('linear_layer.bias', tensor([0.3996], device='cuda:0'))])"
      ]
     },
     "execution_count": 14,
     "metadata": {},
     "output_type": "execute_result"
    }
   ],
   "source": [
    "model_1.state_dict()"
   ]
  },
  {
   "cell_type": "code",
   "execution_count": 17,
   "id": "48d0d9eb-de19-464f-b90b-5ca0a149c385",
   "metadata": {},
   "outputs": [
    {
     "data": {
      "text/plain": [
       "LinearModel(\n",
       "  (linear_layer): Linear(in_features=1, out_features=1, bias=True)\n",
       ")"
      ]
     },
     "execution_count": 17,
     "metadata": {},
     "output_type": "execute_result"
    }
   ],
   "source": [
    "# Loading a model\n",
    "from pathlib import Path\n",
    "MODEL_PATH=Path('models')\n",
    "MODEL_PATH.mkdir(parents=True, exist_ok=True)\n",
    "\n",
    "MODEL_NAME='01_model_1.pth'\n",
    "MODEL_SAVE_PATH=MODEL_PATH/MODEL_NAME\n",
    "# create new instance of model\n",
    "loaded_model_1 = LinearModel()\n",
    "\n",
    "# Load the saved model\n",
    "loaded_model_1.load_state_dict(torch.load(MODEL_SAVE_PATH, weights_only=True))\n",
    "\n",
    "#Put the loaded model to device\n",
    "loaded_model_1.to(device)"
   ]
  },
  {
   "cell_type": "code",
   "execution_count": 18,
   "id": "c4f76818-6ba0-420f-8ed0-7ee55e36da91",
   "metadata": {},
   "outputs": [
    {
     "data": {
      "text/plain": [
       "(OrderedDict([('linear_layer.weight', tensor([[0.5997]], device='cuda:0')),\n",
       "              ('linear_layer.bias', tensor([0.3996], device='cuda:0'))]),\n",
       " OrderedDict([('linear_layer.weight', tensor([[0.5997]], device='cuda:0')),\n",
       "              ('linear_layer.bias', tensor([0.3996], device='cuda:0'))]))"
      ]
     },
     "execution_count": 18,
     "metadata": {},
     "output_type": "execute_result"
    }
   ],
   "source": [
    "loaded_model_1.state_dict() , model_1.state_dict()"
   ]
  },
  {
   "cell_type": "code",
   "execution_count": 19,
   "id": "41338d43-36e0-4bfc-a988-7d1ff763c47f",
   "metadata": {},
   "outputs": [
    {
     "data": {
      "text/plain": [
       "tensor([[True],\n",
       "        [True],\n",
       "        [True],\n",
       "        [True],\n",
       "        [True],\n",
       "        [True],\n",
       "        [True],\n",
       "        [True],\n",
       "        [True],\n",
       "        [True]], device='cuda:0')"
      ]
     },
     "execution_count": 19,
     "metadata": {},
     "output_type": "execute_result"
    }
   ],
   "source": [
    "# Evaluate thee loaded model\n",
    "loaded_model_1.eval()\n",
    "with torch.inference_mode():\n",
    "    loaded_y_preds = loaded_model_1(X_test)\n",
    "\n",
    "y_preds==loaded_y_preds "
   ]
  },
  {
   "cell_type": "code",
   "execution_count": null,
   "id": "600e89b0-c946-4c85-ba84-0ee6d6be910a",
   "metadata": {},
   "outputs": [],
   "source": []
  }
 ],
 "metadata": {
  "kernelspec": {
   "display_name": "Python 3 (ipykernel)",
   "language": "python",
   "name": "python3"
  },
  "language_info": {
   "codemirror_mode": {
    "name": "ipython",
    "version": 3
   },
   "file_extension": ".py",
   "mimetype": "text/x-python",
   "name": "python",
   "nbconvert_exporter": "python",
   "pygments_lexer": "ipython3",
   "version": "3.12.9"
  }
 },
 "nbformat": 4,
 "nbformat_minor": 5
}
