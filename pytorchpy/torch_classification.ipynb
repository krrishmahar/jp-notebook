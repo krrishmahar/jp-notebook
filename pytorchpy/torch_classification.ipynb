{
 "cells": [
  {
   "cell_type": "markdown",
   "id": "feda5c0a-1f28-40a4-9ad9-2f7ffc5f1d83",
   "metadata": {},
   "source": [
    "## Neural Network Classification with Pytorch"
   ]
  },
  {
   "cell_type": "code",
   "execution_count": null,
   "id": "ed392250-b180-43d0-a9f5-1011dcbf82ed",
   "metadata": {},
   "outputs": [],
   "source": [
    "from sklearn.datasets import make_circles\n",
    "\n",
    "n_samples = 1000\n",
    "\n",
    "X,y = make_circles(n_samples, noise=0.15, random_state=42)"
   ]
  },
  {
   "cell_type": "code",
   "execution_count": null,
   "id": "65c210e2-d913-4df1-aa07-cc650f576848",
   "metadata": {},
   "outputs": [],
   "source": [
    "#Make Dataframe of circles data\n",
    "import pandas as pd\n",
    "circles = pd.DataFrame({'X1': X[:, 0],\n",
    "                       'X2': X[:, 1],\n",
    "                      \"label\": y})\n",
    "circles.head()"
   ]
  },
  {
   "cell_type": "code",
   "execution_count": null,
   "id": "7dc61361-14be-49b0-860c-622ab013f6d1",
   "metadata": {},
   "outputs": [],
   "source": [
    "# Vizualize\n",
    "import matplotlib.pyplot as plt\n",
    "plt.scatter(X[:, 0], X[:, 1], c=y, cmap=plt.cm.RdYlBu)"
   ]
  },
  {
   "cell_type": "markdown",
   "id": "5ddfe397-288b-483d-a3e0-adcaa12e6a99",
   "metadata": {},
   "source": [
    "### Check Input and Output shapes"
   ]
  },
  {
   "cell_type": "code",
   "execution_count": null,
   "id": "66ec67e4-61d8-439f-a292-c1e433b7ca00",
   "metadata": {},
   "outputs": [],
   "source": [
    "X.shape?\n",
    "X.shape, y.shape"
   ]
  },
  {
   "cell_type": "code",
   "execution_count": null,
   "id": "4d59feed-7ea4-494b-bf8a-a9573f86417c",
   "metadata": {},
   "outputs": [],
   "source": [
    "X_sample = X[0]\n",
    "y_sample = y[0]\n",
    "print(X_sample, y_sample)"
   ]
  },
  {
   "cell_type": "code",
   "execution_count": null,
   "id": "52ffca24-6e70-4588-b86f-a50888684e9c",
   "metadata": {},
   "outputs": [],
   "source": [
    "# Turn Data into Tensors\n",
    "import torch\n",
    "torch.__version__"
   ]
  },
  {
   "cell_type": "code",
   "execution_count": null,
   "id": "85344848-fc1f-414c-9e55-cada6f76211a",
   "metadata": {},
   "outputs": [],
   "source": [
    "type(X)"
   ]
  },
  {
   "cell_type": "code",
   "execution_count": null,
   "id": "eea448aa-69f5-44e9-a9ad-7e8ec9bdc0d1",
   "metadata": {},
   "outputs": [],
   "source": [
    "X=torch.from_numpy(X).type(torch.float)\n",
    "y=torch.from_numpy(y).type(torch.float)"
   ]
  },
  {
   "cell_type": "code",
   "execution_count": null,
   "id": "cac59246-820d-485a-8d98-0e5483597052",
   "metadata": {},
   "outputs": [],
   "source": [
    "X.dtype, y.dtype"
   ]
  },
  {
   "cell_type": "code",
   "execution_count": null,
   "id": "d3c11f89-fce1-4391-a4fb-bf31af1c3447",
   "metadata": {},
   "outputs": [],
   "source": [
    "from sklearn.model_selection import train_test_split\n",
    "X_train, X_test, y_train, y_test = train_test_split(X,y, test_size=0.2, random_state=42) "
   ]
  },
  {
   "cell_type": "code",
   "execution_count": null,
   "id": "4cee136a-ea7c-432e-b3fc-68e1228683a9",
   "metadata": {},
   "outputs": [],
   "source": [
    "len(X_train), len(X_test), len(y_train), len(y_test)"
   ]
  },
  {
   "cell_type": "markdown",
   "id": "6163e1a8-3bca-47d8-a38b-3dd3645bac04",
   "metadata": {},
   "source": [
    "## Building a Model"
   ]
  },
  {
   "cell_type": "code",
   "execution_count": null,
   "id": "e901bf59-29f5-4877-acb0-2135d616494c",
   "metadata": {},
   "outputs": [],
   "source": [
    "import torch\n",
    "import torch.nn as nn\n",
    "device = \"cuda\" if torch.cuda.is_available else \"cpu\""
   ]
  },
  {
   "cell_type": "code",
   "execution_count": null,
   "id": "f5621c30-0bb8-4c34-a74c-f613d8c49653",
   "metadata": {},
   "outputs": [],
   "source": [
    "device"
   ]
  },
  {
   "cell_type": "markdown",
   "id": "747fa09c-33f9-4b3f-8b05-bf330d3bddb2",
   "metadata": {},
   "source": [
    "### Setup device agnostic code"
   ]
  },
  {
   "cell_type": "markdown",
   "id": "6ce5888d-4e81-499c-a3aa-5d7d3ac62899",
   "metadata": {},
   "source": [
    "### 3 ways to create a Model"
   ]
  },
  {
   "cell_type": "code",
   "execution_count": null,
   "id": "a031eda9-3aaf-4778-abac-5bc568e3f5fb",
   "metadata": {},
   "outputs": [],
   "source": [
    "class CircleModelV0(nn.Module):\n",
    "    def __init__(self):\n",
    "        super().__init__()\n",
    "        # way 1\n",
    "        # self.layer_1 = nn.Linear(in_features=2, out_features=5) # it takes 2 features from X and upscale to 5 feature\n",
    "        # self.layer_2 = nn.Linear(in_features=5, out_features=1)\n",
    "\n",
    "        # way 2\n",
    "        self.two_linear_layers = nn.Sequential(\n",
    "            nn.Linear(in_features=2, out_features=5),\n",
    "            nn.Linear(in_features=5, out_features=1)\n",
    "        )\n",
    "        \n",
    "    def forward(self, x):\n",
    "        # return self.layer_2(self.layer_1(x)) # X_train -> layer_1 -> layer_2 -> output\n",
    "        return self.two_linear_layers(x)\n",
    "\n",
    "model_0 = CircleModelV0().to(device)"
   ]
  },
  {
   "cell_type": "code",
   "execution_count": null,
   "id": "f8f05d16-84f2-4393-9724-abaf4c5ddf68",
   "metadata": {},
   "outputs": [],
   "source": [
    "model_0"
   ]
  },
  {
   "cell_type": "markdown",
   "id": "81eaba73-72c6-4ed8-883a-b6170f4aaf58",
   "metadata": {},
   "source": [
    "it take 2 features initially and  performs nn.Linear(y=xAT+b) and upscales to 5 features"
   ]
  },
  {
   "cell_type": "code",
   "execution_count": null,
   "id": "f63b20d7-0a1f-4bd9-94b1-48225555d353",
   "metadata": {},
   "outputs": [],
   "source": [
    "next(model_0.parameters()).device"
   ]
  },
  {
   "cell_type": "code",
   "execution_count": null,
   "id": "d1d7760b-0a48-472a-b288-54c8c3911d2b",
   "metadata": {},
   "outputs": [],
   "source": [
    "# way 3\n",
    "model_1 = nn.Sequential(\n",
    "    nn.Linear(in_features=2, out_features=5),\n",
    "    nn.Linear(in_features=5, out_features=1)\n",
    ").to(device)\n",
    "model_1"
   ]
  },
  {
   "cell_type": "code",
   "execution_count": null,
   "id": "1f6412b3-b782-4184-be20-9bb604ddc68e",
   "metadata": {},
   "outputs": [],
   "source": [
    "model_0.state_dict()"
   ]
  },
  {
   "cell_type": "code",
   "execution_count": null,
   "id": "4d1031d0-bb01-4d03-9865-e77732cadc30",
   "metadata": {},
   "outputs": [],
   "source": [
    "# Make Prediction\n",
    "with torch.inference_mode():\n",
    "    untrained_preds = model_0(X_test.to(device))\n",
    "print(f'Length of Prediction: {len(untrained_preds)} and Shape is {untrained_preds.shape}')\n",
    "print(f'\\nFirst 10 predictions {untrained_preds[:10]}')\n",
    "print(f'\\nFirst 10 labels: {(y_test[:10])}')"
   ]
  },
  {
   "cell_type": "markdown",
   "id": "acf1c667-8fd8-47bf-9100-8217000bdd14",
   "metadata": {},
   "source": [
    "## Setting Up a Loss Function\n",
    "### For the Loss Funtion, we're going to use BCEWithLogitLoss (here Logit is referred as Layer which gives denormalized log probabilities of output), basically, In Logit Layer, when an input passed throught softmax such layer comes as normalized i.e, ranges betn 0 & 1 but "
   ]
  },
  {
   "cell_type": "markdown",
   "id": "2acadec9-00fe-4b8b-a944-231a23e0b51a",
   "metadata": {},
   "source": [
    "basically, it's better to use softmaxWithLogitLoss for training and softmax for evaluation"
   ]
  },
  {
   "cell_type": "markdown",
   "id": "724019fc-5b27-4158-8ad9-a80f7d48c5df",
   "metadata": {},
   "source": [
    "BCE = Binary cross entropy loss\n",
    "use Cross Entropy for multiclass classification"
   ]
  },
  {
   "cell_type": "code",
   "execution_count": null,
   "id": "7675e1ae-cf16-4028-9c04-35c4ce341416",
   "metadata": {},
   "outputs": [],
   "source": [
    "# setup the loss function\n",
    "# loss_fn = nn.BCELoss() # requires to pass through Sigmoid activation function prior to input the BCELoss\n",
    "# BCEWithLogitsLoss is better numerically stablized than doing \n",
    "# loss_fn = nn.Sequential(\n",
    "#     nn.Sigmoid(),\n",
    "#     nn.BCELoss()\n",
    "# )\n",
    "loss_fn = nn.BCEWithLogitsLoss()\n",
    "optim = torch.optim.SGD(params=model_0.parameters(),\n",
    "                       lr=0.1)"
   ]
  },
  {
   "cell_type": "code",
   "execution_count": null,
   "id": "d319c716-e35a-42f0-b165-4d3752a66a77",
   "metadata": {},
   "outputs": [],
   "source": [
    "# calculate accuracy\n",
    "def accuracy(y_true, y_pred):\n",
    "    correct = torch.eq(y_true, y_pred).sum().item()\n",
    "    acc = (correct/len(y_pred)) * 100\n",
    "    return acc"
   ]
  },
  {
   "cell_type": "markdown",
   "id": "c00f5006-94d7-4adf-a687-97d0303e34ca",
   "metadata": {},
   "source": [
    "## Train the model from training loop\n",
    "### Going from raw logits -> prediction probabilities -> prediction labels\n",
    "In our context, logits are raw output of our model"
   ]
  },
  {
   "cell_type": "code",
   "execution_count": null,
   "id": "a40c095c-da61-47d5-8001-ff81230524f9",
   "metadata": {},
   "outputs": [],
   "source": [
    "with torch.inference_mode():\n",
    "    y_logits = model_0(X_test.to(device))\n",
    "y_logits[:5], y_test[:5]"
   ]
  },
  {
   "cell_type": "code",
   "execution_count": null,
   "id": "968d7341-7d61-4788-850d-acc8a75efac9",
   "metadata": {},
   "outputs": [],
   "source": [
    "#use sigmoid activation to convert raw logits into predictions probabilities\n",
    "y_pred_probs = torch.sigmoid(y_logits)\n",
    "y_pred_probs[:5], torch.round(y_pred_probs[:5])"
   ]
  },
  {
   "cell_type": "code",
   "execution_count": null,
   "id": "8d8f1964-d6bc-4fa2-a531-5347f452fe61",
   "metadata": {},
   "outputs": [],
   "source": [
    "y_preds = torch.round(y_pred_probs)\n",
    "y_pred_labels = torch.round(torch.sigmoid(model_0(X_test.to(device))))\n",
    "print(torch.eq(y_preds.squeeze(), y_pred_labels.squeeze()))\n",
    "y_preds.squeeze()"
   ]
  },
  {
   "cell_type": "code",
   "execution_count": null,
   "id": "daa7a20c-46f8-4708-a0a3-9e2db2683cba",
   "metadata": {},
   "outputs": [],
   "source": [
    "y_pred_labels"
   ]
  },
  {
   "cell_type": "code",
   "execution_count": null,
   "id": "e32172dd-996f-4b60-bdd2-03aab104e927",
   "metadata": {},
   "outputs": [],
   "source": [
    "y_preds[:5], y_test[:5].to(device)"
   ]
  },
  {
   "cell_type": "code",
   "execution_count": null,
   "id": "fcc0e07c-9f52-4b5b-9cab-df17fd6c8ccf",
   "metadata": {},
   "outputs": [],
   "source": [
    "!nvidia-smi"
   ]
  },
  {
   "cell_type": "markdown",
   "id": "c1b44ad8-861b-458b-9b46-4d103ad5402b",
   "metadata": {},
   "source": [
    "## Building the training and testing loop"
   ]
  },
  {
   "cell_type": "code",
   "execution_count": null,
   "id": "e6abefd3-7ca6-49f5-8348-265a4c3b0235",
   "metadata": {},
   "outputs": [],
   "source": [
    "torch.manual_seed(42)\n",
    "torch.cuda.manual_seed(42) # set when reproducibility should be in code written for cuda/gpu\n",
    "\n",
    "epochs=100\n",
    "\n",
    "X_train, X_test = X_train.to(device), X_test.to(device)\n",
    "y_train, y_test = y_train.to(device), y_test.to(device)\n",
    "\n",
    "# Building training and evaluation loop\n",
    "for epoch in range(epochs):\n",
    "    model_0.train()\n",
    "\n",
    "    # Forward Pass\n",
    "    y_logits = model_0(X_train).squeeze()\n",
    "    y_preds = torch.round(torch.sigmoid(y_logits)) # turn logits -> pred probs -> pred labels\n",
    "\n",
    "    # Calculate the Loss\n",
    "    loss = loss_fn(y_logits, # nn.BCEWithLogitsLoss expects raw logits as input while nn.BCE expects pred probs by sigmoid as input\n",
    "                  y_train)\n",
    "    acc = accuracy(y_train, y_preds)\n",
    "\n",
    "    # Optimize the zero grad\n",
    "    optim.zero_grad()\n",
    "\n",
    "    # Loss Backward Propagation\n",
    "    loss.backward()\n",
    "\n",
    "    # Optimizer step \n",
    "    optim.step()\n",
    "\n",
    "    ### Testing\n",
    "    model_0.eval()\n",
    "    with torch.inference_mode():\n",
    "        # forward pass\n",
    "        test_logits = model_0(X_test).squeeze()\n",
    "        test_pred = torch.round(torch.sigmoid(test_logits))\n",
    "        # calculate the loss\n",
    "        test_loss = loss_fn(test_logits,\n",
    "                           y_test)\n",
    "        test_acc = accuracy(y_test, test_pred)\n",
    "\n",
    "    if epoch%10 == 0:\n",
    "        print(f'Epoch: {epoch} | Loss: {loss:.2f}%, Acc: {acc:.2f} | Test Loss: {test_loss:.2f}%, Test Acc: {test_acc:.2f}')"
   ]
  },
  {
   "cell_type": "code",
   "execution_count": null,
   "id": "521add5f-fac0-4896-a946-b5cfb737ca6c",
   "metadata": {},
   "outputs": [],
   "source": [
    "import requests\n",
    "from pathlib import Path \n",
    "\n",
    "# Download helper functions from Learn PyTorch repo (if not already downloaded)\n",
    "if Path(\"helper_functions.py\").is_file():\n",
    "  print(\"helper_functions.py already exists, skipping download\")\n",
    "else:\n",
    "  print(\"Downloading helper_functions.py\")\n",
    "  request = requests.get(\"https://raw.githubusercontent.com/mrdbourke/pytorch-deep-learning/main/helper_functions.py\")\n",
    "  with open(\"helper_functions.py\", \"wb\") as f:\n",
    "    f.write(request.content)\n",
    "\n",
    "from helper_functions import plot_predictions, plot_decision_boundary"
   ]
  },
  {
   "cell_type": "code",
   "execution_count": null,
   "id": "4d4ea956-f67a-45ac-8eec-685918f18e37",
   "metadata": {},
   "outputs": [],
   "source": [
    "# Plot decision boundaries for training and test sets\n",
    "plt.figure(figsize=(12, 6))\n",
    "plt.subplot(1, 2, 1)\n",
    "plt.title(\"Train\")\n",
    "plot_decision_boundary(model_0, X_train, y_train)\n",
    "plt.subplot(1, 2, 2)\n",
    "plt.title(\"Test\")\n",
    "plot_decision_boundary(model_0, X_test, y_test)"
   ]
  },
  {
   "cell_type": "code",
   "execution_count": null,
   "id": "10cf18fe-fc84-49b5-8a04-d339e76e2755",
   "metadata": {},
   "outputs": [],
   "source": [
    "plot_decision_boundary?"
   ]
  },
  {
   "cell_type": "markdown",
   "id": "27f1e938-b8f9-4c31-9294-e7d4f20b3d74",
   "metadata": {},
   "source": [
    "### Improving a model\n",
    "* Add more layers - giving them more chances to learn on more patterns\n",
    "* Add more hidden units\n",
    "* Fit for longer - More Epochs, Low learning rate\n",
    "* Changing the activation function\n",
    "* Change the learning rate (best=0.01)\n",
    "* Change the loss function"
   ]
  },
  {
   "cell_type": "code",
   "execution_count": null,
   "id": "585d705d-476a-43ac-aa37-c125a855bfda",
   "metadata": {},
   "outputs": [],
   "source": [
    "class CircleModelV11(nn.Module):\n",
    "    def __init__(self):\n",
    "        super().__init__()\n",
    "        self.layer_1 = nn.Linear(in_features=2,out_features=10),\n",
    "        self.layer_2 = nn.Linear(in_features=10,out_features=10),\n",
    "        self.layer_3 = nn.Linear(in_features=10,out_features=1)\n",
    "\n",
    "    def forward(self, x):\n",
    "        return self.layer_3(self.layer_2(self.layer_1(x)))"
   ]
  },
  {
   "cell_type": "code",
   "execution_count": null,
   "id": "8c5de417-ce7f-4e2e-bed8-25a227da1898",
   "metadata": {},
   "outputs": [],
   "source": [
    "class CircleModelV1(nn.Sequential):\n",
    "    def __init__(self):\n",
    "        super().__init__()\n",
    "        self.multi_layers = nn.Sequential(\n",
    "            nn.Linear(in_features=2,out_features=10),\n",
    "            nn.Linear(in_features=10,out_features=10),\n",
    "            nn.Linear(in_features=10,out_features=1)\n",
    "        )\n",
    "\n",
    "    def forward(self, x):\n",
    "        return self.multi_layers(x)"
   ]
  },
  {
   "cell_type": "markdown",
   "id": "551a5ce3-0ac2-4bd3-b830-0725b5c0606d",
   "metadata": {},
   "source": [
    "* nn.Module for more complex and modular units\n",
    "* nn.Sequential for simplier and small units"
   ]
  },
  {
   "cell_type": "code",
   "execution_count": null,
   "id": "44ccadd0-feb9-4393-97e3-b9ef91417372",
   "metadata": {},
   "outputs": [],
   "source": [
    "model_1 = CircleModelV1().to(device)\n",
    "model_1"
   ]
  },
  {
   "cell_type": "code",
   "execution_count": null,
   "id": "0ecfe7e7-f3eb-4c97-b641-3146429179d9",
   "metadata": {},
   "outputs": [],
   "source": [
    "loss_fn = nn.BCEWithLogitsLoss()\n",
    "optim = torch.optim.Adam(params=model_1.parameters(), lr=0.01)"
   ]
  },
  {
   "cell_type": "code",
   "execution_count": null,
   "id": "817f7176-f1f1-4bd1-bc80-b98554259cc5",
   "metadata": {},
   "outputs": [],
   "source": [
    "torch.manual_seed(42)\n",
    "torch.cuda.manual_seed(42)\n",
    "\n",
    "epochs = 1000\n",
    "\n",
    "X_train, X_test, y_train, y_test = X_train.to(device), X_test.to(device), y_train.to(device), y_test.to(device)\n",
    "\n",
    "for epoch in range(epochs):\n",
    "    model_1.train()\n",
    "\n",
    "    # Forward Pass\n",
    "    y_logits = model_1(X_train).squeeze()\n",
    "    y_preds = torch.round(torch.sigmoid(y_logits)) # turn logits -> pred probs -> pred labels\n",
    "\n",
    "    # Calculate the Loss\n",
    "    loss = loss_fn(y_logits, # nn.BCEWithLogitsLoss expects raw logits as input while nn.BCE expects pred probs by sigmoid as input\n",
    "                  y_train)\n",
    "    acc = accuracy(y_train, y_preds)\n",
    "\n",
    "    # Optimize the zero grad\n",
    "    optim.zero_grad()\n",
    "\n",
    "    # Loss Backward Propagation\n",
    "    loss.backward()\n",
    "\n",
    "    # Optimizer step \n",
    "    optim.step()\n",
    "\n",
    "    ### Testing\n",
    "    model_0.eval()\n",
    "    with torch.inference_mode():\n",
    "        # forward pass\n",
    "        test_logits = model_1(X_test).squeeze()\n",
    "        test_pred = torch.round(torch.sigmoid(test_logits))\n",
    "        # calculate the loss\n",
    "        test_loss = loss_fn(test_logits,\n",
    "                           y_test)\n",
    "        test_acc = accuracy(y_test, test_pred)\n",
    "\n",
    "    if epoch%100 == 0:\n",
    "        print(f'Epoch: {epoch} | Loss: {loss:.2f}%, Acc: {acc:.2f} | Test Loss: {test_loss:.2f}%, Test Acc: {test_acc:.2f}')"
   ]
  },
  {
   "cell_type": "code",
   "execution_count": null,
   "id": "997e5f59-8c5c-4d21-9f6d-f12bb0a88b3d",
   "metadata": {},
   "outputs": [],
   "source": [
    "# Plot decision boundaries for training and test sets\n",
    "plt.figure(figsize=(12, 6))\n",
    "plt.subplot(1, 2, 1)\n",
    "plt.title(\"Train\")\n",
    "plot_decision_boundary(model_1, X_train, y_train)\n",
    "plt.subplot(1, 2, 2)\n",
    "plt.title(\"Test\")\n",
    "plot_decision_boundary(model_1, X_test, y_test)"
   ]
  },
  {
   "cell_type": "markdown",
   "id": "96cca6ba-1e78-4503-b86c-58c8fbb02d5f",
   "metadata": {},
   "source": [
    "### It still gives bad result🥲\n",
    "### Let's Add Non-linearity in our model"
   ]
  },
  {
   "cell_type": "code",
   "execution_count": null,
   "id": "ab88b9aa-b5d1-455a-b0a6-5f2b22a4951d",
   "metadata": {},
   "outputs": [],
   "source": [
    "from sklearn.datasets import make_circles\n",
    "n_samples =1000\n",
    "X, y = make_circles(n_samples, noise=0.03, random_state=42)\n",
    "\n",
    "plt.scatter(X[:, 0], X[:, 1], c=y, cmap=plt.cm.RdYlBu)"
   ]
  },
  {
   "cell_type": "code",
   "execution_count": null,
   "id": "fdd614c3-963f-47eb-88ee-663f4966b89d",
   "metadata": {},
   "outputs": [],
   "source": [
    "import torch\n",
    "from sklearn.model_selection import train_test_split\n",
    "\n",
    "X = torch.from_numpy(X).type(torch.float32)\n",
    "y = torch.from_numpy(y).type(torch.float32)\n",
    "\n",
    "X_train, X_test, y_train, y_test = train_test_split(X,y, test_size=0.2, random_state=42)\n"
   ]
  },
  {
   "cell_type": "markdown",
   "id": "d0d27037-4808-462f-bd79-fa6693b06b3e",
   "metadata": {},
   "source": [
    "### 4th Way to create an DL model"
   ]
  },
  {
   "cell_type": "code",
   "execution_count": null,
   "id": "9446c927-14cf-4720-bcb9-efe69abbfbb3",
   "metadata": {},
   "outputs": [],
   "source": [
    "from collections import OrderedDict\n",
    "from torch.nn import Sequential\n",
    "from torch.nn import ReLU, Dropout, Linear\n",
    "\n",
    "model_2 = Sequential(OrderedDict([\n",
    "         ('layer1', nn.Linear(in_features=2, out_features=10)),\n",
    "         ('relu1', nn.ReLU()),\n",
    "         ('layer2', nn.Linear(in_features=10, out_features=10)),\n",
    "         ('relu2', nn.ReLU()),\n",
    "         ('layer3', nn.Linear(in_features=10, out_features=1)),\n",
    "])).to(device)\n",
    "model_2"
   ]
  },
  {
   "cell_type": "code",
   "execution_count": null,
   "id": "4eb53673-7c2d-4994-bc73-fa63deaa5dbe",
   "metadata": {
    "scrolled": true
   },
   "outputs": [],
   "source": [
    "model_2.to(device)"
   ]
  },
  {
   "cell_type": "code",
   "execution_count": null,
   "id": "6af80f1a-9dd0-434b-b507-625bc27cbf1d",
   "metadata": {},
   "outputs": [],
   "source": [
    "# Make Prediction\n",
    "with torch.inference_mode():\n",
    "    untrained_preds = model_2(X_test.to(device)).to(device)\n",
    "print(f'Length of Prediction: {len(untrained_preds)} and Shape is {untrained_preds.shape}')\n",
    "print(f'\\nFirst 10 predictions {untrained_preds[:10]}')\n",
    "print(f'\\nFirst 10 labels: {(y_test[:10])}')"
   ]
  },
  {
   "cell_type": "code",
   "execution_count": null,
   "id": "7b5600fc-40ae-4b5d-a1cc-04ddd77c39cb",
   "metadata": {},
   "outputs": [],
   "source": [
    "loss_fn = nn.BCEWithLogitsLoss()\n",
    "optim = torch.optim.SGD(model_2.parameters(), 0.1)"
   ]
  },
  {
   "cell_type": "code",
   "execution_count": null,
   "id": "3d16f7e3-a7ca-4e29-a632-5cad242cb311",
   "metadata": {},
   "outputs": [],
   "source": [
    "torch.manual_seed(42)\n",
    "torch.cuda.manual_seed(42)\n",
    "epochs = 1000\n",
    "\n",
    "X_train, X_test, y_train, y_test = X_train.to(device), X_test.to(device), y_train.to(device), y_test.to(device)\n",
    "\n",
    "for epoch in range(epochs):\n",
    "    model_2.train()\n",
    "\n",
    "    # Forward Pass\n",
    "    y_logits = model_2(X_train).squeeze()\n",
    "    y_preds = torch.round(torch.sigmoid(y_logits)) # turn logits -> pred probs -> pred labels\n",
    "\n",
    "    # Calculate the Loss\n",
    "    loss = loss_fn(y_logits, # nn.BCEWithLogitsLoss expects raw logits as input while nn.BCE expects pred probs by sigmoid as input\n",
    "                  y_train)\n",
    "    acc = accuracy(y_train, y_preds)\n",
    "\n",
    "    # Optimize the zero grad\n",
    "    optim.zero_grad()\n",
    "\n",
    "    # Loss Backward Propagation\n",
    "    loss.backward()\n",
    "\n",
    "    # Optimizer step \n",
    "    optim.step()\n",
    "\n",
    "    ### Testing\n",
    "    model_2.eval()\n",
    "    with torch.inference_mode():\n",
    "        # forward pass\n",
    "        test_logits = model_2(X_test).squeeze()\n",
    "        test_pred = torch.round(torch.sigmoid(test_logits))\n",
    "        # calculate the loss\n",
    "        test_loss = loss_fn(test_logits, y_test)\n",
    "        test_acc = accuracy(y_test, test_pred)\n",
    "\n",
    "    if epoch%100 == 0:\n",
    "        print(f'Epoch: {epoch} | Loss: {loss:.2f}%, Acc: {acc:.2f} | Test Loss: {test_loss:.2f}%, Test Acc: {test_acc:.2f}')\n"
   ]
  },
  {
   "cell_type": "markdown",
   "id": "60cda1ee-2d6b-4189-ac47-52b0336f5b4d",
   "metadata": {},
   "source": [
    "## Evaluating the model with Non-Linear Activation Function"
   ]
  },
  {
   "cell_type": "code",
   "execution_count": null,
   "id": "cda41423-d4d6-4bf7-92c7-a79604921b28",
   "metadata": {},
   "outputs": [],
   "source": [
    "# Plot decision boundaries for training and test sets\n",
    "plt.figure(figsize=(12, 6))\n",
    "plt.subplot(1, 2, 1)\n",
    "plt.title(\"Train\")\n",
    "plot_decision_boundary(model_2, X_train, y_train)\n",
    "plt.subplot(1, 2, 2)\n",
    "plt.title(\"Test\")\n",
    "plot_decision_boundary(model_2, X_test, y_test)"
   ]
  },
  {
   "cell_type": "code",
   "execution_count": null,
   "id": "8e44c11d-90e0-487e-8488-ee5d4aa488c4",
   "metadata": {
    "scrolled": true
   },
   "outputs": [],
   "source": [
    "model_2.eval()\n",
    "with torch.inference_mode():\n",
    "    y_preds = torch.round(torch.sigmoid(X_test)).squeeze()\n",
    "y_preds[:10], y_test[:10]"
   ]
  },
  {
   "cell_type": "code",
   "execution_count": null,
   "id": "a08f10ec-0a1e-4cbb-901a-8c3f1f40ca75",
   "metadata": {},
   "outputs": [],
   "source": [
    "# Miscelleneous \n",
    "a = torch.arange(-5,5)\n",
    "b = torch.arange(5,5)\n",
    "a_new = torch.relu(a)\n",
    "b_new = torch.sigmoid(b)\n",
    "plt.plot(a_new)"
   ]
  },
  {
   "cell_type": "markdown",
   "id": "70882991-93e9-4065-a8a6-edb5282bbfdb",
   "metadata": {},
   "source": [
    "## Now, Time for best possible model I can make"
   ]
  },
  {
   "cell_type": "code",
   "execution_count": null,
   "id": "d41bccaf-3470-4d4e-9ddd-cddb5b146579",
   "metadata": {},
   "outputs": [],
   "source": [
    "from torch.nn import Sequential\n",
    "from collections import OrderedDict\n",
    "from torch.nn import Linear, Dropout, ReLU, Sigmoid\n",
    "\n",
    "model_3 = Sequential(OrderedDict([\n",
    "    ('input_layer', Linear(in_features=2, out_features=10)),\n",
    "    ('activate_relu1', ReLU()),\n",
    "    # ('dropout1', Dropout(0.3)),\n",
    "    ('hidden_layer1', Linear(in_features=10,out_features=10)),\n",
    "    ('activate_relu2', ReLU()),\n",
    "    # ('hidden_layer2', Linear(in_features=10,out_features=10)),\n",
    "    ('activate_relu3', ReLU()),\n",
    "    ('hidden_layer4', Linear(in_features=10,out_features=1)),\n",
    "])).to(device)\n",
    "model_3"
   ]
  },
  {
   "cell_type": "markdown",
   "id": "89a6aa98-5808-44aa-b62b-b2d50838a2bb",
   "metadata": {},
   "source": [
    "## Implement early stopping"
   ]
  },
  {
   "cell_type": "code",
   "execution_count": null,
   "id": "7928240c-7b1e-47f6-8759-6197621b6096",
   "metadata": {},
   "outputs": [],
   "source": [
    "class EarlyStopping:\n",
    "    def __init__(self, patience=20, min_delta=0.0001):\n",
    "        self.patience = patience\n",
    "        self.min_delta = min_delta\n",
    "        self.best_loss = float('inf')\n",
    "        self.counter = 0\n",
    "\n",
    "    def __call__(self, val_loss):\n",
    "        if val_loss < self.best_loss - self.min_delta:\n",
    "            self.best_loss = val_loss\n",
    "            self.counter = 0\n",
    "        else:\n",
    "            self.counter += 1\n",
    "\n",
    "        if self.counter >= self.patience:\n",
    "            return True  # Stop training\n",
    "        return False\n",
    "\n",
    "early_stopping = EarlyStopping()\n"
   ]
  },
  {
   "cell_type": "code",
   "execution_count": null,
   "id": "0b03cee7-7b82-4804-b868-ff3e452b814a",
   "metadata": {},
   "outputs": [],
   "source": [
    "loss_fn = nn.BCEWithLogitsLoss()\n",
    "optim = torch.optim.SGD(model_3.parameters(), 0.1)"
   ]
  },
  {
   "cell_type": "code",
   "execution_count": null,
   "id": "42ebbd8d-9242-4af7-9f16-7e82580659a5",
   "metadata": {},
   "outputs": [],
   "source": [
    "torch.manual_seed(42)\n",
    "torch.cuda.manual_seed(42)\n",
    "epochs = 1200\n",
    "\n",
    "X_train, X_test, y_train, y_test = X_train.to(device), X_test.to(device), y_train.to(device), y_test.to(device)\n",
    "\n",
    "for epoch in range(epochs):\n",
    "    model_3.train()\n",
    "\n",
    "    # Forward Pass\n",
    "    y_logits = model_3(X_train).squeeze()\n",
    "    y_preds = torch.round(torch.sigmoid(y_logits)) # turn logits -> pred probs -> pred labels\n",
    "\n",
    "    # Calculate the Loss\n",
    "    loss = loss_fn(y_logits, # nn.BCEWithLogitsLoss expects raw logits as input while nn.BCE expects pred probs by sigmoid as input\n",
    "                  y_train)\n",
    "    acc = accuracy(y_train, y_preds)\n",
    "\n",
    "    # Optimize the zero grad\n",
    "    optim.zero_grad()\n",
    "\n",
    "    # Loss Backward Propagation\n",
    "    loss.backward()\n",
    "\n",
    "    # Optimizer step \n",
    "    optim.step()\n",
    "\n",
    "    ### Testing\n",
    "    model_3.eval()\n",
    "    with torch.inference_mode():\n",
    "        # forward pass\n",
    "        test_logits = model_3(X_test).squeeze()\n",
    "        test_pred = torch.round(torch.sigmoid(test_logits))\n",
    "        # calculate the loss\n",
    "        test_loss = loss_fn(test_logits, y_test)\n",
    "        test_acc = accuracy(y_test, test_pred)\n",
    "\n",
    "    if epoch%100 == 0:\n",
    "        print(f'Epoch: {epoch} | Loss: {loss:.2f}%, Acc: {acc:.2f} | Test Loss: {test_loss:.2f}%, Test Acc: {test_acc:.2f}')\n"
   ]
  },
  {
   "cell_type": "code",
   "execution_count": null,
   "id": "9d01281b-26e5-421e-be12-aa4f567b4396",
   "metadata": {},
   "outputs": [],
   "source": [
    "# Plot decision boundaries for training and test sets\n",
    "plt.figure(figsize=(12, 6))\n",
    "plt.subplot(1, 2, 1)\n",
    "plt.title(\"Train\")\n",
    "plot_decision_boundary(model_3, X_train, y_train)\n",
    "plt.subplot(1, 2, 2)\n",
    "plt.title(\"Test\")\n",
    "plot_decision_boundary(model_3, X_test, y_test)"
   ]
  },
  {
   "cell_type": "code",
   "execution_count": null,
   "id": "a37d6894-db9e-4f5b-9b60-613009e06ba6",
   "metadata": {
    "scrolled": true
   },
   "outputs": [],
   "source": [
    "model_3.eval()\n",
    "with torch.inference_mode():\n",
    "    y_preds = torch.round(torch.sigmoid(X_test)).squeeze()\n",
    "y_preds[:10], y_test[:10]"
   ]
  },
  {
   "cell_type": "markdown",
   "id": "f555fa9c-fcb3-464b-b1bd-e21f78369c1d",
   "metadata": {},
   "source": [
    "# Working with multiclass dataset"
   ]
  },
  {
   "cell_type": "markdown",
   "id": "fc7fb3fe-4e88-4b08-b1dc-bb6e3627c88e",
   "metadata": {},
   "source": [
    "### Creating toy dataset"
   ]
  },
  {
   "cell_type": "code",
   "execution_count": 173,
   "id": "ae9c8b9b-38ff-4379-aa56-20d4be1e65fe",
   "metadata": {},
   "outputs": [
    {
     "data": {
      "text/plain": [
       "<matplotlib.collections.PathCollection at 0x1c98af58620>"
      ]
     },
     "execution_count": 173,
     "metadata": {},
     "output_type": "execute_result"
    },
    {
     "data": {
      "image/png": "[encoded data removed]",
      "text/plain": [
       "<Figure size 1000x700 with 1 Axes>"
      ]
     },
     "metadata": {},
     "output_type": "display_data"
    }
   ],
   "source": [
    "import torch\n",
    "import matplotlib.pyplot as plt\n",
    "from sklearn.datasets import make_blobs\n",
    "from sklearn.model_selection import train_test_split\n",
    "\n",
    "NUM_CLASSES = 4\n",
    "NUM_FEATURES = 2\n",
    "RANDOM_SEED = 42\n",
    "\n",
    "X_blob, y_blob = make_blobs(n_samples=1000, n_features=NUM_FEATURES,\n",
    "                           centers=NUM_CLASSES, cluster_std=1.5,\n",
    "                            random_state=RANDOM_SEED)\n",
    "\n",
    "X_blob = torch.from_numpy(X_blob).type(torch.float)\n",
    "y_blob = torch.from_numpy(y_blob).type(torch.LongTensor)\n",
    "\n",
    "X_blob_train, X_blob_test, y_blob_train, y_blob_test = train_test_split(X_blob, y_blob, test_size=0.33, random_state=RANDOM_SEED)\n",
    "\n",
    "# Plotting data\n",
    "plt.figure(figsize=(10,7))\n",
    "plt.scatter(X_blob[:,0], X_blob[:,1], c=y_blob, cmap=plt.cm.RdYlBu)"
   ]
  },
  {
   "cell_type": "markdown",
   "id": "7f438fe0-459a-407d-a4c5-6cb26c8cac8b",
   "metadata": {},
   "source": [
    "## Building multiclass classification model"
   ]
  },
  {
   "cell_type": "code",
   "execution_count": 257,
   "id": "7d388b3c-91c6-4d3a-96b8-8f7c8940bf54",
   "metadata": {},
   "outputs": [],
   "source": [
    "# create device agnostic code\n",
    "device = 'cuda' if torch.cuda.is_available else  'cpu'\n",
    "\n",
    "from collections import OrderedDict\n",
    "import torch.nn as nn\n",
    "\n",
    "# building model\n",
    "class BlobModel(nn.Module):\n",
    "    def __init__(self, in_features, out_features, hidden_units=11):\n",
    "        \"\"\"Initialize multiclass classification model\n",
    "        \n",
    "        Args:\n",
    "        in_features (int): Number of input features to the model\n",
    "        out_features (int): Number of output features to the model\n",
    "        hidden_units (int): Number of hidden units inbetween the layers\n",
    "        \n",
    "        Returns: nn.Sequential()\n",
    "        \n",
    "        Example:\n",
    "        \"\"\"\n",
    "        super().__init__()\n",
    "        self.linear_layer_stack = nn.Sequential(OrderedDict([\n",
    "            ('input_layer', nn.Linear(in_features=in_features, out_features=hidden_units)),\n",
    "            ('relu1', nn.ReLU()),\n",
    "            ('hidden_layer', nn.Linear(in_features=hidden_units, out_features=hidden_units)),\n",
    "            ('dropout_layer', nn.Dropout(p=0.33)),\n",
    "            ('hidden_layer2', nn.Linear(in_features=hidden_units, out_features=hidden_units)),\n",
    "            ('relu2', nn.ReLU()),\n",
    "            ('output_layer', nn.Linear(in_features=hidden_units, out_features=out_features)),\n",
    "        ]))\n",
    "\n",
    "    def forward(self, x):\n",
    "        return self.linear_layer_stack(x)"
   ]
  },
  {
   "cell_type": "code",
   "execution_count": 258,
   "id": "5a481fa7-6c6a-4601-a903-73ac4520a23a",
   "metadata": {},
   "outputs": [
    {
     "data": {
      "text/plain": [
       "BlobModel(\n",
       "  (linear_layer_stack): Sequential(\n",
       "    (input_layer): Linear(in_features=2, out_features=11, bias=True)\n",
       "    (relu1): ReLU()\n",
       "    (hidden_layer): Linear(in_features=11, out_features=11, bias=True)\n",
       "    (dropout_layer): Dropout(p=0.33, inplace=False)\n",
       "    (hidden_layer2): Linear(in_features=11, out_features=11, bias=True)\n",
       "    (relu2): ReLU()\n",
       "    (output_layer): Linear(in_features=11, out_features=4, bias=True)\n",
       "  )\n",
       ")"
      ]
     },
     "execution_count": 258,
     "metadata": {},
     "output_type": "execute_result"
    }
   ],
   "source": [
    "model_4 = BlobModel(in_features=NUM_FEATURES, out_features=NUM_CLASSES).to(device)\n",
    "model_4"
   ]
  },
  {
   "cell_type": "code",
   "execution_count": 259,
   "id": "595c180a-861f-447f-a122-fb39112b0769",
   "metadata": {},
   "outputs": [
    {
     "data": {
      "text/plain": [
       "(torch.Size([670, 2]), torch.Size([670]))"
      ]
     },
     "execution_count": 259,
     "metadata": {},
     "output_type": "execute_result"
    }
   ],
   "source": [
    "X_blob_train.shape, y_blob_train.shape"
   ]
  },
  {
   "cell_type": "code",
   "execution_count": 260,
   "id": "9320fa0f-6b0c-4ad5-85bf-d702c61ee94e",
   "metadata": {},
   "outputs": [
    {
     "data": {
      "text/plain": [
       "tensor([[-8.6610, -6.4154],\n",
       "        [-6.5993,  6.9168],\n",
       "        [-6.8887, -5.6224],\n",
       "        ...,\n",
       "        [-1.7366,  9.7850],\n",
       "        [-6.8139, -7.1006],\n",
       "        [-9.0311,  4.5007]], device='cuda:0')"
      ]
     },
     "execution_count": 260,
     "metadata": {},
     "output_type": "execute_result"
    }
   ],
   "source": [
    "X_blob_train"
   ]
  },
  {
   "cell_type": "code",
   "execution_count": 261,
   "id": "3ee5803d-ef42-491d-aadb-9ccb266d7d09",
   "metadata": {},
   "outputs": [
    {
     "data": {
      "text/plain": [
       "tensor([0, 1, 2, 3])"
      ]
     },
     "execution_count": 261,
     "metadata": {},
     "output_type": "execute_result"
    }
   ],
   "source": [
    "torch.unique(y_blob)"
   ]
  },
  {
   "cell_type": "markdown",
   "id": "331c1c3e-08a1-46a4-9925-30f730a71755",
   "metadata": {},
   "source": [
    "* loss func === criterion === cost func\n",
    "* For Inbalanced Dataset like credit card fraud, nn.CrossEntropyLoss(weight) set weight arg"
   ]
  },
  {
   "cell_type": "markdown",
   "id": "ccac5aec-8c78-42ff-983c-39c35bb4d13a",
   "metadata": {},
   "source": [
    "### *In Order to evaluate and train our model, we have to convert our model's output(logits) into prediction probabilites and then into prediction labels"
   ]
  },
  {
   "cell_type": "code",
   "execution_count": 262,
   "id": "079828e2-3e79-4de8-8c5d-a9d9371edb19",
   "metadata": {},
   "outputs": [],
   "source": [
    "# creating loss function and optimizers\n",
    "loss_fn = nn.CrossEntropyLoss()\n",
    "optim = torch.optim.Adam(params=model_4.parameters(), lr=0.01)"
   ]
  },
  {
   "cell_type": "code",
   "execution_count": 263,
   "id": "66ce7e44-cf6e-47a1-b79b-379a40eef57b",
   "metadata": {},
   "outputs": [
    {
     "data": {
      "text/plain": [
       "(device(type='cuda', index=0), device(type='cuda', index=0))"
      ]
     },
     "execution_count": 263,
     "metadata": {},
     "output_type": "execute_result"
    }
   ],
   "source": [
    "next(model_4.parameters()).device, X_blob_test.device"
   ]
  },
  {
   "cell_type": "code",
   "execution_count": 264,
   "id": "1e8a9970-154d-4e9b-9f16-2a58393800d6",
   "metadata": {
    "scrolled": true
   },
   "outputs": [
    {
     "data": {
      "text/plain": [
       "(tensor([[ 0.3236, -0.2613,  0.5788, -0.9059],\n",
       "         [ 0.6003, -0.3927,  0.7814, -1.0756],\n",
       "         [ 0.1992, -0.2254,  0.4686, -0.7302],\n",
       "         [-0.3265, -0.1193,  0.0788, -0.2719],\n",
       "         [ 0.7774, -0.4698,  0.8795, -1.1853]], device='cuda:0',\n",
       "        grad_fn=<SliceBackward0>),\n",
       " tensor([2, 3, 2, 1, 3], device='cuda:0'))"
      ]
     },
     "execution_count": 264,
     "metadata": {},
     "output_type": "execute_result"
    }
   ],
   "source": [
    "# getting prediction probability or raw output from our model\n",
    "model_4.eval()\n",
    "with torch.inference_mode():\n",
    "    y_logtis = model_4(X_blob_train.to(device))\n",
    "model_4(X_blob_train.to(device))[:5], y_blob_train[:5]"
   ]
  },
  {
   "cell_type": "code",
   "execution_count": 265,
   "id": "a925f50a-80bd-4bbe-8ba7-998452762819",
   "metadata": {},
   "outputs": [
    {
     "data": {
      "text/plain": [
       "(tensor([1, 3, 2, 1, 0], device='cuda:0'),\n",
       " tensor([1, 3, 2, 1, 0], device='cuda:0'))"
      ]
     },
     "execution_count": 265,
     "metadata": {},
     "output_type": "execute_result"
    }
   ],
   "source": [
    "# prediction probabibitlies to prediction label\n",
    "y_pred = torch.argmax(y_pred_probs,dim=1)\n",
    "y_pred[:5], y_blob_test[:5]"
   ]
  },
  {
   "cell_type": "markdown",
   "id": "9624c737-e748-4025-8d59-640e1fd4c6fe",
   "metadata": {},
   "source": [
    "## Setting up a training and testing loop"
   ]
  },
  {
   "cell_type": "code",
   "execution_count": 266,
   "id": "99c6cdfe-a144-47fc-97e1-34c1c01504e4",
   "metadata": {},
   "outputs": [
    {
     "name": "stdout",
     "output_type": "stream",
     "text": [
      "Epoch: 0 | Loss: 1.62%, Acc: 27.31 | Test Loss: 1.40%, Test Acc: 36.36\n",
      "Epoch: 100 | Loss: 0.03%, Acc: 99.25 | Test Loss: 0.01%, Test Acc: 99.09\n",
      "Epoch: 200 | Loss: 0.03%, Acc: 99.25 | Test Loss: 0.01%, Test Acc: 99.39\n",
      "Epoch: 300 | Loss: 0.02%, Acc: 99.40 | Test Loss: 0.01%, Test Acc: 99.70\n",
      "Epoch: 400 | Loss: 0.02%, Acc: 99.25 | Test Loss: 0.01%, Test Acc: 99.70\n",
      "Epoch: 500 | Loss: 0.03%, Acc: 98.96 | Test Loss: 0.01%, Test Acc: 99.70\n",
      "Epoch: 600 | Loss: 0.02%, Acc: 99.40 | Test Loss: 0.01%, Test Acc: 99.70\n",
      "Epoch: 700 | Loss: 0.02%, Acc: 99.55 | Test Loss: 0.01%, Test Acc: 99.70\n",
      "Epoch: 800 | Loss: 0.02%, Acc: 99.25 | Test Loss: 0.01%, Test Acc: 99.70\n",
      "Epoch: 900 | Loss: 0.01%, Acc: 99.40 | Test Loss: 0.01%, Test Acc: 99.70\n"
     ]
    }
   ],
   "source": [
    "epochs = 1000\n",
    "\n",
    "X_blob_train, y_blob_train = X_blob_train.to(device), y_blob_train.to(device)\n",
    "X_blob_test, y_blob_test = X_blob_test.to(device), y_blob_test.to(device)\n",
    "\n",
    "for epoch in range(epochs):\n",
    "    model_4.train()\n",
    "    y_logits = model_4(X_blob_train)\n",
    "    y_pred =  torch.softmax(y_logits, dim=1).argmax(dim=1)\n",
    "    loss = loss_fn(y_logits, y_blob_train)\n",
    "    acc = accuracy(y_true=y_blob_train, y_pred=y_pred)\n",
    "    optim.zero_grad()\n",
    "    loss.backward()\n",
    "    optim.step()\n",
    "\n",
    "    ### Testing\n",
    "    model_4.eval()\n",
    "    with torch.inference_mode():\n",
    "        test_logits = model_4(X_blob_test)\n",
    "        test_preds = torch.softmax(test_logits, dim=1).argmax(dim=1)\n",
    "        test_loss = loss_fn(test_logits, y_blob_test)\n",
    "        test_acc = accuracy(y_true=y_blob_test, y_pred=test_preds)\n",
    "\n",
    "    if epoch%100 == 0:\n",
    "        print(f'Epoch: {epoch} | Loss: {loss:.2f}%, Acc: {acc:.2f} | Test Loss: {test_loss:.2f}%, Test Acc: {test_acc:.2f}')\n"
   ]
  },
  {
   "cell_type": "code",
   "execution_count": 267,
   "id": "fb722441-b44c-49e2-b3be-425de9b6a9cd",
   "metadata": {},
   "outputs": [
    {
     "data": {
      "text/plain": [
       "(tensor([[ 0.3236, -0.2613,  0.5788, -0.9059],\n",
       "         [ 0.6003, -0.3927,  0.7814, -1.0756],\n",
       "         [ 0.1992, -0.2254,  0.4686, -0.7302],\n",
       "         [-0.3265, -0.1193,  0.0788, -0.2719],\n",
       "         [ 0.7774, -0.4698,  0.8795, -1.1853],\n",
       "         [-0.3428, -0.1382,  0.0886, -0.2989],\n",
       "         [-0.3288, -0.1137,  0.0710, -0.2403],\n",
       "         [-0.3282, -0.1257,  0.0835, -0.2865],\n",
       "         [-0.3241, -0.1147,  0.0764, -0.2670],\n",
       "         [ 0.1791, -0.2583,  0.4645, -0.7872]], device='cuda:0'),\n",
       " tensor([1, 3, 2, 1, 0, 3, 2, 0, 2, 0, 0, 1, 0, 0, 0, 3, 3, 2, 3, 3, 3, 0, 1, 2,\n",
       "         2, 2, 3, 0, 1, 0, 3, 1, 1, 3, 1, 2, 1, 3, 0, 2, 0, 3, 3, 2, 0, 3, 1, 1,\n",
       "         0, 3, 1, 0, 1, 1, 3, 2, 1, 1, 3, 2, 2, 0, 3, 2, 2, 0, 0, 3, 3, 0, 0, 3,\n",
       "         3, 3, 2, 3, 3, 3, 3, 1, 0, 2, 3, 2, 3, 3, 2, 3, 3, 2, 3, 3, 1, 3, 3, 3,\n",
       "         1, 0, 3, 2, 0, 0, 3, 0, 2, 3, 1, 0, 3, 2, 1, 1, 0, 2, 2, 3, 0, 0, 1, 2,\n",
       "         2, 3, 0, 1, 2, 0, 0, 0, 2, 3, 1, 2, 3, 2, 0, 3, 0, 0, 1, 1, 1, 0, 2, 2,\n",
       "         2, 2, 0, 3, 3, 2, 2, 1, 3, 2, 0, 0, 3, 3, 2, 1, 2, 0, 3, 2, 0, 3, 2, 0,\n",
       "         2, 2, 2, 0, 3, 1, 1, 1, 1, 1, 3, 1, 0, 2, 2, 1, 2, 2, 0, 1, 2, 2, 0, 0,\n",
       "         1, 3, 2, 0, 3, 1, 2, 1, 1, 0, 2, 2, 0, 0, 0, 1, 3, 0, 0, 0, 3, 2, 3, 2,\n",
       "         1, 1, 3, 2, 2, 2, 3, 1, 3, 2, 3, 0, 1, 0, 0, 1, 1, 3, 0, 2, 2, 1, 1, 3,\n",
       "         1, 1, 2, 3, 3, 0, 0, 0, 1, 0, 0, 0, 2, 0, 1, 1, 0, 0, 2, 2, 3, 1, 0, 2,\n",
       "         1, 3, 2, 2, 2, 1, 0, 2, 3, 1, 1, 1, 2, 0, 0, 1, 2, 3, 1, 3, 3, 2, 3, 3,\n",
       "         2, 2, 1, 0, 0, 1, 2, 1, 3, 1, 2, 1, 3, 3, 3, 0, 2, 1, 2, 3, 1, 1, 2, 0,\n",
       "         3, 3, 2, 0, 2, 0, 3, 2, 0, 0, 2, 2, 0, 1, 2, 0, 3, 3], device='cuda:0'))"
      ]
     },
     "execution_count": 267,
     "metadata": {},
     "output_type": "execute_result"
    }
   ],
   "source": [
    "model_4.eval()\n",
    "with  torch.inference_mode():\n",
    "    y_logits = model_4(X_blob_test)\n",
    "y_logtis[:10], y_blob_test"
   ]
  },
  {
   "cell_type": "code",
   "execution_count": 276,
   "id": "0c833a20-45c6-468d-a225-722ca1b99bb6",
   "metadata": {},
   "outputs": [
    {
     "name": "stdout",
     "output_type": "stream",
     "text": [
      "Predictions: tensor([1, 3, 2, 1, 0, 3, 2, 0, 2, 0], device='cuda:0')\n",
      "Labels: tensor([1, 3, 2, 1, 0, 3, 2, 0, 2, 0], device='cuda:0')\n",
      "Test accuracy: 99.69696969696969%\n"
     ]
    }
   ],
   "source": [
    "# Turn predicted logits in prediction probabilities\n",
    "y_pred_probs = torch.softmax(y_logits, dim=1)\n",
    "\n",
    "# Turn prediction probabilities into prediction labels\n",
    "y_preds = y_pred_probs.argmax(dim=1)\n",
    "\n",
    "# Compare first 10 model preds and test labels\n",
    "print(f\"Predictions: {y_preds[:10]}\\nLabels: {y_blob_test[:10]}\")\n",
    "print(f\"Test accuracy: {accuracy(y_true=y_blob_test, y_pred=y_preds)}%\")"
   ]
  },
  {
   "cell_type": "markdown",
   "id": "1d0adbb8-55b9-4702-a693-784725a47b50",
   "metadata": {},
   "source": [
    "### Evaluating By Visualizing"
   ]
  },
  {
   "cell_type": "code",
   "execution_count": 270,
   "id": "b13f1e55-b34a-4508-8c55-530391a22a0c",
   "metadata": {},
   "outputs": [
    {
     "data": {
      "image/png": "[encoded data removed]",
      "text/plain": [
       "<Figure size 1200x600 with 2 Axes>"
      ]
     },
     "metadata": {},
     "output_type": "display_data"
    }
   ],
   "source": [
    "plt.figure(figsize=(12,6))\n",
    "plt.subplot(1,2,1)\n",
    "plt.title('Train')\n",
    "plot_decision_boundary(model_4, X_blob_train, y_blob_train)\n",
    "plt.subplot(1,2,2)\n",
    "plt.title('Test')\n",
    "plot_decision_boundary(model_4, X_blob_test, y_blob_test)\n"
   ]
  },
  {
   "cell_type": "code",
   "execution_count": 271,
   "id": "12e9a8d5-33d8-4c09-9c3d-99bfc0835a4a",
   "metadata": {},
   "outputs": [
    {
     "data": {
      "text/plain": [
       "OrderedDict([('linear_layer_stack.input_layer.weight',\n",
       "              tensor([[-0.5055,  0.7598],\n",
       "                      [-0.5153, -0.0199],\n",
       "                      [ 0.9979,  0.6078],\n",
       "                      [-0.6962, -0.2104],\n",
       "                      [-0.3492,  0.3839],\n",
       "                      [-0.9135, -0.3614],\n",
       "                      [-0.4869,  0.5828],\n",
       "                      [ 0.7824,  0.4309],\n",
       "                      [ 1.0997, -0.4506],\n",
       "                      [-0.3236, -0.9797],\n",
       "                      [ 0.4519,  0.1090]])),\n",
       "             ('linear_layer_stack.input_layer.bias',\n",
       "              tensor([ 0.0056, -1.7275,  1.7128, -1.1624, -1.2409, -0.6345, -1.0414, -0.1362,\n",
       "                       1.9593,  0.0757,  1.6830])),\n",
       "             ('linear_layer_stack.hidden_layer.weight',\n",
       "              tensor([[ 3.4172e-01,  5.9943e-02,  1.3616e-02, -4.5105e-02,  3.1404e-01,\n",
       "                       -1.3645e-01,  3.3749e-01, -2.6211e-01, -6.5165e-01, -6.1277e-02,\n",
       "                       -1.8693e-01],\n",
       "                      [ 2.3991e-01, -5.2930e-01,  4.7422e-01, -1.9329e-01,  1.2874e-01,\n",
       "                       -4.9776e-02,  4.0182e-01,  6.9867e-02, -3.2812e-01, -2.6391e-01,\n",
       "                        1.4873e-01],\n",
       "                      [ 8.7308e-02,  6.3663e-01, -2.5866e-01,  6.2458e-01, -1.7635e-01,\n",
       "                        2.6265e-01, -8.1263e-02, -4.5304e-01,  9.0399e-02,  4.8243e-01,\n",
       "                       -5.2729e-01],\n",
       "                      [ 8.3222e-02, -3.3042e-01,  6.0719e-01, -3.6011e-01, -1.9784e-01,\n",
       "                       -2.0741e-01, -5.1200e-02,  1.2706e-01,  2.6356e-01, -7.1575e-01,\n",
       "                        3.5979e-01],\n",
       "                      [-2.3017e-01,  6.5645e-01, -4.4687e-01,  2.8650e-01,  1.9917e-01,\n",
       "                        3.9869e-01,  1.8213e-01, -4.6731e-01,  6.9145e-01,  8.3248e-02,\n",
       "                       -5.0477e-01],\n",
       "                      [ 3.8457e-01,  1.6620e-01, -5.8592e-02, -3.7086e-01,  2.0633e-01,\n",
       "                        2.2505e-02, -1.2937e-02,  4.1489e-02, -6.8531e-01, -2.8682e-01,\n",
       "                       -1.8601e-02],\n",
       "                      [ 3.6759e-01,  1.2116e-02, -1.2624e-01, -1.7667e-01,  4.9042e-04,\n",
       "                       -1.1684e-01,  3.5581e-01, -5.9223e-02, -3.5886e-01, -7.1859e-01,\n",
       "                       -1.5048e-01],\n",
       "                      [-1.7407e-01,  1.8479e-01, -4.0687e-01,  2.5678e-01,  2.8886e-01,\n",
       "                        3.0386e-01,  1.4889e-01, -2.7000e-01, -4.9719e-01,  4.7335e-01,\n",
       "                       -6.4673e-01],\n",
       "                      [ 3.9359e-01, -5.9717e-02, -2.8156e-01, -4.6419e-02,  1.1517e-01,\n",
       "                       -1.6944e-01,  4.7614e-01,  2.5126e-01, -5.3217e-02, -6.1469e-01,\n",
       "                       -2.1167e-01],\n",
       "                      [-1.2430e-01,  1.8974e-01, -5.7965e-01,  3.5777e-01,  2.9922e-01,\n",
       "                        8.2305e-02,  1.3207e-01, -1.1713e-01, -7.4203e-01, -3.8525e-01,\n",
       "                       -7.4454e-01],\n",
       "                      [ 2.4823e-01, -1.2783e-01, -1.9167e-01,  3.8187e-01,  3.5715e-01,\n",
       "                       -5.3072e-02,  3.8669e-01,  1.5500e-01, -5.3119e-01,  2.5368e-01,\n",
       "                       -7.7800e-02]])),\n",
       "             ('linear_layer_stack.hidden_layer.bias',\n",
       "              tensor([-0.5670,  0.2471, -0.8291,  0.9041, -0.7542, -0.4361, -0.1561, -0.7814,\n",
       "                      -0.3741, -0.8749, -0.4593])),\n",
       "             ('linear_layer_stack.hidden_layer2.weight',\n",
       "              tensor([[ 0.0151,  0.0756, -0.1196, -0.2492, -0.0925,  0.1427,  0.1492,  0.4541,\n",
       "                       -0.3658, -0.0167,  0.0054],\n",
       "                      [ 0.2491,  0.1443,  0.3358, -0.3978,  0.3488,  0.3377,  0.2941,  0.4506,\n",
       "                        0.2703,  0.6376,  0.1553],\n",
       "                      [ 0.0739,  0.4346,  0.0195, -0.0399,  0.1041, -0.2428,  0.1833,  0.0350,\n",
       "                       -0.2692, -0.0089,  0.2761],\n",
       "                      [-0.3474, -0.2008,  0.1187, -0.1962,  0.1115, -0.2999, -0.5113,  0.2673,\n",
       "                       -0.2781, -0.7185, -0.0846],\n",
       "                      [-0.3545, -0.7448,  0.4071, -0.2438,  0.3664, -0.5278, -0.3987,  0.2092,\n",
       "                       -0.4706, -0.4135,  0.4784],\n",
       "                      [-0.0057,  0.1358, -0.8191,  0.7650, -0.6185,  0.0967, -0.0096, -0.7216,\n",
       "                        0.0213, -0.9994, -0.0080],\n",
       "                      [ 0.1706,  0.2318, -0.2249,  0.1507, -0.1709,  0.2472,  0.2437, -0.1368,\n",
       "                        0.1237, -0.1359,  0.1564],\n",
       "                      [ 0.2911,  0.7133,  0.1235,  0.0122,  0.1242,  0.3437,  0.4655,  0.0829,\n",
       "                        0.4461,  0.0471,  0.5803],\n",
       "                      [-0.5775,  0.1473, -0.1129,  0.4114, -0.2926, -0.4407, -0.4987, -0.1167,\n",
       "                       -0.2203, -0.3544, -0.6613],\n",
       "                      [-0.0386,  0.4052,  0.1240, -0.0252, -0.0436,  0.0557, -0.5067,  0.0041,\n",
       "                       -0.1963,  0.0627, -0.0257],\n",
       "                      [-0.4172,  0.4499, -0.4063,  0.1709,  0.0316, -0.5696, -0.3216, -0.5869,\n",
       "                       -0.7005, -0.1563, -0.3332]])),\n",
       "             ('linear_layer_stack.hidden_layer2.bias',\n",
       "              tensor([-0.3553,  0.2763, -0.1210, -0.0562,  0.0264,  0.6902,  0.0022, -0.0082,\n",
       "                       0.0769, -0.5690,  0.3495])),\n",
       "             ('linear_layer_stack.output_layer.weight',\n",
       "              tensor([[-0.2756, -0.0736,  0.0215, -0.4257, -0.4991,  0.7065,  0.4843,  0.1957,\n",
       "                       -0.4064, -0.0106, -0.4999],\n",
       "                      [-0.0427, -0.2828, -0.8162,  0.2057, -0.8818,  0.0996, -0.2541, -0.6528,\n",
       "                        0.6195, -0.2826,  0.5470],\n",
       "                      [-0.0275, -0.2049, -0.0748,  0.4526,  0.4606, -0.3609,  0.0542, -0.4570,\n",
       "                       -0.2832,  0.1646, -0.1616],\n",
       "                      [-0.1105,  0.3004,  0.0864, -0.4075, -0.2358, -0.2848,  0.0198,  0.3062,\n",
       "                       -0.0660, -0.0181, -0.4559]])),\n",
       "             ('linear_layer_stack.output_layer.bias',\n",
       "              tensor([-0.2832,  0.1979, -0.2244, -0.0206]))])"
      ]
     },
     "execution_count": 271,
     "metadata": {},
     "output_type": "execute_result"
    }
   ],
   "source": [
    "model_4.state_dict()"
   ]
  },
  {
   "cell_type": "code",
   "execution_count": 272,
   "id": "95aee7b9-c7e0-453a-9f81-ed2b79fd573b",
   "metadata": {
    "scrolled": true
   },
   "outputs": [
    {
     "name": "stdout",
     "output_type": "stream",
     "text": [
      "Requirement already satisfied: torchmetrics in c:\\users\\krrish\\appdata\\local\\programs\\python\\python312\\lib\\site-packages (1.6.3)\n",
      "Requirement already satisfied: numpy>1.20.0 in c:\\users\\krrish\\appdata\\local\\programs\\python\\python312\\lib\\site-packages (from torchmetrics) (2.0.2)\n",
      "Requirement already satisfied: packaging>17.1 in c:\\users\\krrish\\appdata\\local\\programs\\python\\python312\\lib\\site-packages (from torchmetrics) (24.1)\n",
      "Requirement already satisfied: torch>=2.0.0 in c:\\users\\krrish\\appdata\\local\\programs\\python\\python312\\lib\\site-packages (from torchmetrics) (2.5.1+cu121)\n",
      "Requirement already satisfied: lightning-utilities>=0.8.0 in c:\\users\\krrish\\appdata\\local\\programs\\python\\python312\\lib\\site-packages (from torchmetrics) (0.14.0)\n",
      "Requirement already satisfied: setuptools in c:\\users\\krrish\\appdata\\local\\programs\\python\\python312\\lib\\site-packages (from lightning-utilities>=0.8.0->torchmetrics) (74.1.2)\n",
      "Requirement already satisfied: typing_extensions in c:\\users\\krrish\\appdata\\local\\programs\\python\\python312\\lib\\site-packages (from lightning-utilities>=0.8.0->torchmetrics) (4.12.2)\n",
      "Requirement already satisfied: filelock in c:\\users\\krrish\\appdata\\local\\programs\\python\\python312\\lib\\site-packages (from torch>=2.0.0->torchmetrics) (3.13.1)\n",
      "Requirement already satisfied: networkx in c:\\users\\krrish\\appdata\\local\\programs\\python\\python312\\lib\\site-packages (from torch>=2.0.0->torchmetrics) (3.2.1)\n",
      "Requirement already satisfied: jinja2 in c:\\users\\krrish\\appdata\\local\\programs\\python\\python312\\lib\\site-packages (from torch>=2.0.0->torchmetrics) (3.1.4)\n",
      "Requirement already satisfied: fsspec in c:\\users\\krrish\\appdata\\local\\programs\\python\\python312\\lib\\site-packages (from torch>=2.0.0->torchmetrics) (2024.2.0)\n",
      "Requirement already satisfied: sympy==1.13.1 in c:\\users\\krrish\\appdata\\local\\programs\\python\\python312\\lib\\site-packages (from torch>=2.0.0->torchmetrics) (1.13.1)\n",
      "Requirement already satisfied: mpmath<1.4,>=1.1.0 in c:\\users\\krrish\\appdata\\local\\programs\\python\\python312\\lib\\site-packages (from sympy==1.13.1->torch>=2.0.0->torchmetrics) (1.3.0)\n",
      "Requirement already satisfied: MarkupSafe>=2.0 in c:\\users\\krrish\\appdata\\local\\programs\\python\\python312\\lib\\site-packages (from jinja2->torch>=2.0.0->torchmetrics) (2.1.5)\n",
      "Note: you may need to restart the kernel to use updated packages.\n"
     ]
    }
   ],
   "source": [
    "%pip install torchmetrics"
   ]
  },
  {
   "cell_type": "code",
   "execution_count": 278,
   "id": "583276ed-aa46-41e6-9ec3-ce64b28fb848",
   "metadata": {
    "scrolled": true
   },
   "outputs": [
    {
     "data": {
      "text/plain": [
       "tensor(0.9970, device='cuda:0')"
      ]
     },
     "execution_count": 278,
     "metadata": {},
     "output_type": "execute_result"
    }
   ],
   "source": [
    "from torchmetrics import Accuracy\n",
    "\n",
    "torchmetric_acc = Accuracy(task='multiclass', num_classes=NUM_CLASSES).to(device)\n",
    "\n",
    "torchmetric_acc(y_preds, y_blob_test)"
   ]
  },
  {
   "cell_type": "code",
   "execution_count": null,
   "id": "09891c5b-309b-4987-b16a-ce5962b1d4c3",
   "metadata": {},
   "outputs": [],
   "source": [
    "y_preds.shape, y_blob_test.shape"
   ]
  },
  {
   "cell_type": "code",
   "execution_count": 250,
   "id": "69990aea-0800-4793-a631-c48230f08adb",
   "metadata": {},
   "outputs": [
    {
     "data": {
      "text/plain": [
       "\u001b[1;31mInit signature:\u001b[0m\n",
       "\u001b[0mAccuracy\u001b[0m\u001b[1;33m(\u001b[0m\u001b[1;33m\n",
       "\u001b[0m    \u001b[0mtask\u001b[0m\u001b[1;33m:\u001b[0m \u001b[0mLiteral\u001b[0m\u001b[1;33m[\u001b[0m\u001b[1;34m'binary'\u001b[0m\u001b[1;33m,\u001b[0m \u001b[1;34m'multiclass'\u001b[0m\u001b[1;33m,\u001b[0m \u001b[1;34m'multilabel'\u001b[0m\u001b[1;33m]\u001b[0m\u001b[1;33m,\u001b[0m\u001b[1;33m\n",
       "\u001b[0m    \u001b[0mthreshold\u001b[0m\u001b[1;33m:\u001b[0m \u001b[0mfloat\u001b[0m \u001b[1;33m=\u001b[0m \u001b[1;36m0.5\u001b[0m\u001b[1;33m,\u001b[0m\u001b[1;33m\n",
       "\u001b[0m    \u001b[0mnum_classes\u001b[0m\u001b[1;33m:\u001b[0m \u001b[0mOptional\u001b[0m\u001b[1;33m[\u001b[0m\u001b[0mint\u001b[0m\u001b[1;33m]\u001b[0m \u001b[1;33m=\u001b[0m \u001b[1;32mNone\u001b[0m\u001b[1;33m,\u001b[0m\u001b[1;33m\n",
       "\u001b[0m    \u001b[0mnum_labels\u001b[0m\u001b[1;33m:\u001b[0m \u001b[0mOptional\u001b[0m\u001b[1;33m[\u001b[0m\u001b[0mint\u001b[0m\u001b[1;33m]\u001b[0m \u001b[1;33m=\u001b[0m \u001b[1;32mNone\u001b[0m\u001b[1;33m,\u001b[0m\u001b[1;33m\n",
       "\u001b[0m    \u001b[0maverage\u001b[0m\u001b[1;33m:\u001b[0m \u001b[0mOptional\u001b[0m\u001b[1;33m[\u001b[0m\u001b[0mLiteral\u001b[0m\u001b[1;33m[\u001b[0m\u001b[1;34m'micro'\u001b[0m\u001b[1;33m,\u001b[0m \u001b[1;34m'macro'\u001b[0m\u001b[1;33m,\u001b[0m \u001b[1;34m'weighted'\u001b[0m\u001b[1;33m,\u001b[0m \u001b[1;34m'none'\u001b[0m\u001b[1;33m]\u001b[0m\u001b[1;33m]\u001b[0m \u001b[1;33m=\u001b[0m \u001b[1;34m'micro'\u001b[0m\u001b[1;33m,\u001b[0m\u001b[1;33m\n",
       "\u001b[0m    \u001b[0mmultidim_average\u001b[0m\u001b[1;33m:\u001b[0m \u001b[0mLiteral\u001b[0m\u001b[1;33m[\u001b[0m\u001b[1;34m'global'\u001b[0m\u001b[1;33m,\u001b[0m \u001b[1;34m'samplewise'\u001b[0m\u001b[1;33m]\u001b[0m \u001b[1;33m=\u001b[0m \u001b[1;34m'global'\u001b[0m\u001b[1;33m,\u001b[0m\u001b[1;33m\n",
       "\u001b[0m    \u001b[0mtop_k\u001b[0m\u001b[1;33m:\u001b[0m \u001b[0mOptional\u001b[0m\u001b[1;33m[\u001b[0m\u001b[0mint\u001b[0m\u001b[1;33m]\u001b[0m \u001b[1;33m=\u001b[0m \u001b[1;36m1\u001b[0m\u001b[1;33m,\u001b[0m\u001b[1;33m\n",
       "\u001b[0m    \u001b[0mignore_index\u001b[0m\u001b[1;33m:\u001b[0m \u001b[0mOptional\u001b[0m\u001b[1;33m[\u001b[0m\u001b[0mint\u001b[0m\u001b[1;33m]\u001b[0m \u001b[1;33m=\u001b[0m \u001b[1;32mNone\u001b[0m\u001b[1;33m,\u001b[0m\u001b[1;33m\n",
       "\u001b[0m    \u001b[0mvalidate_args\u001b[0m\u001b[1;33m:\u001b[0m \u001b[0mbool\u001b[0m \u001b[1;33m=\u001b[0m \u001b[1;32mTrue\u001b[0m\u001b[1;33m,\u001b[0m\u001b[1;33m\n",
       "\u001b[0m    \u001b[1;33m**\u001b[0m\u001b[0mkwargs\u001b[0m\u001b[1;33m:\u001b[0m \u001b[0mAny\u001b[0m\u001b[1;33m,\u001b[0m\u001b[1;33m\n",
       "\u001b[0m\u001b[1;33m)\u001b[0m \u001b[1;33m->\u001b[0m \u001b[0mtorchmetrics\u001b[0m\u001b[1;33m.\u001b[0m\u001b[0mmetric\u001b[0m\u001b[1;33m.\u001b[0m\u001b[0mMetric\u001b[0m\u001b[1;33m\u001b[0m\u001b[1;33m\u001b[0m\u001b[0m\n",
       "\u001b[1;31mDocstring:\u001b[0m     \n",
       "Compute `Accuracy`_.\n",
       "\n",
       ".. math::\n",
       "    \\text{Accuracy} = \\frac{1}{N}\\sum_i^N 1(y_i = \\hat{y}_i)\n",
       "\n",
       "Where :math:`y` is a tensor of target values, and :math:`\\hat{y}` is a tensor of predictions.\n",
       "\n",
       "This module is a simple wrapper to get the task specific versions of this metric, which is done by setting the\n",
       "``task`` argument to either ``'binary'``, ``'multiclass'`` or ``'multilabel'``. See the documentation of\n",
       ":class:`~torchmetrics.classification.BinaryAccuracy`, :class:`~torchmetrics.classification.MulticlassAccuracy` and\n",
       ":class:`~torchmetrics.classification.MultilabelAccuracy` for the specific details of each argument influence and\n",
       "examples.\n",
       "\n",
       "Legacy Example:\n",
       "    >>> from torch import tensor\n",
       "    >>> target = tensor([0, 1, 2, 3])\n",
       "    >>> preds = tensor([0, 2, 1, 3])\n",
       "    >>> accuracy = Accuracy(task=\"multiclass\", num_classes=4)\n",
       "    >>> accuracy(preds, target)\n",
       "    tensor(0.5000)\n",
       "\n",
       "    >>> target = tensor([0, 1, 2])\n",
       "    >>> preds = tensor([[0.1, 0.9, 0], [0.3, 0.1, 0.6], [0.2, 0.5, 0.3]])\n",
       "    >>> accuracy = Accuracy(task=\"multiclass\", num_classes=3, top_k=2)\n",
       "    >>> accuracy(preds, target)\n",
       "    tensor(0.6667)\n",
       "\u001b[1;31mInit docstring:\u001b[0m Initialize internal Module state, shared by both nn.Module and ScriptModule.\n",
       "\u001b[1;31mFile:\u001b[0m           c:\\users\\krrish\\appdata\\local\\programs\\python\\python312\\lib\\site-packages\\torchmetrics\\classification\\accuracy.py\n",
       "\u001b[1;31mType:\u001b[0m           ABCMeta\n",
       "\u001b[1;31mSubclasses:\u001b[0m     "
      ]
     },
     "metadata": {},
     "output_type": "display_data"
    }
   ],
   "source": [
    "Accuracy?"
   ]
  }
 ],
 "metadata": {
  "kernelspec": {
   "display_name": "Python 3 (ipykernel)",
   "language": "python",
   "name": "python3"
  },
  "language_info": {
   "codemirror_mode": {
    "name": "ipython",
    "version": 3
   },
   "file_extension": ".py",
   "mimetype": "text/x-python",
   "name": "python",
   "nbconvert_exporter": "python",
   "pygments_lexer": "ipython3",
   "version": "3.12.9"
  }
 },
 "nbformat": 4,
 "nbformat_minor": 5
}
