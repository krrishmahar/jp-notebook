{
 "cells": [
  {
   "cell_type": "markdown",
   "id": "1adb0b25-6ec8-4da9-afd0-a5249be6f8a4",
   "metadata": {},
   "source": [
    "# PyTorch computer Vision"
   ]
  },
  {
   "cell_type": "markdown",
   "id": "7931affc-3884-4d8f-84b5-2494829d5835",
   "metadata": {},
   "source": [
    "Useful Modules\n",
    "- `torchvision`\n",
    "- `torchvision.datasets`\n",
    "- `torchvision.models`\n",
    "- `torchvision.transforms`\n",
    "- `torchvision.utils.data.Dataset`\n",
    "- `torchvision.utils.data.DataLoader`"
   ]
  },
  {
   "cell_type": "code",
   "execution_count": null,
   "id": "27b56cfb-eb73-41da-bdda-a0613d588266",
   "metadata": {},
   "outputs": [],
   "source": [
    "# Import torch\n",
    "import torch\n",
    "from torch import nn\n",
    "\n",
    "# Import torchvision\n",
    "import torchvision\n",
    "from torchvision import datasets\n",
    "from torchvision import transforms\n",
    "from torchvision.transforms import ToTensor"
   ]
  }
 ],
 "metadata": {
  "kernelspec": {
   "display_name": "Python 3 (ipykernel)",
   "language": "python",
   "name": "python3"
  },
  "language_info": {
   "codemirror_mode": {
    "name": "ipython",
    "version": 3
   },
   "file_extension": ".py",
   "mimetype": "text/x-python",
   "name": "python",
   "nbconvert_exporter": "python",
   "pygments_lexer": "ipython3",
   "version": "3.12.9"
  }
 },
 "nbformat": 4,
 "nbformat_minor": 5
}
