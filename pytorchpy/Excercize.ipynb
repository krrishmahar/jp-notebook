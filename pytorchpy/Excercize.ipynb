{
 "cells": [
  {
   "cell_type": "markdown",
   "id": "f4531b4c-e207-4537-8fea-23085cbc988f",
   "metadata": {},
   "source": [
    "### Pytorch Excercizes"
   ]
  },
  {
   "cell_type": "code",
   "execution_count": null,
   "id": "01fe864f-64cb-4689-a83b-506a8a7b2e6b",
   "metadata": {},
   "outputs": [],
   "source": []
  }
 ],
 "metadata": {
  "kernelspec": {
   "display_name": "Python 3 (ipykernel)",
   "language": "python",
   "name": "python3"
  },
  "language_info": {
   "codemirror_mode": {
    "name": "ipython",
    "version": 3
   },
   "file_extension": ".py",
   "mimetype": "text/x-python",
   "name": "python",
   "nbconvert_exporter": "python",
   "pygments_lexer": "ipython3",
   "version": "3.12.9"
  }
 },
 "nbformat": 4,
 "nbformat_minor": 5
}
