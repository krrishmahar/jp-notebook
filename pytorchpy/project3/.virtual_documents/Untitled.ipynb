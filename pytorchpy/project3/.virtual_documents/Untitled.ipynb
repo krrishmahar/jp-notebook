


import torch

X = 2 * torch.rand(100,1)
y = 4 + 3 * X + torch.randn(100,1)


# device agnostic code
device = "cuda" if torch.cuda.is_available else "cpu"


import pandas as pd
import matplotlib.pyplot as plt
%matplotlib inline

plt.plot(X, y, "b.")
plt.xlabel("$x_1$", fontsize=18)
plt.ylabel("$y$", rotation=0, fontsize=18)
plt.axis([0, 2, 0, 15])
plt.show()


import numpy as np
X_b = np.c_[np.ones((100, 1)), X]  # add x0 = 1 to each instance
theta_best = np.linalg.inv(X_b.T.dot(X_b)).dot(X_b.T).dot(y)


theta_best = torch.from_numpy(theta_best)


X_new = torch.tensor([[0],[2]])
X_new_b = np.c_[np.ones((2,1)), X_new]
X_new_b = torch.from_numpy(X_new_b) # convert numpy into tensor
y_predict = X_new_b.mm(theta_best) # mm (matrix multi) === .dot() from numpy
y_predict





plt.plot(X_new, y_predict, "r-")
plt.plot(X,y,"b.")
plt.axis([0,2,0,15])





from sklearn.linear_model import LinearRegression
lin_reg = LinearRegression()
lin_reg.fit(X, y)
lin_reg.intercept_, lin_reg.coef_


lin_reg.predict(X_new)


theta_best_svd, residuals, rank, s = np.linalg.lstsq(X_b, y, rcond=1e-6)
theta_best_svd


np.linalg.pinv(X_b).dot(y)





 eta = 0.1  # learning rate
 n_iterations = 1000
 m = 100
 theta = np.random.randn(2,1)  # random initialization
 n_theta = np.array((theta, theta))
 for iteration in range(n_iterations):
     gradients = 2/m * X_b.T.dot(X_b.dot(theta) - y.numpy())
     theta = theta - eta * gradients
     print(theta[1])
     if iteration == 0:
         n_theta[[0]] = theta
     if  iteration == n_iterations:
         n_theta[[1]] = theta
 lr_graph(n_theta)


theta, n_theta[0], n_theta[1]


def lr_graph(n_theta):
    plt.plot(X, y, "b.")
    plt.plot(n_theta[1], theta , "r-")
    plt.xlabel("$x_1$", fontsize=18)
    plt.ylabel("$y$", rotation=0, fontsize=18)
    plt.axis([0, 2, 0, 15])
    plt.show()





 n_epochs = 50
 t0, t1 = 5, 50  # learning schedule hyperparameters
 
 def learning_schedule(t):
     return t0 / (t + t1)
 
 theta = np.random.randn(2,1)  # random initialization
 for epoch in range(n_epochs):
     for i in range(m):
         random_index = np.random.randint(m)
         xi = X_b[random_index:random_index+1]
         yi = y.numpy()[random_index:random_index+1]
         gradients = 2 * xi.T.dot(xi.dot(theta) - yi)
         eta = learning_schedule(epoch * m + i)
         theta = theta - eta * gradients


theta


from sklearn.linear_model import SGDRegressor
sdg_reg = SGDRegressor(max_iter=1000, tol=1e-3, penalty=None, eta0=0.1)
sdg_reg.fit(X, y.ravel())


sdg_reg.intercept_, sdg_reg.coef_





 m = 100
 X = 6 * np.random.rand(m, 1) - 3
 y = 0.5 * X**2 + X + 2 + np.random.randn(m, 1)


plt.plot(X, y, "b.")
plt.xlabel("$x_1$", fontsize=18)
plt.ylabel("$y$", rotation=0, fontsize=18)
plt.axis([-3, 3, 0, 10])
plt.show()


from sklearn.preprocessing import PolynomialFeatures
poly_features = PolynomialFeatures(degree=2, include_bias=False)
X_poly = poly_features.fit_transform(X)
X[0], X_poly[0]


lin_reg = LinearRegression()
lin_reg.fit(X_poly, y)
lin_reg.intercept_, lin_reg.coef_





 from sklearn.metrics import mean_squared_error
 from sklearn.model_selection import train_test_split
 def plot_learning_curves(model, X, y):
     X_train, X_val, y_train, y_val = train_test_split(X, y, test_size=0.2)
     train_errors, val_errors = [], []
     for m in range(1, len(X_train)):
         model.fit(X_train[:m], y_train[:m])
         y_train_predict = model.predict(X_train[:m])
         y_val_predict = model.predict(X_val)
         train_errors.append(mean_squared_error(y_train[:m], y_train_predict))
         val_errors.append(mean_squared_error(y_val, y_val_predict))
     plt.plot(np.sqrt(train_errors), "r-+", linewidth=2, label="train")
     plt.plot(np.sqrt(val_errors), "b-", linewidth=3, label="val")


lin_reg = LinearRegression()
plot_learning_curves(lin_reg, X, y)
