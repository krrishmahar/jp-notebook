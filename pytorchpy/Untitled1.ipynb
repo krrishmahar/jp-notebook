{
 "cells": [
  {
   "cell_type": "code",
   "execution_count": 1,
   "id": "33bc03c3-cdfb-4d21-af17-b2a5b40083d4",
   "metadata": {},
   "outputs": [],
   "source": [
    "import torch\n",
    "import numpy as np\n",
    "import pandas as pd\n",
    "import matplotlib.pyplot as plt\n",
    "from sklearn.preprocessing import MinMaxScaler\n"
   ]
  },
  {
   "cell_type": "code",
   "execution_count": 2,
   "id": "51b0c12c-7a09-4d26-b415-c63f4547e6a7",
   "metadata": {},
   "outputs": [
    {
     "name": "stdout",
     "output_type": "stream",
     "text": [
      "Using device: cuda\n"
     ]
    }
   ],
   "source": [
    "\n",
    "# Check if GPU is available\n",
    "device = torch.device(\"cuda\" if torch.cuda.is_available() else \"cpu\")\n",
    "print(f\"Using device: {device}\")\n",
    "\n",
    "# Load the dataset\n",
    "df = pd.read_csv('creditcard.csv')\n",
    "X = df.iloc[:, 1:-1].values\n",
    "y = df.iloc[:, -1].values\n"
   ]
  },
  {
   "cell_type": "code",
   "execution_count": 3,
   "id": "b9df3242-ace0-4ba2-a89e-3e954edba76a",
   "metadata": {},
   "outputs": [],
   "source": [
    "\n",
    "# Normalize the data\n",
    "scaler = MinMaxScaler(feature_range=(0, 1))\n",
    "X = scaler.fit_transform(X)\n",
    "\n",
    "# Convert data to PyTorch tensors and move to GPU\n",
    "X = torch.tensor(X, dtype=torch.float32).to(device)\n",
    "\n",
    "# SOM parameters\n",
    "map_size = (10, 10)  # SOM grid size\n",
    "input_len = X.shape[1]  # Number of features\n",
    "sigma = 1.0  # Neighborhood radius\n",
    "learning_rate = 0.5  # Learning rate\n",
    "epochs = 5  # Number of training epochs\n"
   ]
  },
  {
   "cell_type": "code",
   "execution_count": 4,
   "id": "6e9a3f15-dd4f-4279-a938-936ba081f2e1",
   "metadata": {},
   "outputs": [],
   "source": [
    "\n",
    "# Initialize SOM weights\n",
    "som_weights = torch.randn(map_size[0], map_size[1], input_len, device=device)\n",
    "\n",
    "# Training function\n",
    "def train_som(X, som_weights, epochs, sigma, learning_rate):\n",
    "    for epoch in range(epochs):\n",
    "        for sample in X:\n",
    "            # Find the Best Matching Unit (BMU)\n",
    "            distances = torch.sum((som_weights - sample) ** 2, dim=2)\n",
    "            bmu_index = torch.argmin(distances)\n",
    "            bmu = (bmu_index // map_size[1], bmu_index % map_size[1])\n",
    "\n",
    "            # Update weights\n",
    "            for i in range(map_size[0]):\n",
    "                for j in range(map_size[1]):\n",
    "                    # Calculate the neighborhood function\n",
    "                    distance_to_bmu = torch.sqrt((i - bmu[0]) ** 2 + (j - bmu[1]) ** 2)\n",
    "                    neighborhood = torch.exp(-distance_to_bmu ** 2 / (2 * sigma ** 2))\n",
    "\n",
    "                    # Update the weight\n",
    "                    som_weights[i, j] += learning_rate * neighborhood * (sample - som_weights[i, j])\n",
    "\n",
    "        # Decay learning rate and sigma\n",
    "        learning_rate *= 0.99\n",
    "        sigma *= 0.99\n",
    "\n",
    "    return som_weights\n"
   ]
  },
  {
   "cell_type": "code",
   "execution_count": 5,
   "id": "f1084e5f-2f14-4b75-8f12-35eeafe2b692",
   "metadata": {},
   "outputs": [
    {
     "ename": "KeyboardInterrupt",
     "evalue": "",
     "output_type": "error",
     "traceback": [
      "\u001b[1;31m---------------------------------------------------------------------------\u001b[0m",
      "\u001b[1;31mKeyboardInterrupt\u001b[0m                         Traceback (most recent call last)",
      "Cell \u001b[1;32mIn[5], line 2\u001b[0m\n\u001b[0;32m      1\u001b[0m \u001b[38;5;66;03m# Train the SOM\u001b[39;00m\n\u001b[1;32m----> 2\u001b[0m som_weights \u001b[38;5;241m=\u001b[39m \u001b[43mtrain_som\u001b[49m\u001b[43m(\u001b[49m\u001b[43mX\u001b[49m\u001b[43m,\u001b[49m\u001b[43m \u001b[49m\u001b[43msom_weights\u001b[49m\u001b[43m,\u001b[49m\u001b[43m \u001b[49m\u001b[43mepochs\u001b[49m\u001b[43m,\u001b[49m\u001b[43m \u001b[49m\u001b[43msigma\u001b[49m\u001b[43m,\u001b[49m\u001b[43m \u001b[49m\u001b[43mlearning_rate\u001b[49m\u001b[43m)\u001b[49m\n\u001b[0;32m      4\u001b[0m \u001b[38;5;66;03m# Move SOM weights back to CPU for visualization\u001b[39;00m\n\u001b[0;32m      5\u001b[0m som_weights \u001b[38;5;241m=\u001b[39m som_weights\u001b[38;5;241m.\u001b[39mcpu()\n",
      "Cell \u001b[1;32mIn[4], line 17\u001b[0m, in \u001b[0;36mtrain_som\u001b[1;34m(X, som_weights, epochs, sigma, learning_rate)\u001b[0m\n\u001b[0;32m     14\u001b[0m \u001b[38;5;28;01mfor\u001b[39;00m i \u001b[38;5;129;01min\u001b[39;00m \u001b[38;5;28mrange\u001b[39m(map_size[\u001b[38;5;241m0\u001b[39m]):\n\u001b[0;32m     15\u001b[0m     \u001b[38;5;28;01mfor\u001b[39;00m j \u001b[38;5;129;01min\u001b[39;00m \u001b[38;5;28mrange\u001b[39m(map_size[\u001b[38;5;241m1\u001b[39m]):\n\u001b[0;32m     16\u001b[0m         \u001b[38;5;66;03m# Calculate the neighborhood function\u001b[39;00m\n\u001b[1;32m---> 17\u001b[0m         distance_to_bmu \u001b[38;5;241m=\u001b[39m \u001b[43mtorch\u001b[49m\u001b[38;5;241;43m.\u001b[39;49m\u001b[43msqrt\u001b[49m\u001b[43m(\u001b[49m\u001b[43m(\u001b[49m\u001b[43mi\u001b[49m\u001b[43m \u001b[49m\u001b[38;5;241;43m-\u001b[39;49m\u001b[43m \u001b[49m\u001b[43mbmu\u001b[49m\u001b[43m[\u001b[49m\u001b[38;5;241;43m0\u001b[39;49m\u001b[43m]\u001b[49m\u001b[43m)\u001b[49m\u001b[43m \u001b[49m\u001b[38;5;241;43m*\u001b[39;49m\u001b[38;5;241;43m*\u001b[39;49m\u001b[43m \u001b[49m\u001b[38;5;241;43m2\u001b[39;49m\u001b[43m \u001b[49m\u001b[38;5;241;43m+\u001b[39;49m\u001b[43m \u001b[49m\u001b[43m(\u001b[49m\u001b[43mj\u001b[49m\u001b[43m \u001b[49m\u001b[38;5;241;43m-\u001b[39;49m\u001b[43m \u001b[49m\u001b[43mbmu\u001b[49m\u001b[43m[\u001b[49m\u001b[38;5;241;43m1\u001b[39;49m\u001b[43m]\u001b[49m\u001b[43m)\u001b[49m\u001b[43m \u001b[49m\u001b[38;5;241;43m*\u001b[39;49m\u001b[38;5;241;43m*\u001b[39;49m\u001b[43m \u001b[49m\u001b[38;5;241;43m2\u001b[39;49m\u001b[43m)\u001b[49m\n\u001b[0;32m     18\u001b[0m         neighborhood \u001b[38;5;241m=\u001b[39m torch\u001b[38;5;241m.\u001b[39mexp(\u001b[38;5;241m-\u001b[39mdistance_to_bmu \u001b[38;5;241m*\u001b[39m\u001b[38;5;241m*\u001b[39m \u001b[38;5;241m2\u001b[39m \u001b[38;5;241m/\u001b[39m (\u001b[38;5;241m2\u001b[39m \u001b[38;5;241m*\u001b[39m sigma \u001b[38;5;241m*\u001b[39m\u001b[38;5;241m*\u001b[39m \u001b[38;5;241m2\u001b[39m))\n\u001b[0;32m     20\u001b[0m         \u001b[38;5;66;03m# Update the weight\u001b[39;00m\n",
      "\u001b[1;31mKeyboardInterrupt\u001b[0m: "
     ]
    }
   ],
   "source": [
    "\n",
    "# Train the SOM\n",
    "som_weights = train_som(X, som_weights, epochs, sigma, learning_rate)\n",
    "\n",
    "# Move SOM weights back to CPU for visualization\n",
    "som_weights = som_weights.cpu()\n",
    "\n",
    "# Visualization\n",
    "def plot_som(som_weights):\n",
    "    plt.figure(figsize=(10, 10))\n",
    "    plt.pcolor(som_weights.mean(dim=2).numpy(), cmap='bone')\n",
    "    plt.colorbar()\n",
    "    plt.show()\n",
    "\n",
    "plot_som(som_weights)"
   ]
  },
  {
   "cell_type": "code",
   "execution_count": null,
   "id": "e8a2d1fe-80d6-4b1e-b3ce-e57efd5b9387",
   "metadata": {},
   "outputs": [],
   "source": []
  }
 ],
 "metadata": {
  "kernelspec": {
   "display_name": "Python 3 (ipykernel)",
   "language": "python",
   "name": "python3"
  },
  "language_info": {
   "codemirror_mode": {
    "name": "ipython",
    "version": 3
   },
   "file_extension": ".py",
   "mimetype": "text/x-python",
   "name": "python",
   "nbconvert_exporter": "python",
   "pygments_lexer": "ipython3",
   "version": "3.12.6"
  }
 },
 "nbformat": 4,
 "nbformat_minor": 5
}
