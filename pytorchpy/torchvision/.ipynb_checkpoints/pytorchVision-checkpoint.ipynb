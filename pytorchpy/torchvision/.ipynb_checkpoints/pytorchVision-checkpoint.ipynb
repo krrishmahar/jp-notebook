{
 "cells": [
  {
   "cell_type": "markdown",
   "id": "1adb0b25-6ec8-4da9-afd0-a5249be6f8a4",
   "metadata": {},
   "source": [
    "# PyTorch computer Vision"
   ]
  },
  {
   "cell_type": "markdown",
   "id": "7931affc-3884-4d8f-84b5-2494829d5835",
   "metadata": {},
   "source": [
    "Useful Modules\n",
    "- `torchvision`\n",
    "- `torchvision.datasets`\n",
    "- `torchvision.models`\n",
    "- `torchvision.transforms`\n",
    "- `torchvision.utils.data.Dataset`\n",
    "- `torchvision.utils.data.DataLoader`"
   ]
  },
  {
   "cell_type": "code",
   "execution_count": 1,
   "id": "27b56cfb-eb73-41da-bdda-a0613d588266",
   "metadata": {},
   "outputs": [],
   "source": [
    "# Import torch\n",
    "import torch\n",
    "from torch import nn\n",
    "\n",
    "# Import torchvision\n",
    "import torchvision\n",
    "from torchvision import datasets\n",
    "from torchvision import transforms\n",
    "from torchvision.transforms import ToTensor\n",
    "\n",
    "# import matplotlib and seaborn for visualization\n",
    "import matplotlib.pyplot as plt\n",
    "import seaborn"
   ]
  },
  {
   "cell_type": "markdown",
   "id": "12c1371e-33ca-481e-84be-01aaab5e028c",
   "metadata": {},
   "source": [
    "### Setting up Device Agnostic code"
   ]
  },
  {
   "cell_type": "code",
   "execution_count": 2,
   "id": "3bbe64b5-74f0-44c9-84eb-25b8bfebde8d",
   "metadata": {},
   "outputs": [
    {
     "data": {
      "text/plain": [
       "'cuda'"
      ]
     },
     "execution_count": 2,
     "metadata": {},
     "output_type": "execute_result"
    }
   ],
   "source": [
    "device = \"cuda\" if torch.cuda.is_available() else \"cpu\"\n",
    "device"
   ]
  },
  {
   "cell_type": "code",
   "execution_count": 3,
   "id": "860935a3-063a-45db-9f37-a13423a9cab5",
   "metadata": {
    "scrolled": true
   },
   "outputs": [
    {
     "data": {
      "text/plain": [
       "True"
      ]
     },
     "execution_count": 3,
     "metadata": {},
     "output_type": "execute_result"
    }
   ],
   "source": [
    "torch.cuda.is_available()"
   ]
  },
  {
   "cell_type": "code",
   "execution_count": 4,
   "id": "d43d4d9d-c22c-4e16-a2dc-ef8ec8266c49",
   "metadata": {},
   "outputs": [
    {
     "name": "stdout",
     "output_type": "stream",
     "text": [
      "Sat Jun 14 01:15:26 2025       \n",
      "+-----------------------------------------------------------------------------------------+\n",
      "| NVIDIA-SMI 570.133.07             Driver Version: 570.133.07     CUDA Version: 12.8     |\n",
      "|-----------------------------------------+------------------------+----------------------+\n",
      "| GPU  Name                 Persistence-M | Bus-Id          Disp.A | Volatile Uncorr. ECC |\n",
      "| Fan  Temp   Perf          Pwr:Usage/Cap |           Memory-Usage | GPU-Util  Compute M. |\n",
      "|                                         |                        |               MIG M. |\n",
      "|=========================================+========================+======================|\n",
      "|   0  NVIDIA GeForce RTX 3050 ...    Off |   00000000:01:00.0 Off |                  N/A |\n",
      "| N/A   54C    P8              3W /   60W |      18MiB /   6144MiB |      0%      Default |\n",
      "|                                         |                        |                  N/A |\n",
      "+-----------------------------------------+------------------------+----------------------+\n",
      "                                                                                         \n",
      "+-----------------------------------------------------------------------------------------+\n",
      "| Processes:                                                                              |\n",
      "|  GPU   GI   CI              PID   Type   Process name                        GPU Memory |\n",
      "|        ID   ID                                                               Usage      |\n",
      "|=========================================================================================|\n",
      "|    0   N/A  N/A            4069      G   /usr/lib/xorg/Xorg                        4MiB |\n",
      "+-----------------------------------------------------------------------------------------+\n"
     ]
    }
   ],
   "source": [
    "!nvidia-smi"
   ]
  },
  {
   "cell_type": "markdown",
   "id": "35986f00-69d7-4018-9ae5-aba7692720a0",
   "metadata": {},
   "source": [
    "### Loading the image data"
   ]
  },
  {
   "cell_type": "code",
   "execution_count": 5,
   "id": "3344b167-014c-4820-8048-75d375d581f8",
   "metadata": {
    "scrolled": true
   },
   "outputs": [],
   "source": [
    "from torchvision import datasets\n",
    "from torchvision.transforms import ToTensor\n",
    "train_data= datasets.FashionMNIST(\n",
    "    root='data',\n",
    "    train=True,\n",
    "    download=True,\n",
    "    transform=torchvision.transforms.ToTensor(),\n",
    "    target_transform=None\n",
    ")\n",
    "\n",
    "test_data= datasets.FashionMNIST(\n",
    "    root='data',\n",
    "    train=False,\n",
    "    download=True,\n",
    "    transform=ToTensor(),\n",
    "    target_transform=None\n",
    ")"
   ]
  },
  {
   "cell_type": "code",
   "execution_count": 6,
   "id": "2c90eaa6-662e-4d7c-b71d-5eb1c75b1b33",
   "metadata": {},
   "outputs": [
    {
     "data": {
      "text/plain": [
       "tensor([9, 0, 0,  ..., 3, 0, 5])"
      ]
     },
     "execution_count": 6,
     "metadata": {},
     "output_type": "execute_result"
    }
   ],
   "source": [
    "train_data.targets "
   ]
  },
  {
   "cell_type": "markdown",
   "id": "bc955665-27c2-41dd-a3a3-da03b602e404",
   "metadata": {},
   "source": [
    "### Visualizing the data"
   ]
  },
  {
   "cell_type": "code",
   "execution_count": 7,
   "id": "f4e7a351-a23a-4f6e-bc7a-2725e5ab2720",
   "metadata": {
    "scrolled": true
   },
   "outputs": [],
   "source": [
    "class_names = train_data.classes"
   ]
  },
  {
   "cell_type": "code",
   "execution_count": 8,
   "id": "cf0c33b3-00e9-4093-a2d3-00c2ec8cff4e",
   "metadata": {},
   "outputs": [
    {
     "data": {
      "image/png": "[encoded data removed]",
      "text/plain": [
       "<Figure size 900x900 with 16 Axes>"
      ]
     },
     "metadata": {},
     "output_type": "display_data"
    }
   ],
   "source": [
    "# torch.manual_seed(42)\n",
    "fig= plt.figure(figsize=(9,9))\n",
    "rows, cols = 4, 4\n",
    "for i in range(1, rows*cols+1):\n",
    "    rand_idx= torch.randint(0, len(train_data), size=[1]).item()\n",
    "    img, label  = train_data[rand_idx]\n",
    "    fig.add_subplot(rows, cols, i)\n",
    "    plt.imshow(img.squeeze(), cmap='gray')\n",
    "    plt.title(class_names[label])\n",
    "    plt.axis(False)"
   ]
  },
  {
   "cell_type": "markdown",
   "id": "3c3b6c8e-afce-4209-a269-6a078c4fa47c",
   "metadata": {},
   "source": [
    "### Creating a Dataloader- to turn data into python iterable for batches"
   ]
  },
  {
   "cell_type": "code",
   "execution_count": 9,
   "id": "d6384ff6-5076-4ecc-afde-b3cc1c6d3cf2",
   "metadata": {},
   "outputs": [],
   "source": [
    "from torch.utils.data import DataLoader\n",
    "\n",
    "BATCH_SIZE = 32\n",
    "train_dataloader = DataLoader(train_data, batch_size=BATCH_SIZE, shuffle=True)\n",
    "test_dataloader = DataLoader(test_data, batch_size=BATCH_SIZE, shuffle=False)"
   ]
  },
  {
   "cell_type": "code",
   "execution_count": 10,
   "id": "f44837ae-213e-4a17-9ddd-538cd4d1076b",
   "metadata": {},
   "outputs": [
    {
     "name": "stdout",
     "output_type": "stream",
     "text": [
      "1875 313\n"
     ]
    }
   ],
   "source": [
    "print(len(train_dataloader), len(test_dataloader))"
   ]
  },
  {
   "cell_type": "code",
   "execution_count": 11,
   "id": "b61fae8a-2d24-440f-b9fe-e30013f8b30e",
   "metadata": {},
   "outputs": [
    {
     "name": "stdout",
     "output_type": "stream",
     "text": [
      "Feature batch shape: torch.Size([32, 1, 28, 28])\n",
      "\n",
      "Labels batch shape: torch.Size([32])\n",
      "\n"
     ]
    },
    {
     "data": {
      "image/png": "[encoded data removed]",
      "text/plain": [
       "<Figure size 640x480 with 1 Axes>"
      ]
     },
     "metadata": {},
     "output_type": "display_data"
    }
   ],
   "source": [
    "# Display image thorough Dataloader\n",
    "\n",
    "train_features, train_labels= next(iter(train_dataloader))\n",
    "print(f\"Feature batch shape: {train_features.size()}\\n\")\n",
    "print(f\"Labels batch shape: {train_labels.size()}\\n\")\n",
    "\n",
    "rand_idx = torch.randint(0, len(train_features), size=[1]).item()\n",
    "img = train_features[rand_idx].squeeze()\n",
    "label = train_labels[rand_idx]\n",
    "plt.imshow(img, cmap=\"gray\")\n",
    "plt.axis(False)\n",
    "plt.title(class_names[label])\n",
    "plt.show()"
   ]
  },
  {
   "cell_type": "markdown",
   "id": "3db797e8-93eb-4d49-b45d-82a7c9fb7bab",
   "metadata": {},
   "source": [
    "### Model 0: Build a Baseline Model"
   ]
  },
  {
   "cell_type": "code",
   "execution_count": 12,
   "id": "07e76caf-91aa-4df6-86b1-e6300e4d7e7d",
   "metadata": {},
   "outputs": [
    {
     "name": "stdout",
     "output_type": "stream",
     "text": [
      "Before Flattening torch.Size([1, 28, 28])\n",
      "After Flattening torch.Size([1, 784])\n"
     ]
    }
   ],
   "source": [
    "# Build a flatten layer\n",
    "flatten_model = nn.Flatten()\n",
    "\n",
    "x= train_features[0]\n",
    "\n",
    "output = flatten_model(x)\n",
    "\n",
    "print(f'Before Flattening {x.shape}\\nAfter Flattening {output.shape}')"
   ]
  },
  {
   "cell_type": "code",
   "execution_count": 13,
   "id": "f91c6b56-60f7-473f-bd92-289e8fe5fa57",
   "metadata": {},
   "outputs": [],
   "source": [
    "from torch import nn\n",
    "class FashionMNISTModelV0(nn.Module):\n",
    "    def __init__(self,\n",
    "                input_shape:int,\n",
    "                hidden_units:int,\n",
    "                output_shape:int):\n",
    "        super().__init__()\n",
    "        self.layer_stack = nn.Sequential(\n",
    "            nn.Flatten(),\n",
    "            nn.Linear(in_features=input_shape, out_features=hidden_units),\n",
    "            # nn.ReLU(),\n",
    "            nn.Linear(in_features=hidden_units, out_features=output_shape)\n",
    "        )\n",
    "\n",
    "    def forward(self, x):\n",
    "        return self.layer_stack(x)"
   ]
  },
  {
   "cell_type": "code",
   "execution_count": 14,
   "id": "57967949-7461-4c8a-98fd-5380880283c5",
   "metadata": {
    "scrolled": true
   },
   "outputs": [
    {
     "data": {
      "text/plain": [
       "FashionMNISTModelV0(\n",
       "  (layer_stack): Sequential(\n",
       "    (0): Flatten(start_dim=1, end_dim=-1)\n",
       "    (1): Linear(in_features=784, out_features=10, bias=True)\n",
       "    (2): Linear(in_features=10, out_features=10, bias=True)\n",
       "  )\n",
       ")"
      ]
     },
     "execution_count": 14,
     "metadata": {},
     "output_type": "execute_result"
    }
   ],
   "source": [
    "# torch.manual_seed(42)\n",
    "\n",
    "model_0 = FashionMNISTModelV0(\n",
    "    input_shape=28*28,\n",
    "    hidden_units=10,\n",
    "    output_shape=len(class_names)\n",
    ").to(device)\n",
    "model_0"
   ]
  },
  {
   "cell_type": "code",
   "execution_count": 15,
   "id": "7ed6b970-0fb0-4ab7-9f33-1567916f95d0",
   "metadata": {},
   "outputs": [
    {
     "data": {
      "text/plain": [
       "tensor([[-0.4238, -0.5371,  0.0453, -0.0905, -0.3931,  0.2892,  0.1874,  0.2852,\n",
       "          0.0050, -0.1030]], device='cuda:0', grad_fn=<AddmmBackward0>)"
      ]
     },
     "execution_count": 15,
     "metadata": {},
     "output_type": "execute_result"
    }
   ],
   "source": [
    "dummy_x = torch.rand([1,1,28,28]).to(device)\n",
    "model_0(dummy_x)"
   ]
  },
  {
   "cell_type": "code",
   "execution_count": 16,
   "id": "3b14661b-c159-4579-afae-8ee319360325",
   "metadata": {},
   "outputs": [
    {
     "name": "stdout",
     "output_type": "stream",
     "text": [
      "helper_function already exists\n"
     ]
    }
   ],
   "source": [
    "import requests\n",
    "from pathlib import Path\n",
    "\n",
    "if Path(\"helper_functions.py\").is_file():\n",
    "    print(\"helper_function already exists\")\n",
    "else:\n",
    "    print(\"Downloading the helper function\")\n",
    "    request = requests.get('https://raw.githubusercontent.com/mrdbourke/pytorch-deep-learning/refs/heads/main/helper_functions.py')\n",
    "    with open('helper_functions.py', \"wb\") as f:\n",
    "        f.write(request.content)"
   ]
  },
  {
   "cell_type": "code",
   "execution_count": 17,
   "id": "89cbef85-5593-465b-9c40-e8d31d79a954",
   "metadata": {},
   "outputs": [],
   "source": [
    "from helper_functions import accuracy_fn\n",
    "\n",
    "loss_fn = nn.CrossEntropyLoss()\n",
    "optimizer = torch.optim.SGD(params=model_0.parameters(),lr=0.1)"
   ]
  },
  {
   "cell_type": "code",
   "execution_count": 18,
   "id": "d8b6a70f-a8e3-480a-beb0-56181d5102f0",
   "metadata": {},
   "outputs": [],
   "source": [
    "### Creating a function to time our experiments\n",
    "from timeit import default_timer as timer\n",
    "def print_train_time(start:float,\n",
    "                    end:float,\n",
    "                    device: torch.device=\"cpu\"):\n",
    "    \"\"\"Prints the difference between start time and end time\"\"\"\n",
    "    total_time = end-start\n",
    "    print(f'Train Time on {device}: {total_time:.3f} seconds')\n",
    "    return total_time"
   ]
  },
  {
   "cell_type": "markdown",
   "id": "ade2c5f7-c2d7-4711-b73d-a6d6e22abf45",
   "metadata": {},
   "source": [
    "### Creating a Training and Testing loop"
   ]
  },
  {
   "cell_type": "code",
   "execution_count": 19,
   "id": "283ef8b0-1dc8-4769-9ed9-d36d93522afe",
   "metadata": {
    "scrolled": true
   },
   "outputs": [
    {
     "name": "stderr",
     "output_type": "stream",
     "text": [
      "/home/krrish/anaconda3/envs/torch_env/lib/python3.12/site-packages/tqdm/auto.py:21: TqdmWarning: IProgress not found. Please update jupyter and ipywidgets. See https://ipywidgets.readthedocs.io/en/stable/user_install.html\n",
      "  from .autonotebook import tqdm as notebook_tqdm\n",
      "  0%|                                                     | 0/3 [00:00<?, ?it/s]"
     ]
    },
    {
     "name": "stdout",
     "output_type": "stream",
     "text": [
      "Epoch: 0\n",
      "-----\n",
      "looked at 0/60000 samples.\n",
      "looked at 12800/60000 samples.\n",
      "looked at 25600/60000 samples.\n",
      "looked at 38400/60000 samples.\n",
      "looked at 51200/60000 samples.\n"
     ]
    },
    {
     "name": "stderr",
     "output_type": "stream",
     "text": [
      " 33%|███████████████                              | 1/3 [00:03<00:07,  3.75s/it]"
     ]
    },
    {
     "name": "stdout",
     "output_type": "stream",
     "text": [
      "Epoch: 1\n",
      "-----\n",
      "looked at 0/60000 samples.\n",
      "looked at 12800/60000 samples.\n",
      "looked at 25600/60000 samples.\n",
      "looked at 38400/60000 samples.\n",
      "looked at 51200/60000 samples.\n"
     ]
    },
    {
     "name": "stderr",
     "output_type": "stream",
     "text": [
      " 67%|██████████████████████████████               | 2/3 [00:07<00:03,  3.63s/it]"
     ]
    },
    {
     "name": "stdout",
     "output_type": "stream",
     "text": [
      "Epoch: 2\n",
      "-----\n",
      "looked at 0/60000 samples.\n",
      "looked at 12800/60000 samples.\n",
      "looked at 25600/60000 samples.\n",
      "looked at 38400/60000 samples.\n",
      "looked at 51200/60000 samples.\n"
     ]
    },
    {
     "name": "stderr",
     "output_type": "stream",
     "text": [
      "100%|█████████████████████████████████████████████| 3/3 [00:10<00:00,  3.57s/it]"
     ]
    },
    {
     "name": "stdout",
     "output_type": "stream",
     "text": [
      "Train Time on cpu: 10.708 seconds\n"
     ]
    },
    {
     "name": "stderr",
     "output_type": "stream",
     "text": [
      "\n"
     ]
    }
   ],
   "source": [
    "from tqdm.auto import tqdm\n",
    "\n",
    "torch.manual_seed(42)\n",
    "s_time = timer()\n",
    "\n",
    "epochs = 3\n",
    "\n",
    "for epoch in tqdm(range(epochs)):\n",
    "    print(f'Epoch: {epoch}\\n-----')\n",
    "    # Training\n",
    "    train_loss = 0\n",
    "    # Add a loop to loop training batches\n",
    "    for batch, (X, y) in enumerate(train_dataloader):\n",
    "        model_0.train()\n",
    "        X, y = X.to(device), y.to(device)\n",
    "        y_pred = model_0(X)\n",
    "\n",
    "        loss = loss_fn(y_pred, y)\n",
    "        train_loss += loss # accumulate train loss\n",
    "\n",
    "        optimizer.zero_grad()\n",
    "\n",
    "        loss.backward()\n",
    "\n",
    "        optimizer.step()\n",
    "\n",
    "        if batch % 400 == 0:\n",
    "            print(f\"looked at {batch*len(X)}/{len(train_dataloader.dataset)} samples.\")\n",
    "\n",
    "    # Divide total train loss by length of train dataloader\n",
    "    train_loss /= len(train_dataloader)\n",
    "\n",
    "    ### Testing\n",
    "    test_loss, test_acc = 0, 0\n",
    "    model_0.eval()\n",
    "    with torch.inference_mode():\n",
    "        for X_test,y_test in test_dataloader:\n",
    "            X_test,y_test = X_test.to(device), y_test.to(device)\n",
    "            test_pred = model_0(X_test)\n",
    "\n",
    "            test_loss += loss_fn(test_pred, y_test)\n",
    "\n",
    "            test_acc += accuracy_fn(y_true=y_test, y_pred=test_pred.argmax(dim=1))\n",
    "\n",
    "        test_loss /= len(test_dataloader)\n",
    "        \n",
    "        test_acc /= len(test_dataloader)\n",
    "        \n",
    "        if batch % 400 == 0:\n",
    "            print(f\"\\nTrain Loss: {train_loss:.4f} | Test Loss: {test_loss:.4f}, Test Accuracy: {test_acc:.4f} \")\n",
    "\n",
    "e_time = timer()\n",
    "total_time_model_0 = print_train_time(s_time, e_time, device='cpu')"
   ]
  },
  {
   "cell_type": "code",
   "execution_count": 20,
   "id": "624d59b7-f115-4e20-b2fb-6b563cf963f4",
   "metadata": {},
   "outputs": [
    {
     "data": {
      "text/plain": [
       "device(type='cuda', index=0)"
      ]
     },
     "execution_count": 20,
     "metadata": {},
     "output_type": "execute_result"
    }
   ],
   "source": [
    "next(model_0.parameters()).device"
   ]
  },
  {
   "cell_type": "code",
   "execution_count": 21,
   "id": "61f2c98f-2586-469c-aacc-615a6298084b",
   "metadata": {},
   "outputs": [
    {
     "data": {
      "text/plain": [
       "OrderedDict([('layer_stack.1.weight',\n",
       "              tensor([[ 1.2375e-02, -2.8341e-02, -2.3418e-02,  ..., -7.5497e-02,\n",
       "                       -5.3472e-02,  1.0991e-02],\n",
       "                      [-9.4309e-03,  3.3520e-02,  1.4566e-02,  ..., -6.7600e-02,\n",
       "                       -2.5237e-02, -5.8873e-03],\n",
       "                      [ 4.7077e-03, -5.3238e-03,  2.4294e-02,  ..., -5.2271e-02,\n",
       "                       -2.1367e-02, -3.9589e-02],\n",
       "                      ...,\n",
       "                      [ 1.7131e-02,  8.0207e-03, -1.1748e-02,  ..., -4.8149e-02,\n",
       "                       -3.4933e-02, -2.8494e-02],\n",
       "                      [-9.8169e-05,  9.3699e-03,  3.3528e-02,  ...,  2.8914e-02,\n",
       "                        7.6064e-03,  1.9476e-02],\n",
       "                      [ 9.9496e-03, -1.6108e-02, -3.3088e-02,  ...,  6.1626e-02,\n",
       "                        2.0366e-02, -1.4339e-02]], device='cuda:0')),\n",
       "             ('layer_stack.1.bias',\n",
       "              tensor([ 1.0366, -0.0443,  0.4611, -0.3958, -0.4606, -0.1582, -0.6915,  0.1665,\n",
       "                       0.7301,  1.2810], device='cuda:0')),\n",
       "             ('layer_stack.2.weight',\n",
       "              tensor([[-0.1856,  0.3703, -0.0213, -0.3686,  0.2036, -0.4891, -0.7011,  0.1717,\n",
       "                       -0.5652,  0.4360],\n",
       "                      [-0.2450,  0.2929,  0.2194,  0.7124,  0.4364, -1.0630,  0.1971, -0.4567,\n",
       "                        0.0411, -0.5960],\n",
       "                      [-0.8092, -0.1039, -0.2984, -0.1676,  0.5121, -0.2179, -0.4068, -0.1115,\n",
       "                       -0.1948,  0.5569],\n",
       "                      [-0.2732,  0.4865, -0.4831,  0.1494, -0.2751, -0.4393,  0.1346,  0.1428,\n",
       "                       -0.2242,  0.7895],\n",
       "                      [-1.3490,  0.0031, -0.1057, -0.2268, -0.0167, -0.3215, -0.2080,  0.0610,\n",
       "                       -0.2738,  0.3010],\n",
       "                      [ 1.0969, -1.4322,  0.8233,  0.4473, -0.8811,  0.4044,  0.0466,  0.4741,\n",
       "                        0.9551,  0.0752],\n",
       "                      [-0.7069,  0.3977, -0.3992, -0.4022, -0.0227, -0.1203, -0.8088, -0.0592,\n",
       "                        0.0676,  0.2917],\n",
       "                      [ 1.1126, -0.1898,  0.4464, -0.2728, -0.4196,  0.6154,  1.1782, -0.5389,\n",
       "                        0.1805, -0.4128],\n",
       "                      [-0.5827,  0.5058,  0.4731,  0.0977,  0.3969,  0.7272,  0.0168,  0.7860,\n",
       "                        0.0154,  0.2752],\n",
       "                      [ 1.0432, -0.7406, -0.4013,  0.6468, -0.3413,  0.7434,  0.5666,  0.2840,\n",
       "                       -0.2995, -1.1475]], device='cuda:0')),\n",
       "             ('layer_stack.2.bias',\n",
       "              tensor([ 0.0078, -0.4360,  0.1685,  0.2035, -0.8238,  0.7561,  0.4894,  0.0549,\n",
       "                      -0.3807, -1.1034], device='cuda:0'))])"
      ]
     },
     "execution_count": 21,
     "metadata": {},
     "output_type": "execute_result"
    }
   ],
   "source": [
    "model_0.state_dict()"
   ]
  },
  {
   "cell_type": "code",
   "execution_count": 33,
   "id": "ba1c2675-35c2-4806-9874-d035db5464be",
   "metadata": {
    "scrolled": true
   },
   "outputs": [
    {
     "data": {
      "text/plain": [
       "{'model_name': 'FashionMNISTModelV0',\n",
       " 'model_loss': 0.49908676743507385,\n",
       " 'model_acc': 81.90894568690096}"
      ]
     },
     "execution_count": 33,
     "metadata": {},
     "output_type": "execute_result"
    }
   ],
   "source": [
    "# torch.manual_seed(42)\n",
    "def eval_model(model: torch.nn.Module,\n",
    "              data_loader: torch.utils.data.DataLoader,\n",
    "              loss_fn: torch.nn.Module,\n",
    "              accuracy_fn,\n",
    "              device: torch.device=device\n",
    "              ):\n",
    "    \"\"\"Return a Dictionary containing the results of model prediciting on data loader\"\"\"\n",
    "    loss, acc = 0, 0\n",
    "    model.eval()\n",
    "    with torch.inference_mode():\n",
    "        for X,y in data_loader:\n",
    "            X,y = X.to(device), y.to(device)\n",
    "            # Make predictions\n",
    "            y_pred = model(X.to(device))\n",
    "\n",
    "            # Accumulate loss and accuracy\n",
    "            loss +=  loss_fn(y_pred.to(device), y.to(device))\n",
    "            acc  +=  accuracy_fn(y.to(device), y_pred.argmax(dim=1).to(device))\n",
    "\n",
    "        # Scale loss and acc to find average loss/acc per batch\n",
    "        loss /= len(data_loader)\n",
    "        acc  /= len(data_loader)\n",
    "\n",
    "    return {\"model_name\": model.__class__.__name__, \n",
    "            \"model_loss\": loss.item(),\n",
    "            \"model_acc\":  acc}\n",
    "\n",
    "model_0_results = eval_model(model_0, test_dataloader, loss_fn, accuracy_fn)\n",
    "model_0_results"
   ]
  },
  {
   "cell_type": "code",
   "execution_count": null,
   "id": "02fa602a-cc08-4ff4-87b0-c865fb8b241d",
   "metadata": {},
   "outputs": [],
   "source": []
  },
  {
   "cell_type": "code",
   "execution_count": 34,
   "id": "535aa2c4-bf34-4b03-98a0-5fb73e0b2994",
   "metadata": {},
   "outputs": [],
   "source": []
  },
  {
   "cell_type": "markdown",
   "id": "c8adca3b-d66f-4fbd-affb-4f449bb17cc5",
   "metadata": {},
   "source": [
    "### Improving through Experimentation\n",
    "- #### Building model with non-linearity\n",
    "- #### GridSearchCV to find better values for hyperparameter \n"
   ]
  },
  {
   "cell_type": "code",
   "execution_count": 27,
   "id": "68152a55-9404-4293-ad19-c751ca76be3b",
   "metadata": {},
   "outputs": [],
   "source": [
    "# Create a model with non-linear and linear layers\n",
    "class FashionMNISTModelV1(nn.Module):\n",
    "    def __init__(self, input_shape: int, hidden_units: int, output_shape: int):\n",
    "        super().__init__()\n",
    "        self.layer_stack = nn.Sequential(\n",
    "            nn.Flatten(), # flatten inputs into single vector\n",
    "            nn.Linear(in_features=input_shape, out_features=hidden_units),\n",
    "            nn.ReLU(),\n",
    "            nn.Linear(in_features=hidden_units, out_features=output_shape),\n",
    "            nn.ReLU()\n",
    "        )\n",
    "    \n",
    "    def forward(self, x: torch.Tensor):\n",
    "        return self.layer_stack(x)\n",
    "\n"
   ]
  },
  {
   "cell_type": "code",
   "execution_count": 28,
   "id": "f6819691-456c-4b90-a5e3-aaa89a26cfd5",
   "metadata": {},
   "outputs": [
    {
     "data": {
      "text/plain": [
       "device(type='cuda', index=0)"
      ]
     },
     "execution_count": 28,
     "metadata": {},
     "output_type": "execute_result"
    }
   ],
   "source": [
    "torch.manual_seed(42)\n",
    "model_1 = FashionMNISTModelV1(input_shape=784, # number of input features\n",
    "    hidden_units=10,\n",
    "    output_shape=len(class_names) # number of output classes desired\n",
    ").to(device) # send model to GPU if it's available\n",
    "next(model_1.parameters()).device # check model device"
   ]
  },
  {
   "cell_type": "code",
   "execution_count": 23,
   "id": "d7de1266-bf42-48dc-be14-97574a8d2674",
   "metadata": {},
   "outputs": [
    {
     "data": {
      "text/plain": [
       "SGD (\n",
       "Parameter Group 0\n",
       "    dampening: 0\n",
       "    differentiable: False\n",
       "    foreach: None\n",
       "    fused: None\n",
       "    lr: 0.1\n",
       "    maximize: False\n",
       "    momentum: 0\n",
       "    nesterov: False\n",
       "    weight_decay: 0\n",
       ")"
      ]
     },
     "execution_count": 23,
     "metadata": {},
     "output_type": "execute_result"
    }
   ],
   "source": [
    "optimizer"
   ]
  },
  {
   "cell_type": "code",
   "execution_count": 24,
   "id": "ef730bc5-2d55-49d8-ba9d-ac71004a023d",
   "metadata": {},
   "outputs": [],
   "source": [
    "from helper_functions import accuracy_fn\n",
    "loss_fn = nn.CrossEntropyLoss()\n",
    "optim = torch.optim.Adam(params=model_1.parameters(), lr=0.1)"
   ]
  },
  {
   "cell_type": "markdown",
   "id": "3f4b4dda-6bc2-4277-b80c-fea8e84ce783",
   "metadata": {},
   "source": [
    "### Creating a Function for Training and Testing loop"
   ]
  },
  {
   "cell_type": "code",
   "execution_count": null,
   "id": "312b8bff-901e-45a3-a6da-61f5adf1af7d",
   "metadata": {},
   "outputs": [],
   "source": []
  },
  {
   "cell_type": "code",
   "execution_count": 23,
   "id": "8039ecfe-e047-4216-b9be-bc653feafcb1",
   "metadata": {},
   "outputs": [],
   "source": [
    "def train_step(model: torch.nn.Module,\n",
    "               data_loader: torch.utils.data.DataLoader,\n",
    "               loss_fn: torch.nn.Module,\n",
    "               optimizer: torch.optim.Optimizer,\n",
    "               accuracy_fn,\n",
    "               device: torch.device = device):\n",
    "    train_loss, train_acc = 0, 0\n",
    "    model.to(device)\n",
    "    for batch, (X, y) in enumerate(data_loader):\n",
    "        # Send data to GPU\n",
    "        X, y = X.to(device), y.to(device)\n",
    "\n",
    "        # 1. Forward pass\n",
    "        y_pred = model(X)\n",
    "\n",
    "        # 2. Calculate loss\n",
    "        loss = loss_fn(y_pred, y)\n",
    "        train_loss += loss\n",
    "        train_acc += accuracy_fn(y_true=y,\n",
    "                                 y_pred=y_pred.argmax(dim=1)) # Go from logits -> pred labels\n",
    "\n",
    "        # 3. Optimizer zero grad\n",
    "        optimizer.zero_grad()\n",
    "\n",
    "        # 4. Loss backward\n",
    "        loss.backward()\n",
    "\n",
    "        # 5. Optimizer step\n",
    "        optimizer.step()\n",
    "\n",
    "    # Calculate loss and accuracy per epoch and print out what's happening\n",
    "    train_loss /= len(data_loader)\n",
    "    train_acc /= len(data_loader)\n",
    "    print(f\"Train loss: {train_loss:.5f} | Train accuracy: {train_acc:.2f}%\")\n",
    "\n",
    "def test_step(data_loader: torch.utils.data.DataLoader,\n",
    "              model: torch.nn.Module,\n",
    "              loss_fn: torch.nn.Module,\n",
    "              accuracy_fn,\n",
    "              device: torch.device = device):\n",
    "    test_loss, test_acc = 0, 0\n",
    "    model.to(device)\n",
    "    model.eval() # put model in eval mode\n",
    "    # Turn on inference context manager\n",
    "    with torch.inference_mode(): \n",
    "        for X, y in data_loader:\n",
    "            # Send data to GPU\n",
    "            X, y = X.to(device), y.to(device)\n",
    "            \n",
    "            # 1. Forward pass\n",
    "            test_pred = model(X)\n",
    "            \n",
    "            # 2. Calculate loss and accuracy\n",
    "            test_loss += loss_fn(test_pred, y)\n",
    "            test_acc += accuracy_fn(y_true=y,\n",
    "                y_pred=test_pred.argmax(dim=1) # Go from logits -> pred labels\n",
    "            )\n",
    "        \n",
    "        # Adjust metrics and print out\n",
    "        test_loss /= len(data_loader)\n",
    "        test_acc /= len(data_loader)\n",
    "        print(f\"Test loss: {test_loss:.5f} | Test accuracy: {test_acc:.2f}%\\n\")\n",
    "\n"
   ]
  },
  {
   "cell_type": "code",
   "execution_count": 34,
   "id": "4f95b347-688a-49d1-ae3a-415b78d4614c",
   "metadata": {},
   "outputs": [
    {
     "data": {
      "text/plain": [
       "<function helper_functions.accuracy_fn(y_true, y_pred)>"
      ]
     },
     "execution_count": 34,
     "metadata": {},
     "output_type": "execute_result"
    }
   ],
   "source": [
    "accuracy_fn"
   ]
  },
  {
   "cell_type": "code",
   "execution_count": 32,
   "id": "9388eedb-8002-4123-86cf-68fe9bad2863",
   "metadata": {
    "scrolled": true
   },
   "outputs": [
    {
     "name": "stderr",
     "output_type": "stream",
     "text": [
      "  0%|                                                     | 0/5 [00:00<?, ?it/s]"
     ]
    },
    {
     "name": "stdout",
     "output_type": "stream",
     "text": [
      "Epoch: 0\n",
      "---------\n",
      "Train loss: 2.30166 | Train accuracy: 11.31%\n"
     ]
    },
    {
     "name": "stderr",
     "output_type": "stream",
     "text": [
      " 20%|█████████                                    | 1/5 [00:04<00:16,  4.18s/it]"
     ]
    },
    {
     "name": "stdout",
     "output_type": "stream",
     "text": [
      "Test loss: 2.30211 | Test accuracy: 10.75%\n",
      "\n",
      "Epoch: 1\n",
      "---------\n",
      "Train loss: 2.30166 | Train accuracy: 11.31%\n"
     ]
    },
    {
     "name": "stderr",
     "output_type": "stream",
     "text": [
      " 40%|██████████████████                           | 2/5 [00:07<00:11,  3.91s/it]"
     ]
    },
    {
     "name": "stdout",
     "output_type": "stream",
     "text": [
      "Test loss: 2.30211 | Test accuracy: 10.75%\n",
      "\n",
      "Epoch: 2\n",
      "---------\n",
      "Train loss: 2.30166 | Train accuracy: 11.31%\n"
     ]
    },
    {
     "name": "stderr",
     "output_type": "stream",
     "text": [
      " 60%|███████████████████████████                  | 3/5 [00:11<00:07,  3.80s/it]"
     ]
    },
    {
     "name": "stdout",
     "output_type": "stream",
     "text": [
      "Test loss: 2.30211 | Test accuracy: 10.75%\n",
      "\n",
      "Epoch: 3\n",
      "---------\n",
      "Train loss: 2.30166 | Train accuracy: 11.31%\n"
     ]
    },
    {
     "name": "stderr",
     "output_type": "stream",
     "text": [
      " 80%|████████████████████████████████████         | 4/5 [00:15<00:03,  3.80s/it]"
     ]
    },
    {
     "name": "stdout",
     "output_type": "stream",
     "text": [
      "Test loss: 2.30211 | Test accuracy: 10.75%\n",
      "\n",
      "Epoch: 4\n",
      "---------\n",
      "Train loss: 2.30166 | Train accuracy: 11.31%\n"
     ]
    },
    {
     "name": "stderr",
     "output_type": "stream",
     "text": [
      "100%|█████████████████████████████████████████████| 5/5 [00:18<00:00,  3.78s/it]"
     ]
    },
    {
     "name": "stdout",
     "output_type": "stream",
     "text": [
      "Test loss: 2.30211 | Test accuracy: 10.75%\n",
      "\n",
      "Train Time on cuda: 18.905 seconds\n"
     ]
    },
    {
     "name": "stderr",
     "output_type": "stream",
     "text": [
      "\n"
     ]
    }
   ],
   "source": [
    "# Measure time\n",
    "from timeit import default_timer as timer\n",
    "train_time_start_on_gpu = timer()\n",
    "\n",
    "epochs = 5\n",
    "for epoch in tqdm(range(epochs)):\n",
    "    print(f\"Epoch: {epoch}\\n---------\")\n",
    "    train_step(data_loader=train_dataloader, \n",
    "        model=model_1, \n",
    "        loss_fn=loss_fn,\n",
    "        optimizer=optimizer,\n",
    "        accuracy_fn=accurabcy_fn\n",
    "    )\n",
    "    test_step(data_loader=test_dataloader,\n",
    "        model=model_1,\n",
    "        loss_fn=loss_fn,\n",
    "        accuracy_fn=accuracy_fn\n",
    "    )\n",
    "\n",
    "train_time_end_on_gpu = timer()\n",
    "total_train_time_model_1 = print_train_time(start=train_time_start_on_gpu,\n",
    "                                            end=train_time_end_on_gpu,\n",
    "                                            device=device)\n",
    "\n"
   ]
  },
  {
   "cell_type": "code",
   "execution_count": 31,
   "id": "300fd914-71db-410a-8ac9-3452b3665c79",
   "metadata": {},
   "outputs": [
    {
     "data": {
      "text/plain": [
       "{'model_name': 'FashionMNISTModelV1',\n",
       " 'model_loss': 2.3021068572998047,\n",
       " 'model_acc': 10.75279552715655}"
      ]
     },
     "execution_count": 31,
     "metadata": {},
     "output_type": "execute_result"
    }
   ],
   "source": [
    "model_1_results = eval_model(model_1, test_dataloader,loss_fn, accuracy_fn)\n",
    "model_1_results"
   ]
  },
  {
   "cell_type": "code",
   "execution_count": null,
   "id": "79d2ea3e-8d5f-46f7-ad8a-192a45d850fa",
   "metadata": {},
   "outputs": [],
   "source": []
  }
 ],
 "metadata": {
  "kernelspec": {
   "display_name": "Python 3 (ipykernel)",
   "language": "python",
   "name": "python3"
  },
  "language_info": {
   "codemirror_mode": {
    "name": "ipython",
    "version": 3
   },
   "file_extension": ".py",
   "mimetype": "text/x-python",
   "name": "python",
   "nbconvert_exporter": "python",
   "pygments_lexer": "ipython3",
   "version": "3.12.2"
  }
 },
 "nbformat": 4,
 "nbformat_minor": 5
}
