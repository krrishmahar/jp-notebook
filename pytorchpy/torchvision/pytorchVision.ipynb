{
 "cells": [
  {
   "cell_type": "markdown",
   "id": "1adb0b25-6ec8-4da9-afd0-a5249be6f8a4",
   "metadata": {},
   "source": [
    "# PyTorch computer Vision"
   ]
  },
  {
   "cell_type": "markdown",
   "id": "7931affc-3884-4d8f-84b5-2494829d5835",
   "metadata": {},
   "source": [
    "Useful Modules\n",
    "- `torchvision`\n",
    "- `torchvision.datasets`\n",
    "- `torchvision.models`\n",
    "- `torchvision.transforms`\n",
    "- `torchvision.utils.data.Dataset`\n",
    "- `torchvision.utils.data.DataLoader`"
   ]
  },
  {
   "cell_type": "code",
   "execution_count": null,
   "id": "27b56cfb-eb73-41da-bdda-a0613d588266",
   "metadata": {},
   "outputs": [],
   "source": [
    "# Import torch\n",
    "import torch\n",
    "from torch import nn\n",
    "\n",
    "# Import torchvision\n",
    "import torchvision\n",
    "from torchvision import datasets\n",
    "from torchvision import transforms\n",
    "from torchvision.transforms import ToTensor\n",
    "\n",
    "# import matplotlib and seaborn for visualization\n",
    "import matplotlib.pyplot as plt\n",
    "import seaborn"
   ]
  },
  {
   "cell_type": "markdown",
   "id": "12c1371e-33ca-481e-84be-01aaab5e028c",
   "metadata": {},
   "source": [
    "### Setting up Device Agnostic code"
   ]
  },
  {
   "cell_type": "code",
   "execution_count": null,
   "id": "3bbe64b5-74f0-44c9-84eb-25b8bfebde8d",
   "metadata": {},
   "outputs": [],
   "source": [
    "device = \"cuda\" if torch.cuda.is_available() else \"cpu\"\n",
    "device"
   ]
  },
  {
   "cell_type": "code",
   "execution_count": null,
   "id": "860935a3-063a-45db-9f37-a13423a9cab5",
   "metadata": {
    "scrolled": true
   },
   "outputs": [],
   "source": [
    "torch.cuda.is_available()"
   ]
  },
  {
   "cell_type": "code",
   "execution_count": null,
   "id": "d43d4d9d-c22c-4e16-a2dc-ef8ec8266c49",
   "metadata": {},
   "outputs": [],
   "source": [
    "!nvidia-smi"
   ]
  },
  {
   "cell_type": "markdown",
   "id": "35986f00-69d7-4018-9ae5-aba7692720a0",
   "metadata": {},
   "source": [
    "### Loading the image data"
   ]
  },
  {
   "cell_type": "code",
   "execution_count": null,
   "id": "3344b167-014c-4820-8048-75d375d581f8",
   "metadata": {
    "scrolled": true
   },
   "outputs": [],
   "source": [
    "from torchvision import datasets\n",
    "from torchvision.transforms import ToTensor\n",
    "train_data= datasets.FashionMNIST(\n",
    "    root='data',\n",
    "    train=True,\n",
    "    download=True,\n",
    "    transform=torchvision.transforms.ToTensor(),\n",
    "    target_transform=None\n",
    ")\n",
    "\n",
    "test_data= datasets.FashionMNIST(\n",
    "    root='data',\n",
    "    train=False,\n",
    "    download=True,\n",
    "    transform=ToTensor(),\n",
    "    target_transform=None\n",
    ")"
   ]
  },
  {
   "cell_type": "code",
   "execution_count": null,
   "id": "2c90eaa6-662e-4d7c-b71d-5eb1c75b1b33",
   "metadata": {},
   "outputs": [],
   "source": [
    "train_data.targets "
   ]
  },
  {
   "cell_type": "markdown",
   "id": "bc955665-27c2-41dd-a3a3-da03b602e404",
   "metadata": {},
   "source": [
    "### Visualizing the data"
   ]
  },
  {
   "cell_type": "code",
   "execution_count": null,
   "id": "f4e7a351-a23a-4f6e-bc7a-2725e5ab2720",
   "metadata": {
    "scrolled": true
   },
   "outputs": [],
   "source": [
    "class_names = train_data.classes"
   ]
  },
  {
   "cell_type": "code",
   "execution_count": null,
   "id": "cf0c33b3-00e9-4093-a2d3-00c2ec8cff4e",
   "metadata": {},
   "outputs": [],
   "source": [
    "# torch.manual_seed(42)\n",
    "fig= plt.figure(figsize=(9,9))\n",
    "rows, cols = 4, 4\n",
    "for i in range(1, rows*cols+1):\n",
    "    rand_idx= torch.randint(0, len(train_data), size=[1]).item()\n",
    "    img, label  = train_data[rand_idx]\n",
    "    fig.add_subplot(rows, cols, i)\n",
    "    plt.imshow(img.squeeze(), cmap='gray')\n",
    "    plt.title(class_names[label])\n",
    "    plt.axis(False)"
   ]
  },
  {
   "cell_type": "markdown",
   "id": "3c3b6c8e-afce-4209-a269-6a078c4fa47c",
   "metadata": {},
   "source": [
    "### Creating a Dataloader- to turn data into python iterable for batches"
   ]
  },
  {
   "cell_type": "code",
   "execution_count": null,
   "id": "d6384ff6-5076-4ecc-afde-b3cc1c6d3cf2",
   "metadata": {},
   "outputs": [],
   "source": [
    "from torch.utils.data import DataLoader\n",
    "\n",
    "BATCH_SIZE = 32\n",
    "train_dataloader = DataLoader(train_data, batch_size=BATCH_SIZE, shuffle=True)\n",
    "test_dataloader = DataLoader(test_data, batch_size=BATCH_SIZE, shuffle=False)"
   ]
  },
  {
   "cell_type": "code",
   "execution_count": null,
   "id": "f44837ae-213e-4a17-9ddd-538cd4d1076b",
   "metadata": {},
   "outputs": [],
   "source": [
    "print(len(train_dataloader), len(test_dataloader))"
   ]
  },
  {
   "cell_type": "code",
   "execution_count": null,
   "id": "b61fae8a-2d24-440f-b9fe-e30013f8b30e",
   "metadata": {},
   "outputs": [],
   "source": [
    "# Display image thorough Dataloader\n",
    "\n",
    "train_features, train_labels= next(iter(train_dataloader))\n",
    "print(f\"Feature batch shape: {train_features.size()}\\n\")\n",
    "print(f\"Labels batch shape: {train_labels.size()}\\n\")\n",
    "\n",
    "rand_idx = torch.randint(0, len(train_features), size=[1]).item()\n",
    "img = train_features[rand_idx].squeeze()\n",
    "label = train_labels[rand_idx]\n",
    "plt.imshow(img, cmap=\"gray\")\n",
    "plt.axis(False)\n",
    "plt.title(class_names[label])\n",
    "plt.show()"
   ]
  },
  {
   "cell_type": "markdown",
   "id": "3db797e8-93eb-4d49-b45d-82a7c9fb7bab",
   "metadata": {},
   "source": [
    "### Model 0: Build a Baseline Model"
   ]
  },
  {
   "cell_type": "code",
   "execution_count": null,
   "id": "07e76caf-91aa-4df6-86b1-e6300e4d7e7d",
   "metadata": {},
   "outputs": [],
   "source": [
    "# Build a flatten layer\n",
    "flatten_model = nn.Flatten()\n",
    "\n",
    "x= train_features[0]\n",
    "\n",
    "output = flatten_model(x)\n",
    "\n",
    "print(f'Before Flattening {x.shape}\\nAfter Flattening {output.shape}')"
   ]
  },
  {
   "cell_type": "code",
   "execution_count": null,
   "id": "f91c6b56-60f7-473f-bd92-289e8fe5fa57",
   "metadata": {},
   "outputs": [],
   "source": [
    "from torch import nn\n",
    "class FashionMNISTModelV0(nn.Module):\n",
    "    def __init__(self,\n",
    "                input_shape:int,\n",
    "                hidden_units:int,\n",
    "                output_shape:int):\n",
    "        super().__init__()\n",
    "        self.layer_stack = nn.Sequential(\n",
    "            nn.Flatten(),\n",
    "            nn.Linear(in_features=input_shape, out_features=hidden_units),\n",
    "            # nn.ReLU(),\n",
    "            nn.Linear(in_features=hidden_units, out_features=output_shape)\n",
    "        )\n",
    "\n",
    "    def forward(self, x):\n",
    "        return self.layer_stack(x)"
   ]
  },
  {
   "cell_type": "code",
   "execution_count": null,
   "id": "57967949-7461-4c8a-98fd-5380880283c5",
   "metadata": {
    "scrolled": true
   },
   "outputs": [],
   "source": [
    "# torch.manual_seed(42)\n",
    "\n",
    "model_0 = FashionMNISTModelV0(\n",
    "    input_shape=28*28,\n",
    "    hidden_units=10,\n",
    "    output_shape=len(class_names)\n",
    ").to(device)\n",
    "model_0"
   ]
  },
  {
   "cell_type": "code",
   "execution_count": null,
   "id": "7ed6b970-0fb0-4ab7-9f33-1567916f95d0",
   "metadata": {},
   "outputs": [],
   "source": [
    "dummy_x = torch.rand([1,1,28,28]).to(device)\n",
    "model_0(dummy_x)"
   ]
  },
  {
   "cell_type": "code",
   "execution_count": null,
   "id": "3b14661b-c159-4579-afae-8ee319360325",
   "metadata": {},
   "outputs": [],
   "source": [
    "import requests\n",
    "from pathlib import Path\n",
    "\n",
    "if Path(\"helper_functions.py\").is_file():\n",
    "    print(\"helper_function already exists\")\n",
    "else:\n",
    "    print(\"Downloading the helper function\")\n",
    "    request = requests.get('https://raw.githubusercontent.com/mrdbourke/pytorch-deep-learning/refs/heads/main/helper_functions.py')\n",
    "    with open('helper_functions.py', \"wb\") as f:\n",
    "        f.write(request.content)"
   ]
  },
  {
   "cell_type": "code",
   "execution_count": null,
   "id": "89cbef85-5593-465b-9c40-e8d31d79a954",
   "metadata": {},
   "outputs": [],
   "source": [
    "from helper_functions import accuracy_fn\n",
    "\n",
    "loss_fn = nn.CrossEntropyLoss()\n",
    "optimizer = torch.optim.SGD(params=model_0.parameters(),lr=0.1)"
   ]
  },
  {
   "cell_type": "code",
   "execution_count": null,
   "id": "d8b6a70f-a8e3-480a-beb0-56181d5102f0",
   "metadata": {},
   "outputs": [],
   "source": [
    "### Creating a function to time our experiments\n",
    "from timeit import default_timer as timer\n",
    "def print_train_time(start:float,\n",
    "                    end:float,\n",
    "                    device: torch.device=\"cpu\"):\n",
    "    \"\"\"Prints the difference between start time and end time\"\"\"\n",
    "    total_time = end-start\n",
    "    print(f'Train Time on {device}: {total_time:.3f} seconds')\n",
    "    return total_time"
   ]
  },
  {
   "cell_type": "markdown",
   "id": "ade2c5f7-c2d7-4711-b73d-a6d6e22abf45",
   "metadata": {},
   "source": [
    "### Creating a Training and Testing loop"
   ]
  },
  {
   "cell_type": "code",
   "execution_count": null,
   "id": "283ef8b0-1dc8-4769-9ed9-d36d93522afe",
   "metadata": {
    "scrolled": true
   },
   "outputs": [],
   "source": [
    "from tqdm.auto import tqdm\n",
    "\n",
    "torch.manual_seed(42)\n",
    "s_time = timer()\n",
    "\n",
    "epochs = 3\n",
    "\n",
    "for epoch in tqdm(range(epochs)):\n",
    "    print(f'Epoch: {epoch}\\n-----')\n",
    "    # Training\n",
    "    train_loss = 0\n",
    "    # Add a loop to loop training batches\n",
    "    for batch, (X, y) in enumerate(train_dataloader):\n",
    "        model_0.train()\n",
    "        X, y = X.to(device), y.to(device)\n",
    "        y_pred = model_0(X)\n",
    "\n",
    "        loss = loss_fn(y_pred, y)\n",
    "        train_loss += loss # accumulate train loss\n",
    "\n",
    "        optimizer.zero_grad()\n",
    "\n",
    "        loss.backward()\n",
    "\n",
    "        optimizer.step()\n",
    "\n",
    "        if batch % 400 == 0:\n",
    "            print(f\"looked at {batch*len(X)}/{len(train_dataloader.dataset)} samples.\")\n",
    "\n",
    "    # Divide total train loss by length of train dataloader\n",
    "    train_loss /= len(train_dataloader)\n",
    "\n",
    "    ### Testing\n",
    "    test_loss, test_acc = 0, 0\n",
    "    model_0.eval()\n",
    "    with torch.inference_mode():\n",
    "        for X_test,y_test in test_dataloader:\n",
    "            X_test,y_test = X_test.to(device), y_test.to(device)\n",
    "            test_pred = model_0(X_test)\n",
    "\n",
    "            test_loss += loss_fn(test_pred, y_test)\n",
    "\n",
    "            test_acc += accuracy_fn(y_true=y_test, y_pred=test_pred.argmax(dim=1))\n",
    "\n",
    "        test_loss /= len(test_dataloader)\n",
    "        \n",
    "        test_acc /= len(test_dataloader)\n",
    "        \n",
    "        if batch % 400 == 0:\n",
    "            print(f\"\\nTrain Loss: {train_loss:.4f} | Test Loss: {test_loss:.4f}, Test Accuracy: {test_acc:.4f} \")\n",
    "\n",
    "e_time = timer()\n",
    "total_time_model_0 = print_train_time(s_time, e_time, device='cpu')"
   ]
  },
  {
   "cell_type": "code",
   "execution_count": null,
   "id": "624d59b7-f115-4e20-b2fb-6b563cf963f4",
   "metadata": {},
   "outputs": [],
   "source": [
    "next(model_0.parameters()).device"
   ]
  },
  {
   "cell_type": "code",
   "execution_count": null,
   "id": "61f2c98f-2586-469c-aacc-615a6298084b",
   "metadata": {},
   "outputs": [],
   "source": [
    "model_0.state_dict()"
   ]
  },
  {
   "cell_type": "code",
   "execution_count": null,
   "id": "ba1c2675-35c2-4806-9874-d035db5464be",
   "metadata": {
    "scrolled": true
   },
   "outputs": [],
   "source": [
    "# torch.manual_seed(42)\n",
    "def eval_model(model: torch.nn.Module,\n",
    "              data_loader: torch.utils.data.DataLoader,\n",
    "              loss_fn: torch.nn.Module,\n",
    "              accuracy_fn,\n",
    "              device: torch.device=device\n",
    "              ):\n",
    "    \"\"\"Return a Dictionary containing the results of model prediciting on data loader\"\"\"\n",
    "    loss, acc = 0, 0\n",
    "    model.eval()\n",
    "    with torch.inference_mode():\n",
    "        for X,y in data_loader:\n",
    "            X,y = X.to(device), y.to(device)\n",
    "            # Make predictions\n",
    "            y_pred = model(X.to(device))\n",
    "\n",
    "            # Accumulate loss and accuracy\n",
    "            loss +=  loss_fn(y_pred.to(device), y.to(device))\n",
    "            acc  +=  accuracy_fn(y.to(device), y_pred.argmax(dim=1).to(device))\n",
    "\n",
    "        # Scale loss and acc to find average loss/acc per batch\n",
    "        loss /= len(data_loader)\n",
    "        acc  /= len(data_loader)\n",
    "\n",
    "    return {\"model_name\": model.__class__.__name__, \n",
    "            \"model_loss\": loss.item(),\n",
    "            \"model_acc\":  acc}\n",
    "\n",
    "model_0_results = eval_model(model_0, test_dataloader, loss_fn, accuracy_fn)\n",
    "model_0_results"
   ]
  },
  {
   "cell_type": "code",
   "execution_count": null,
   "id": "02fa602a-cc08-4ff4-87b0-c865fb8b241d",
   "metadata": {},
   "outputs": [],
   "source": []
  },
  {
   "cell_type": "code",
   "execution_count": null,
   "id": "535aa2c4-bf34-4b03-98a0-5fb73e0b2994",
   "metadata": {},
   "outputs": [],
   "source": []
  },
  {
   "cell_type": "markdown",
   "id": "c8adca3b-d66f-4fbd-affb-4f449bb17cc5",
   "metadata": {},
   "source": [
    "### Improving through Experimentation\n",
    "- #### Building model with non-linearity\n",
    "- #### GridSearchCV to find better values for hyperparameter \n"
   ]
  },
  {
   "cell_type": "code",
   "execution_count": 53,
   "id": "68152a55-9404-4293-ad19-c751ca76be3b",
   "metadata": {},
   "outputs": [],
   "source": [
    "# Create a model with non-linear and linear layers\n",
    "class FashionMNISTModelV1(nn.Module):\n",
    "    def __init__(self, input_shape: int, hidden_units: int, output_shape: int):\n",
    "        super().__init__()\n",
    "        self.layer_stack = nn.Sequential(\n",
    "            nn.Flatten(), # flatten inputs into single vector\n",
    "            nn.Linear(in_features=input_shape, out_features=hidden_units),\n",
    "            nn.ReLU(),\n",
    "            nn.Linear(in_features=hidden_units, out_features=output_shape),\n",
    "            nn.ReLU()\n",
    "        )\n",
    "    \n",
    "    def forward(self, x: torch.Tensor):\n",
    "        return self.layer_stack(x)\n",
    "\n"
   ]
  },
  {
   "cell_type": "code",
   "execution_count": 55,
   "id": "d7de1266-bf42-48dc-be14-97574a8d2674",
   "metadata": {},
   "outputs": [
    {
     "data": {
      "text/plain": [
       "SGD (\n",
       "Parameter Group 0\n",
       "    dampening: 0\n",
       "    differentiable: False\n",
       "    foreach: None\n",
       "    fused: None\n",
       "    lr: 0.1\n",
       "    maximize: False\n",
       "    momentum: 0\n",
       "    nesterov: False\n",
       "    weight_decay: 0\n",
       ")"
      ]
     },
     "execution_count": 55,
     "metadata": {},
     "output_type": "execute_result"
    }
   ],
   "source": [
    "optimizer"
   ]
  },
  {
   "cell_type": "code",
   "execution_count": 67,
   "id": "f6819691-456c-4b90-a5e3-aaa89a26cfd5",
   "metadata": {},
   "outputs": [
    {
     "data": {
      "text/plain": [
       "device(type='cuda', index=0)"
      ]
     },
     "execution_count": 67,
     "metadata": {},
     "output_type": "execute_result"
    }
   ],
   "source": [
    "torch.manual_seed(42)\n",
    "model_1 = FashionMNISTModelV1(input_shape=784, # number of input features\n",
    "    hidden_units=10,\n",
    "    output_shape=len(class_names) # number of output classes desired\n",
    ").to(device) # send model to GPU if it's available\n",
    "next(model_1.parameters()).device # check model device"
   ]
  },
  {
   "cell_type": "code",
   "execution_count": 68,
   "id": "ef730bc5-2d55-49d8-ba9d-ac71004a023d",
   "metadata": {},
   "outputs": [],
   "source": [
    "from helper_functions import accuracy_fn\n",
    "loss_fn = nn.CrossEntropyLoss()\n",
    "optim = torch.optim.Adam(params=model_1.parameters(), lr=0.1)"
   ]
  },
  {
   "cell_type": "markdown",
   "id": "3f4b4dda-6bc2-4277-b80c-fea8e84ce783",
   "metadata": {},
   "source": [
    "### Creating a Function for Training and Testing loop"
   ]
  },
  {
   "cell_type": "code",
   "execution_count": 203,
   "id": "eff7d141-6fc3-4e10-98c7-2c3304e219f0",
   "metadata": {},
   "outputs": [],
   "source": [
    "def train_step(model: torch.nn.Module,\n",
    "               data_loader: torch.utils.data.DataLoader,\n",
    "               loss_fn: torch.nn.Module,\n",
    "               optimizer: torch.optim.Optimizer,\n",
    "               accuracy_fn,\n",
    "               device: torch.device = device):\n",
    "    train_loss, train_acc = 0, 0\n",
    "    model.to(device)\n",
    "    for batch, (X, y) in enumerate(data_loader):\n",
    "        # Send data to GPU\n",
    "        X, y = X.to(device), y.to(device)\n",
    "        \n",
    "\n",
    "        # 1. Forward pass\n",
    "        y_pred = model(X)\n",
    "\n",
    "        # 2. Calculate loss\n",
    "        loss = loss_fn(y_pred, y)\n",
    "        train_loss += loss\n",
    "        train_acc += accuracy_fn(y_true=y,\n",
    "                                 y_pred=y_pred.argmax(dim=1)) # Go from logits -> pred labels\n",
    "\n",
    "        # 3. Optimizer zero grad\n",
    "        optimizer.zero_grad()\n",
    "\n",
    "        # 4. Loss backward\n",
    "        loss.backward()\n",
    "\n",
    "        # 5. Optimizer step\n",
    "        optimizer.step()\n",
    "\n",
    "    # Calculate loss and accuracy per epoch and print out what's happening\n",
    "    train_loss /= len(data_loader)\n",
    "    train_acc /= len(data_loader)\n",
    "    print(f\"Train loss: {train_loss:.5f} | Train accuracy: {train_acc:.2f}%\")\n",
    "\n",
    "def test_step(data_loader: torch.utils.data.DataLoader,\n",
    "              model: torch.nn.Module,\n",
    "              loss_fn: torch.nn.Module,\n",
    "              accuracy_fn,\n",
    "              device: torch.device = device):\n",
    "    test_loss, test_acc = 0, 0\n",
    "    model.to(device)\n",
    "    model.eval() # put model in eval mode\n",
    "    # Turn on inference context manager\n",
    "    with torch.inference_mode(): \n",
    "        for X, y in data_loader:\n",
    "            # Send data to GPU\n",
    "            X, y = X.to(device), y.to(device)\n",
    "            \n",
    "            # 1. Forward pass\n",
    "            test_pred = model(X)\n",
    "            \n",
    "            # 2. Calculate loss and accuracy\n",
    "            test_loss += loss_fn(test_pred, y)\n",
    "            test_acc += accuracy_fn(y_true=y,\n",
    "                y_pred=test_pred.argmax(dim=1) # Go from logits -> pred labels\n",
    "            )\n",
    "        \n",
    "        # Adjust metrics and print out\n",
    "        test_loss /= len(data_loader)\n",
    "        test_acc /= len(data_loader)\n",
    "        print(f\"Test loss: {test_loss:.5f} | Test accuracy: {test_acc:.2f}%\\n\")\n",
    "\n"
   ]
  },
  {
   "cell_type": "code",
   "execution_count": null,
   "id": "6e07d2d1-965a-4974-8e39-7b3e73e64414",
   "metadata": {},
   "outputs": [],
   "source": []
  },
  {
   "cell_type": "code",
   "execution_count": 204,
   "id": "4f95b347-688a-49d1-ae3a-415b78d4614c",
   "metadata": {},
   "outputs": [
    {
     "data": {
      "text/plain": [
       "<function helper_functions.accuracy_fn(y_true, y_pred)>"
      ]
     },
     "execution_count": 204,
     "metadata": {},
     "output_type": "execute_result"
    }
   ],
   "source": [
    "accuracy_fn"
   ]
  },
  {
   "cell_type": "code",
   "execution_count": 205,
   "id": "9388eedb-8002-4123-86cf-68fe9bad2863",
   "metadata": {},
   "outputs": [
    {
     "name": "stderr",
     "output_type": "stream",
     "text": [
      "  0%|                                                     | 0/5 [00:00<?, ?it/s]"
     ]
    },
    {
     "name": "stdout",
     "output_type": "stream",
     "text": [
      "Epoch: 0\n",
      "---------\n",
      "Train loss: 2.30166 | Train accuracy: 11.31%\n"
     ]
    },
    {
     "name": "stderr",
     "output_type": "stream",
     "text": [
      " 20%|█████████                                    | 1/5 [00:03<00:15,  3.77s/it]"
     ]
    },
    {
     "name": "stdout",
     "output_type": "stream",
     "text": [
      "Test loss: 2.30211 | Test accuracy: 10.75%\n",
      "\n",
      "Epoch: 1\n",
      "---------\n",
      "Train loss: 2.30166 | Train accuracy: 11.31%\n"
     ]
    },
    {
     "name": "stderr",
     "output_type": "stream",
     "text": [
      " 40%|██████████████████                           | 2/5 [00:07<00:11,  3.68s/it]"
     ]
    },
    {
     "name": "stdout",
     "output_type": "stream",
     "text": [
      "Test loss: 2.30211 | Test accuracy: 10.75%\n",
      "\n",
      "Epoch: 2\n",
      "---------\n",
      "Train loss: 2.30166 | Train accuracy: 11.31%\n"
     ]
    },
    {
     "name": "stderr",
     "output_type": "stream",
     "text": [
      " 60%|███████████████████████████                  | 3/5 [00:11<00:07,  3.75s/it]"
     ]
    },
    {
     "name": "stdout",
     "output_type": "stream",
     "text": [
      "Test loss: 2.30211 | Test accuracy: 10.75%\n",
      "\n",
      "Epoch: 3\n",
      "---------\n",
      "Train loss: 2.30166 | Train accuracy: 11.31%\n"
     ]
    },
    {
     "name": "stderr",
     "output_type": "stream",
     "text": [
      " 80%|████████████████████████████████████         | 4/5 [00:14<00:03,  3.66s/it]"
     ]
    },
    {
     "name": "stdout",
     "output_type": "stream",
     "text": [
      "Test loss: 2.30211 | Test accuracy: 10.75%\n",
      "\n",
      "Epoch: 4\n",
      "---------\n",
      "Train loss: 2.30166 | Train accuracy: 11.31%\n"
     ]
    },
    {
     "name": "stderr",
     "output_type": "stream",
     "text": [
      "100%|█████████████████████████████████████████████| 5/5 [00:18<00:00,  3.74s/it]"
     ]
    },
    {
     "name": "stdout",
     "output_type": "stream",
     "text": [
      "Test loss: 2.30211 | Test accuracy: 10.75%\n",
      "\n",
      "Train Time on cuda: 18.687 seconds\n"
     ]
    },
    {
     "name": "stderr",
     "output_type": "stream",
     "text": [
      "\n"
     ]
    }
   ],
   "source": [
    "# Measure time\n",
    "from helper_functions import accuracy_fn\n",
    "from timeit import default_timer as timer\n",
    "train_time_start_on_gpu = timer()\n",
    "\n",
    "epochs = 5\n",
    "for epoch in tqdm(range(epochs)):\n",
    "    print(f\"Epoch: {epoch}\\n---------\")\n",
    "    train_step(data_loader=train_dataloader, \n",
    "        model=model_1, \n",
    "        loss_fn=loss_fn,\n",
    "        optimizer=optimizer,\n",
    "        accuracy_fn=accuracy_fn\n",
    "    )\n",
    "    test_step(data_loader=test_dataloader,\n",
    "        model=model_1,\n",
    "        loss_fn=loss_fn,\n",
    "        accuracy_fn=accuracy_fn\n",
    "    )\n",
    "\n",
    "train_time_end_on_gpu = timer()\n",
    "total_train_time_model_1 = print_train_time(start=train_time_start_on_gpu,\n",
    "                                            end=train_time_end_on_gpu,\n",
    "                                            device=device)\n",
    "\n"
   ]
  },
  {
   "cell_type": "code",
   "execution_count": 206,
   "id": "300fd914-71db-410a-8ac9-3452b3665c79",
   "metadata": {},
   "outputs": [
    {
     "data": {
      "text/plain": [
       "{'model_name': 'FashionMNISTModelV1',\n",
       " 'model_loss': 2.3021068572998047,\n",
       " 'model_acc': 10.75279552715655}"
      ]
     },
     "execution_count": 206,
     "metadata": {},
     "output_type": "execute_result"
    }
   ],
   "source": [
    "model_1_results = eval_model(model_1, test_dataloader,loss_fn, accuracy_fn)\n",
    "model_1_results"
   ]
  },
  {
   "cell_type": "markdown",
   "id": "ac31760a-5799-408f-b802-df6d17b4f177",
   "metadata": {},
   "source": [
    "## Building a CNN model\n",
    "\n",
    "### Also known ad ConvNets\n",
    "### CNN are known for their Capabilities to find pattern in visual data\n",
    "https://poloclub.github.io/cnn-explainer/"
   ]
  },
  {
   "cell_type": "code",
   "execution_count": 217,
   "id": "1ea5cfff-167b-4ad4-842c-72fbcc2c410e",
   "metadata": {},
   "outputs": [],
   "source": [
    "# create a convolutional neural network\n",
    "class FashionMNISTModelV2(nn.Module):\n",
    "    \"\"\"\n",
    "    Model Architecture that replicates the TinyVGG\n",
    "    \"\"\"\n",
    "    def __init__(self, input_shape: int, hidden_units: int, output_shape:int):\n",
    "        super().__init__()\n",
    "        self.conv_block_1 = nn.Sequential(\n",
    "            nn.Conv2d(\n",
    "                in_channels=input_shape,\n",
    "                out_channels=hidden_units,\n",
    "                kernel_size=3,\n",
    "                stride=1,\n",
    "                padding=1\n",
    "            ),\n",
    "            nn.ReLU(),\n",
    "            nn.Conv2d(\n",
    "                in_channels=hidden_units,\n",
    "                out_channels=hidden_units,\n",
    "                kernel_size=3,\n",
    "                stride=1,\n",
    "                padding=1\n",
    "            ),\n",
    "            nn.ReLU(),\n",
    "            nn.MaxPool2d(kernel_size=2)\n",
    "        )\n",
    "\n",
    "        self.conv_block_2 =nn.Sequential(\n",
    "            nn.Conv2d(\n",
    "                in_channels=hidden_units,\n",
    "                out_channels=hidden_units,\n",
    "                kernel_size=3,\n",
    "                stride=1,\n",
    "                padding=1\n",
    "            ),\n",
    "            nn.ReLU(),\n",
    "            nn.Conv2d(\n",
    "                in_channels=hidden_units,\n",
    "                out_channels=hidden_units,\n",
    "                kernel_size=3,\n",
    "                stride=1,\n",
    "                padding=1\n",
    "            ),\n",
    "            nn.ReLU(),\n",
    "            nn.MaxPool2d(kernel_size=2)\n",
    "        )\n",
    "        \n",
    "        # also called output_layer or classifier layer\n",
    "        self.classifier = nn.Sequential(\n",
    "            nn.Flatten(),\n",
    "            # there's a trick to calculate this in_features, \n",
    "            # print output shape of both conv block and put H W of last block in output layer\n",
    "            nn.Linear(in_features=hidden_units*7*7, \n",
    "                     out_features=output_shape)\n",
    "        )\n",
    "\n",
    "    def forward(self, x):\n",
    "        x = self.conv_block_1(x)\n",
    "        # print(f'Output shape of conv block 1: {x.shape}')\n",
    "        x = self.conv_block_2(x)\n",
    "        # print(f'Output shape of conv block 2: {x.shape}')\n",
    "        x = self.classifier(x)\n",
    "        # print(f'Output shape of classifier: {x.shape}')\n",
    "        return x"
   ]
  },
  {
   "cell_type": "code",
   "execution_count": 218,
   "id": "be1c1c3d-e828-430b-94ff-984e67535ad3",
   "metadata": {},
   "outputs": [],
   "source": [
    "torch.manual_seed(42)\n",
    "model_2 = FashionMNISTModelV2(\n",
    "    input_shape=1,\n",
    "    hidden_units=20,\n",
    "    output_shape=len(class_names)\n",
    "                    ).to(device)"
   ]
  },
  {
   "cell_type": "code",
   "execution_count": 219,
   "id": "0586275e-1058-427e-99f0-9d25d52515c1",
   "metadata": {},
   "outputs": [
    {
     "data": {
      "text/plain": [
       "tensor([[-0.0850, -0.0175, -0.0502,  0.0433, -0.0013,  0.0395, -0.0038, -0.0309,\n",
       "         -0.0619,  0.0125]], device='cuda:0', grad_fn=<AddmmBackward0>)"
      ]
     },
     "execution_count": 219,
     "metadata": {},
     "output_type": "execute_result"
    }
   ],
   "source": [
    "rand_image = torch.randn(size=(1,28,28)).to(device)\n",
    "model_2(rand_image.unsqueeze(0))\n",
    "# rand_image.unsqueeze(0).shape"
   ]
  },
  {
   "cell_type": "code",
   "execution_count": 220,
   "id": "9b01dd46-2671-4f85-baf0-c336310bfc15",
   "metadata": {},
   "outputs": [
    {
     "name": "stdout",
     "output_type": "stream",
     "text": [
      "Image Batch size: torch.Size([32, 3, 64, 64])\n",
      "Single Image size: torch.Size([3, 64, 64])\n",
      "Test Image: tensor([[[ 1.9269,  1.4873,  0.9007,  ...,  1.8446, -1.1845,  1.3835],\n",
      "         [ 1.4451,  0.8564,  2.2181,  ...,  0.3399,  0.7200,  0.4114],\n",
      "         [ 1.9312,  1.0119, -1.4364,  ..., -0.5558,  0.7043,  0.7099],\n",
      "         ...,\n",
      "         [-0.5610, -0.4830,  0.4770,  ..., -0.2713, -0.9537, -0.6737],\n",
      "         [ 0.3076, -0.1277,  0.0366,  ..., -2.0060,  0.2824, -0.8111],\n",
      "         [-1.5486,  0.0485, -0.7712,  ..., -0.1403,  0.9416, -0.0118]],\n",
      "\n",
      "        [[-0.5197,  1.8524,  1.8365,  ...,  0.8935, -1.5114, -0.8515],\n",
      "         [ 2.0818,  1.0677, -1.4277,  ...,  1.6612, -2.6223, -0.4319],\n",
      "         [-0.1010, -0.4388, -1.9775,  ...,  0.2106,  0.2536, -0.7318],\n",
      "         ...,\n",
      "         [ 0.2779,  0.7342, -0.3736,  ..., -0.4601,  0.1815,  0.1850],\n",
      "         [ 0.7205, -0.2833,  0.0937,  ..., -0.1002, -2.3609,  2.2465],\n",
      "         [-1.3242, -0.1973,  0.2920,  ...,  0.5409,  0.6940,  1.8563]],\n",
      "\n",
      "        [[-0.7978,  1.0261,  1.1465,  ...,  1.2134,  0.9354, -0.0780],\n",
      "         [-1.4647, -1.9571,  0.1017,  ..., -1.9986, -0.7409,  0.7011],\n",
      "         [-1.3938,  0.8466, -1.7191,  ..., -1.1867,  0.1320,  0.3407],\n",
      "         ...,\n",
      "         [ 0.8206, -0.3745,  1.2499,  ..., -0.0676,  0.0385,  0.6335],\n",
      "         [-0.5589, -0.3393,  0.2347,  ...,  2.1181,  2.4569,  1.3083],\n",
      "         [-0.4092,  1.5199,  0.2401,  ..., -0.2558,  0.7870,  0.9924]]])\n"
     ]
    }
   ],
   "source": [
    "torch.manual_seed(42)\n",
    "\n",
    "# create a batch of images\n",
    "images = torch.randn(size=(32,3,64,64))\n",
    "test_image = images[0]\n",
    "\n",
    "print(f'Image Batch size: {images.shape}')\n",
    "print(f'Single Image size: {test_image.shape}')\n",
    "print(f'Test Image: {test_image}')"
   ]
  },
  {
   "cell_type": "code",
   "execution_count": 221,
   "id": "618aa61e-2985-40b3-b3e4-55ba531fc01b",
   "metadata": {},
   "outputs": [
    {
     "data": {
      "text/plain": [
       "torch.Size([10, 64, 64])"
      ]
     },
     "execution_count": 221,
     "metadata": {},
     "output_type": "execute_result"
    }
   ],
   "source": [
    "# create a single Conv2d layer\n",
    "torch.manual_seed(42)\n",
    "conv_layer = nn.Conv2d(\n",
    "    in_channels=3,\n",
    "    out_channels=10,\n",
    "    kernel_size=(3,3),\n",
    "    stride=1,\n",
    "    padding=1\n",
    ")\n",
    "\n",
    "conv_output = conv_layer(test_image)\n",
    "conv_output.shape"
   ]
  },
  {
   "cell_type": "code",
   "execution_count": 222,
   "id": "c59f20af-cdfb-49a3-9848-6502d67f0e11",
   "metadata": {},
   "outputs": [
    {
     "data": {
      "text/plain": [
       "'2.5.1'"
      ]
     },
     "execution_count": 222,
     "metadata": {},
     "output_type": "execute_result"
    }
   ],
   "source": [
    "torch.__version__"
   ]
  },
  {
   "cell_type": "markdown",
   "id": "afbb9f81-8f35-47a0-9f52-9feb729d8c5f",
   "metadata": {},
   "source": [
    "### Stepping through `nn.MaxPool2d()`"
   ]
  },
  {
   "cell_type": "code",
   "execution_count": 223,
   "id": "eb2ea45c-5791-4caf-a891-d60d8b46a12c",
   "metadata": {},
   "outputs": [
    {
     "name": "stdout",
     "output_type": "stream",
     "text": [
      "Test Original shape: torch.Size([3, 64, 64])\n",
      "Test image unsqueezed shape: torch.Size([1, 3, 64, 64])\n",
      "Test image after going through Conv2d layer: torch.Size([10, 64, 64])\n",
      "Test image after going through Conv2d layer and max pool layer: torch.Size([10, 32, 32])\n"
     ]
    }
   ],
   "source": [
    "print(f'Test Original shape: {test_image.shape}')\n",
    "print(f'Test image unsqueezed shape: {test_image.unsqueeze(0).shape}')\n",
    "\n",
    "max_pool_layer = nn.MaxPool2d(kernel_size=2)\n",
    "\n",
    "test_image_through_conv = conv_layer(test_image)\n",
    "print(f'Test image after going through Conv2d layer: {test_image_through_conv.shape}')\n",
    "\n",
    "test_image_through_conv_max_pool = max_pool_layer(test_image_through_conv)\n",
    "print(f'Test image after going through Conv2d layer and max pool layer: {test_image_through_conv_max_pool.shape}')\n"
   ]
  },
  {
   "cell_type": "code",
   "execution_count": 224,
   "id": "b4892185-2b23-4ecf-b34b-dae416365818",
   "metadata": {},
   "outputs": [],
   "source": [
    "from helper_functions import accuracy_fn\n",
    "\n",
    "loss_fn = nn.CrossEntropyLoss()\n",
    "optim = torch.optim.SGD(params=model_2.parameters(), lr=0.1)"
   ]
  },
  {
   "cell_type": "code",
   "execution_count": 225,
   "id": "ed64fec3-575d-412e-83c1-ba310658e9e1",
   "metadata": {
    "scrolled": true
   },
   "outputs": [
    {
     "name": "stderr",
     "output_type": "stream",
     "text": [
      "  0%|                                                     | 0/5 [00:00<?, ?it/s]"
     ]
    },
    {
     "name": "stdout",
     "output_type": "stream",
     "text": [
      "-------Epoch: 0------\n",
      "\n",
      "Train loss: 0.53972 | Train accuracy: 80.25%\n"
     ]
    },
    {
     "name": "stderr",
     "output_type": "stream",
     "text": [
      " 20%|█████████                                    | 1/5 [00:04<00:19,  4.99s/it]"
     ]
    },
    {
     "name": "stdout",
     "output_type": "stream",
     "text": [
      "Test loss: 0.36287 | Test accuracy: 87.15%\n",
      "\n",
      "-------Epoch: 1------\n",
      "\n",
      "Train loss: 0.32884 | Train accuracy: 88.07%\n"
     ]
    },
    {
     "name": "stderr",
     "output_type": "stream",
     "text": [
      " 40%|██████████████████                           | 2/5 [00:09<00:14,  4.79s/it]"
     ]
    },
    {
     "name": "stdout",
     "output_type": "stream",
     "text": [
      "Test loss: 0.31468 | Test accuracy: 88.60%\n",
      "\n",
      "-------Epoch: 2------\n",
      "\n",
      "Train loss: 0.28941 | Train accuracy: 89.56%\n"
     ]
    },
    {
     "name": "stderr",
     "output_type": "stream",
     "text": [
      " 60%|███████████████████████████                  | 3/5 [00:14<00:09,  4.88s/it]"
     ]
    },
    {
     "name": "stdout",
     "output_type": "stream",
     "text": [
      "Test loss: 0.29375 | Test accuracy: 89.59%\n",
      "\n",
      "-------Epoch: 3------\n",
      "\n",
      "Train loss: 0.26693 | Train accuracy: 90.51%\n"
     ]
    },
    {
     "name": "stderr",
     "output_type": "stream",
     "text": [
      " 80%|████████████████████████████████████         | 4/5 [00:19<00:04,  4.87s/it]"
     ]
    },
    {
     "name": "stdout",
     "output_type": "stream",
     "text": [
      "Test loss: 0.29592 | Test accuracy: 89.35%\n",
      "\n",
      "-------Epoch: 4------\n",
      "\n",
      "Train loss: 0.25159 | Train accuracy: 90.88%\n"
     ]
    },
    {
     "name": "stderr",
     "output_type": "stream",
     "text": [
      "100%|█████████████████████████████████████████████| 5/5 [00:24<00:00,  4.85s/it]"
     ]
    },
    {
     "name": "stdout",
     "output_type": "stream",
     "text": [
      "Test loss: 0.27271 | Test accuracy: 90.21%\n",
      "\n",
      "Train Time on cuda: 24.249 seconds\n"
     ]
    },
    {
     "name": "stderr",
     "output_type": "stream",
     "text": [
      "\n"
     ]
    }
   ],
   "source": [
    "torch.manual_seed(42)\n",
    "torch.cuda.manual_seed(42)\n",
    "\n",
    "from timeit import default_timer as timer\n",
    "start_time = timer()\n",
    "\n",
    "epochs = 5\n",
    "for epoch in tqdm(range(epochs)):\n",
    "    print(f'-------Epoch: {epoch}------\\n')\n",
    "    train_step(model=model_2,\n",
    "              data_loader=train_dataloader,\n",
    "              loss_fn=loss_fn,\n",
    "               optimizer=optim,\n",
    "              accuracy_fn=accuracy_fn,\n",
    "              device=device)\n",
    "\n",
    "    test_step(model=model_2,\n",
    "             data_loader=test_dataloader,\n",
    "             loss_fn=loss_fn,\n",
    "             accuracy_fn=accuracy_fn,\n",
    "             device=device)\n",
    "\n",
    "end_time = timer()\n",
    "total_train_time_model_2 = print_train_time(start_time, end_time, device=device)"
   ]
  },
  {
   "cell_type": "code",
   "execution_count": 226,
   "id": "42b52289-74c5-4304-9171-f2c42724adb6",
   "metadata": {},
   "outputs": [],
   "source": [
    "model_2_results = eval_model(\n",
    "    model=model_2,\n",
    "    data_loader=test_dataloader,\n",
    "    loss_fn=loss_fn,\n",
    "    accuracy_fn=accuracy_fn,\n",
    "    device=device\n",
    ")"
   ]
  },
  {
   "cell_type": "code",
   "execution_count": 227,
   "id": "3b3f0869-7a88-4204-9509-ed0c7b401783",
   "metadata": {},
   "outputs": [
    {
     "data": {
      "text/plain": [
       "{'model_name': 'FashionMNISTModelV2',\n",
       " 'model_loss': 0.2727096974849701,\n",
       " 'model_acc': 90.20567092651757}"
      ]
     },
     "execution_count": 227,
     "metadata": {},
     "output_type": "execute_result"
    }
   ],
   "source": [
    "model_2_results"
   ]
  },
  {
   "cell_type": "code",
   "execution_count": 88,
   "id": "f8a8a33d-ed1a-492b-a7ff-47da563cb3b9",
   "metadata": {},
   "outputs": [
    {
     "data": {
      "text/plain": [
       "{'model_name': 'FashionMNISTModelV0',\n",
       " 'model_loss': 0.47885861992836,\n",
       " 'model_acc': 83.52635782747603}"
      ]
     },
     "execution_count": 88,
     "metadata": {},
     "output_type": "execute_result"
    }
   ],
   "source": [
    "model_0_results"
   ]
  },
  {
   "cell_type": "code",
   "execution_count": 228,
   "id": "249b2246-d11b-4b60-af1f-0bfad83fa9a2",
   "metadata": {},
   "outputs": [
    {
     "data": {
      "text/html": [
       "<div>\n",
       "<style scoped>\n",
       "    .dataframe tbody tr th:only-of-type {\n",
       "        vertical-align: middle;\n",
       "    }\n",
       "\n",
       "    .dataframe tbody tr th {\n",
       "        vertical-align: top;\n",
       "    }\n",
       "\n",
       "    .dataframe thead th {\n",
       "        text-align: right;\n",
       "    }\n",
       "</style>\n",
       "<table border=\"1\" class=\"dataframe\">\n",
       "  <thead>\n",
       "    <tr style=\"text-align: right;\">\n",
       "      <th></th>\n",
       "      <th>model_name</th>\n",
       "      <th>model_loss</th>\n",
       "      <th>model_acc</th>\n",
       "    </tr>\n",
       "  </thead>\n",
       "  <tbody>\n",
       "    <tr>\n",
       "      <th>0</th>\n",
       "      <td>FashionMNISTModelV0</td>\n",
       "      <td>0.478859</td>\n",
       "      <td>83.526358</td>\n",
       "    </tr>\n",
       "    <tr>\n",
       "      <th>1</th>\n",
       "      <td>FashionMNISTModelV1</td>\n",
       "      <td>2.302107</td>\n",
       "      <td>10.752796</td>\n",
       "    </tr>\n",
       "    <tr>\n",
       "      <th>2</th>\n",
       "      <td>FashionMNISTModelV2</td>\n",
       "      <td>0.272710</td>\n",
       "      <td>90.205671</td>\n",
       "    </tr>\n",
       "  </tbody>\n",
       "</table>\n",
       "</div>"
      ],
      "text/plain": [
       "            model_name  model_loss  model_acc\n",
       "0  FashionMNISTModelV0    0.478859  83.526358\n",
       "1  FashionMNISTModelV1    2.302107  10.752796\n",
       "2  FashionMNISTModelV2    0.272710  90.205671"
      ]
     },
     "execution_count": 228,
     "metadata": {},
     "output_type": "execute_result"
    }
   ],
   "source": [
    "import pandas as pd\n",
    "compare_results =  pd.DataFrame(\n",
    "    [model_0_results, model_1_results, model_2_results]\n",
    ")\n",
    "\n",
    "compare_results"
   ]
  },
  {
   "cell_type": "code",
   "execution_count": 229,
   "id": "383326ec-8b4d-48dc-bf5d-8e9c4b40093e",
   "metadata": {},
   "outputs": [
    {
     "data": {
      "text/html": [
       "<div>\n",
       "<style scoped>\n",
       "    .dataframe tbody tr th:only-of-type {\n",
       "        vertical-align: middle;\n",
       "    }\n",
       "\n",
       "    .dataframe tbody tr th {\n",
       "        vertical-align: top;\n",
       "    }\n",
       "\n",
       "    .dataframe thead th {\n",
       "        text-align: right;\n",
       "    }\n",
       "</style>\n",
       "<table border=\"1\" class=\"dataframe\">\n",
       "  <thead>\n",
       "    <tr style=\"text-align: right;\">\n",
       "      <th></th>\n",
       "      <th>model_name</th>\n",
       "      <th>model_loss</th>\n",
       "      <th>model_acc</th>\n",
       "      <th>training_time</th>\n",
       "    </tr>\n",
       "  </thead>\n",
       "  <tbody>\n",
       "    <tr>\n",
       "      <th>0</th>\n",
       "      <td>FashionMNISTModelV0</td>\n",
       "      <td>0.478859</td>\n",
       "      <td>83.526358</td>\n",
       "      <td>21.341236</td>\n",
       "    </tr>\n",
       "    <tr>\n",
       "      <th>1</th>\n",
       "      <td>FashionMNISTModelV1</td>\n",
       "      <td>2.302107</td>\n",
       "      <td>10.752796</td>\n",
       "      <td>18.687231</td>\n",
       "    </tr>\n",
       "    <tr>\n",
       "      <th>2</th>\n",
       "      <td>FashionMNISTModelV2</td>\n",
       "      <td>0.272710</td>\n",
       "      <td>90.205671</td>\n",
       "      <td>24.248846</td>\n",
       "    </tr>\n",
       "  </tbody>\n",
       "</table>\n",
       "</div>"
      ],
      "text/plain": [
       "            model_name  model_loss  model_acc  training_time\n",
       "0  FashionMNISTModelV0    0.478859  83.526358      21.341236\n",
       "1  FashionMNISTModelV1    2.302107  10.752796      18.687231\n",
       "2  FashionMNISTModelV2    0.272710  90.205671      24.248846"
      ]
     },
     "execution_count": 229,
     "metadata": {},
     "output_type": "execute_result"
    }
   ],
   "source": [
    "# Add training time to result comparison\n",
    "\n",
    "compare_results[\"training_time\"] = [total_time_model_0,\n",
    "                                   total_train_time_model_1,\n",
    "                                   total_train_time_model_2]\n",
    "compare_results"
   ]
  },
  {
   "cell_type": "code",
   "execution_count": 230,
   "id": "4f849722-53fb-43d0-9008-b8183f6a5c8f",
   "metadata": {},
   "outputs": [
    {
     "data": {
      "text/plain": [
       "Text(0, 0.5, 'model')"
      ]
     },
     "execution_count": 230,
     "metadata": {},
     "output_type": "execute_result"
    },
    {
     "data": {
      "image/png": "[encoded data removed]",
      "text/plain": [
       "<Figure size 640x480 with 1 Axes>"
      ]
     },
     "metadata": {},
     "output_type": "display_data"
    }
   ],
   "source": [
    "# Visulaize our model results\n",
    "compare_results.set_index(\"model_name\")[\"model_acc\"].plot(kind='barh')\n",
    "plt.xlabel('accuracy (%)')\n",
    "plt.ylabel('model')"
   ]
  },
  {
   "cell_type": "markdown",
   "id": "e1cf7d28-aa9d-49d2-8ca2-509a6ca3c791",
   "metadata": {},
   "source": [
    "## Make and Evalate random predictions with best model"
   ]
  },
  {
   "cell_type": "code",
   "execution_count": 231,
   "id": "d71f26e0-c5d4-4ce1-a397-b087d2c9aa05",
   "metadata": {},
   "outputs": [],
   "source": [
    "def make_prediction(model: torch.nn.Module,\n",
    "                   data: list,\n",
    "                   device:torch.device = device):\n",
    "    pred_probs = []\n",
    "    model.eval()\n",
    "    with torch.inference_mode():\n",
    "        for sample in data:\n",
    "            sample = torch.unsqueeze(sample, dim=0).to(device)\n",
    "\n",
    "            pred_logits = model(sample)\n",
    "\n",
    "            pred_prob = torch.softmax(pred_logits.squeeze(), dim=0)\n",
    "\n",
    "            # gets pred_probs to cpu to calculate for matplotlib\n",
    "            pred_probs.append(pred_prob.cpu())\n",
    "\n",
    "    return torch.stack(pred_probs)"
   ]
  },
  {
   "cell_type": "code",
   "execution_count": 232,
   "id": "c5eddfd3-de4a-4555-b86c-1524d9a8c0ee",
   "metadata": {},
   "outputs": [
    {
     "data": {
      "text/plain": [
       "(torch.Size([1, 28, 28]), 9)"
      ]
     },
     "execution_count": 232,
     "metadata": {},
     "output_type": "execute_result"
    }
   ],
   "source": [
    "img, labels = test_data[0][:10]\n",
    "img.shape, labels"
   ]
  },
  {
   "cell_type": "code",
   "execution_count": 233,
   "id": "8bdef22d-ec1c-42bc-abed-d3e37a15f525",
   "metadata": {},
   "outputs": [
    {
     "data": {
      "text/plain": [
       "torch.Size([1, 28, 28])"
      ]
     },
     "execution_count": 233,
     "metadata": {},
     "output_type": "execute_result"
    }
   ],
   "source": [
    "import random\n",
    "# random.seed(42)\n",
    "test_samples = []\n",
    "test_labels = []\n",
    "for sample, label in random.sample(list(test_data), k=9):\n",
    "    test_samples.append(sample)\n",
    "    test_labels.append(label)\n",
    "\n",
    "test_samples[0].shape"
   ]
  },
  {
   "cell_type": "code",
   "execution_count": 234,
   "id": "bc7c165b-8ff2-40c5-9d53-14b6af5d1cd3",
   "metadata": {},
   "outputs": [
    {
     "data": {
      "text/plain": [
       "Text(0.5, 1.0, 'Ankle boot')"
      ]
     },
     "execution_count": 234,
     "metadata": {},
     "output_type": "execute_result"
    },
    {
     "data": {
      "image/png": "[encoded data removed]",
      "text/plain": [
       "<Figure size 640x480 with 1 Axes>"
      ]
     },
     "metadata": {},
     "output_type": "display_data"
    }
   ],
   "source": [
    "plt.imshow(test_samples[0].squeeze(), cmap='gray')\n",
    "plt.title(class_names[test_labels[0]])"
   ]
  },
  {
   "cell_type": "code",
   "execution_count": 235,
   "id": "3e0de7a4-4d19-465f-a2da-4995fa56b40f",
   "metadata": {},
   "outputs": [
    {
     "data": {
      "text/plain": [
       "tensor([[5.4109e-08, 2.2030e-09, 1.7575e-08, 2.1911e-08, 2.7594e-08, 8.6103e-04,\n",
       "         3.1698e-07, 1.1193e-06, 1.3705e-05, 9.9912e-01],\n",
       "        [7.1801e-06, 3.4656e-06, 2.8113e-04, 1.3050e-07, 9.9949e-01, 3.2400e-08,\n",
       "         2.0753e-04, 8.0055e-09, 9.8757e-06, 1.2064e-06]])"
      ]
     },
     "execution_count": 235,
     "metadata": {},
     "output_type": "execute_result"
    }
   ],
   "source": [
    "# Make predictions\n",
    "pred_probs = make_prediction(model_2, data=test_samples)\n",
    "\n",
    "# viee first two prediction probabilities\n",
    "pred_probs[:2]"
   ]
  },
  {
   "cell_type": "code",
   "execution_count": 236,
   "id": "62fac62e-c22e-41da-b986-9178f354a8d6",
   "metadata": {},
   "outputs": [
    {
     "data": {
      "text/plain": [
       "tensor([9, 4, 2, 9, 7, 0, 4, 0, 5])"
      ]
     },
     "execution_count": 236,
     "metadata": {},
     "output_type": "execute_result"
    }
   ],
   "source": [
    "# convert prediction probability to labels\n",
    "pred_classes = pred_probs.argmax(dim=1)\n",
    "pred_classes"
   ]
  },
  {
   "cell_type": "code",
   "execution_count": 237,
   "id": "3735601a-7337-483d-91c7-660b46c328b8",
   "metadata": {},
   "outputs": [
    {
     "data": {
      "text/plain": [
       "[9, 4, 2, 9, 7, 6, 4, 0, 5]"
      ]
     },
     "execution_count": 237,
     "metadata": {},
     "output_type": "execute_result"
    }
   ],
   "source": [
    "test_labels"
   ]
  },
  {
   "cell_type": "code",
   "execution_count": 238,
   "id": "0a76e7f0-57ed-417c-a2f7-62d40a7a91fc",
   "metadata": {},
   "outputs": [
    {
     "data": {
      "image/png": "[encoded data removed]",
      "text/plain": [
       "<Figure size 900x900 with 9 Axes>"
      ]
     },
     "metadata": {},
     "output_type": "display_data"
    }
   ],
   "source": [
    "# Plot Predictions\n",
    "plt.figure(figsize=(9,9))\n",
    "n_rows = 3\n",
    "n_cols = 3\n",
    "for i, sample in enumerate(test_samples):\n",
    "    plt.subplot(n_rows, n_cols, i+1)\n",
    "    plt.imshow(sample.squeeze(), cmap='gray')\n",
    "    pred_label = class_names[pred_classes[i]]\n",
    "    truth_label = class_names[test_labels[i]]\n",
    "    \n",
    "    title_text = f'Pred: {pred_label} | Truth: {truth_label} '\n",
    "    if pred_label == truth_label:\n",
    "        plt.title(title_text, fontsize=10, c='g')\n",
    "    else:\n",
    "        plt.title(title_text, fontsize=10, c='r')\n",
    "\n",
    "    plt.axis(False)"
   ]
  },
  {
   "attachments": {},
   "cell_type": "markdown",
   "id": "3b68fafa-092b-4b9f-820b-13d893011776",
   "metadata": {},
   "source": [
    "## Making a Confusion Matrix for further evaluation\n",
    "\n",
    "### mlxtend and torchmetrics are popular libraries for visualisation and evaluation of model resp"
   ]
  },
  {
   "cell_type": "code",
   "execution_count": 239,
   "id": "debc6746-676a-472c-ad59-9af7afdc8d37",
   "metadata": {},
   "outputs": [
    {
     "name": "stderr",
     "output_type": "stream",
     "text": [
      "making predictions...: 100%|█████████████████| 313/313 [00:00<00:00, 658.70it/s]\n"
     ]
    },
    {
     "data": {
      "text/plain": [
       "tensor([9, 2, 1, 1, 6, 1, 4, 6, 5, 7])"
      ]
     },
     "execution_count": 239,
     "metadata": {},
     "output_type": "execute_result"
    }
   ],
   "source": [
    "from tqdm.auto import tqdm\n",
    "\n",
    "y_preds = []\n",
    "model_2.eval()\n",
    "with torch.inference_mode():\n",
    "    for X, y in tqdm(test_dataloader, desc=\"making predictions...\"):\n",
    "        X,y = X.to(device), y.to(device)\n",
    "        y_logits = model_2(X)\n",
    "        y_pred = torch.softmax(y_logits.squeeze(), dim=0).argmax(dim=1)\n",
    "        y_preds.append(y_pred.cpu())\n",
    "\n",
    "# print(y_preds)\n",
    "y_pred_tensor = torch.cat(y_preds)\n",
    "y_pred_tensor[:10]"
   ]
  },
  {
   "cell_type": "code",
   "execution_count": 240,
   "id": "35d68279-f9dd-4b1f-9b61-c8ba963d8965",
   "metadata": {},
   "outputs": [
    {
     "data": {
      "text/plain": [
       "10000"
      ]
     },
     "execution_count": 240,
     "metadata": {},
     "output_type": "execute_result"
    }
   ],
   "source": [
    "len(y_pred_tensor)"
   ]
  },
  {
   "cell_type": "code",
   "execution_count": 241,
   "id": "3f7e6295-8112-400f-ac70-3d65223d3f20",
   "metadata": {},
   "outputs": [
    {
     "data": {
      "text/plain": [
       "10000"
      ]
     },
     "execution_count": 241,
     "metadata": {},
     "output_type": "execute_result"
    }
   ],
   "source": [
    "len(test_data.targets)"
   ]
  },
  {
   "cell_type": "markdown",
   "id": "52da621c-f8d9-47d5-9f49-456f67abdb71",
   "metadata": {},
   "source": [
    "## Plotting a Confusion Matrix"
   ]
  },
  {
   "cell_type": "code",
   "execution_count": 242,
   "id": "a7ed9a48-e2d3-485b-86d1-1a659da1ff8b",
   "metadata": {},
   "outputs": [
    {
     "name": "stdout",
     "output_type": "stream",
     "text": [
      "mlxtend version: 0.23.4\n"
     ]
    }
   ],
   "source": [
    "conda_env = 'pytorch_env'\n",
    "try:\n",
    "    import torchmetrics, mlxtend\n",
    "    print(f'mlxtend version: {mlxtend.__version__}')\n",
    "    assert int(mlxtend.__version__.split(\".\")[1]) >= 23, \"mlxtend version should be 0.23.0 or higher\"\n",
    "except:\n",
    "    !conda activate conda_env\n",
    "    !conda install -c conda-forge torchmetrics\n",
    "    !conda install -c conda-forge mlxtend\n",
    "    import torchmetrics, mlxtend\n",
    "    print(f'mlxtend version: {mlxtend.__version__}')\n",
    "    "
   ]
  },
  {
   "cell_type": "code",
   "execution_count": 243,
   "id": "b3e009c2-b008-4d22-a5b8-ac4e09fa8d8d",
   "metadata": {},
   "outputs": [
    {
     "data": {
      "image/png": "[encoded data removed]",
      "text/plain": [
       "<Figure size 1000x700 with 1 Axes>"
      ]
     },
     "metadata": {},
     "output_type": "display_data"
    }
   ],
   "source": [
    "from torchmetrics import ConfusionMatrix\n",
    "from mlxtend.plotting import plot_confusion_matrix\n",
    "\n",
    "# setup confusion matrix instance\n",
    "confmat = ConfusionMatrix(\n",
    "    task=\"multiclass\",\n",
    "    num_classes=len(class_names)\n",
    ")\n",
    "\n",
    "confmat_tensor = confmat(preds=y_pred_tensor, \n",
    "                         target=test_data.targets)\n",
    "\n",
    "fig, ax = plot_confusion_matrix(\n",
    "    conf_mat=confmat_tensor.numpy(),\n",
    "    class_names=class_names,\n",
    "    figsize=(10,7)\n",
    ")"
   ]
  },
  {
   "cell_type": "code",
   "execution_count": 244,
   "id": "d69dea6f-20bd-47d1-a89f-df862aa8259c",
   "metadata": {},
   "outputs": [
    {
     "data": {
      "text/plain": [
       "tensor([[675,   6,  23,  44,   7,   0, 241,   0,   4,   0],\n",
       "        [ 17, 895,   2,  74,   5,   1,   5,   0,   1,   0],\n",
       "        [ 13,   3, 811,  15,  96,   0,  59,   0,   3,   0],\n",
       "        [ 36,   5,  14, 857,  27,   0,  59,   0,   2,   0],\n",
       "        [  4,   5,  87,  52, 766,   0,  80,   0,   5,   1],\n",
       "        [ 16,   1,   0,   5,   1, 803,   9,  57,  85,  23],\n",
       "        [ 79,   5,  92,  44,  84,   0, 689,   0,   7,   0],\n",
       "        [  1,   0,   0,   0,   0,  22,   0, 933,  11,  33],\n",
       "        [ 11,   3,   8,  12,  14,   3,  26,   5, 916,   2],\n",
       "        [  5,   1,   0,   7,   0,  21,   8, 120,  10, 828]])"
      ]
     },
     "execution_count": 244,
     "metadata": {},
     "output_type": "execute_result"
    }
   ],
   "source": [
    "confmat_tensor"
   ]
  },
  {
   "cell_type": "markdown",
   "id": "7a0b892d-effa-48e2-ba7e-95b4677114af",
   "metadata": {},
   "source": [
    "## Saving & Load our best model"
   ]
  },
  {
   "cell_type": "code",
   "execution_count": 245,
   "id": "887c1cfd-d0e5-47e2-b711-52332b469a52",
   "metadata": {},
   "outputs": [
    {
     "name": "stdout",
     "output_type": "stream",
     "text": [
      "Saving model to: models/03_pytorch_cv_model_3.pth\n"
     ]
    }
   ],
   "source": [
    "from pathlib import Path\n",
    "\n",
    "# create model path\n",
    "MODEL_PATH = Path('models')\n",
    "MODEL_PATH.mkdir(parents=True, exist_ok=True)\n",
    "\n",
    "# create model name\n",
    "MODEL_NAME = '03_pytorch_cv_model_3.pth'\n",
    "MODEL_SAVE_PATH = MODEL_PATH / MODEL_NAME\n",
    "\n",
    "# save model state_dict\n",
    "print(f'Saving model to: {MODEL_SAVE_PATH}')\n",
    "torch.save(\n",
    "    obj=model_2.state_dict(),\n",
    "    f=MODEL_SAVE_PATH)"
   ]
  },
  {
   "cell_type": "code",
   "execution_count": 251,
   "id": "179630da-2eca-480d-b194-f21f32f5b22a",
   "metadata": {},
   "outputs": [],
   "source": [
    "image_shape = [1, 28, 28]"
   ]
  },
  {
   "cell_type": "code",
   "execution_count": 253,
   "id": "05ac0d7f-ccb6-41c9-952d-158885f639a3",
   "metadata": {
    "scrolled": true
   },
   "outputs": [
    {
     "name": "stderr",
     "output_type": "stream",
     "text": [
      "/tmp/ipykernel_9296/3173504275.py:9: FutureWarning: You are using `torch.load` with `weights_only=False` (the current default value), which uses the default pickle module implicitly. It is possible to construct malicious pickle data which will execute arbitrary code during unpickling (See https://github.com/pytorch/pytorch/blob/main/SECURITY.md#untrusted-models for more details). In a future release, the default value for `weights_only` will be flipped to `True`. This limits the functions that could be executed during unpickling. Arbitrary objects will no longer be allowed to be loaded via this mode unless they are explicitly allowlisted by the user via `torch.serialization.add_safe_globals`. We recommend you start setting `weights_only=True` for any use case where you don't have full control of the loaded file. Please open an issue on GitHub for any issues related to this experimental feature.\n",
      "  loaded_model_2.load_state_dict(torch.load(f=MODEL_SAVE_PATH))\n"
     ]
    },
    {
     "data": {
      "text/plain": [
       "FashionMNISTModelV2(\n",
       "  (conv_block_1): Sequential(\n",
       "    (0): Conv2d(1, 20, kernel_size=(3, 3), stride=(1, 1), padding=(1, 1))\n",
       "    (1): ReLU()\n",
       "    (2): Conv2d(20, 20, kernel_size=(3, 3), stride=(1, 1), padding=(1, 1))\n",
       "    (3): ReLU()\n",
       "    (4): MaxPool2d(kernel_size=2, stride=2, padding=0, dilation=1, ceil_mode=False)\n",
       "  )\n",
       "  (conv_block_2): Sequential(\n",
       "    (0): Conv2d(20, 20, kernel_size=(3, 3), stride=(1, 1), padding=(1, 1))\n",
       "    (1): ReLU()\n",
       "    (2): Conv2d(20, 20, kernel_size=(3, 3), stride=(1, 1), padding=(1, 1))\n",
       "    (3): ReLU()\n",
       "    (4): MaxPool2d(kernel_size=2, stride=2, padding=0, dilation=1, ceil_mode=False)\n",
       "  )\n",
       "  (classifier): Sequential(\n",
       "    (0): Flatten(start_dim=1, end_dim=-1)\n",
       "    (1): Linear(in_features=980, out_features=10, bias=True)\n",
       "  )\n",
       ")"
      ]
     },
     "execution_count": 253,
     "metadata": {},
     "output_type": "execute_result"
    }
   ],
   "source": [
    "# create nwe instance of model_3\n",
    "torch.manual_seed(42)\n",
    "\n",
    "loaded_model_2 = FashionMNISTModelV2(input_shape=1,\n",
    "                                    hidden_units=20,\n",
    "                                    output_shape=len(class_names))\n",
    "\n",
    "# load in the save dicts\n",
    "loaded_model_2.load_state_dict(torch.load(f=MODEL_SAVE_PATH))\n",
    "\n",
    "# sent the model to target device\n",
    "loaded_model_2.to(device)"
   ]
  },
  {
   "cell_type": "code",
   "execution_count": 254,
   "id": "9b0e1490-f739-4b9d-8d73-09818547877f",
   "metadata": {},
   "outputs": [
    {
     "data": {
      "text/plain": [
       "{'model_name': 'FashionMNISTModelV2',\n",
       " 'model_loss': 0.2727096974849701,\n",
       " 'model_acc': 90.20567092651757}"
      ]
     },
     "execution_count": 254,
     "metadata": {},
     "output_type": "execute_result"
    }
   ],
   "source": [
    "model_2_results"
   ]
  },
  {
   "cell_type": "code",
   "execution_count": 256,
   "id": "da03358d-3301-4f7a-92d0-d11bf1901e6a",
   "metadata": {},
   "outputs": [],
   "source": [
    "# Evaluate loaded model\n",
    "torch.manual_seed(42)\n",
    "loaded_model_2_result = eval_model(\n",
    "    model=loaded_model_2,\n",
    "    data_loader=test_dataloader,\n",
    "    loss_fn=loss_fn,\n",
    "    accuracy_fn=accuracy_fn,\n",
    "    device=device)"
   ]
  },
  {
   "cell_type": "code",
   "execution_count": 257,
   "id": "0dd1d4a8-d68e-403c-ac97-4ea38ed26834",
   "metadata": {},
   "outputs": [
    {
     "data": {
      "text/plain": [
       "{'model_name': 'FashionMNISTModelV2',\n",
       " 'model_loss': 0.2727096974849701,\n",
       " 'model_acc': 90.20567092651757}"
      ]
     },
     "execution_count": 257,
     "metadata": {},
     "output_type": "execute_result"
    }
   ],
   "source": [
    "loaded_model_2_result"
   ]
  },
  {
   "cell_type": "code",
   "execution_count": 258,
   "id": "9e1c0eb5-ef4a-4bff-9467-ecd88be5407e",
   "metadata": {},
   "outputs": [
    {
     "data": {
      "text/plain": [
       "tensor(True)"
      ]
     },
     "execution_count": 258,
     "metadata": {},
     "output_type": "execute_result"
    }
   ],
   "source": [
    "# check if model results are close to each other\n",
    "torch.isclose(torch.tensor(model_2_results[\"model_loss\"]),\n",
    "             torch.tensor(loaded_model_2_result[\"model_loss\"]),\n",
    "             atol=1e-02)"
   ]
  },
  {
   "cell_type": "code",
   "execution_count": 260,
   "id": "76f4179d-72f4-4ee8-9b02-d0dd1641c2e3",
   "metadata": {},
   "outputs": [
    {
     "data": {
      "text/plain": [
       "tensor(False)"
      ]
     },
     "execution_count": 260,
     "metadata": {},
     "output_type": "execute_result"
    }
   ],
   "source": [
    "# check if model results are close to each other\n",
    "torch.isclose(torch.tensor(model_1_results[\"model_loss\"]), #\n",
    "             torch.tensor(loaded_model_2_result[\"model_loss\"]),\n",
    "             atol=1e-02)"
   ]
  },
  {
   "cell_type": "code",
   "execution_count": null,
   "id": "70ffb4eb-c697-486a-bb9f-6da52d739116",
   "metadata": {},
   "outputs": [],
   "source": []
  }
 ],
 "metadata": {
  "kernelspec": {
   "display_name": "Python 3 (ipykernel)",
   "language": "python",
   "name": "python3"
  },
  "language_info": {
   "codemirror_mode": {
    "name": "ipython",
    "version": 3
   },
   "file_extension": ".py",
   "mimetype": "text/x-python",
   "name": "python",
   "nbconvert_exporter": "python",
   "pygments_lexer": "ipython3",
   "version": "3.12.2"
  }
 },
 "nbformat": 4,
 "nbformat_minor": 5
}
