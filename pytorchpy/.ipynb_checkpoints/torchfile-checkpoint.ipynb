{
 "cells": [
  {
   "cell_type": "code",
   "execution_count": 1,
   "id": "75594e95-7e01-499b-86f9-e8c2aab8419d",
   "metadata": {},
   "outputs": [],
   "source": [
    "import torch"
   ]
  },
  {
   "cell_type": "code",
   "execution_count": 2,
   "id": "a51e6dd8-03de-403b-8ef8-7c69f8ae7f8c",
   "metadata": {},
   "outputs": [],
   "source": [
    "t1 = torch.tensor(11)\n",
    "t2 = torch.tensor([1,2])\n",
    "t3 = torch.tensor([[1,1,3],[2,2,6]])"
   ]
  },
  {
   "cell_type": "code",
   "execution_count": 3,
   "id": "18fe121f-7558-4d22-bbfa-997ab708f231",
   "metadata": {},
   "outputs": [
    {
     "name": "stdout",
     "output_type": "stream",
     "text": [
      "torch.int64\n",
      "torch.Size([])\n",
      "cpu\n"
     ]
    }
   ],
   "source": [
    "print(t1.dtype)\n",
    "print(t1.shape)\n",
    "print(t1.device)"
   ]
  },
  {
   "cell_type": "code",
   "execution_count": 4,
   "id": "6e668294-a60a-457f-974f-bcb59db2686b",
   "metadata": {},
   "outputs": [],
   "source": [
    "t4 = torch.tensor([[15.0,5.0],[11,0]])"
   ]
  },
  {
   "cell_type": "code",
   "execution_count": 5,
   "id": "3e5f93ff-0955-4073-89cd-76267f3d909d",
   "metadata": {},
   "outputs": [
    {
     "data": {
      "text/plain": [
       "tensor([[True, True],\n",
       "        [True, True]])"
      ]
     },
     "execution_count": 5,
     "metadata": {},
     "output_type": "execute_result"
    }
   ],
   "source": [
    "# Scalar multiply or scalar operation\n",
    "\n",
    "t4*10 == t4.multiply(10)\n",
    "\n",
    "t4-11 == t4.subtract(11)"
   ]
  },
  {
   "cell_type": "code",
   "execution_count": 6,
   "id": "bed68d21-07ff-4e65-af86-c86378441a36",
   "metadata": {},
   "outputs": [
    {
     "data": {
      "text/plain": [
       "tensor([[1, 1],\n",
       "        [2, 2]])"
      ]
     },
     "execution_count": 6,
     "metadata": {},
     "output_type": "execute_result"
    }
   ],
   "source": [
    "# dot product or matrix multiplication\n",
    "t5 = torch.tensor([[1,2],[1,2]])\n",
    "t5.T # -> tensor transpose"
   ]
  },
  {
   "cell_type": "code",
   "execution_count": 7,
   "id": "a48b82f3-b0ee-41b2-92ca-079fc18ca7f0",
   "metadata": {},
   "outputs": [
    {
     "data": {
      "text/plain": [
       "tensor([[1, 4],\n",
       "        [1, 4]])"
      ]
     },
     "execution_count": 7,
     "metadata": {},
     "output_type": "execute_result"
    }
   ],
   "source": [
    "t5 * t5 # element-wise multiplication"
   ]
  },
  {
   "cell_type": "code",
   "execution_count": 8,
   "id": "df0a0e0d-9ca1-4dc6-a629-d6c1e4011677",
   "metadata": {},
   "outputs": [
    {
     "name": "stdout",
     "output_type": "stream",
     "text": [
      "tensor([[True, True],\n",
      "        [True, True]])\n",
      "tensor([[True, True],\n",
      "        [True, True]])\n",
      "CPU times: total: 15.6 ms\n",
      "Wall time: 19.6 ms\n"
     ]
    }
   ],
   "source": [
    "%%time\n",
    "print(torch.matmul(t5,t5) == t5 @ t5)\n",
    "print(torch.matmul(t5,t5) == torch.mm(t5,t5))\n",
    "# torch.mm is alias for torch.matmul"
   ]
  },
  {
   "cell_type": "code",
   "execution_count": 9,
   "id": "3e833a35-b3a2-4456-9c57-e2d4b59035bb",
   "metadata": {},
   "outputs": [
    {
     "name": "stdout",
     "output_type": "stream",
     "text": [
      "tensor([[ 58,  64],\n",
      "        [139, 154]])\n",
      "CPU times: total: 0 ns\n",
      "Wall time: 0 ns\n"
     ]
    }
   ],
   "source": [
    "%%time\n",
    "A=torch.tensor([[1,2,3],[4,5,6]])\n",
    "B= torch.tensor([[7,8],[9,10],[11,12]])\n",
    "print(torch.matmul(A,B))"
   ]
  },
  {
   "cell_type": "code",
   "execution_count": 10,
   "id": "89fa2671-7cb2-47e9-a40b-c3c2478d4067",
   "metadata": {},
   "outputs": [],
   "source": [
    "x_org = torch.rand(255,255,3)"
   ]
  },
  {
   "cell_type": "code",
   "execution_count": 11,
   "id": "288f7240-867a-4b6e-ae54-1c46d9be5948",
   "metadata": {},
   "outputs": [
    {
     "data": {
      "text/plain": [
       "tensor([[[0.0201, 0.9789, 0.5546,  ..., 0.2442, 0.7997, 0.9864],\n",
       "         [0.0873, 0.3959, 0.4814,  ..., 0.6875, 0.5391, 0.7684],\n",
       "         [0.3146, 0.7068, 0.3816,  ..., 0.6585, 0.3217, 0.9833],\n",
       "         ...,\n",
       "         [0.1795, 0.3622, 0.3194,  ..., 0.1264, 0.5826, 0.7394],\n",
       "         [0.2357, 0.9034, 0.3613,  ..., 0.8126, 0.4111, 0.1520],\n",
       "         [0.7837, 0.6831, 0.1988,  ..., 0.4942, 0.2957, 0.3966]],\n",
       "\n",
       "        [[0.6208, 0.9655, 0.6255,  ..., 0.5328, 0.0671, 0.4124],\n",
       "         [0.1592, 0.8095, 0.4548,  ..., 0.5064, 0.2385, 0.0603],\n",
       "         [0.1679, 0.4517, 0.0277,  ..., 0.8453, 0.7051, 0.9088],\n",
       "         ...,\n",
       "         [0.2734, 0.1987, 0.9008,  ..., 0.7845, 0.7213, 0.0796],\n",
       "         [0.9031, 0.5541, 0.2807,  ..., 0.0951, 0.1519, 0.3750],\n",
       "         [0.0993, 0.3139, 0.3029,  ..., 0.4209, 0.7958, 0.3772]],\n",
       "\n",
       "        [[0.4363, 0.8840, 0.7924,  ..., 0.7975, 0.8732, 0.3916],\n",
       "         [0.0534, 0.1957, 0.5336,  ..., 0.8456, 0.8421, 0.3204],\n",
       "         [0.3841, 0.3525, 0.6992,  ..., 0.7572, 0.2871, 0.5398],\n",
       "         ...,\n",
       "         [0.5692, 0.0935, 0.9680,  ..., 0.0632, 0.0190, 0.1390],\n",
       "         [0.1557, 0.5965, 0.6374,  ..., 0.8829, 0.2348, 0.6514],\n",
       "         [0.1234, 0.3157, 0.7054,  ..., 0.0554, 0.6069, 0.2503]]])"
      ]
     },
     "execution_count": 11,
     "metadata": {},
     "output_type": "execute_result"
    }
   ],
   "source": [
    "x_org.view([3,255,255])"
   ]
  },
  {
   "cell_type": "code",
   "execution_count": 12,
   "id": "8bf7ac72-d482-4317-81bb-c83f67a323ab",
   "metadata": {},
   "outputs": [
    {
     "data": {
      "text/plain": [
       "tensor([[[0.0201, 0.7458, 0.3112,  ..., 0.9487, 0.0215, 0.5692],\n",
       "         [0.2413, 0.3953, 0.2309,  ..., 0.0012, 0.9019, 0.5570],\n",
       "         [0.0288, 0.7340, 0.0724,  ..., 0.5662, 0.4285, 0.0870],\n",
       "         ...,\n",
       "         [0.6663, 0.6669, 0.2787,  ..., 0.1254, 0.0910, 0.9389],\n",
       "         [0.3758, 0.3622, 0.5064,  ..., 0.5109, 0.7787, 0.6219],\n",
       "         [0.6585, 0.6123, 0.2433,  ..., 0.0375, 0.2716, 0.0554]],\n",
       "\n",
       "        [[0.9789, 0.4589, 0.1337,  ..., 0.4985, 0.0285, 0.0935],\n",
       "         [0.5677, 0.8582, 0.9843,  ..., 0.7300, 0.6749, 0.9708],\n",
       "         [0.9390, 0.8765, 0.2989,  ..., 0.6735, 0.2963, 0.3712],\n",
       "         ...,\n",
       "         [0.4197, 0.8732, 0.7719,  ..., 0.1888, 0.3004, 0.7930],\n",
       "         [0.2274, 0.9689, 0.8686,  ..., 0.0876, 0.8110, 0.3331],\n",
       "         [0.3217, 0.1597, 0.8889,  ..., 0.9128, 0.3795, 0.6069]],\n",
       "\n",
       "        [[0.5546, 0.9896, 0.2038,  ..., 0.3066, 0.4390, 0.9680],\n",
       "         [0.5965, 0.9856, 0.4593,  ..., 0.5054, 0.0980, 0.1094],\n",
       "         [0.1590, 0.7224, 0.7361,  ..., 0.4270, 0.9766, 0.7336],\n",
       "         ...,\n",
       "         [0.3815, 0.0349, 0.1908,  ..., 0.0209, 0.8895, 0.4905],\n",
       "         [0.7267, 0.4994, 0.9776,  ..., 0.5683, 0.0876, 0.1924],\n",
       "         [0.9833, 0.9415, 0.0861,  ..., 0.1119, 0.5338, 0.2503]]])"
      ]
     },
     "execution_count": 12,
     "metadata": {},
     "output_type": "execute_result"
    }
   ],
   "source": [
    "x_per = x_org.permute(2,1,0)\n",
    "x_per"
   ]
  },
  {
   "cell_type": "code",
   "execution_count": 13,
   "id": "588ec2d3-9433-45bf-ae4d-ebaa5be09c2b",
   "metadata": {},
   "outputs": [
    {
     "data": {
      "text/plain": [
       "tensor(172.)"
      ]
     },
     "execution_count": 13,
     "metadata": {},
     "output_type": "execute_result"
    }
   ],
   "source": [
    "x_org[0,0,0]= 172\n",
    "x_per[0,0,0]"
   ]
  },
  {
   "cell_type": "code",
   "execution_count": 14,
   "id": "bd316cc9-73d3-48c3-8737-4979267351d7",
   "metadata": {},
   "outputs": [
    {
     "data": {
      "text/plain": [
       "(tensor([[[1, 2, 3],\n",
       "          [4, 5, 6],\n",
       "          [7, 8, 9]]]),\n",
       " torch.Size([1, 3, 3]))"
      ]
     },
     "execution_count": 14,
     "metadata": {},
     "output_type": "execute_result"
    }
   ],
   "source": [
    "x= torch.arange(1,10).reshape([1,3,3])\n",
    "x, x.shape"
   ]
  },
  {
   "cell_type": "code",
   "execution_count": 15,
   "id": "6bc05cc5-c038-402a-974b-7896e2e20212",
   "metadata": {},
   "outputs": [
    {
     "data": {
      "text/plain": [
       "(tensor([[1, 2, 3],\n",
       "         [4, 5, 6],\n",
       "         [7, 8, 9]]),\n",
       " torch.Size([1, 3, 3]),\n",
       " torch.Size([3, 3]))"
      ]
     },
     "execution_count": 15,
     "metadata": {},
     "output_type": "execute_result"
    }
   ],
   "source": [
    "x_squ=x.squeeze(0)\n",
    "x_squ, x.shape, x_squ.shape"
   ]
  },
  {
   "cell_type": "code",
   "execution_count": 16,
   "id": "ee9ed669-b438-43b4-a4f7-5735f005aec7",
   "metadata": {},
   "outputs": [
    {
     "data": {
      "text/plain": [
       "(tensor([[1, 2, 3],\n",
       "         [4, 5, 6],\n",
       "         [7, 8, 9]]),\n",
       " tensor([4, 5, 6]),\n",
       " tensor(6))"
      ]
     },
     "execution_count": 16,
     "metadata": {},
     "output_type": "execute_result"
    }
   ],
   "source": [
    "x[0], x[0][1], x[0][1][2]"
   ]
  },
  {
   "cell_type": "code",
   "execution_count": 17,
   "id": "848605cc-3f2d-4b4f-994c-b25e1ffdce15",
   "metadata": {},
   "outputs": [
    {
     "data": {
      "text/plain": [
       "(tensor([[4, 5, 6]]), tensor([[2, 5, 8]]))"
      ]
     },
     "execution_count": 17,
     "metadata": {},
     "output_type": "execute_result"
    }
   ],
   "source": [
    "x[:, 1, :], x[:, :, 1]"
   ]
  },
  {
   "cell_type": "markdown",
   "id": "a9964b0d-9b32-4804-94c1-5f9bed9136f3",
   "metadata": {},
   "source": [
    "## Pytorch & Numpy\n",
    "\n",
    "### numpy -> torch -> torch.from_numpy(ndarray)\n",
    "### torch -> numpy -> torch.numpy()"
   ]
  },
  {
   "cell_type": "code",
   "execution_count": 18,
   "id": "81a25c9d-f32f-44c5-881c-f12858cde5e2",
   "metadata": {},
   "outputs": [
    {
     "name": "stdout",
     "output_type": "stream",
     "text": [
      "False\n",
      "float64 torch.float64\n"
     ]
    }
   ],
   "source": [
    "import torch \n",
    "import numpy as np\n",
    "\n",
    "array = np.arange(1.0,8.0)\n",
    "tensor = torch.arange(1.,8.)\n",
    "# array == tensor,\n",
    "print(array.dtype == tensor.dtype)\n",
    "tensor = torch.from_numpy(array)\n",
    "print(array.dtype, tensor.dtype)\n",
    "# default value of tensor in pytorch is torch.float32\n",
    "tensor = torch.from_numpy(array).type(torch.float32)"
   ]
  },
  {
   "cell_type": "code",
   "execution_count": 19,
   "id": "6189a21e-563f-49ff-9e30-383f03a65ef7",
   "metadata": {},
   "outputs": [
    {
     "data": {
      "text/plain": [
       "(tensor([[1., 1., 1.],\n",
       "         [1., 1., 1.],\n",
       "         [1., 1., 1.]]),\n",
       " array([[1., 1., 1.],\n",
       "        [1., 1., 1.],\n",
       "        [1., 1., 1.]], dtype=float32))"
      ]
     },
     "execution_count": 19,
     "metadata": {},
     "output_type": "execute_result"
    }
   ],
   "source": [
    "# Tensor to numpy\n",
    "tensor = torch.ones((3,3))\n",
    "np_tensor = tensor.numpy()\n",
    "tensor, np_tensor"
   ]
  },
  {
   "cell_type": "code",
   "execution_count": 20,
   "id": "5aba13af-3aad-4414-8f6f-be2d4c5ef903",
   "metadata": {},
   "outputs": [
    {
     "data": {
      "text/plain": [
       "(tensor([0.5675, 0.0955]), tensor([0.8244, 0.5259]), tensor([False, False]))"
      ]
     },
     "execution_count": 20,
     "metadata": {},
     "output_type": "execute_result"
    }
   ],
   "source": [
    "randA = torch.rand((2))\n",
    "randB = torch.rand((2))\n",
    "randA, randB, randA == randB"
   ]
  },
  {
   "cell_type": "code",
   "execution_count": 21,
   "id": "0b1d5c5b-b4d6-4b6b-a0b8-0f3378c4aa8d",
   "metadata": {},
   "outputs": [
    {
     "data": {
      "text/plain": [
       "(tensor([0.8823, 0.9150, 0.3829, 0.9593]),\n",
       " tensor([0.3904, 0.6009, 0.2566, 0.7936]),\n",
       " tensor([False, False, False, False]))"
      ]
     },
     "execution_count": 21,
     "metadata": {},
     "output_type": "execute_result"
    }
   ],
   "source": [
    "RANDOM_SEED=42\n",
    "\n",
    "torch.manual_seed(RANDOM_SEED)\n",
    "randC = torch.rand(4)\n",
    "randD = torch.rand(4)\n",
    "torch.manual_seed(RANDOM_SEED)\n",
    "randC, randD, randC == randD"
   ]
  },
  {
   "cell_type": "markdown",
   "id": "0d093036-1a17-47f2-887c-94177056e3c9",
   "metadata": {},
   "source": [
    "## Runnong pytorch obj and tensors on GPU"
   ]
  },
  {
   "cell_type": "code",
   "execution_count": 22,
   "id": "9cef7006-8e25-4f48-9008-c142b0c302ec",
   "metadata": {},
   "outputs": [
    {
     "name": "stdout",
     "output_type": "stream",
     "text": [
      "Tue Mar 11 09:54:39 2025       \n",
      "+-----------------------------------------------------------------------------------------+\n",
      "| NVIDIA-SMI 566.36                 Driver Version: 566.36         CUDA Version: 12.7     |\n",
      "|-----------------------------------------+------------------------+----------------------+\n",
      "| GPU  Name                  Driver-Model | Bus-Id          Disp.A | Volatile Uncorr. ECC |\n",
      "| Fan  Temp   Perf          Pwr:Usage/Cap |           Memory-Usage | GPU-Util  Compute M. |\n",
      "|                                         |                        |               MIG M. |\n",
      "|=========================================+========================+======================|\n",
      "|   0  NVIDIA GeForce RTX 3050 ...  WDDM  |   00000000:01:00.0 Off |                  N/A |\n",
      "| N/A   43C    P8              6W /   50W |       0MiB /   6144MiB |      0%      Default |\n",
      "|                                         |                        |                  N/A |\n",
      "+-----------------------------------------+------------------------+----------------------+\n",
      "                                                                                         \n",
      "+-----------------------------------------------------------------------------------------+\n",
      "| Processes:                                                                              |\n",
      "|  GPU   GI   CI        PID   Type   Process name                              GPU Memory |\n",
      "|        ID   ID                                                               Usage      |\n",
      "|=========================================================================================|\n",
      "|    0   N/A  N/A      4148      C   ...rograms\\Python\\Python312\\python.exe      N/A      |\n",
      "+-----------------------------------------------------------------------------------------+\n"
     ]
    }
   ],
   "source": [
    "!nvidia-smi"
   ]
  },
  {
   "cell_type": "markdown",
   "id": "bdc63a9b-2736-4cf8-b35c-aa3dafc359f0",
   "metadata": {},
   "source": [
    "### Check for GPU access with Pytorch"
   ]
  },
  {
   "cell_type": "code",
   "execution_count": 23,
   "id": "d9aeb344-0fcb-4dc3-af21-748982fa1fa9",
   "metadata": {},
   "outputs": [
    {
     "data": {
      "text/plain": [
       "True"
      ]
     },
     "execution_count": 23,
     "metadata": {},
     "output_type": "execute_result"
    }
   ],
   "source": [
    "import torch\n",
    "torch.cuda.is_available()"
   ]
  },
  {
   "cell_type": "code",
   "execution_count": 24,
   "id": "270b81e5-a59d-4bbe-b8eb-0ecf27855353",
   "metadata": {},
   "outputs": [
    {
     "name": "stdout",
     "output_type": "stream",
     "text": [
      "CPU times: total: 156 ms\n",
      "Wall time: 182 ms\n"
     ]
    },
    {
     "data": {
      "text/plain": [
       "device(type='cpu')"
      ]
     },
     "execution_count": 24,
     "metadata": {},
     "output_type": "execute_result"
    }
   ],
   "source": [
    "%%time\n",
    "torchA = torch.rand((8,8,8,8,8,8,8,8), device=\"cpu\")\n",
    "torchA.device"
   ]
  },
  {
   "cell_type": "code",
   "execution_count": 25,
   "id": "01bbbda4-108f-4042-ab84-cfc6d9240594",
   "metadata": {},
   "outputs": [],
   "source": [
    "device = \"cuda\" if torch.cuda.is_available() else \"cpu\""
   ]
  },
  {
   "cell_type": "code",
   "execution_count": 26,
   "id": "e687c45c-0a8c-40ac-a053-71bf464477fe",
   "metadata": {},
   "outputs": [
    {
     "name": "stdout",
     "output_type": "stream",
     "text": [
      "CPU times: total: 453 ms\n",
      "Wall time: 541 ms\n"
     ]
    },
    {
     "data": {
      "text/plain": [
       "device(type='cuda', index=0)"
      ]
     },
     "execution_count": 26,
     "metadata": {},
     "output_type": "execute_result"
    }
   ],
   "source": [
    "%%time\n",
    "torchA = torch.rand((8,8,8,8,8,8,8,8), device=device)\n",
    "torchA.device"
   ]
  },
  {
   "cell_type": "markdown",
   "id": "0e30da17-6080-4984-b2bc-70d4c51310dc",
   "metadata": {},
   "source": [
    "## Setting up Device Agnostic program\n",
    "### Note: Numpy only works on cpu (use tensor.cpu() )"
   ]
  },
  {
   "cell_type": "code",
   "execution_count": 27,
   "id": "0eb6ae36-90be-4184-8bc9-e4decdcd07cf",
   "metadata": {},
   "outputs": [
    {
     "name": "stdout",
     "output_type": "stream",
     "text": [
      "CPU times: total: 0 ns\n",
      "Wall time: 5.88 ms\n"
     ]
    },
    {
     "data": {
      "text/plain": [
       "(device(type='cpu'), device(type='cuda', index=0))"
      ]
     },
     "execution_count": 27,
     "metadata": {},
     "output_type": "execute_result"
    }
   ],
   "source": [
    "%%time\n",
    "# create tensor (default on cpu)\n",
    "tensorA = torch.tensor([1,2,3], device=\"cpu\")\n",
    "\n",
    "# move tensor to gpu (if available)\n",
    "device = \"cuda\" if torch.cuda.is_available() else \"cpu\"\n",
    "tensorB = torch.tensor([1,2,3], device=device)\n",
    "tensorA.device, tensorB.device"
   ]
  },
  {
   "cell_type": "code",
   "execution_count": 28,
   "id": "ba6ee710-9e0c-4ae5-9b61-62056872dea8",
   "metadata": {},
   "outputs": [
    {
     "ename": "TypeError",
     "evalue": "can't convert cuda:0 device type tensor to numpy. Use Tensor.cpu() to copy the tensor to host memory first.",
     "output_type": "error",
     "traceback": [
      "\u001b[1;31m---------------------------------------------------------------------------\u001b[0m",
      "\u001b[1;31mTypeError\u001b[0m                                 Traceback (most recent call last)",
      "Cell \u001b[1;32mIn[28], line 1\u001b[0m\n\u001b[1;32m----> 1\u001b[0m tensorA\u001b[38;5;241m.\u001b[39mnumpy(), \u001b[43mtensorB\u001b[49m\u001b[38;5;241;43m.\u001b[39;49m\u001b[43mnumpy\u001b[49m\u001b[43m(\u001b[49m\u001b[43m)\u001b[49m\n\u001b[0;32m      2\u001b[0m \u001b[38;5;66;03m# TypeError: ca't convert cuda:0 device type tensor to numpy. Use Tensor.cpu() to copy the tensor to host memory first.b\u001b[39;00m\n",
      "\u001b[1;31mTypeError\u001b[0m: can't convert cuda:0 device type tensor to numpy. Use Tensor.cpu() to copy the tensor to host memory first."
     ]
    }
   ],
   "source": [
    "tensorA.numpy(), tensorB.numpy()\n",
    "# TypeError: ca't convert cuda:0 device type tensor to numpy. Use Tensor.cpu() to copy the tensor to host memory first.b"
   ]
  },
  {
   "cell_type": "code",
   "execution_count": 30,
   "id": "b3470040-5ac9-45bd-b3dd-98894720cd0f",
   "metadata": {},
   "outputs": [
    {
     "data": {
      "text/plain": [
       "(array([1, 2, 3]), array([1, 2, 3]))"
      ]
     },
     "execution_count": 30,
     "metadata": {},
     "output_type": "execute_result"
    }
   ],
   "source": [
    "tensorA.numpy(), tensorB.cpu().numpy()"
   ]
  },
  {
   "cell_type": "code",
   "execution_count": null,
   "id": "175c2dc7-de29-4a9f-9e9f-e6f5eeb20d14",
   "metadata": {},
   "outputs": [],
   "source": []
  }
 ],
 "metadata": {
  "kernelspec": {
   "display_name": "Python 3 (ipykernel)",
   "language": "python",
   "name": "python3"
  },
  "language_info": {
   "codemirror_mode": {
    "name": "ipython",
    "version": 3
   },
   "file_extension": ".py",
   "mimetype": "text/x-python",
   "name": "python",
   "nbconvert_exporter": "python",
   "pygments_lexer": "ipython3",
   "version": "3.12.9"
  }
 },
 "nbformat": 4,
 "nbformat_minor": 5
}
