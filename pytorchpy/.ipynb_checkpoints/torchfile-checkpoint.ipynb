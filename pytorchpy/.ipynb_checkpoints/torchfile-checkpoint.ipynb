{
 "cells": [
  {
   "cell_type": "code",
   "execution_count": null,
   "id": "75594e95-7e01-499b-86f9-e8c2aab8419d",
   "metadata": {},
   "outputs": [],
   "source": [
    "import torch"
   ]
  },
  {
   "cell_type": "code",
   "execution_count": null,
   "id": "a51e6dd8-03de-403b-8ef8-7c69f8ae7f8c",
   "metadata": {},
   "outputs": [],
   "source": [
    "t1 = torch.tensor(11)\n",
    "t2 = torch.tensor([1,2])\n",
    "t3 = torch.tensor([[1,1,3],[2,2,6]])"
   ]
  },
  {
   "cell_type": "code",
   "execution_count": null,
   "id": "18fe121f-7558-4d22-bbfa-997ab708f231",
   "metadata": {},
   "outputs": [],
   "source": [
    "print(t1.dtype)\n",
    "print(t1.shape)\n",
    "print(t1.device)"
   ]
  },
  {
   "cell_type": "code",
   "execution_count": null,
   "id": "6e668294-a60a-457f-974f-bcb59db2686b",
   "metadata": {},
   "outputs": [],
   "source": [
    "t4 = torch.tensor([[15.0,5.0],[11,0]])"
   ]
  },
  {
   "cell_type": "code",
   "execution_count": null,
   "id": "3e5f93ff-0955-4073-89cd-76267f3d909d",
   "metadata": {},
   "outputs": [],
   "source": [
    "# Scalar multiply or scalar operation\n",
    "\n",
    "t4*10 == t4.multiply(10)\n",
    "\n",
    "t4-11 == t4.subtract(11)"
   ]
  },
  {
   "cell_type": "code",
   "execution_count": null,
   "id": "bed68d21-07ff-4e65-af86-c86378441a36",
   "metadata": {},
   "outputs": [],
   "source": [
    "# dot product or matrix multiplication\n",
    "t5 = torch.tensor([[1,2],[1,2]])\n",
    "t5.T # -> tensor transpose"
   ]
  },
  {
   "cell_type": "code",
   "execution_count": null,
   "id": "a48b82f3-b0ee-41b2-92ca-079fc18ca7f0",
   "metadata": {},
   "outputs": [],
   "source": [
    "t5 * t5 # element-wise multiplication"
   ]
  },
  {
   "cell_type": "code",
   "execution_count": null,
   "id": "df0a0e0d-9ca1-4dc6-a629-d6c1e4011677",
   "metadata": {},
   "outputs": [],
   "source": [
    "%%time\n",
    "print(torch.matmul(t5,t5) == t5 @ t5)\n",
    "print(torch.matmul(t5,t5) == torch.mm(t5,t5))\n",
    "# torch.mm is alias for torch.matmul"
   ]
  },
  {
   "cell_type": "code",
   "execution_count": null,
   "id": "3e833a35-b3a2-4456-9c57-e2d4b59035bb",
   "metadata": {},
   "outputs": [],
   "source": [
    "%%time\n",
    "A=torch.tensor([[1,2,3],[4,5,6]])\n",
    "B= torch.tensor([[7,8],[9,10],[11,12]])\n",
    "print(torch.matmul(A,B))"
   ]
  },
  {
   "cell_type": "code",
   "execution_count": null,
   "id": "89fa2671-7cb2-47e9-a40b-c3c2478d4067",
   "metadata": {},
   "outputs": [],
   "source": [
    "x_org = torch.rand(255,255,3)"
   ]
  },
  {
   "cell_type": "code",
   "execution_count": null,
   "id": "288f7240-867a-4b6e-ae54-1c46d9be5948",
   "metadata": {},
   "outputs": [],
   "source": [
    "x_org.view([3,255,255])"
   ]
  },
  {
   "cell_type": "code",
   "execution_count": null,
   "id": "8bf7ac72-d482-4317-81bb-c83f67a323ab",
   "metadata": {},
   "outputs": [],
   "source": [
    "x_per = x_org.permute(2,1,0)\n",
    "x_per"
   ]
  },
  {
   "cell_type": "code",
   "execution_count": null,
   "id": "588ec2d3-9433-45bf-ae4d-ebaa5be09c2b",
   "metadata": {},
   "outputs": [],
   "source": [
    "x_org[0,0,0]= 172\n",
    "x_per[0,0,0]"
   ]
  },
  {
   "cell_type": "code",
   "execution_count": null,
   "id": "bd316cc9-73d3-48c3-8737-4979267351d7",
   "metadata": {},
   "outputs": [],
   "source": [
    "x= torch.arange(1,10).reshape([1,3,3])\n",
    "x, x.shape"
   ]
  },
  {
   "cell_type": "code",
   "execution_count": null,
   "id": "6bc05cc5-c038-402a-974b-7896e2e20212",
   "metadata": {},
   "outputs": [],
   "source": [
    "x_squ=x.squeeze(0)\n",
    "x_squ, x.shape, x_squ.shape"
   ]
  },
  {
   "cell_type": "code",
   "execution_count": null,
   "id": "ee9ed669-b438-43b4-a4f7-5735f005aec7",
   "metadata": {},
   "outputs": [],
   "source": [
    "x[0], x[0][1], x[0][1][2]"
   ]
  },
  {
   "cell_type": "code",
   "execution_count": null,
   "id": "848605cc-3f2d-4b4f-994c-b25e1ffdce15",
   "metadata": {},
   "outputs": [],
   "source": [
    "x[:, 1, :], x[:, :, 1]"
   ]
  },
  {
   "cell_type": "markdown",
   "id": "a9964b0d-9b32-4804-94c1-5f9bed9136f3",
   "metadata": {},
   "source": [
    "## Pytorch & Numpy\n",
    "\n",
    "### numpy -> torch -> torch.from_numpy(ndarray)\n",
    "### torch -> numpy -> torch.numpy()"
   ]
  },
  {
   "cell_type": "code",
   "execution_count": null,
   "id": "81a25c9d-f32f-44c5-881c-f12858cde5e2",
   "metadata": {},
   "outputs": [],
   "source": [
    "import torch \n",
    "import numpy as np\n",
    "\n",
    "array = np.arange(1.0,8.0)\n",
    "tensor = torch.arange(1.,8.)\n",
    "# array == tensor,\n",
    "print(array.dtype == tensor.dtype)\n",
    "tensor = torch.from_numpy(array)\n",
    "print(array.dtype, tensor.dtype)\n",
    "# default value of tensor in pytorch is torch.float32\n",
    "tensor = torch.from_numpy(array).type(torch.float32)"
   ]
  },
  {
   "cell_type": "code",
   "execution_count": null,
   "id": "6189a21e-563f-49ff-9e30-383f03a65ef7",
   "metadata": {},
   "outputs": [],
   "source": [
    "# Tensor to numpy\n",
    "tensor = torch.ones((3,3))\n",
    "np_tensor = tensor.numpy()\n",
    "tensor, np_tensor"
   ]
  },
  {
   "cell_type": "code",
   "execution_count": null,
   "id": "5aba13af-3aad-4414-8f6f-be2d4c5ef903",
   "metadata": {},
   "outputs": [],
   "source": [
    "randA = torch.rand((2))\n",
    "randB = torch.rand((2))\n",
    "randA, randB, randA == randB"
   ]
  },
  {
   "cell_type": "code",
   "execution_count": null,
   "id": "0b1d5c5b-b4d6-4b6b-a0b8-0f3378c4aa8d",
   "metadata": {},
   "outputs": [],
   "source": [
    "RANDOM_SEED=42\n",
    "\n",
    "torch.manual_seed(RANDOM_SEED)\n",
    "randC = torch.rand(4)\n",
    "randD = torch.rand(4)\n",
    "torch.manual_seed(RANDOM_SEED)\n",
    "randC, randD, randC == randD"
   ]
  },
  {
   "cell_type": "markdown",
   "id": "0d093036-1a17-47f2-887c-94177056e3c9",
   "metadata": {},
   "source": [
    "## Runnong pytorch obj and tensors on GPU"
   ]
  },
  {
   "cell_type": "code",
   "execution_count": null,
   "id": "9cef7006-8e25-4f48-9008-c142b0c302ec",
   "metadata": {},
   "outputs": [],
   "source": [
    "!nvidia-smi"
   ]
  },
  {
   "cell_type": "markdown",
   "id": "bdc63a9b-2736-4cf8-b35c-aa3dafc359f0",
   "metadata": {},
   "source": [
    "### Check for GPU access with Pytorch"
   ]
  },
  {
   "cell_type": "code",
   "execution_count": null,
   "id": "d9aeb344-0fcb-4dc3-af21-748982fa1fa9",
   "metadata": {},
   "outputs": [],
   "source": [
    "import torch\n",
    "torch.cuda.is_available()"
   ]
  },
  {
   "cell_type": "code",
   "execution_count": 643,
   "id": "270b81e5-a59d-4bbe-b8eb-0ecf27855353",
   "metadata": {},
   "outputs": [
    {
     "name": "stdout",
     "output_type": "stream",
     "text": [
      "CPU times: total: 156 ms\n",
      "Wall time: 158 ms\n"
     ]
    },
    {
     "data": {
      "text/plain": [
       "device(type='cpu')"
      ]
     },
     "execution_count": 643,
     "metadata": {},
     "output_type": "execute_result"
    }
   ],
   "source": [
    "%%time\n",
    "torchA = torch.rand((8,8,8,8,8,8,8,8), device=\"cpu\")\n",
    "torchA.device"
   ]
  },
  {
   "cell_type": "code",
   "execution_count": 644,
   "id": "01bbbda4-108f-4042-ab84-cfc6d9240594",
   "metadata": {},
   "outputs": [],
   "source": [
    "device = \"cuda\" if torch.cuda.is_available() else \"cpu\""
   ]
  },
  {
   "cell_type": "code",
   "execution_count": 645,
   "id": "e687c45c-0a8c-40ac-a053-71bf464477fe",
   "metadata": {},
   "outputs": [
    {
     "name": "stdout",
     "output_type": "stream",
     "text": [
      "CPU times: total: 0 ns\n",
      "Wall time: 955 μs\n"
     ]
    },
    {
     "data": {
      "text/plain": [
       "device(type='cuda', index=0)"
      ]
     },
     "execution_count": 645,
     "metadata": {},
     "output_type": "execute_result"
    }
   ],
   "source": [
    "%%time\n",
    "torchA = torch.rand((8,8,8,8,8,8,8,8), device=device)\n",
    "torchA.device"
   ]
  },
  {
   "cell_type": "markdown",
   "id": "0e30da17-6080-4984-b2bc-70d4c51310dc",
   "metadata": {},
   "source": [
    "## Setting up Device Agnostic program\n",
    "### Note: Numpy only works on cpu (use tensor.cpu() )"
   ]
  },
  {
   "cell_type": "code",
   "execution_count": 646,
   "id": "0eb6ae36-90be-4184-8bc9-e4decdcd07cf",
   "metadata": {},
   "outputs": [
    {
     "name": "stdout",
     "output_type": "stream",
     "text": [
      "CPU times: total: 0 ns\n",
      "Wall time: 2 ms\n"
     ]
    },
    {
     "data": {
      "text/plain": [
       "(device(type='cpu'), device(type='cuda', index=0))"
      ]
     },
     "execution_count": 646,
     "metadata": {},
     "output_type": "execute_result"
    }
   ],
   "source": [
    "%%time\n",
    "# create tensor (default on cpu)\n",
    "tensorA = torch.tensor([1,2,3], device=\"cpu\")\n",
    "\n",
    "# move tensor to gpu (if available)\n",
    "device = \"cuda\" if torch.cuda.is_available() else \"cpu\"\n",
    "tensorB = torch.tensor([1,2,3], device=device)\n",
    "tensorA.device, tensorB.device"
   ]
  },
  {
   "cell_type": "code",
   "execution_count": 648,
   "id": "ba6ee710-9e0c-4ae5-9b61-62056872dea8",
   "metadata": {},
   "outputs": [
    {
     "ename": "TypeError",
     "evalue": "can't convert cuda:0 device type tensor to numpy. Use Tensor.cpu() to copy the tensor to host memory first.",
     "output_type": "error",
     "traceback": [
      "\u001b[1;31m---------------------------------------------------------------------------\u001b[0m",
      "\u001b[1;31mTypeError\u001b[0m                                 Traceback (most recent call last)",
      "Cell \u001b[1;32mIn[648], line 1\u001b[0m\n\u001b[1;32m----> 1\u001b[0m tensorA\u001b[38;5;241m.\u001b[39mnumpy(), \u001b[43mtensorB\u001b[49m\u001b[38;5;241;43m.\u001b[39;49m\u001b[43mnumpy\u001b[49m\u001b[43m(\u001b[49m\u001b[43m)\u001b[49m\n\u001b[0;32m      2\u001b[0m \u001b[38;5;66;03m# TypeError: ca't convert cuda:0 device type tensor to numpy. Use Tensor.cpu() to copy the tensor to host memory first.b\u001b[39;00m\n",
      "\u001b[1;31mTypeError\u001b[0m: can't convert cuda:0 device type tensor to numpy. Use Tensor.cpu() to copy the tensor to host memory first."
     ]
    }
   ],
   "source": [
    "tensorA.numpy(), tensorB.numpy()\n",
    "# TypeError: ca't convert cuda:0 device type tensor to numpy. Use Tensor.cpu() to copy the tensor to host memory first.b"
   ]
  },
  {
   "cell_type": "code",
   "execution_count": 649,
   "id": "b3470040-5ac9-45bd-b3dd-98894720cd0f",
   "metadata": {},
   "outputs": [
    {
     "data": {
      "text/plain": [
       "(array([1, 2, 3]), array([1, 2, 3]))"
      ]
     },
     "execution_count": 649,
     "metadata": {},
     "output_type": "execute_result"
    }
   ],
   "source": [
    "tensorA.numpy(), tensorB.cpu().numpy()"
   ]
  }
 ],
 "metadata": {
  "kernelspec": {
   "display_name": "Python 3 (ipykernel)",
   "language": "python",
   "name": "python3"
  },
  "language_info": {
   "codemirror_mode": {
    "name": "ipython",
    "version": 3
   },
   "file_extension": ".py",
   "mimetype": "text/x-python",
   "name": "python",
   "nbconvert_exporter": "python",
   "pygments_lexer": "ipython3",
   "version": "3.12.6"
  }
 },
 "nbformat": 4,
 "nbformat_minor": 5
}
